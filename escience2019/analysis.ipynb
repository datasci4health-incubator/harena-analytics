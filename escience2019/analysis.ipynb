{
 "cells": [
  {
   "cell_type": "markdown",
   "metadata": {},
   "source": [
    "# Exploratory Data Analysis of Student Data on Zumbi-Health Game\n"
   ]
  },
  {
   "cell_type": "code",
   "execution_count": 55,
   "metadata": {},
   "outputs": [],
   "source": [
    "%matplotlib inline\n",
    "import json\n",
    "import matplotlib.pyplot as plt\n",
    "import pandas as pd\n",
    "import time\n",
    "from datetime import datetime"
   ]
  },
  {
   "cell_type": "code",
   "execution_count": 86,
   "metadata": {},
   "outputs": [],
   "source": [
    "def read_data():\n",
    "    \n",
    "    routes = {}\n",
    "    for i in range(1,8):\n",
    "        path = \"data/report\"+str(i)+\".json\"\n",
    "        report = pd.read_json(path, orient=\"records\")['route']\n",
    "        key = \"Student\" + str(i)\n",
    "        value = [event.split(',') for event in report]\n",
    "        #convert timestamp from millisenconds to seconds\n",
    "        for event in value:\n",
    "            event[3] = int(event[3]) / 1000\n",
    "        routes[key] = value\n",
    "        \n",
    "    return routes"
   ]
  },
  {
   "cell_type": "code",
   "execution_count": 87,
   "metadata": {},
   "outputs": [
    {
     "data": {
      "text/plain": [
       "['1', 'Case 1', '100', 1552752547.352]"
      ]
     },
     "execution_count": 87,
     "metadata": {},
     "output_type": "execute_result"
    }
   ],
   "source": [
    "reports = read_data()\n",
    "reports['Student1'][1]"
   ]
  },
  {
   "cell_type": "code",
   "execution_count": 99,
   "metadata": {},
   "outputs": [
    {
     "data": {
      "text/plain": [
       "33.29"
      ]
     },
     "execution_count": 99,
     "metadata": {},
     "output_type": "execute_result"
    }
   ],
   "source": [
    "start = datetime.utcfromtimestamp(reports['Student3'][0][3])\n",
    "end = datetime.utcfromtimestamp(reports['Student3'][-1][3])\n",
    "total = end - start\n",
    "total.total_seconds() / 60"
   ]
  },
  {
   "cell_type": "code",
   "execution_count": 111,
   "metadata": {},
   "outputs": [],
   "source": [
    "def answers_by_student(student, reports):\n",
    "    route = reports[student]\n",
    "    r = 0 \n",
    "    w = 0\n",
    "    for event in route:\n",
    "        if \"right\" in event[1]:\n",
    "            r+=1\n",
    "        if \"wrong\" in event[1]:\n",
    "            w+=1\n",
    "    return (r, w)"
   ]
  },
  {
   "cell_type": "code",
   "execution_count": 126,
   "metadata": {},
   "outputs": [],
   "source": [
    "a = answers_by_student(\"Student\", reports)"
   ]
  },
  {
   "cell_type": "code",
   "execution_count": 127,
   "metadata": {},
   "outputs": [
    {
     "data": {
      "text/plain": [
       "(11, 9)"
      ]
     },
     "execution_count": 127,
     "metadata": {},
     "output_type": "execute_result"
    }
   ],
   "source": [
    "a"
   ]
  }
 ],
 "metadata": {
  "kernelspec": {
   "display_name": "Python 3",
   "language": "python",
   "name": "python3"
  },
  "language_info": {
   "codemirror_mode": {
    "name": "ipython",
    "version": 3
   },
   "file_extension": ".py",
   "mimetype": "text/x-python",
   "name": "python",
   "nbconvert_exporter": "python",
   "pygments_lexer": "ipython3",
   "version": "3.7.3"
  }
 },
 "nbformat": 4,
 "nbformat_minor": 2
}
