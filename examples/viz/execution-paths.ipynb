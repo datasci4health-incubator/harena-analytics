{
 "cells": [
  {
   "cell_type": "markdown",
   "metadata": {},
   "source": [
    " "
   ]
  },
  {
   "cell_type": "markdown",
   "metadata": {},
   "source": [
    "# Setup"
   ]
  },
  {
   "cell_type": "code",
   "execution_count": 6,
   "metadata": {},
   "outputs": [
    {
     "data": {
      "text/html": [
       "<script type=\"text/javascript\">window.PlotlyConfig = {MathJaxConfig: 'local'};</script><script type=\"text/javascript\">if (window.MathJax) {MathJax.Hub.Config({SVG: {font: \"STIX-Web\"}});}</script><script>requirejs.config({paths: { 'plotly': ['https://cdn.plot.ly/plotly-latest.min']},});if(!window._Plotly) {require(['plotly'],function(plotly) {window._Plotly=plotly;});}</script>"
      ],
      "text/vnd.plotly.v1+html": [
       "<script type=\"text/javascript\">window.PlotlyConfig = {MathJaxConfig: 'local'};</script><script type=\"text/javascript\">if (window.MathJax) {MathJax.Hub.Config({SVG: {font: \"STIX-Web\"}});}</script><script>requirejs.config({paths: { 'plotly': ['https://cdn.plot.ly/plotly-latest.min']},});if(!window._Plotly) {require(['plotly'],function(plotly) {window._Plotly=plotly;});}</script>"
      ]
     },
     "metadata": {},
     "output_type": "display_data"
    }
   ],
   "source": [
    "import plotly\n",
    "import plotly.graph_objs as go\n",
    "\n",
    "import pandas as pd\n",
    "\n",
    "\n",
    "plotly.offline.init_notebook_mode(connected=True)"
   ]
  },
  {
   "cell_type": "markdown",
   "metadata": {},
   "source": [
    "# Examples\n",
    "## Hypotesis per scene"
   ]
  },
  {
   "cell_type": "code",
   "execution_count": 15,
   "metadata": {},
   "outputs": [
    {
     "data": {
      "application/vnd.plotly.v1+json": {
       "config": {
        "linkText": "Export to plot.ly",
        "plotlyServerURL": "https://plot.ly",
        "showLink": false
       },
       "data": [
        {
         "domain": {
          "x": [
           0,
           1
          ],
          "y": [
           0,
           1
          ]
         },
         "height": 772,
         "link": {
          "label": [
           "Execution 1",
           "Execution 2",
           "Execution 3",
           "Execution 4",
           "Execution 5"
          ],
          "source": [
           0,
           1,
           2,
           3,
           4,
           0,
           1,
           2,
           3,
           4
          ],
          "target": [
           1,
           2,
           3,
           4,
           5,
           1,
           2,
           4,
           5,
           5
          ],
          "value": [
           100,
           100,
           100,
           100,
           100,
           100,
           100,
           100,
           100,
           100
          ]
         },
         "node": {
          "color": [
           "rgba(31, 119, 180, 0.8)",
           "rgba(255, 127, 14, 0.8)",
           "magenta"
          ],
          "label": [
           "Hypotesis 1",
           "Hypotesis 2",
           "Hypotesis 3",
           "Hypotesis 4",
           "Hypotesis 5",
           "Hypotesis 1",
           "Hypotesis 2",
           "Hypotesis 3",
           "Hypotesis 4",
           "Hypotesis 5"
          ],
          "line": {
           "color": "black",
           "width": 0.5
          },
          "pad": 15,
          "thickness": 15
         },
         "orientation": "h",
         "type": "sankey",
         "valueformat": ".0f",
         "valuesuffix": "",
         "width": 1118
        }
       ],
       "layout": {
        "autosize": true,
        "font": {
         "size": 10
        },
        "title": {
         "text": "Case blah"
        }
       }
      },
      "image/png": "[encoded data removed]",
      "text/html": [
       "<div id=\"e6eef991-aba2-46ba-9d1e-c7a4f48c8722\" style=\"height: 525px; width: 100%;\" class=\"plotly-graph-div\"></div><script type=\"text/javascript\">require([\"plotly\"], function(Plotly) { window.PLOTLYENV=window.PLOTLYENV || {};window.PLOTLYENV.BASE_URL=\"https://plot.ly\";\n",
       "if (document.getElementById(\"e6eef991-aba2-46ba-9d1e-c7a4f48c8722\")) {\n",
       "    Plotly.newPlot(\"e6eef991-aba2-46ba-9d1e-c7a4f48c8722\", [{\"type\": \"sankey\", \"width\": 1118, \"height\": 772, \"domain\": {\"x\": [0, 1], \"y\": [0, 1]}, \"orientation\": \"h\", \"valueformat\": \".0f\", \"valuesuffix\": \"\", \"node\": {\"pad\": 15, \"thickness\": 15, \"line\": {\"color\": \"black\", \"width\": 0.5}, \"label\": [\"Hypotesis 1\", \"Hypotesis 2\", \"Hypotesis 3\", \"Hypotesis 4\", \"Hypotesis 5\", \"Hypotesis 1\", \"Hypotesis 2\", \"Hypotesis 3\", \"Hypotesis 4\", \"Hypotesis 5\"], \"color\": [\"rgba(31, 119, 180, 0.8)\", \"rgba(255, 127, 14, 0.8)\", \"magenta\"]}, \"link\": {\"source\": [0, 1, 2, 3, 4, 0, 1, 2, 3, 4], \"target\": [1, 2, 3, 4, 5, 1, 2, 4, 5, 5], \"value\": [100, 100, 100, 100, 100, 100, 100, 100, 100, 100], \"label\": [\"Execution 1\", \"Execution 2\", \"Execution 3\", \"Execution 4\", \"Execution 5\"]}}], {\"title\": \"Case blah\", \"font\": {\"size\": 10}}, {\"showLink\": false, \"linkText\": \"Export to plot.ly\", \"plotlyServerURL\": \"https://plot.ly\"}); \n",
       "}\n",
       "});</script><script type=\"text/javascript\">window.addEventListener(\"resize\", function(){if (document.getElementById(\"e6eef991-aba2-46ba-9d1e-c7a4f48c8722\")) {window._Plotly.Plots.resize(document.getElementById(\"e6eef991-aba2-46ba-9d1e-c7a4f48c8722\"));};})</script>"
      ],
      "text/vnd.plotly.v1+html": [
       "<div id=\"e6eef991-aba2-46ba-9d1e-c7a4f48c8722\" style=\"height: 525px; width: 100%;\" class=\"plotly-graph-div\"></div><script type=\"text/javascript\">require([\"plotly\"], function(Plotly) { window.PLOTLYENV=window.PLOTLYENV || {};window.PLOTLYENV.BASE_URL=\"https://plot.ly\";\n",
       "if (document.getElementById(\"e6eef991-aba2-46ba-9d1e-c7a4f48c8722\")) {\n",
       "    Plotly.newPlot(\"e6eef991-aba2-46ba-9d1e-c7a4f48c8722\", [{\"type\": \"sankey\", \"width\": 1118, \"height\": 772, \"domain\": {\"x\": [0, 1], \"y\": [0, 1]}, \"orientation\": \"h\", \"valueformat\": \".0f\", \"valuesuffix\": \"\", \"node\": {\"pad\": 15, \"thickness\": 15, \"line\": {\"color\": \"black\", \"width\": 0.5}, \"label\": [\"Hypotesis 1\", \"Hypotesis 2\", \"Hypotesis 3\", \"Hypotesis 4\", \"Hypotesis 5\", \"Hypotesis 1\", \"Hypotesis 2\", \"Hypotesis 3\", \"Hypotesis 4\", \"Hypotesis 5\"], \"color\": [\"rgba(31, 119, 180, 0.8)\", \"rgba(255, 127, 14, 0.8)\", \"magenta\"]}, \"link\": {\"source\": [0, 1, 2, 3, 4, 0, 1, 2, 3, 4], \"target\": [1, 2, 3, 4, 5, 1, 2, 4, 5, 5], \"value\": [100, 100, 100, 100, 100, 100, 100, 100, 100, 100], \"label\": [\"Execution 1\", \"Execution 2\", \"Execution 3\", \"Execution 4\", \"Execution 5\"]}}], {\"title\": \"Case blah\", \"font\": {\"size\": 10}}, {\"showLink\": false, \"linkText\": \"Export to plot.ly\", \"plotlyServerURL\": \"https://plot.ly\"}); \n",
       "}\n",
       "});</script><script type=\"text/javascript\">window.addEventListener(\"resize\", function(){if (document.getElementById(\"e6eef991-aba2-46ba-9d1e-c7a4f48c8722\")) {window._Plotly.Plots.resize(document.getElementById(\"e6eef991-aba2-46ba-9d1e-c7a4f48c8722\"));};})</script>"
      ]
     },
     "metadata": {},
     "output_type": "display_data"
    }
   ],
   "source": [
    "\n",
    "\n",
    "with open('example.json') as json_file:  \n",
    "    data = json.load(json_file)\n",
    "\n",
    "data_trace = dict(\n",
    "    type='sankey',\n",
    "    width = 1118,\n",
    "    height = 772,\n",
    "    domain = dict(\n",
    "      x =  [0,1],\n",
    "      y =  [0,1]\n",
    "    ),\n",
    "    orientation = \"h\",\n",
    "    valueformat = \".0f\",\n",
    "    valuesuffix = \"\",\n",
    "    node = dict(\n",
    "      pad = 15,\n",
    "      thickness = 15,\n",
    "      line = dict(\n",
    "        color = \"black\",\n",
    "        width = 0.5\n",
    "      ),\n",
    "      label =  data['data'][0]['node']['label'],\n",
    "      color =  data['data'][0]['node']['color']\n",
    "    ),\n",
    "    link = dict(\n",
    "      source =  data['data'][0]['link']['source'],\n",
    "      target =  data['data'][0]['link']['target'],\n",
    "      value =  data['data'][0]['link']['value'],\n",
    "      label =  data['data'][0]['link']['label']\n",
    "  ))\n",
    "\n",
    "layout =  dict(\n",
    "    title = \"Case blah\",\n",
    "    font = dict(\n",
    "      size = 10\n",
    "    )\n",
    ")\n",
    "\n",
    "fig = dict(data=[data_trace], layout=layout)\n",
    "plotly.offline.iplot(fig, validate=False)"
   ]
  },
  {
   "cell_type": "code",
   "execution_count": null,
   "metadata": {},
   "outputs": [],
   "source": []
  },
  {
   "cell_type": "code",
   "execution_count": 3,
   "metadata": {},
   "outputs": [
    {
     "data": {
      "application/vnd.plotly.v1+json": {
       "config": {
        "linkText": "Export to plot.ly",
        "plotlyServerURL": "https://plot.ly",
        "showLink": false
       },
       "data": [
        {
         "arrangement": "freeform",
         "dimensions": [
          {
           "categoryorder": "category ascending",
           "label": "Class",
           "values": [
            3,
            1,
            3,
            1,
            3,
            3,
            1,
            3,
            3,
            2,
            3,
            1,
            3,
            3,
            3,
            2,
            3,
            2,
            3,
            3,
            2,
            2,
            3,
            1,
            3,
            3,
            3,
            1,
            3,
            3,
            1,
            1,
            3,
            2,
            1,
            1,
            3,
            3,
            3,
            3,
            3,
            2,
            3,
            2,
            3,
            3,
            3,
            3,
            3,
            3,
            3,
            3,
            1,
            2,
            1,
            1,
            2,
            3,
            2,
            3,
            3,
            1,
            1,
            3,
            1,
            3,
            2,
            3,
            3,
            3,
            2,
            3,
            2,
            3,
            3,
            3,
            3,
            3,
            2,
            3,
            3,
            3,
            3,
            1,
            2,
            3,
            3,
            3,
            1,
            3,
            3,
            3,
            1,
            3,
            3,
            3,
            1,
            1,
            2,
            2,
            3,
            3,
            1,
            3,
            3,
            3,
            3,
            3,
            3,
            3,
            1,
            3,
            3,
            3,
            3,
            3,
            3,
            2,
            1,
            3,
            2,
            3,
            2,
            2,
            1,
            3,
            3,
            3,
            3,
            3,
            3,
            3,
            3,
            2,
            2,
            2,
            1,
            1,
            3,
            1,
            3,
            3,
            3,
            3,
            2,
            2,
            3,
            3,
            2,
            2,
            2,
            1,
            3,
            3,
            3,
            1
           ]
          },
          {
           "label": "Gender",
           "values": [
            "male",
            "female",
            "female",
            "female",
            "male",
            "male",
            "male",
            "male",
            "female",
            "female",
            "female",
            "female",
            "male",
            "male",
            "female",
            "female",
            "male",
            "male",
            "female",
            "female",
            "male",
            "male",
            "female",
            "male",
            "female",
            "female",
            "male",
            "male",
            "female",
            "male",
            "male",
            "female",
            "female",
            "male",
            "male",
            "male",
            "male",
            "male",
            "female",
            "female",
            "female",
            "female",
            "male",
            "female",
            "female",
            "male",
            "male",
            "female",
            "male",
            "female",
            "male",
            "male",
            "female",
            "female",
            "male",
            "male",
            "female",
            "male",
            "female",
            "male",
            "male",
            "female",
            "male",
            "male",
            "male",
            "male",
            "female",
            "male",
            "female",
            "male",
            "male",
            "female",
            "male",
            "male",
            "male",
            "male",
            "male",
            "male",
            "male",
            "female",
            "male",
            "male",
            "female",
            "male",
            "female",
            "female",
            "male",
            "male",
            "female",
            "male",
            "male",
            "male",
            "male",
            "male",
            "male",
            "male",
            "male",
            "male",
            "female",
            "male",
            "female",
            "male",
            "male",
            "male",
            "male",
            "male",
            "female",
            "male",
            "male",
            "female",
            "male",
            "female",
            "male",
            "female",
            "female",
            "male",
            "male",
            "male",
            "male",
            "female",
            "male",
            "male",
            "male",
            "female",
            "male",
            "male",
            "male",
            "male",
            "female",
            "male",
            "male",
            "male",
            "female",
            "female",
            "male",
            "male",
            "female",
            "male",
            "male",
            "male",
            "female",
            "female",
            "female",
            "male",
            "male",
            "male",
            "male",
            "female",
            "male",
            "male",
            "male",
            "female",
            "male",
            "male",
            "male",
            "male"
           ]
          },
          {
           "categoryarray": [
            0,
            1
           ],
           "label": "Outcome",
           "ticktext": [
            "perished",
            "survived"
           ],
           "values": [
            0,
            1,
            1,
            1,
            0,
            0,
            0,
            0,
            1,
            1,
            1,
            1,
            0,
            0,
            0,
            1,
            0,
            1,
            0,
            1,
            0,
            1,
            1,
            1,
            0,
            1,
            0,
            0,
            1,
            0,
            0,
            1,
            1,
            0,
            0,
            0,
            1,
            0,
            0,
            1,
            0,
            0,
            0,
            1,
            1,
            0,
            0,
            1,
            0,
            0,
            0,
            0,
            1,
            1,
            0,
            1,
            1,
            0,
            1,
            0,
            0,
            1,
            0,
            0,
            0,
            1,
            1,
            0,
            1,
            0,
            0,
            0,
            0,
            0,
            1,
            0,
            0,
            0,
            1,
            1,
            0,
            1,
            1,
            0,
            1,
            1,
            0,
            0,
            1,
            0,
            0,
            0,
            0,
            0,
            0,
            0,
            0,
            1,
            1,
            0,
            0,
            0,
            0,
            0,
            0,
            0,
            1,
            1,
            0,
            1,
            0,
            0,
            0,
            0,
            0,
            0,
            0,
            0,
            0,
            0,
            0,
            0,
            0,
            1,
            0,
            1,
            0,
            1,
            1,
            0,
            0,
            0,
            0,
            1,
            0,
            0,
            1,
            0,
            0,
            0,
            0,
            1,
            1,
            0,
            0,
            0,
            1,
            0,
            0,
            0,
            0,
            1,
            0,
            0,
            0,
            0
           ]
          }
         ],
         "hoverinfo": "count+probability",
         "hoveron": "color",
         "labelfont": {
          "family": "Times",
          "size": 18
         },
         "line": {
          "color": [
           0,
           1,
           1,
           1,
           0,
           0,
           0,
           0,
           1,
           1,
           1,
           1,
           0,
           0,
           0,
           1,
           0,
           1,
           0,
           1,
           0,
           1,
           1,
           1,
           0,
           1,
           0,
           0,
           1,
           0,
           0,
           1,
           1,
           0,
           0,
           0,
           1,
           0,
           0,
           1,
           0,
           0,
           0,
           1,
           1,
           0,
           0,
           1,
           0,
           0,
           0,
           0,
           1,
           1,
           0,
           1,
           1,
           0,
           1,
           0,
           0,
           1,
           0,
           0,
           0,
           1,
           1,
           0,
           1,
           0,
           0,
           0,
           0,
           0,
           1,
           0,
           0,
           0,
           1,
           1,
           0,
           1,
           1,
           0,
           1,
           1,
           0,
           0,
           1,
           0,
           0,
           0,
           0,
           0,
           0,
           0,
           0,
           1,
           1,
           0,
           0,
           0,
           0,
           0,
           0,
           0,
           1,
           1,
           0,
           1,
           0,
           0,
           0,
           0,
           0,
           0,
           0,
           0,
           0,
           0,
           0,
           0,
           0,
           1,
           0,
           1,
           0,
           1,
           1,
           0,
           0,
           0,
           0,
           1,
           0,
           0,
           1,
           0,
           0,
           0,
           0,
           1,
           1,
           0,
           0,
           0,
           1,
           0,
           0,
           0,
           0,
           1,
           0,
           0,
           0,
           0
          ],
          "colorscale": [
           [
            0,
            "lightsteelblue"
           ],
           [
            1,
            "mediumseagreen"
           ]
          ]
         },
         "tickfont": {
          "family": "Times",
          "size": 16
         },
         "type": "parcats",
         "uid": "95443afa-0d2f-408f-baa5-3b9776f5eeda"
        }
       ],
       "layout": {
        "autosize": true
       }
      },
      "image/png": "[encoded data removed]",
      "text/html": [
       "<div id=\"14bc8717-158e-4ca6-a728-eb6e114ed54b\" style=\"height: 525px; width: 100%;\" class=\"plotly-graph-div\"></div><script type=\"text/javascript\">require([\"plotly\"], function(Plotly) { window.PLOTLYENV=window.PLOTLYENV || {};window.PLOTLYENV.BASE_URL=\"https://plot.ly\";\n",
       "if (document.getElementById(\"14bc8717-158e-4ca6-a728-eb6e114ed54b\")) {\n",
       "    Plotly.newPlot(\"14bc8717-158e-4ca6-a728-eb6e114ed54b\", [{\"arrangement\": \"freeform\", \"dimensions\": [{\"categoryorder\": \"category ascending\", \"label\": \"Class\", \"values\": [3, 1, 3, 1, 3, 3, 1, 3, 3, 2, 3, 1, 3, 3, 3, 2, 3, 2, 3, 3, 2, 2, 3, 1, 3, 3, 3, 1, 3, 3, 1, 1, 3, 2, 1, 1, 3, 3, 3, 3, 3, 2, 3, 2, 3, 3, 3, 3, 3, 3, 3, 3, 1, 2, 1, 1, 2, 3, 2, 3, 3, 1, 1, 3, 1, 3, 2, 3, 3, 3, 2, 3, 2, 3, 3, 3, 3, 3, 2, 3, 3, 3, 3, 1, 2, 3, 3, 3, 1, 3, 3, 3, 1, 3, 3, 3, 1, 1, 2, 2, 3, 3, 1, 3, 3, 3, 3, 3, 3, 3, 1, 3, 3, 3, 3, 3, 3, 2, 1, 3, 2, 3, 2, 2, 1, 3, 3, 3, 3, 3, 3, 3, 3, 2, 2, 2, 1, 1, 3, 1, 3, 3, 3, 3, 2, 2, 3, 3, 2, 2, 2, 1, 3, 3, 3, 1]}, {\"label\": \"Gender\", \"values\": [\"male\", \"female\", \"female\", \"female\", \"male\", \"male\", \"male\", \"male\", \"female\", \"female\", \"female\", \"female\", \"male\", \"male\", \"female\", \"female\", \"male\", \"male\", \"female\", \"female\", \"male\", \"male\", \"female\", \"male\", \"female\", \"female\", \"male\", \"male\", \"female\", \"male\", \"male\", \"female\", \"female\", \"male\", \"male\", \"male\", \"male\", \"male\", \"female\", \"female\", \"female\", \"female\", \"male\", \"female\", \"female\", \"male\", \"male\", \"female\", \"male\", \"female\", \"male\", \"male\", \"female\", \"female\", \"male\", \"male\", \"female\", \"male\", \"female\", \"male\", \"male\", \"female\", \"male\", \"male\", \"male\", \"male\", \"female\", \"male\", \"female\", \"male\", \"male\", \"female\", \"male\", \"male\", \"male\", \"male\", \"male\", \"male\", \"male\", \"female\", \"male\", \"male\", \"female\", \"male\", \"female\", \"female\", \"male\", \"male\", \"female\", \"male\", \"male\", \"male\", \"male\", \"male\", \"male\", \"male\", \"male\", \"male\", \"female\", \"male\", \"female\", \"male\", \"male\", \"male\", \"male\", \"male\", \"female\", \"male\", \"male\", \"female\", \"male\", \"female\", \"male\", \"female\", \"female\", \"male\", \"male\", \"male\", \"male\", \"female\", \"male\", \"male\", \"male\", \"female\", \"male\", \"male\", \"male\", \"male\", \"female\", \"male\", \"male\", \"male\", \"female\", \"female\", \"male\", \"male\", \"female\", \"male\", \"male\", \"male\", \"female\", \"female\", \"female\", \"male\", \"male\", \"male\", \"male\", \"female\", \"male\", \"male\", \"male\", \"female\", \"male\", \"male\", \"male\", \"male\"]}, {\"categoryarray\": [0, 1], \"label\": \"Outcome\", \"ticktext\": [\"perished\", \"survived\"], \"values\": [0, 1, 1, 1, 0, 0, 0, 0, 1, 1, 1, 1, 0, 0, 0, 1, 0, 1, 0, 1, 0, 1, 1, 1, 0, 1, 0, 0, 1, 0, 0, 1, 1, 0, 0, 0, 1, 0, 0, 1, 0, 0, 0, 1, 1, 0, 0, 1, 0, 0, 0, 0, 1, 1, 0, 1, 1, 0, 1, 0, 0, 1, 0, 0, 0, 1, 1, 0, 1, 0, 0, 0, 0, 0, 1, 0, 0, 0, 1, 1, 0, 1, 1, 0, 1, 1, 0, 0, 1, 0, 0, 0, 0, 0, 0, 0, 0, 1, 1, 0, 0, 0, 0, 0, 0, 0, 1, 1, 0, 1, 0, 0, 0, 0, 0, 0, 0, 0, 0, 0, 0, 0, 0, 1, 0, 1, 0, 1, 1, 0, 0, 0, 0, 1, 0, 0, 1, 0, 0, 0, 0, 1, 1, 0, 0, 0, 1, 0, 0, 0, 0, 1, 0, 0, 0, 0]}], \"hoverinfo\": \"count+probability\", \"hoveron\": \"color\", \"labelfont\": {\"family\": \"Times\", \"size\": 18}, \"line\": {\"color\": [0, 1, 1, 1, 0, 0, 0, 0, 1, 1, 1, 1, 0, 0, 0, 1, 0, 1, 0, 1, 0, 1, 1, 1, 0, 1, 0, 0, 1, 0, 0, 1, 1, 0, 0, 0, 1, 0, 0, 1, 0, 0, 0, 1, 1, 0, 0, 1, 0, 0, 0, 0, 1, 1, 0, 1, 1, 0, 1, 0, 0, 1, 0, 0, 0, 1, 1, 0, 1, 0, 0, 0, 0, 0, 1, 0, 0, 0, 1, 1, 0, 1, 1, 0, 1, 1, 0, 0, 1, 0, 0, 0, 0, 0, 0, 0, 0, 1, 1, 0, 0, 0, 0, 0, 0, 0, 1, 1, 0, 1, 0, 0, 0, 0, 0, 0, 0, 0, 0, 0, 0, 0, 0, 1, 0, 1, 0, 1, 1, 0, 0, 0, 0, 1, 0, 0, 1, 0, 0, 0, 0, 1, 1, 0, 0, 0, 1, 0, 0, 0, 0, 1, 0, 0, 0, 0], \"colorscale\": [[0, \"lightsteelblue\"], [1, \"mediumseagreen\"]]}, \"tickfont\": {\"family\": \"Times\", \"size\": 16}, \"type\": \"parcats\", \"uid\": \"91e31dd4-79b0-435f-93a2-df7d210721e5\"}], {}, {\"showLink\": false, \"linkText\": \"Export to plot.ly\", \"plotlyServerURL\": \"https://plot.ly\"}); \n",
       "}\n",
       "});</script><script type=\"text/javascript\">window.addEventListener(\"resize\", function(){if (document.getElementById(\"14bc8717-158e-4ca6-a728-eb6e114ed54b\")) {window._Plotly.Plots.resize(document.getElementById(\"14bc8717-158e-4ca6-a728-eb6e114ed54b\"));};})</script>"
      ],
      "text/vnd.plotly.v1+html": [
       "<div id=\"14bc8717-158e-4ca6-a728-eb6e114ed54b\" style=\"height: 525px; width: 100%;\" class=\"plotly-graph-div\"></div><script type=\"text/javascript\">require([\"plotly\"], function(Plotly) { window.PLOTLYENV=window.PLOTLYENV || {};window.PLOTLYENV.BASE_URL=\"https://plot.ly\";\n",
       "if (document.getElementById(\"14bc8717-158e-4ca6-a728-eb6e114ed54b\")) {\n",
       "    Plotly.newPlot(\"14bc8717-158e-4ca6-a728-eb6e114ed54b\", [{\"arrangement\": \"freeform\", \"dimensions\": [{\"categoryorder\": \"category ascending\", \"label\": \"Class\", \"values\": [3, 1, 3, 1, 3, 3, 1, 3, 3, 2, 3, 1, 3, 3, 3, 2, 3, 2, 3, 3, 2, 2, 3, 1, 3, 3, 3, 1, 3, 3, 1, 1, 3, 2, 1, 1, 3, 3, 3, 3, 3, 2, 3, 2, 3, 3, 3, 3, 3, 3, 3, 3, 1, 2, 1, 1, 2, 3, 2, 3, 3, 1, 1, 3, 1, 3, 2, 3, 3, 3, 2, 3, 2, 3, 3, 3, 3, 3, 2, 3, 3, 3, 3, 1, 2, 3, 3, 3, 1, 3, 3, 3, 1, 3, 3, 3, 1, 1, 2, 2, 3, 3, 1, 3, 3, 3, 3, 3, 3, 3, 1, 3, 3, 3, 3, 3, 3, 2, 1, 3, 2, 3, 2, 2, 1, 3, 3, 3, 3, 3, 3, 3, 3, 2, 2, 2, 1, 1, 3, 1, 3, 3, 3, 3, 2, 2, 3, 3, 2, 2, 2, 1, 3, 3, 3, 1]}, {\"label\": \"Gender\", \"values\": [\"male\", \"female\", \"female\", \"female\", \"male\", \"male\", \"male\", \"male\", \"female\", \"female\", \"female\", \"female\", \"male\", \"male\", \"female\", \"female\", \"male\", \"male\", \"female\", \"female\", \"male\", \"male\", \"female\", \"male\", \"female\", \"female\", \"male\", \"male\", \"female\", \"male\", \"male\", \"female\", \"female\", \"male\", \"male\", \"male\", \"male\", \"male\", \"female\", \"female\", \"female\", \"female\", \"male\", \"female\", \"female\", \"male\", \"male\", \"female\", \"male\", \"female\", \"male\", \"male\", \"female\", \"female\", \"male\", \"male\", \"female\", \"male\", \"female\", \"male\", \"male\", \"female\", \"male\", \"male\", \"male\", \"male\", \"female\", \"male\", \"female\", \"male\", \"male\", \"female\", \"male\", \"male\", \"male\", \"male\", \"male\", \"male\", \"male\", \"female\", \"male\", \"male\", \"female\", \"male\", \"female\", \"female\", \"male\", \"male\", \"female\", \"male\", \"male\", \"male\", \"male\", \"male\", \"male\", \"male\", \"male\", \"male\", \"female\", \"male\", \"female\", \"male\", \"male\", \"male\", \"male\", \"male\", \"female\", \"male\", \"male\", \"female\", \"male\", \"female\", \"male\", \"female\", \"female\", \"male\", \"male\", \"male\", \"male\", \"female\", \"male\", \"male\", \"male\", \"female\", \"male\", \"male\", \"male\", \"male\", \"female\", \"male\", \"male\", \"male\", \"female\", \"female\", \"male\", \"male\", \"female\", \"male\", \"male\", \"male\", \"female\", \"female\", \"female\", \"male\", \"male\", \"male\", \"male\", \"female\", \"male\", \"male\", \"male\", \"female\", \"male\", \"male\", \"male\", \"male\"]}, {\"categoryarray\": [0, 1], \"label\": \"Outcome\", \"ticktext\": [\"perished\", \"survived\"], \"values\": [0, 1, 1, 1, 0, 0, 0, 0, 1, 1, 1, 1, 0, 0, 0, 1, 0, 1, 0, 1, 0, 1, 1, 1, 0, 1, 0, 0, 1, 0, 0, 1, 1, 0, 0, 0, 1, 0, 0, 1, 0, 0, 0, 1, 1, 0, 0, 1, 0, 0, 0, 0, 1, 1, 0, 1, 1, 0, 1, 0, 0, 1, 0, 0, 0, 1, 1, 0, 1, 0, 0, 0, 0, 0, 1, 0, 0, 0, 1, 1, 0, 1, 1, 0, 1, 1, 0, 0, 1, 0, 0, 0, 0, 0, 0, 0, 0, 1, 1, 0, 0, 0, 0, 0, 0, 0, 1, 1, 0, 1, 0, 0, 0, 0, 0, 0, 0, 0, 0, 0, 0, 0, 0, 1, 0, 1, 0, 1, 1, 0, 0, 0, 0, 1, 0, 0, 1, 0, 0, 0, 0, 1, 1, 0, 0, 0, 1, 0, 0, 0, 0, 1, 0, 0, 0, 0]}], \"hoverinfo\": \"count+probability\", \"hoveron\": \"color\", \"labelfont\": {\"family\": \"Times\", \"size\": 18}, \"line\": {\"color\": [0, 1, 1, 1, 0, 0, 0, 0, 1, 1, 1, 1, 0, 0, 0, 1, 0, 1, 0, 1, 0, 1, 1, 1, 0, 1, 0, 0, 1, 0, 0, 1, 1, 0, 0, 0, 1, 0, 0, 1, 0, 0, 0, 1, 1, 0, 0, 1, 0, 0, 0, 0, 1, 1, 0, 1, 1, 0, 1, 0, 0, 1, 0, 0, 0, 1, 1, 0, 1, 0, 0, 0, 0, 0, 1, 0, 0, 0, 1, 1, 0, 1, 1, 0, 1, 1, 0, 0, 1, 0, 0, 0, 0, 0, 0, 0, 0, 1, 1, 0, 0, 0, 0, 0, 0, 0, 1, 1, 0, 1, 0, 0, 0, 0, 0, 0, 0, 0, 0, 0, 0, 0, 0, 1, 0, 1, 0, 1, 1, 0, 0, 0, 0, 1, 0, 0, 1, 0, 0, 0, 0, 1, 1, 0, 0, 0, 1, 0, 0, 0, 0, 1, 0, 0, 0, 0], \"colorscale\": [[0, \"lightsteelblue\"], [1, \"mediumseagreen\"]]}, \"tickfont\": {\"family\": \"Times\", \"size\": 16}, \"type\": \"parcats\", \"uid\": \"91e31dd4-79b0-435f-93a2-df7d210721e5\"}], {}, {\"showLink\": false, \"linkText\": \"Export to plot.ly\", \"plotlyServerURL\": \"https://plot.ly\"}); \n",
       "}\n",
       "});</script><script type=\"text/javascript\">window.addEventListener(\"resize\", function(){if (document.getElementById(\"14bc8717-158e-4ca6-a728-eb6e114ed54b\")) {window._Plotly.Plots.resize(document.getElementById(\"14bc8717-158e-4ca6-a728-eb6e114ed54b\"));};})</script>"
      ]
     },
     "metadata": {},
     "output_type": "display_data"
    }
   ],
   "source": [
    "\n",
    "titanic_df = pd.read_csv(\n",
    "    \"https://raw.githubusercontent.com/plotly/datasets/master/titanic.csv\")\n",
    "\n",
    "# Create dimensions\n",
    "class_dim = go.parcats.Dimension(\n",
    "    values=titanic_df.Pclass,\n",
    "    categoryorder='category ascending',\n",
    "    label=\"Class\"\n",
    ")\n",
    "\n",
    "gender_dim = go.parcats.Dimension(\n",
    "    values=titanic_df.Sex,\n",
    "    label=\"Gender\"\n",
    ")\n",
    "\n",
    "survival_dim = go.parcats.Dimension(\n",
    "  values=titanic_df.Survived,\n",
    "  label=\"Outcome\",\n",
    "  categoryarray=[0, 1],\n",
    "  ticktext=['perished', 'survived'],\n",
    ")\n",
    "\n",
    "# Create parcats trace\n",
    "color = titanic_df.Survived;\n",
    "colorscale = [[0, 'lightsteelblue'], [1, 'mediumseagreen']];\n",
    "\n",
    "data = [\n",
    "    go.Parcats(\n",
    "        dimensions=[class_dim, gender_dim, survival_dim],\n",
    "        line={'color': color,\n",
    "              'colorscale': colorscale},\n",
    "        hoveron='color',\n",
    "        hoverinfo='count+probability',\n",
    "        labelfont={'size': 18, 'family': 'Times'},\n",
    "        tickfont={'size': 16, 'family': 'Times'},\n",
    "        arrangement='freeform'\n",
    "    )\n",
    "]\n",
    "\n",
    "# Display figure\n",
    "plotly.offline.iplot(data)"
   ]
  },
  {
   "cell_type": "code",
   "execution_count": null,
   "metadata": {},
   "outputs": [],
   "source": []
  },
  {
   "cell_type": "code",
   "execution_count": 7,
   "metadata": {},
   "outputs": [
    {
     "data": {
      "application/vnd.plotly.v1+json": {
       "config": {
        "linkText": "Export to plot.ly",
        "plotlyServerURL": "https://plot.ly",
        "showLink": false
       },
       "data": [
        {
         "marker": {
          "color": "white"
         },
         "name": "",
         "type": "scatter",
         "uid": "78d3ca9d-454d-4e71-85dc-0293b6d75710",
         "x": [
          "2009-01-01",
          "2009-02-26"
         ],
         "y": [
          0,
          0
         ]
        },
        {
         "marker": {
          "color": "white"
         },
         "name": "",
         "type": "scatter",
         "uid": "99c396ad-f7f0-4d44-bb78-7c9a515cefc3",
         "x": [
          "2009-03-05",
          "2009-04-15"
         ],
         "y": [
          1,
          1
         ]
        },
        {
         "marker": {
          "color": "white"
         },
         "name": "",
         "type": "scatter",
         "uid": "4300e223-dd3a-4273-97dd-692c003cf072",
         "x": [
          "2009-02-20 12:40:00",
          "2009-05-30 15:12:44"
         ],
         "y": [
          2,
          2
         ]
        },
        {
         "marker": {
          "color": "white"
         },
         "name": "",
         "type": "scatter",
         "uid": "b5fa4b55-863a-4418-94f3-367c7e1078a1",
         "x": [
          "2009-03-10",
          "2009-04-30"
         ],
         "y": [
          3,
          3
         ]
        },
        {
         "marker": {
          "color": "white"
         },
         "name": "",
         "type": "scatter",
         "uid": "f8051cc9-20f6-4b33-9fd5-773a16edc7cd",
         "x": [
          "2009-02-25",
          "2009-06-30"
         ],
         "y": [
          4,
          4
         ]
        },
        {
         "marker": {
          "cmax": 100,
          "cmin": 0,
          "color": "white",
          "colorscale": [
           [
            0,
            "rgb(51.0, 63.0, 68.0)"
           ],
           [
            1,
            "rgb(147.0, 228.0, 193.0)"
           ]
          ],
          "showscale": true
         },
         "name": "",
         "type": "scatter",
         "uid": "13288125-066a-4405-aa29-53e663e4d9a8",
         "x": [
          "2009-02-25",
          "2009-02-25"
         ],
         "y": [
          4,
          4
         ]
        }
       ],
       "layout": {
        "height": 600,
        "hovermode": "closest",
        "shapes": [
         {
          "fillcolor": "rgb(73.08, 100.95, 96.75)",
          "line": {
           "width": 0
          },
          "opacity": 1,
          "type": "rect",
          "x0": "2009-01-01",
          "x1": "2009-02-26",
          "xref": "x",
          "y0": -0.2,
          "y1": 0.2,
          "yref": "y"
         },
         {
          "fillcolor": "rgb(103.80000000000001, 153.75, 136.75)",
          "line": {
           "width": 0
          },
          "opacity": 1,
          "type": "rect",
          "x0": "2009-03-05",
          "x1": "2009-04-15",
          "xref": "x",
          "y0": 0.8,
          "y1": 1.2,
          "yref": "y"
         },
         {
          "fillcolor": "rgb(144.12, 223.04999999999998, 189.25)",
          "line": {
           "width": 0
          },
          "opacity": 1,
          "type": "rect",
          "x0": "2009-02-20 12:40:00",
          "x1": "2009-05-30 15:12:44",
          "xref": "x",
          "y0": 1.8,
          "y1": 2.2,
          "yref": "y"
         },
         {
          "fillcolor": "rgb(61.56, 81.15, 81.75)",
          "line": {
           "width": 0
          },
          "opacity": 1,
          "type": "rect",
          "x0": "2009-03-10",
          "x1": "2009-04-30",
          "xref": "x",
          "y0": 2.8,
          "y1": 3.2,
          "yref": "y"
         },
         {
          "fillcolor": "rgb(64.44, 86.1, 85.5)",
          "line": {
           "width": 0
          },
          "opacity": 1,
          "type": "rect",
          "x0": "2009-02-25",
          "x1": "2009-06-30",
          "xref": "x",
          "y0": 3.8,
          "y1": 4.2,
          "yref": "y"
         }
        ],
        "showlegend": false,
        "title": {
         "text": "Gantt Chart"
        },
        "width": 900,
        "xaxis": {
         "autorange": true,
         "range": [
          "2008-12-20 19:46:40.7526",
          "2009-07-11 04:13:19.2474"
         ],
         "rangeselector": {
          "buttons": [
           {
            "count": 7,
            "label": "1w",
            "step": "day",
            "stepmode": "backward"
           },
           {
            "count": 1,
            "label": "1m",
            "step": "month",
            "stepmode": "backward"
           },
           {
            "count": 6,
            "label": "6m",
            "step": "month",
            "stepmode": "backward"
           },
           {
            "count": 1,
            "label": "YTD",
            "step": "year",
            "stepmode": "todate"
           },
           {
            "count": 1,
            "label": "1y",
            "step": "year",
            "stepmode": "backward"
           },
           {
            "step": "all"
           }
          ]
         },
         "showgrid": true,
         "type": "date",
         "zeroline": false
        },
        "yaxis": {
         "autorange": false,
         "range": [
          -1,
          6
         ],
         "showgrid": true,
         "ticktext": [
          "Job A",
          "Job B",
          "Job C",
          "Job D",
          "Job E"
         ],
         "tickvals": [
          0,
          1,
          2,
          3,
          4
         ],
         "type": "linear",
         "zeroline": false
        }
       }
      },
      "image/png": "[encoded data removed]",
      "text/html": [
       "<div id=\"12f0ee5c-6978-4681-979d-3add2b389a44\" style=\"height: 600px; width: 900px;\" class=\"plotly-graph-div\"></div><script type=\"text/javascript\">require([\"plotly\"], function(Plotly) { window.PLOTLYENV=window.PLOTLYENV || {};window.PLOTLYENV.BASE_URL=\"https://plot.ly\";\n",
       "if (document.getElementById(\"12f0ee5c-6978-4681-979d-3add2b389a44\")) {\n",
       "    Plotly.newPlot(\"12f0ee5c-6978-4681-979d-3add2b389a44\", [{\"marker\": {\"color\": \"white\"}, \"name\": \"\", \"x\": [\"2009-01-01\", \"2009-02-26\"], \"y\": [0, 0], \"type\": \"scatter\", \"uid\": \"2f2ffae7-cfcf-4a5d-8fec-bb0b6174411e\"}, {\"marker\": {\"color\": \"white\"}, \"name\": \"\", \"x\": [\"2009-03-05\", \"2009-04-15\"], \"y\": [1, 1], \"type\": \"scatter\", \"uid\": \"e3ea49ad-8dce-4c0b-8394-fcbe336f359d\"}, {\"marker\": {\"color\": \"white\"}, \"name\": \"\", \"x\": [\"2009-02-20 12:40:00\", \"2009-05-30 15:12:44\"], \"y\": [2, 2], \"type\": \"scatter\", \"uid\": \"31b04cdb-11d9-46ff-8140-a7e85c03aed6\"}, {\"marker\": {\"color\": \"white\"}, \"name\": \"\", \"x\": [\"2009-03-10\", \"2009-04-30\"], \"y\": [3, 3], \"type\": \"scatter\", \"uid\": \"3d866bf4-83c3-4120-a59e-2eb7f1e9beeb\"}, {\"marker\": {\"color\": \"white\"}, \"name\": \"\", \"x\": [\"2009-02-25\", \"2009-06-30\"], \"y\": [4, 4], \"type\": \"scatter\", \"uid\": \"13e689aa-f901-4b3e-a4e9-6a27ec0fc154\"}, {\"marker\": {\"cmax\": 100, \"cmin\": 0, \"color\": \"white\", \"colorscale\": [[0, \"rgb(51.0, 63.0, 68.0)\"], [1, \"rgb(147.0, 228.0, 193.0)\"]], \"showscale\": true}, \"name\": \"\", \"x\": [\"2009-02-25\", \"2009-02-25\"], \"y\": [4, 4], \"type\": \"scatter\", \"uid\": \"62313002-8891-4047-aaff-26bde30b1227\"}], {\"height\": 600, \"hovermode\": \"closest\", \"shapes\": [{\"fillcolor\": \"rgb(73.08, 100.95, 96.75)\", \"line\": {\"width\": 0}, \"opacity\": 1, \"type\": \"rect\", \"x0\": \"2009-01-01\", \"x1\": \"2009-02-26\", \"xref\": \"x\", \"y0\": -0.2, \"y1\": 0.2, \"yref\": \"y\"}, {\"fillcolor\": \"rgb(103.80000000000001, 153.75, 136.75)\", \"line\": {\"width\": 0}, \"opacity\": 1, \"type\": \"rect\", \"x0\": \"2009-03-05\", \"x1\": \"2009-04-15\", \"xref\": \"x\", \"y0\": 0.8, \"y1\": 1.2, \"yref\": \"y\"}, {\"fillcolor\": \"rgb(144.12, 223.04999999999998, 189.25)\", \"line\": {\"width\": 0}, \"opacity\": 1, \"type\": \"rect\", \"x0\": \"2009-02-20 12:40:00\", \"x1\": \"2009-05-30 15:12:44\", \"xref\": \"x\", \"y0\": 1.8, \"y1\": 2.2, \"yref\": \"y\"}, {\"fillcolor\": \"rgb(61.56, 81.15, 81.75)\", \"line\": {\"width\": 0}, \"opacity\": 1, \"type\": \"rect\", \"x0\": \"2009-03-10\", \"x1\": \"2009-04-30\", \"xref\": \"x\", \"y0\": 2.8, \"y1\": 3.2, \"yref\": \"y\"}, {\"fillcolor\": \"rgb(64.44, 86.1, 85.5)\", \"line\": {\"width\": 0}, \"opacity\": 1, \"type\": \"rect\", \"x0\": \"2009-02-25\", \"x1\": \"2009-06-30\", \"xref\": \"x\", \"y0\": 3.8, \"y1\": 4.2, \"yref\": \"y\"}], \"showlegend\": false, \"title\": {\"text\": \"Gantt Chart\"}, \"width\": 900, \"xaxis\": {\"rangeselector\": {\"buttons\": [{\"count\": 7, \"label\": \"1w\", \"step\": \"day\", \"stepmode\": \"backward\"}, {\"count\": 1, \"label\": \"1m\", \"step\": \"month\", \"stepmode\": \"backward\"}, {\"count\": 6, \"label\": \"6m\", \"step\": \"month\", \"stepmode\": \"backward\"}, {\"count\": 1, \"label\": \"YTD\", \"step\": \"year\", \"stepmode\": \"todate\"}, {\"count\": 1, \"label\": \"1y\", \"step\": \"year\", \"stepmode\": \"backward\"}, {\"step\": \"all\"}]}, \"showgrid\": true, \"type\": \"date\", \"zeroline\": false}, \"yaxis\": {\"autorange\": false, \"range\": [-1, 6], \"showgrid\": true, \"ticktext\": [\"Job A\", \"Job B\", \"Job C\", \"Job D\", \"Job E\"], \"tickvals\": [0, 1, 2, 3, 4], \"zeroline\": false}}, {\"showLink\": false, \"linkText\": \"Export to plot.ly\", \"plotlyServerURL\": \"https://plot.ly\"}); \n",
       "}\n",
       "});</script>"
      ],
      "text/vnd.plotly.v1+html": [
       "<div id=\"12f0ee5c-6978-4681-979d-3add2b389a44\" style=\"height: 600px; width: 900px;\" class=\"plotly-graph-div\"></div><script type=\"text/javascript\">require([\"plotly\"], function(Plotly) { window.PLOTLYENV=window.PLOTLYENV || {};window.PLOTLYENV.BASE_URL=\"https://plot.ly\";\n",
       "if (document.getElementById(\"12f0ee5c-6978-4681-979d-3add2b389a44\")) {\n",
       "    Plotly.newPlot(\"12f0ee5c-6978-4681-979d-3add2b389a44\", [{\"marker\": {\"color\": \"white\"}, \"name\": \"\", \"x\": [\"2009-01-01\", \"2009-02-26\"], \"y\": [0, 0], \"type\": \"scatter\", \"uid\": \"2f2ffae7-cfcf-4a5d-8fec-bb0b6174411e\"}, {\"marker\": {\"color\": \"white\"}, \"name\": \"\", \"x\": [\"2009-03-05\", \"2009-04-15\"], \"y\": [1, 1], \"type\": \"scatter\", \"uid\": \"e3ea49ad-8dce-4c0b-8394-fcbe336f359d\"}, {\"marker\": {\"color\": \"white\"}, \"name\": \"\", \"x\": [\"2009-02-20 12:40:00\", \"2009-05-30 15:12:44\"], \"y\": [2, 2], \"type\": \"scatter\", \"uid\": \"31b04cdb-11d9-46ff-8140-a7e85c03aed6\"}, {\"marker\": {\"color\": \"white\"}, \"name\": \"\", \"x\": [\"2009-03-10\", \"2009-04-30\"], \"y\": [3, 3], \"type\": \"scatter\", \"uid\": \"3d866bf4-83c3-4120-a59e-2eb7f1e9beeb\"}, {\"marker\": {\"color\": \"white\"}, \"name\": \"\", \"x\": [\"2009-02-25\", \"2009-06-30\"], \"y\": [4, 4], \"type\": \"scatter\", \"uid\": \"13e689aa-f901-4b3e-a4e9-6a27ec0fc154\"}, {\"marker\": {\"cmax\": 100, \"cmin\": 0, \"color\": \"white\", \"colorscale\": [[0, \"rgb(51.0, 63.0, 68.0)\"], [1, \"rgb(147.0, 228.0, 193.0)\"]], \"showscale\": true}, \"name\": \"\", \"x\": [\"2009-02-25\", \"2009-02-25\"], \"y\": [4, 4], \"type\": \"scatter\", \"uid\": \"62313002-8891-4047-aaff-26bde30b1227\"}], {\"height\": 600, \"hovermode\": \"closest\", \"shapes\": [{\"fillcolor\": \"rgb(73.08, 100.95, 96.75)\", \"line\": {\"width\": 0}, \"opacity\": 1, \"type\": \"rect\", \"x0\": \"2009-01-01\", \"x1\": \"2009-02-26\", \"xref\": \"x\", \"y0\": -0.2, \"y1\": 0.2, \"yref\": \"y\"}, {\"fillcolor\": \"rgb(103.80000000000001, 153.75, 136.75)\", \"line\": {\"width\": 0}, \"opacity\": 1, \"type\": \"rect\", \"x0\": \"2009-03-05\", \"x1\": \"2009-04-15\", \"xref\": \"x\", \"y0\": 0.8, \"y1\": 1.2, \"yref\": \"y\"}, {\"fillcolor\": \"rgb(144.12, 223.04999999999998, 189.25)\", \"line\": {\"width\": 0}, \"opacity\": 1, \"type\": \"rect\", \"x0\": \"2009-02-20 12:40:00\", \"x1\": \"2009-05-30 15:12:44\", \"xref\": \"x\", \"y0\": 1.8, \"y1\": 2.2, \"yref\": \"y\"}, {\"fillcolor\": \"rgb(61.56, 81.15, 81.75)\", \"line\": {\"width\": 0}, \"opacity\": 1, \"type\": \"rect\", \"x0\": \"2009-03-10\", \"x1\": \"2009-04-30\", \"xref\": \"x\", \"y0\": 2.8, \"y1\": 3.2, \"yref\": \"y\"}, {\"fillcolor\": \"rgb(64.44, 86.1, 85.5)\", \"line\": {\"width\": 0}, \"opacity\": 1, \"type\": \"rect\", \"x0\": \"2009-02-25\", \"x1\": \"2009-06-30\", \"xref\": \"x\", \"y0\": 3.8, \"y1\": 4.2, \"yref\": \"y\"}], \"showlegend\": false, \"title\": {\"text\": \"Gantt Chart\"}, \"width\": 900, \"xaxis\": {\"rangeselector\": {\"buttons\": [{\"count\": 7, \"label\": \"1w\", \"step\": \"day\", \"stepmode\": \"backward\"}, {\"count\": 1, \"label\": \"1m\", \"step\": \"month\", \"stepmode\": \"backward\"}, {\"count\": 6, \"label\": \"6m\", \"step\": \"month\", \"stepmode\": \"backward\"}, {\"count\": 1, \"label\": \"YTD\", \"step\": \"year\", \"stepmode\": \"todate\"}, {\"count\": 1, \"label\": \"1y\", \"step\": \"year\", \"stepmode\": \"backward\"}, {\"step\": \"all\"}]}, \"showgrid\": true, \"type\": \"date\", \"zeroline\": false}, \"yaxis\": {\"autorange\": false, \"range\": [-1, 6], \"showgrid\": true, \"ticktext\": [\"Job A\", \"Job B\", \"Job C\", \"Job D\", \"Job E\"], \"tickvals\": [0, 1, 2, 3, 4], \"zeroline\": false}}, {\"showLink\": false, \"linkText\": \"Export to plot.ly\", \"plotlyServerURL\": \"https://plot.ly\"}); \n",
       "}\n",
       "});</script>"
      ]
     },
     "metadata": {},
     "output_type": "display_data"
    }
   ],
   "source": [
    "import plotly.figure_factory as ff\n",
    "\n",
    "import pandas as pd\n",
    "\n",
    "df = pd.read_csv('https://raw.githubusercontent.com/plotly/datasets/master/gantt_example.csv')\n",
    "\n",
    "fig = ff.create_gantt(df, colors=['#333F44', '#93e4c1'], index_col='Complete', show_colorbar=True, bar_width=0.2, showgrid_x=True, showgrid_y=True)\n",
    "plotly.offline.iplot(fig, filename='gantt-use-a-pandas-dataframe')"
   ]
  },
  {
   "cell_type": "code",
   "execution_count": 8,
   "metadata": {},
   "outputs": [
    {
     "data": {
      "text/html": [
       "<div>\n",
       "<style scoped>\n",
       "    .dataframe tbody tr th:only-of-type {\n",
       "        vertical-align: middle;\n",
       "    }\n",
       "\n",
       "    .dataframe tbody tr th {\n",
       "        vertical-align: top;\n",
       "    }\n",
       "\n",
       "    .dataframe thead th {\n",
       "        text-align: right;\n",
       "    }\n",
       "</style>\n",
       "<table border=\"1\" class=\"dataframe\">\n",
       "  <thead>\n",
       "    <tr style=\"text-align: right;\">\n",
       "      <th></th>\n",
       "      <th>Task</th>\n",
       "      <th>Start</th>\n",
       "      <th>Finish</th>\n",
       "      <th>Complete</th>\n",
       "      <th>Resource</th>\n",
       "    </tr>\n",
       "  </thead>\n",
       "  <tbody>\n",
       "    <tr>\n",
       "      <th>0</th>\n",
       "      <td>Job A</td>\n",
       "      <td>2009-01-01</td>\n",
       "      <td>2009-02-26</td>\n",
       "      <td>23</td>\n",
       "      <td>A</td>\n",
       "    </tr>\n",
       "    <tr>\n",
       "      <th>1</th>\n",
       "      <td>Job B</td>\n",
       "      <td>2009-03-05</td>\n",
       "      <td>2009-04-15</td>\n",
       "      <td>55</td>\n",
       "      <td>A</td>\n",
       "    </tr>\n",
       "    <tr>\n",
       "      <th>2</th>\n",
       "      <td>Job C</td>\n",
       "      <td>2009-02-20 12:40:00</td>\n",
       "      <td>2009-05-30 15:12:44</td>\n",
       "      <td>97</td>\n",
       "      <td>C</td>\n",
       "    </tr>\n",
       "    <tr>\n",
       "      <th>3</th>\n",
       "      <td>Job D</td>\n",
       "      <td>2009-03-10</td>\n",
       "      <td>2009-04-30</td>\n",
       "      <td>11</td>\n",
       "      <td>B</td>\n",
       "    </tr>\n",
       "    <tr>\n",
       "      <th>4</th>\n",
       "      <td>Job E</td>\n",
       "      <td>2009-02-25</td>\n",
       "      <td>2009-06-30</td>\n",
       "      <td>14</td>\n",
       "      <td>A</td>\n",
       "    </tr>\n",
       "  </tbody>\n",
       "</table>\n",
       "</div>"
      ],
      "text/plain": [
       "    Task                Start               Finish  Complete Resource\n",
       "0  Job A           2009-01-01           2009-02-26        23        A\n",
       "1  Job B           2009-03-05           2009-04-15        55        A\n",
       "2  Job C  2009-02-20 12:40:00  2009-05-30 15:12:44        97        C\n",
       "3  Job D           2009-03-10           2009-04-30        11        B\n",
       "4  Job E           2009-02-25           2009-06-30        14        A"
      ]
     },
     "execution_count": 8,
     "metadata": {},
     "output_type": "execute_result"
    }
   ],
   "source": [
    "df.head()\n"
   ]
  },
  {
   "cell_type": "code",
   "execution_count": 3,
   "metadata": {},
   "outputs": [
    {
     "data": {
      "text/html": [
       "\n",
       "        <iframe\n",
       "            width=\"100%\"\n",
       "            height=\"400\"\n",
       "            src=\"temp/graph-3d562574-dd8b-4f56-a2e4-767ab4431097.html\"\n",
       "            frameborder=\"0\"\n",
       "            allowfullscreen\n",
       "        ></iframe>\n",
       "        "
      ],
      "text/plain": [
       "<IPython.lib.display.IFrame at 0x7f21836931d0>"
      ]
     },
     "execution_count": 3,
     "metadata": {},
     "output_type": "execute_result"
    }
   ],
   "source": [
    "from py2neo import Graph\n",
    "from py2neo import Node\n",
    "import sys\n",
    "sys.path.insert(0, '../../resources/')\n",
    "from scripts.graphdrawer.vis import draw\n",
    "import urllib, json, urllib.request\n",
    "\n",
    "url = 'http://cloud.lis.ic.unicamp.br/harena/logger/latest/message'\n",
    "response = urllib.request.urlopen(url)\n",
    "data = json.loads(response.read())\n",
    "\n",
    "target_execution_id = \"2019-03-19T00:34:50.726Z-3acd7e11-1a7f-6786-a602-01388934a377\"\n",
    "# target_execution_id = \"\"\n",
    "\n",
    "nodes = []\n",
    "edges = []\n",
    "\n",
    "node_index=0\n",
    "\n",
    "for item in data[\"execution_stream\"]:\n",
    "    topic = item['topic']\n",
    "    exec_id = topic.split(\"/\")[0]\n",
    "    if target_execution_id == exec_id:\n",
    "        \n",
    "        \n",
    "        method = topic[topic.index(\"/\"):]\n",
    "        \n",
    "        case_id = \"no data\"\n",
    "        user_id = \"no data\"\n",
    "        try:\n",
    "            case_id = item['payload']['track']['caseid']\n",
    "            user_id = item['payload']['track']['userid']\n",
    "        except:\n",
    "            pass\n",
    "        nodes.append({\"id\":   node_index, \"label\": method, \"title\": json.dumps({'case': case_id, 'user':user_id}), \"group\": topic})\n",
    "        edges.append({\"from\": node_index, \"label\": \"THEN\", \"to\": node_index+1})\n",
    "        node_index+=1\n",
    "draw(nodes, edges, physics=True)\n",
    "\n",
    "\n"
   ]
  },
  {
   "cell_type": "code",
   "execution_count": null,
   "metadata": {},
   "outputs": [],
   "source": []
  }
 ],
 "metadata": {
  "kernelspec": {
   "display_name": "Python 3",
   "language": "python",
   "name": "python3"
  },
  "language_info": {
   "codemirror_mode": {
    "name": "ipython",
    "version": 3
   },
   "file_extension": ".py",
   "mimetype": "text/x-python",
   "name": "python",
   "nbconvert_exporter": "python",
   "pygments_lexer": "ipython3",
   "version": "3.6.7"
  }
 },
 "nbformat": 4,
 "nbformat_minor": 2
}
