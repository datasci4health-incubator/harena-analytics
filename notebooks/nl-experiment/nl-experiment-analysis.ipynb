{
 "cells": [
  {
   "cell_type": "code",
   "execution_count": 1,
   "metadata": {},
   "outputs": [],
   "source": [
    "%defaultDatasource jdbc:h2:mem:db"
   ]
  },
  {
   "cell_type": "code",
   "execution_count": 2,
   "metadata": {},
   "outputs": [],
   "source": [
    "DROP TABLE IF EXISTS DescEKGCases;\n",
    "\n",
    "CREATE TABLE DescEKGCases (\n",
    "  user INT NOT NULL,\n",
    "  casen VARCHAR(7),\n",
    "  stage VARCHAR(22),\n",
    "  answer VARCHAR(200),\n",
    "  points DECIMAL(3,1),\n",
    "  confidence INT,\n",
    "  time DECIMAL(8,2),\n",
    "  ctype VARCHAR(2),\n",
    "  PRIMARY KEY(user, casen, stage)\n",
    ") AS SELECT *\n",
    "  FROM CSVREAD('../../data/logx/AllT.csv');"
   ]
  },
  {
   "cell_type": "markdown",
   "metadata": {},
   "source": [
    "# Overall Average of the Accuracy\n",
    "\n",
    "Considering the accuracy in the second answer of each case.\n",
    "\n",
    "## For Description First"
   ]
  },
  {
   "cell_type": "code",
   "execution_count": 50,
   "metadata": {},
   "outputs": [
    {
     "data": {
      "application/vnd.jupyter.widget-view+json": {
       "model_id": "91342bd5-d30b-48dd-af8e-ab226ee81851",
       "version_major": 2,
       "version_minor": 0
      },
      "method": "display_data"
     },
     "metadata": {},
     "output_type": "display_data"
    }
   ],
   "source": [
    "SELECT ctype, AVG(points) AVG_points, STDDEV_SAMP(points) STD_Deviation_points\n",
    "FROM DescEKGCases\n",
    "WHERE ctype='DF' AND stage='EKG Hypothesis';"
   ]
  },
  {
   "cell_type": "markdown",
   "metadata": {},
   "source": [
    "# For EKG First"
   ]
  },
  {
   "cell_type": "code",
   "execution_count": 49,
   "metadata": {},
   "outputs": [
    {
     "data": {
      "application/vnd.jupyter.widget-view+json": {
       "model_id": "36874450-3503-4a7e-a825-a6f992de50a2",
       "version_major": 2,
       "version_minor": 0
      },
      "method": "display_data"
     },
     "metadata": {},
     "output_type": "display_data"
    }
   ],
   "source": [
    "SELECT ctype, AVG(points) AVG_points, STDDEV_SAMP(points) STD_Deviation_points\n",
    "FROM DescEKGCases\n",
    "WHERE ctype='EF' AND stage='Description Hypothesis';"
   ]
  },
  {
   "cell_type": "code",
   "execution_count": 17,
   "metadata": {},
   "outputs": [
    {
     "data": {
      "application/vnd.jupyter.widget-view+json": {
       "model_id": "0161f35b-88a1-4fd5-aa67-c7a87c918462",
       "version_major": 2,
       "version_minor": 0
      },
      "method": "display_data"
     },
     "metadata": {},
     "output_type": "display_data"
    },
    {
     "data": {
      "application/vnd.jupyter.widget-view+json": {
       "model_id": "33b7ebbf-f9c4-4ae6-bbbd-0ce81d8521ae",
       "version_major": 2,
       "version_minor": 0
      },
      "method": "display_data"
     },
     "metadata": {},
     "output_type": "display_data"
    }
   ],
   "source": [
    "-- initial accuracy\n",
    "\n",
    "SELECT ctype, AVG(points) AVG_points, STDDEV_SAMP(points) STD_Deviation_points\n",
    "FROM DescEKGCases\n",
    "WHERE ctype='DF' AND stage='Description Hypothesis';\n",
    "\n",
    "SELECT ctype, AVG(points) AVG_points, STDDEV_SAMP(points) STD_Deviation_points\n",
    "FROM DescEKGCases\n",
    "WHERE ctype='EF' AND stage='EKG Hypothesis';"
   ]
  },
  {
   "cell_type": "markdown",
   "metadata": {},
   "source": [
    "# Accuracy in the First Task"
   ]
  },
  {
   "cell_type": "code",
   "execution_count": 27,
   "metadata": {},
   "outputs": [
    {
     "data": {
      "application/vnd.jupyter.widget-view+json": {
       "model_id": "2ba9e2b3-6119-49d0-914a-37cf0a927afd",
       "version_major": 2,
       "version_minor": 0
      },
      "method": "display_data"
     },
     "metadata": {},
     "output_type": "display_data"
    }
   ],
   "source": [
    "SELECT casen, AVG(points) AVG_points, STDDEV_SAMP(points) STD_Deviation_points\n",
    "FROM DescEKGCases\n",
    "WHERE ctype='DF' AND stage='Description Hypothesis'\n",
    "GROUP BY casen\n",
    "ORDER BY casen;"
   ]
  },
  {
   "cell_type": "code",
   "execution_count": 26,
   "metadata": {},
   "outputs": [
    {
     "data": {
      "application/vnd.jupyter.widget-view+json": {
       "model_id": "6e401a94-a921-4c63-b12a-cac9d65e8bf9",
       "version_major": 2,
       "version_minor": 0
      },
      "method": "display_data"
     },
     "metadata": {},
     "output_type": "display_data"
    }
   ],
   "source": [
    "SELECT casen, AVG(points) AVG_points, STDDEV_SAMP(points) STD_Deviation_points\n",
    "FROM DescEKGCases\n",
    "WHERE ctype='EF' AND stage='EKG Hypothesis'\n",
    "GROUP BY casen\n",
    "ORDER BY casen;"
   ]
  },
  {
   "cell_type": "code",
   "execution_count": 20,
   "metadata": {},
   "outputs": [
    {
     "data": {
      "application/vnd.jupyter.widget-view+json": {
       "model_id": "928d0a9f-a4d9-489d-8f66-68bd051bd627",
       "version_major": 2,
       "version_minor": 0
      },
      "method": "display_data"
     },
     "metadata": {},
     "output_type": "display_data"
    },
    {
     "data": {
      "application/vnd.jupyter.widget-view+json": {
       "model_id": "afd28e5b-6cc3-4018-9a5d-123bf4f3fc7b",
       "version_major": 2,
       "version_minor": 0
      },
      "method": "display_data"
     },
     "metadata": {},
     "output_type": "display_data"
    }
   ],
   "source": [
    "-- final accuracy\n",
    "\n",
    "SELECT casen, AVG(points) AVG_points, STDDEV_SAMP(points) STD_Deviation_points\n",
    "FROM DescEKGCases\n",
    "WHERE ctype='DF' AND stage='EKG Hypothesis'\n",
    "GROUP BY casen\n",
    "ORDER BY casen;\n",
    "\n",
    "SELECT casen, AVG(points) AVG_points, STDDEV_SAMP(points) STD_Deviation_points\n",
    "FROM DescEKGCases\n",
    "WHERE ctype='EF' AND stage='Description Hypothesis'\n",
    "GROUP BY casen\n",
    "ORDER BY casen;"
   ]
  },
  {
   "cell_type": "code",
   "execution_count": 42,
   "metadata": {},
   "outputs": [
    {
     "data": {
      "application/vnd.jupyter.widget-view+json": {
       "model_id": "97748c43-4748-4da0-a827-b05d19b7723b",
       "version_major": 2,
       "version_minor": 0
      },
      "method": "display_data"
     },
     "metadata": {},
     "output_type": "display_data"
    }
   ],
   "source": [
    "DROP VIEW IF EXISTS G1;\n",
    "CREATE VIEW G1 AS\n",
    "SELECT user, casen, time, confidence\n",
    "FROM DescEKGCases\n",
    "WHERE ctype='EF' AND stage='EKG Hypothesis' AND points < 1;\n",
    "\n",
    "DROP VIEW IF EXISTS G2;\n",
    "CREATE VIEW G2 AS\n",
    "SELECT user, casen, time, confidence\n",
    "FROM DescEKGCases\n",
    "WHERE ctype='EF' AND stage='Description Hypothesis' AND points = 1;\n",
    "\n",
    "SELECT count(*), avg(G1.time) Time_First, AVG(G2.time) Time_Second, AVG(G1.confidence) Confidence_First, AVG(G2.confidence) Confidence_Second\n",
    "FROM G1, G2\n",
    "WHERE G1.user = G2.user AND G1.casen = G2.casen;"
   ]
  },
  {
   "cell_type": "code",
   "execution_count": 43,
   "metadata": {},
   "outputs": [
    {
     "data": {
      "application/vnd.jupyter.widget-view+json": {
       "model_id": "0600905c-dd02-4d53-9231-2a4a9a4267f9",
       "version_major": 2,
       "version_minor": 0
      },
      "method": "display_data"
     },
     "metadata": {},
     "output_type": "display_data"
    }
   ],
   "source": [
    "DROP VIEW IF EXISTS G1;\n",
    "CREATE VIEW G1 AS\n",
    "SELECT user, casen, time, confidence\n",
    "FROM DescEKGCases\n",
    "WHERE ctype='EF' AND stage='EKG Hypothesis' AND points < 1;\n",
    "\n",
    "DROP VIEW IF EXISTS G2;\n",
    "CREATE VIEW G2 AS\n",
    "SELECT user, casen, time, confidence\n",
    "FROM DescEKGCases\n",
    "WHERE ctype='EF' AND stage='Description Hypothesis' AND points < 1;\n",
    "\n",
    "SELECT count(*), avg(G1.time) Time_First, AVG(G2.time) Time_Second, AVG(G1.confidence) Confidence_First, AVG(G2.confidence) Confidence_Second\n",
    "FROM G1, G2\n",
    "WHERE G1.user = G2.user AND G1.casen = G2.casen;"
   ]
  },
  {
   "cell_type": "code",
   "execution_count": 46,
   "metadata": {},
   "outputs": [
    {
     "data": {
      "application/vnd.jupyter.widget-view+json": {
       "model_id": "51aa5998-ec44-41e1-b22b-df4e18d3c469",
       "version_major": 2,
       "version_minor": 0
      },
      "method": "display_data"
     },
     "metadata": {},
     "output_type": "display_data"
    }
   ],
   "source": [
    "DROP VIEW IF EXISTS G1;\n",
    "CREATE VIEW G1 AS\n",
    "SELECT user, casen, time, confidence\n",
    "FROM DescEKGCases\n",
    "WHERE ctype='EF' AND stage='EKG Hypothesis' AND points = 1;\n",
    "\n",
    "DROP VIEW IF EXISTS G2;\n",
    "CREATE VIEW G2 AS\n",
    "SELECT user, casen, time, confidence\n",
    "FROM DescEKGCases\n",
    "WHERE ctype='EF' AND stage='Description Hypothesis' AND points = 1;\n",
    "\n",
    "SELECT count(*), avg(G1.time) Time_First, AVG(G2.time) Time_Second, AVG(G1.confidence) Confidence_First, AVG(G2.confidence) Confidence_Second\n",
    "FROM G1, G2\n",
    "WHERE G1.user = G2.user AND G1.casen = G2.casen;"
   ]
  },
  {
   "cell_type": "code",
   "execution_count": 44,
   "metadata": {},
   "outputs": [
    {
     "data": {
      "application/vnd.jupyter.widget-view+json": {
       "model_id": "7ca558d0-bc91-40ba-a4bc-19c4d0435c77",
       "version_major": 2,
       "version_minor": 0
      },
      "method": "display_data"
     },
     "metadata": {},
     "output_type": "display_data"
    }
   ],
   "source": [
    "DROP VIEW IF EXISTS G1;\n",
    "CREATE VIEW G1 AS\n",
    "SELECT user, casen, time, confidence\n",
    "FROM DescEKGCases\n",
    "WHERE ctype='DF' AND stage='Description Hypothesis' AND points < 1;\n",
    "\n",
    "DROP VIEW IF EXISTS G2;\n",
    "CREATE VIEW G2 AS\n",
    "SELECT user, casen, time, confidence\n",
    "FROM DescEKGCases\n",
    "WHERE ctype='DF' AND stage='EKG Hypothesis' AND points = 1;\n",
    "\n",
    "SELECT count(*), avg(G1.time) Time_First, AVG(G2.time) Time_Second, AVG(G1.confidence) Confidence_First, AVG(G2.confidence) Confidence_Second\n",
    "FROM G1, G2\n",
    "WHERE G1.user = G2.user AND G1.casen = G2.casen;"
   ]
  },
  {
   "cell_type": "code",
   "execution_count": 45,
   "metadata": {},
   "outputs": [
    {
     "data": {
      "application/vnd.jupyter.widget-view+json": {
       "model_id": "2b9203bb-daf2-4d88-ab43-5a263687feaf",
       "version_major": 2,
       "version_minor": 0
      },
      "method": "display_data"
     },
     "metadata": {},
     "output_type": "display_data"
    }
   ],
   "source": [
    "DROP VIEW IF EXISTS G1;\n",
    "CREATE VIEW G1 AS\n",
    "SELECT user, casen, time, confidence\n",
    "FROM DescEKGCases\n",
    "WHERE ctype='DF' AND stage='Description Hypothesis' AND points < 1;\n",
    "\n",
    "DROP VIEW IF EXISTS G2;\n",
    "CREATE VIEW G2 AS\n",
    "SELECT user, casen, time, confidence\n",
    "FROM DescEKGCases\n",
    "WHERE ctype='DF' AND stage='EKG Hypothesis' AND points < 1;\n",
    "\n",
    "SELECT count(*), avg(G1.time) Time_First, AVG(G2.time) Time_Second, AVG(G1.confidence) Confidence_First, AVG(G2.confidence) Confidence_Second\n",
    "FROM G1, G2\n",
    "WHERE G1.user = G2.user AND G1.casen = G2.casen;"
   ]
  },
  {
   "cell_type": "code",
   "execution_count": 47,
   "metadata": {},
   "outputs": [
    {
     "data": {
      "application/vnd.jupyter.widget-view+json": {
       "model_id": "ffef75eb-d4c6-4347-b61a-bbf2ccd62636",
       "version_major": 2,
       "version_minor": 0
      },
      "method": "display_data"
     },
     "metadata": {},
     "output_type": "display_data"
    }
   ],
   "source": [
    "DROP VIEW IF EXISTS G1;\n",
    "CREATE VIEW G1 AS\n",
    "SELECT user, casen, time, confidence\n",
    "FROM DescEKGCases\n",
    "WHERE ctype='DF' AND stage='Description Hypothesis' AND points = 1;\n",
    "\n",
    "DROP VIEW IF EXISTS G2;\n",
    "CREATE VIEW G2 AS\n",
    "SELECT user, casen, time, confidence\n",
    "FROM DescEKGCases\n",
    "WHERE ctype='DF' AND stage='EKG Hypothesis' AND points = 1;\n",
    "\n",
    "SELECT count(*), avg(G1.time) Time_First, AVG(G2.time) Time_Second, AVG(G1.confidence) Confidence_First, AVG(G2.confidence) Confidence_Second\n",
    "FROM G1, G2\n",
    "WHERE G1.user = G2.user AND G1.casen = G2.casen;"
   ]
  },
  {
   "cell_type": "markdown",
   "metadata": {},
   "source": [
    "# Question 01\n",
    "The order of the presentation affects the confidence"
   ]
  },
  {
   "cell_type": "code",
   "execution_count": 3,
   "metadata": {},
   "outputs": [
    {
     "data": {
      "application/vnd.jupyter.widget-view+json": {
       "model_id": "caffd720-a701-4907-a6fd-7b33e6d63e24",
       "version_major": 2,
       "version_minor": 0
      },
      "method": "display_data"
     },
     "metadata": {},
     "output_type": "display_data"
    }
   ],
   "source": [
    "SELECT ctype, AVG(confidence) AVG_confidence, STDDEV_SAMP(confidence) STD_Deviation_confidence FROM DescEKGCases GROUP BY ctype;"
   ]
  },
  {
   "cell_type": "markdown",
   "metadata": {},
   "source": [
    "# Question 02\n",
    "The confidence score (first stage) affects the time it takes to accomplish the second stage.\n",
    "\n",
    "## Description First"
   ]
  },
  {
   "cell_type": "code",
   "execution_count": 4,
   "metadata": {},
   "outputs": [
    {
     "data": {
      "application/vnd.jupyter.widget-view+json": {
       "model_id": "0cf7d4b8-f3e2-4d4e-9600-f5978474ac01",
       "version_major": 2,
       "version_minor": 0
      },
      "method": "display_data"
     },
     "metadata": {},
     "output_type": "display_data"
    }
   ],
   "source": [
    "DROP TABLE IF EXISTS Confidence_First_DF;\n",
    "CREATE VIEW Confidence_First_DF AS\n",
    "SELECT casen, AVG(confidence) AVG_confidence_first_stage\n",
    "FROM DescEKGCases\n",
    "WHERE stage = 'Description Hypothesis' AND ctype='DF'\n",
    "GROUP BY casen\n",
    "ORDER by casen;\n",
    "\n",
    "DROP VIEW IF EXISTS Time_Second_DF;\n",
    "CREATE VIEW Time_Second_DF AS\n",
    "SELECT casen, AVG(time) AVG_time_second_stage\n",
    "FROM DescEKGCases\n",
    "WHERE stage = 'EKG Hypothesis' AND ctype='DF'\n",
    "GROUP BY casen\n",
    "ORDER by casen;\n",
    "\n",
    "SELECT CF.casen, AVG_confidence_first_stage, AVG_time_second_stage\n",
    "FROM Confidence_First_DF CF, Time_Second_DF TS\n",
    "WHERE CF.casen = TS.casen;"
   ]
  },
  {
   "cell_type": "markdown",
   "metadata": {},
   "source": [
    "## EKG First"
   ]
  },
  {
   "cell_type": "code",
   "execution_count": 5,
   "metadata": {},
   "outputs": [
    {
     "data": {
      "application/vnd.jupyter.widget-view+json": {
       "model_id": "ffcf7ace-6ba7-437e-a757-948ae18f1f58",
       "version_major": 2,
       "version_minor": 0
      },
      "method": "display_data"
     },
     "metadata": {},
     "output_type": "display_data"
    }
   ],
   "source": [
    "DROP VIEW IF EXISTS Confidence_First_EF;\n",
    "CREATE VIEW Confidence_First_EF AS\n",
    "SELECT casen, AVG(confidence) AVG_confidence_first_stage\n",
    "FROM DescEKGCases\n",
    "WHERE stage = 'EKG Hypothesis' AND ctype='EF'\n",
    "GROUP BY casen\n",
    "ORDER by casen;\n",
    "\n",
    "DROP VIEW IF EXISTS Time_Second_EF;\n",
    "CREATE VIEW Time_Second_EF AS\n",
    "SELECT casen, AVG(time) AVG_time_second_stage\n",
    "FROM DescEKGCases\n",
    "WHERE stage = 'Description Hypothesis' AND ctype='EF'\n",
    "GROUP BY casen\n",
    "ORDER by casen;\n",
    "\n",
    "SELECT CF.casen, AVG_confidence_first_stage, AVG_time_second_stage\n",
    "FROM Confidence_First_EF CF, Time_Second_EF TS\n",
    "WHERE CF.casen = TS.casen;"
   ]
  },
  {
   "cell_type": "markdown",
   "metadata": {},
   "source": [
    "# Question 3\n",
    "\n",
    "The confidence score will influence the probability of changing the hypothesis.\n",
    "\n",
    "## Description First"
   ]
  },
  {
   "cell_type": "code",
   "execution_count": 6,
   "metadata": {},
   "outputs": [
    {
     "data": {
      "application/vnd.jupyter.widget-view+json": {
       "model_id": "4b07c67e-c8f2-4681-8be5-f7b3e8464933",
       "version_major": 2,
       "version_minor": 0
      },
      "method": "display_data"
     },
     "metadata": {},
     "output_type": "display_data"
    }
   ],
   "source": [
    "DROP VIEW IF EXISTS First_Answer_DF;\n",
    "CREATE VIEW First_Answer_DF AS\n",
    "SELECT user, casen, answer First_Answer, confidence\n",
    "FROM DescEKGCases\n",
    "WHERE stage = 'Description Hypothesis' AND ctype = 'DF';\n",
    "\n",
    "DROP VIEW IF EXISTS Second_Answer_DF;\n",
    "CREATE VIEW Second_Answer_DF AS\n",
    "SELECT user, casen, answer Second_Answer\n",
    "FROM DescEKGCases\n",
    "WHERE stage = 'EKG Hypothesis' AND ctype = 'DF';\n",
    "\n",
    "SELECT D1.user, D1.casen, First_Answer, confidence, Second_Answer\n",
    "FROM First_Answer_DF D1, Second_Answer_DF D2\n",
    "WHERE D1.user = D2.user AND D1.casen = D2.casen;"
   ]
  },
  {
   "cell_type": "markdown",
   "metadata": {},
   "source": [
    "### AVG confidence for same answer"
   ]
  },
  {
   "cell_type": "code",
   "execution_count": 7,
   "metadata": {},
   "outputs": [
    {
     "data": {
      "application/vnd.jupyter.widget-view+json": {
       "model_id": "15d68079-d332-44e3-ba4b-9afcbe7f2f8f",
       "version_major": 2,
       "version_minor": 0
      },
      "method": "display_data"
     },
     "metadata": {},
     "output_type": "display_data"
    }
   ],
   "source": [
    "SELECT D1.casen, AVG(confidence) AVG_confidence, COUNT(*)\n",
    "FROM First_Answer_DF D1, Second_Answer_DF D2\n",
    "WHERE D1.user = D2.user AND D1.casen = D2.casen AND First_Answer = Second_Answer\n",
    "GROUP BY D1.casen;"
   ]
  },
  {
   "cell_type": "markdown",
   "metadata": {},
   "source": [
    "### AVG confidence for different answer"
   ]
  },
  {
   "cell_type": "code",
   "execution_count": 8,
   "metadata": {},
   "outputs": [
    {
     "data": {
      "application/vnd.jupyter.widget-view+json": {
       "model_id": "e7b6f7f7-d4a4-484a-9554-91edfbdd1f09",
       "version_major": 2,
       "version_minor": 0
      },
      "method": "display_data"
     },
     "metadata": {},
     "output_type": "display_data"
    }
   ],
   "source": [
    "SELECT D1.casen, AVG(confidence) AVG_confidence, COUNT(*)\n",
    "FROM First_Answer_DF D1, Second_Answer_DF D2\n",
    "WHERE D1.user = D2.user AND D1.casen = D2.casen AND First_Answer <> Second_Answer\n",
    "GROUP BY D1.casen;"
   ]
  },
  {
   "cell_type": "markdown",
   "metadata": {},
   "source": [
    "## EKG First"
   ]
  },
  {
   "cell_type": "code",
   "execution_count": 9,
   "metadata": {},
   "outputs": [
    {
     "data": {
      "application/vnd.jupyter.widget-view+json": {
       "model_id": "7271eec9-d67b-4aa4-a100-7a5045705f31",
       "version_major": 2,
       "version_minor": 0
      },
      "method": "display_data"
     },
     "metadata": {},
     "output_type": "display_data"
    }
   ],
   "source": [
    "DROP VIEW IF EXISTS First_Answer_EF;\n",
    "CREATE VIEW First_Answer_EF AS\n",
    "SELECT user, casen, answer First_Answer, confidence\n",
    "FROM DescEKGCases\n",
    "WHERE stage = 'EKG Hypothesis' AND ctype = 'EF';\n",
    "\n",
    "DROP VIEW IF EXISTS Second_Answer_EF;\n",
    "CREATE VIEW Second_Answer_EF AS\n",
    "SELECT user, casen, answer Second_Answer\n",
    "FROM DescEKGCases\n",
    "WHERE stage = 'Description Hypothesis' AND ctype = 'EF';\n",
    "\n",
    "SELECT E1.user, E1.casen, First_Answer, confidence, Second_Answer\n",
    "FROM First_Answer_EF E1, Second_Answer_EF E2\n",
    "WHERE E1.user = E2.user AND E1.casen = E2.casen;"
   ]
  },
  {
   "cell_type": "markdown",
   "metadata": {},
   "source": [
    "### AVG confidence for same answer"
   ]
  },
  {
   "cell_type": "code",
   "execution_count": 10,
   "metadata": {},
   "outputs": [
    {
     "data": {
      "application/vnd.jupyter.widget-view+json": {
       "model_id": "d665eb08-8880-43a0-b9d6-df16cebb0553",
       "version_major": 2,
       "version_minor": 0
      },
      "method": "display_data"
     },
     "metadata": {},
     "output_type": "display_data"
    }
   ],
   "source": [
    "SELECT E1.casen, AVG(confidence) AVG_confidence, COUNT(*)\n",
    "FROM First_Answer_EF E1, Second_Answer_EF E2\n",
    "WHERE E1.user = E2.user AND E1.casen = E2.casen AND First_Answer = Second_Answer\n",
    "GROUP BY E1.casen;"
   ]
  },
  {
   "cell_type": "markdown",
   "metadata": {},
   "source": [
    "### AVG confidence for different answer"
   ]
  },
  {
   "cell_type": "code",
   "execution_count": 11,
   "metadata": {},
   "outputs": [
    {
     "data": {
      "application/vnd.jupyter.widget-view+json": {
       "model_id": "738831ae-ee0e-48d9-a808-d6a198525c18",
       "version_major": 2,
       "version_minor": 0
      },
      "method": "display_data"
     },
     "metadata": {},
     "output_type": "display_data"
    }
   ],
   "source": [
    "SELECT E1.casen, AVG(confidence) AVG_confidence, COUNT(*)\n",
    "FROM First_Answer_EF E1, Second_Answer_EF E2\n",
    "WHERE E1.user = E2.user AND E1.casen = E2.casen AND First_Answer <> Second_Answer\n",
    "GROUP BY E1.casen;"
   ]
  },
  {
   "cell_type": "markdown",
   "metadata": {},
   "source": [
    "# Question 4\n",
    "\n",
    "The time to accomplish the first task between the groups."
   ]
  },
  {
   "cell_type": "code",
   "execution_count": 12,
   "metadata": {},
   "outputs": [
    {
     "data": {
      "application/vnd.jupyter.widget-view+json": {
       "model_id": "1507c8bc-6e22-4cac-9cff-3520aa385869",
       "version_major": 2,
       "version_minor": 0
      },
      "method": "display_data"
     },
     "metadata": {},
     "output_type": "display_data"
    }
   ],
   "source": [
    "DROP VIEW IF EXISTS Confidence_AVG_DF;\n",
    "CREATE VIEW Confidence_AVG_DF AS\n",
    "SELECT casen, AVG(time) AVG_Time_Description_First\n",
    "FROM DescEKGCases\n",
    "WHERE ctype='DF' AND stage = 'Description Hypothesis'\n",
    "GROUP BY casen\n",
    "ORDER BY casen;\n",
    "\n",
    "DROP VIEW IF EXISTS Confidence_AVG_EF;\n",
    "CREATE VIEW Confidence_AVG_EF AS\n",
    "SELECT casen, AVG(time) AVG_Time_EKG_First\n",
    "FROM DescEKGCases\n",
    "WHERE ctype='EF' AND stage = 'EKG Hypothesis'\n",
    "GROUP BY casen\n",
    "ORDER BY casen;\n",
    "\n",
    "SELECT DF.casen, AVG_Time_Description_First, AVG_Time_EKG_First\n",
    "FROM Confidence_AVG_DF DF, Confidence_AVG_EF EF\n",
    "WHERE DF.casen = EF.casen;"
   ]
  },
  {
   "cell_type": "markdown",
   "metadata": {},
   "source": [
    "# Time in the EKG"
   ]
  },
  {
   "cell_type": "code",
   "execution_count": 18,
   "metadata": {},
   "outputs": [
    {
     "data": {
      "application/vnd.jupyter.widget-view+json": {
       "model_id": "f8ec9e3d-3caa-4d71-8ec9-ae8247f2c5e4",
       "version_major": 2,
       "version_minor": 0
      },
      "method": "display_data"
     },
     "metadata": {},
     "output_type": "display_data"
    }
   ],
   "source": [
    "DROP VIEW IF EXISTS Confidence_AVG_DF;\n",
    "CREATE VIEW Confidence_AVG_DF AS\n",
    "SELECT casen, AVG(time) AVG_Time_Description_First\n",
    "FROM DescEKGCases\n",
    "WHERE ctype='DF' AND stage = 'EKG Hypothesis'\n",
    "GROUP BY casen\n",
    "ORDER BY casen;\n",
    "\n",
    "DROP VIEW IF EXISTS Confidence_AVG_EF;\n",
    "CREATE VIEW Confidence_AVG_EF AS\n",
    "SELECT casen, AVG(time) AVG_Time_EKG_First\n",
    "FROM DescEKGCases\n",
    "WHERE ctype='EF' AND stage = 'EKG Hypothesis'\n",
    "GROUP BY casen\n",
    "ORDER BY casen;\n",
    "\n",
    "SELECT DF.casen, AVG_Time_Description_First, AVG_Time_EKG_First\n",
    "FROM Confidence_AVG_DF DF, Confidence_AVG_EF EF\n",
    "WHERE DF.casen = EF.casen;"
   ]
  },
  {
   "cell_type": "markdown",
   "metadata": {},
   "source": [
    "# Time in the Description"
   ]
  },
  {
   "cell_type": "code",
   "execution_count": 21,
   "metadata": {},
   "outputs": [
    {
     "data": {
      "application/vnd.jupyter.widget-view+json": {
       "model_id": "35da04b5-13a2-4b2a-9ebb-80d5d8b6fc26",
       "version_major": 2,
       "version_minor": 0
      },
      "method": "display_data"
     },
     "metadata": {},
     "output_type": "display_data"
    }
   ],
   "source": [
    "DROP VIEW IF EXISTS Confidence_AVG_DF;\n",
    "CREATE VIEW Confidence_AVG_DF AS\n",
    "SELECT casen, AVG(time) AVG_Time_Description_First\n",
    "FROM DescEKGCases\n",
    "WHERE ctype='DF' AND stage = 'Description Hypothesis'\n",
    "GROUP BY casen\n",
    "ORDER BY casen;\n",
    "\n",
    "DROP VIEW IF EXISTS Confidence_AVG_EF;\n",
    "CREATE VIEW Confidence_AVG_EF AS\n",
    "SELECT casen, AVG(time) AVG_Time_EKG_First\n",
    "FROM DescEKGCases\n",
    "WHERE ctype='EF' AND stage = 'Description Hypothesis'\n",
    "GROUP BY casen\n",
    "ORDER BY casen;\n",
    "\n",
    "SELECT DF.casen, AVG_Time_Description_First, AVG_Time_EKG_First\n",
    "FROM Confidence_AVG_DF DF, Confidence_AVG_EF EF\n",
    "WHERE DF.casen = EF.casen;"
   ]
  },
  {
   "cell_type": "markdown",
   "metadata": {},
   "source": [
    "# AVG confidence first task"
   ]
  },
  {
   "cell_type": "code",
   "execution_count": 24,
   "metadata": {},
   "outputs": [
    {
     "data": {
      "application/vnd.jupyter.widget-view+json": {
       "model_id": "409d9b8f-bb1f-4770-9bdc-2c2752ed0771",
       "version_major": 2,
       "version_minor": 0
      },
      "method": "display_data"
     },
     "metadata": {},
     "output_type": "display_data"
    }
   ],
   "source": [
    "DROP VIEW IF EXISTS Confidence_AVG_DF;\n",
    "CREATE VIEW Confidence_AVG_DF AS\n",
    "SELECT casen, AVG(confidence) AVG_Confidence_Description_First\n",
    "FROM DescEKGCases\n",
    "WHERE ctype='DF' AND stage = 'Description Hypothesis'\n",
    "GROUP BY casen\n",
    "ORDER BY casen;\n",
    "\n",
    "DROP VIEW IF EXISTS Confidence_AVG_EF;\n",
    "CREATE VIEW Confidence_AVG_EF AS\n",
    "SELECT casen, AVG(confidence) AVG_Confidence_EKG_First\n",
    "FROM DescEKGCases\n",
    "WHERE ctype='EF' AND stage = 'EKG Hypothesis'\n",
    "GROUP BY casen\n",
    "ORDER BY casen;\n",
    "\n",
    "SELECT DF.casen, AVG_Confidence_Description_First, AVG_Confidence_EKG_First\n",
    "FROM Confidence_AVG_DF DF, Confidence_AVG_EF EF\n",
    "WHERE DF.casen = EF.casen;"
   ]
  },
  {
   "cell_type": "markdown",
   "metadata": {},
   "source": [
    "# AVG confidence second task"
   ]
  },
  {
   "cell_type": "code",
   "execution_count": 25,
   "metadata": {},
   "outputs": [
    {
     "data": {
      "application/vnd.jupyter.widget-view+json": {
       "model_id": "bdc1e759-b865-4d79-8554-21266b7a232e",
       "version_major": 2,
       "version_minor": 0
      },
      "method": "display_data"
     },
     "metadata": {},
     "output_type": "display_data"
    }
   ],
   "source": [
    "DROP VIEW IF EXISTS Confidence_AVG_DF;\n",
    "CREATE VIEW Confidence_AVG_DF AS\n",
    "SELECT casen, AVG(confidence) AVG_Confidence_Description_First\n",
    "FROM DescEKGCases\n",
    "WHERE ctype='DF' AND stage = 'EKG Hypothesis'\n",
    "GROUP BY casen\n",
    "ORDER BY casen;\n",
    "\n",
    "DROP VIEW IF EXISTS Confidence_AVG_EF;\n",
    "CREATE VIEW Confidence_AVG_EF AS\n",
    "SELECT casen, AVG(confidence) AVG_Confidence_EKG_First\n",
    "FROM DescEKGCases\n",
    "WHERE ctype='EF' AND stage = 'Description Hypothesis'\n",
    "GROUP BY casen\n",
    "ORDER BY casen;\n",
    "\n",
    "SELECT DF.casen, AVG_Confidence_Description_First, AVG_Confidence_EKG_First\n",
    "FROM Confidence_AVG_DF DF, Confidence_AVG_EF EF\n",
    "WHERE DF.casen = EF.casen;"
   ]
  },
  {
   "cell_type": "markdown",
   "metadata": {},
   "source": [
    "# Question 5\n",
    "\n",
    "The time between the first and the second task.\n",
    "\n",
    "## Description First"
   ]
  },
  {
   "cell_type": "code",
   "execution_count": 13,
   "metadata": {},
   "outputs": [
    {
     "data": {
      "application/vnd.jupyter.widget-view+json": {
       "model_id": "377a64ec-71bf-43f7-9a18-bc72038d6963",
       "version_major": 2,
       "version_minor": 0
      },
      "method": "display_data"
     },
     "metadata": {},
     "output_type": "display_data"
    }
   ],
   "source": [
    "DROP VIEW IF EXISTS Confidence_AVG_Task1_DF;\n",
    "CREATE VIEW Confidence_AVG_Task1_DF AS\n",
    "SELECT casen, AVG(time) AVG_Time_Task1\n",
    "FROM DescEKGCases\n",
    "WHERE ctype='DF' AND stage = 'Description Hypothesis'\n",
    "GROUP BY casen\n",
    "ORDER BY casen;\n",
    "\n",
    "DROP VIEW IF EXISTS Confidence_AVG_Task2_DF;\n",
    "CREATE VIEW Confidence_AVG_Task2_DF AS\n",
    "SELECT casen, AVG(time) AVG_Time_Task2\n",
    "FROM DescEKGCases\n",
    "WHERE ctype='DF' AND stage = 'EKG Hypothesis'\n",
    "GROUP BY casen\n",
    "ORDER BY casen;\n",
    "\n",
    "SELECT T1.casen, AVG_Time_Task1, AVG_Time_Task2\n",
    "FROM Confidence_AVG_Task1_DF T1, Confidence_AVG_Task2_DF T2\n",
    "WHERE T1.casen = T2.casen;"
   ]
  },
  {
   "cell_type": "markdown",
   "metadata": {},
   "source": [
    "## EKG First"
   ]
  },
  {
   "cell_type": "code",
   "execution_count": 14,
   "metadata": {},
   "outputs": [
    {
     "data": {
      "application/vnd.jupyter.widget-view+json": {
       "model_id": "6658f48d-bf20-4dcf-b2bf-7cfcc41aba63",
       "version_major": 2,
       "version_minor": 0
      },
      "method": "display_data"
     },
     "metadata": {},
     "output_type": "display_data"
    }
   ],
   "source": [
    "DROP VIEW IF EXISTS Confidence_AVG_Task1_EF;\n",
    "CREATE VIEW Confidence_AVG_Task1_EF AS\n",
    "SELECT casen, AVG(time) AVG_Time_Task1\n",
    "FROM DescEKGCases\n",
    "WHERE ctype='EF' AND stage = 'EKG Hypothesis'\n",
    "GROUP BY casen\n",
    "ORDER BY casen;\n",
    "\n",
    "DROP VIEW IF EXISTS Confidence_AVG_Task2_EF;\n",
    "CREATE VIEW Confidence_AVG_Task2_EF AS\n",
    "SELECT casen, AVG(time) AVG_Time_Task2\n",
    "FROM DescEKGCases\n",
    "WHERE ctype='EF' AND stage = 'Description Hypothesis'\n",
    "GROUP BY casen\n",
    "ORDER BY casen;\n",
    "\n",
    "SELECT T1.casen, AVG_Time_Task1, AVG_Time_Task2\n",
    "FROM Confidence_AVG_Task1_EF T1, Confidence_AVG_Task2_EF T2\n",
    "WHERE T1.casen = T2.casen;"
   ]
  },
  {
   "cell_type": "markdown",
   "metadata": {},
   "source": [
    "# Question 6\n",
    "\n",
    "The confidence level in the interpretation of EKG can indicate their proficiency."
   ]
  }
 ],
 "metadata": {
  "kernelspec": {
   "display_name": "SQL",
   "language": "SQL",
   "name": "sql"
  },
  "language_info": {
   "codemirror_mode": "sql",
   "file_extension": ".sql",
   "mimetype": "",
   "name": "SQL",
   "nbconverter_exporter": "",
   "version": ""
  },
  "toc": {
   "base_numbering": 1,
   "nav_menu": {},
   "number_sections": false,
   "sideBar": false,
   "skip_h1_title": false,
   "title_cell": "Table of Contents",
   "title_sidebar": "Contents",
   "toc_cell": false,
   "toc_position": {},
   "toc_section_display": false,
   "toc_window_display": false
  }
 },
 "nbformat": 4,
 "nbformat_minor": 2
}
