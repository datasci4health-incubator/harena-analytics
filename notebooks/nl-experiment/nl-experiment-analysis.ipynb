{
 "cells": [
  {
   "cell_type": "code",
   "execution_count": 1,
   "metadata": {},
   "outputs": [],
   "source": [
    "%defaultDatasource jdbc:h2:mem:db"
   ]
  },
  {
   "cell_type": "code",
   "execution_count": 2,
   "metadata": {},
   "outputs": [],
   "source": [
    "DROP TABLE IF EXISTS DescEKGCases;\n",
    "\n",
    "CREATE TABLE DescEKGCases (\n",
    "  ctype VARCHAR(2),\n",
    "  user INT,\n",
    "  casen VARCHAR(7),\n",
    "  answer_desc VARCHAR(200),\n",
    "  points_desc DECIMAL(3,1),\n",
    "  confidence_desc INT,\n",
    "  time_desc DECIMAL(8,2),\n",
    "  answer_ekg VARCHAR(200),\n",
    "  points_ekg DECIMAL(3,1),\n",
    "  confidence_ekg INT,\n",
    "  time_ekg DECIMAL(8,2),\n",
    "  PRIMARY KEY(user, casen)\n",
    ") AS SELECT *\n",
    "  FROM CSVREAD('../../resources/nl-experiment1/transformed-data/nl-experiment-01-revised.csv');"
   ]
  },
  {
   "cell_type": "code",
   "execution_count": 3,
   "metadata": {},
   "outputs": [
    {
     "data": {
      "application/vnd.jupyter.widget-view+json": {
       "model_id": "4843e42d-2ef7-490c-8d9e-223e0453ce51",
       "version_major": 2,
       "version_minor": 0
      },
      "method": "display_data"
     },
     "metadata": {},
     "output_type": "display_data"
    }
   ],
   "source": [
    "SELECT * FROM DescEKGCases ORDER BY user, casen;"
   ]
  },
  {
   "cell_type": "markdown",
   "metadata": {},
   "source": [
    "# Overall Average of the Accuracy\n",
    "\n",
    "## For Description First\n",
    "\n",
    "* AVG_POINTS_DESC - avarage points of answer in the description stage (1st stage);\n",
    "* STD_POINTS_DESC - standard deviation of the points for the answers in the description stage (1st stage);\n",
    "* AVG_POINTS_EKG  - avarage points of answer in the EKG stage (2nd stage);\n",
    "* STD_POINTS_EKG - standard deviation of the points for the answers in the EKG stage (2nd stage)."
   ]
  },
  {
   "cell_type": "code",
   "execution_count": 4,
   "metadata": {},
   "outputs": [
    {
     "data": {
      "application/vnd.jupyter.widget-view+json": {
       "model_id": "bdb02532-4aec-470b-9b4d-d1eb7117fed1",
       "version_major": 2,
       "version_minor": 0
      },
      "method": "display_data"
     },
     "metadata": {},
     "output_type": "display_data"
    }
   ],
   "source": [
    "SELECT ROUND(AVG(points_desc),2) AVG_points_desc, ROUND(STDDEV_SAMP(points_desc),2) STD_points_desc,\n",
    "       ROUND(AVG(points_ekg),2) AVG_points_ekg, ROUND(STDDEV_SAMP(points_ekg),2) STD_points_ekg\n",
    "FROM DescEKGCases\n",
    "WHERE ctype='DF';"
   ]
  },
  {
   "cell_type": "markdown",
   "metadata": {},
   "source": [
    "# For EKG First\n",
    "\n",
    "* AVG_POINTS_EKG  - avarage points of answer in the EKG stage (1st stage);\n",
    "* STD_POINTS_EKG - standard deviation of the points for the answers in the EKG stage (1st stage);\n",
    "* AVG_POINTS_DESC - avarage points of answer in the description stage (2nd stage);\n",
    "* STD_POINTS_DESC - standard deviation of the points for the answers in the description stage (2nd stage)."
   ]
  },
  {
   "cell_type": "code",
   "execution_count": 5,
   "metadata": {},
   "outputs": [
    {
     "data": {
      "application/vnd.jupyter.widget-view+json": {
       "model_id": "93c74e2d-fb81-4ede-9593-36df4ace78ef",
       "version_major": 2,
       "version_minor": 0
      },
      "method": "display_data"
     },
     "metadata": {},
     "output_type": "display_data"
    }
   ],
   "source": [
    "SELECT ROUND(AVG(points_ekg),2) AVG_points_ekg, ROUND(STDDEV_SAMP(points_ekg),2) STD_points_ekg,\n",
    "       ROUND(AVG(points_desc),2) AVG_points_desc, ROUND(STDDEV_SAMP(points_desc),2) STD_points_desc\n",
    "FROM DescEKGCases\n",
    "WHERE ctype='EF';"
   ]
  },
  {
   "cell_type": "markdown",
   "metadata": {},
   "source": [
    "# Accuracy in the First and Second Task by Case\n",
    "## For Description First\n",
    "\n",
    "* AVG_POINTS_DESC - average points of the answer in the description stage (1st stage);\n",
    "* STD_POINTS_DESC - standard deviation of the points for the answers in the description stage (1st stage);\n",
    "* AVG_POINTS_EKG  - average points of the answer in the EKG stage (2nd stage);\n",
    "* STD_POINTS_EKG - standard deviation of the points for the answers in the EKG stage (2nd stage)."
   ]
  },
  {
   "cell_type": "code",
   "execution_count": 6,
   "metadata": {},
   "outputs": [
    {
     "data": {
      "application/vnd.jupyter.widget-view+json": {
       "model_id": "0ff55a85-bcf4-4f6e-b6eb-226959c5205c",
       "version_major": 2,
       "version_minor": 0
      },
      "method": "display_data"
     },
     "metadata": {},
     "output_type": "display_data"
    }
   ],
   "source": [
    "SELECT casen, ROUND(AVG(points_desc),2) AVG_points_desc, ROUND(STDDEV_SAMP(points_desc),2) STD_points_desc,\n",
    "              ROUND(AVG(points_ekg),2) AVG_points_ekg, ROUND(STDDEV_SAMP(points_ekg),2) STD_points_ekg\n",
    "FROM DescEKGCases\n",
    "WHERE ctype='DF'\n",
    "GROUP BY casen\n",
    "ORDER BY casen;"
   ]
  },
  {
   "cell_type": "markdown",
   "metadata": {},
   "source": [
    "# For EKG First\n",
    "\n",
    "* AVG_POINTS_EKG  - average points of the answer in the EKG stage (1st stage);\n",
    "* STD_POINTS_EKG - standard deviation of the points for the answers in the EKG stage (1st stage);\n",
    "* AVG_POINTS_DESC - average points of the answer in the description stage (2nd stage);\n",
    "* STD_POINTS_DESC - standard deviation of the points for the answers in the description stage (2nd stage)."
   ]
  },
  {
   "cell_type": "code",
   "execution_count": 7,
   "metadata": {},
   "outputs": [
    {
     "data": {
      "application/vnd.jupyter.widget-view+json": {
       "model_id": "e6a6c328-252e-46de-8863-b6e996e0e597",
       "version_major": 2,
       "version_minor": 0
      },
      "method": "display_data"
     },
     "metadata": {},
     "output_type": "display_data"
    }
   ],
   "source": [
    "SELECT casen, ROUND(AVG(points_ekg),2) AVG_points_ekg, ROUND(STDDEV_SAMP(points_ekg),2) STD_points_ekg,\n",
    "              ROUND(AVG(points_desc),2) AVG_points_desc, ROUND(STDDEV_SAMP(points_desc),2) STD_points_desc\n",
    "FROM DescEKGCases\n",
    "WHERE ctype='EF'\n",
    "GROUP BY casen\n",
    "ORDER BY casen;"
   ]
  },
  {
   "cell_type": "markdown",
   "metadata": {},
   "source": [
    "# Average According to the Success of Attempts\n",
    "## Wrong to Right\n",
    "### For Description First\n",
    "Attempts that were wrong at the beginning (accuracy below 1) and became right (accuracy equal 1).\n",
    "\n",
    "* NUMBER_ATTEMPTS - number of attempts that were wrong in the beginning and became right;\n",
    "* AVG_TIME_DESC - average time to answer in the description stage (1st stage);\n",
    "* AVG_CONFIDENCE_DESC - average confidence of the answers given in the description stage (1st stage);\n",
    "* AVG_TIME_EKG - average time to answer in the EKG stage (2nd stage);\n",
    "* AVG_CONFIDENCE_EKG - average confidence of the answers given in the EKG stage (2nd stage)."
   ]
  },
  {
   "cell_type": "code",
   "execution_count": 8,
   "metadata": {},
   "outputs": [
    {
     "data": {
      "application/vnd.jupyter.widget-view+json": {
       "model_id": "c429374a-4fd8-4046-8480-81361e6a909b",
       "version_major": 2,
       "version_minor": 0
      },
      "method": "display_data"
     },
     "metadata": {},
     "output_type": "display_data"
    }
   ],
   "source": [
    "SELECT COUNT(*) Number_Attempts, ROUND(AVG(time_desc),2) AVG_Time_Desc,\n",
    "                                 ROUND(AVG(CONVERT(confidence_desc, DECIMAL)),2) AVG_Confidence_Desc,\n",
    "                                 ROUND(AVG(time_ekg),2) AVG_Time_EKG,\n",
    "                                 ROUND(AVG(CONVERT(confidence_ekg, DECIMAL)),2) AVG_Confidence_EKG\n",
    "FROM DescEKGCases\n",
    "WHERE ctype='DF' AND points_desc < 1 AND points_ekg = 1;"
   ]
  },
  {
   "cell_type": "markdown",
   "metadata": {},
   "source": [
    "### For EKG First\n",
    "Attempts that were wrong at the beginning (accuracy below 1) and became right (accuracy equal 1).\n",
    "\n",
    "* NUMBER_ATTEMPTS - number of attempts that were wrong in the beginning and became right;\n",
    "* AVG_TIME_EKG - average time to answer in the EKG stage (1st stage);\n",
    "* AVG_CONFIDENCE_EKG - average confidence of the answers given in the EKG stage (1st stage);\n",
    "* AVG_TIME_DESC - average time to answer in the description stage (2nd stage);\n",
    "* AVG_CONFIDENCE_DESC - average confidence of the answers given in the description stage (2nd stage)."
   ]
  },
  {
   "cell_type": "code",
   "execution_count": 9,
   "metadata": {},
   "outputs": [
    {
     "data": {
      "application/vnd.jupyter.widget-view+json": {
       "model_id": "d5e6172c-e00a-4ef2-8007-12442260ff33",
       "version_major": 2,
       "version_minor": 0
      },
      "method": "display_data"
     },
     "metadata": {},
     "output_type": "display_data"
    }
   ],
   "source": [
    "SELECT COUNT(*) Number_Attempts, ROUND(AVG(time_ekg),2) AVG_Time_EKG,\n",
    "                                 ROUND(AVG(CONVERT(confidence_ekg, DECIMAL)),2) AVG_Confidence_EKG,\n",
    "                                 ROUND(AVG(time_desc),2) AVG_Time_Desc,\n",
    "                                 ROUND(AVG(CONVERT(confidence_desc, DECIMAL)),2) AVG_Confidence_Desc\n",
    "FROM DescEKGCases\n",
    "WHERE ctype='EF' AND points_ekg < 1 AND points_desc = 1;"
   ]
  },
  {
   "cell_type": "markdown",
   "metadata": {},
   "source": [
    "## Wrong stays Wrong\n",
    "### For Description First\n",
    "\n",
    "Attempts that were wrong at the beginning (accuracy below 1) and stayed wrong (accuracy below 1).\n",
    "\n",
    "* NUMBER_ATTEMPTS - number of attempts that were wrong in the beginning and stayed wrong."
   ]
  },
  {
   "cell_type": "code",
   "execution_count": 10,
   "metadata": {},
   "outputs": [
    {
     "data": {
      "application/vnd.jupyter.widget-view+json": {
       "model_id": "374b6b19-327a-4a35-80f7-0ca8cc5e635a",
       "version_major": 2,
       "version_minor": 0
      },
      "method": "display_data"
     },
     "metadata": {},
     "output_type": "display_data"
    }
   ],
   "source": [
    "SELECT COUNT(*) Number_Attempts, ROUND(AVG(time_desc),2) AVG_Time_Desc,\n",
    "                                 ROUND(AVG(CONVERT(confidence_desc, DECIMAL)),2) AVG_Confidence_Desc,\n",
    "                                 ROUND(AVG(time_ekg),2) AVG_Time_EKG,\n",
    "                                 ROUND(AVG(CONVERT(confidence_ekg, DECIMAL)),2) AVG_Confidence_EKG\n",
    "FROM DescEKGCases\n",
    "WHERE ctype='DF' AND points_desc < 1 AND points_ekg < 1;"
   ]
  },
  {
   "cell_type": "markdown",
   "metadata": {},
   "source": [
    "### For EKG First"
   ]
  },
  {
   "cell_type": "code",
   "execution_count": 11,
   "metadata": {},
   "outputs": [
    {
     "data": {
      "application/vnd.jupyter.widget-view+json": {
       "model_id": "4ba463e8-24b6-4002-bf39-7e5df763afd3",
       "version_major": 2,
       "version_minor": 0
      },
      "method": "display_data"
     },
     "metadata": {},
     "output_type": "display_data"
    }
   ],
   "source": [
    "SELECT COUNT(*) Number_Attempts, ROUND(AVG(time_ekg),2) AVG_Time_EKG,\n",
    "                                 ROUND(AVG(CONVERT(confidence_ekg, DECIMAL)),2) AVG_Confidence_EKG,\n",
    "                                 ROUND(AVG(time_desc),2) AVG_Time_Desc,\n",
    "                                 ROUND(AVG(CONVERT(confidence_desc, DECIMAL)),2) AVG_Confidence_Desc\n",
    "FROM DescEKGCases\n",
    "WHERE ctype='EF' AND points_ekg < 1 AND points_desc < 1;"
   ]
  },
  {
   "cell_type": "markdown",
   "metadata": {},
   "source": [
    "## Right stays Right\n",
    "### For Description First\n",
    "\n",
    "Attempts that were right at the beginning (accuracy equal 1) and stayed right (accuracy equal 1).\n",
    "\n",
    "* NUMBER_ATTEMPTS - number of attempts that were right in the beginning and stayed right."
   ]
  },
  {
   "cell_type": "code",
   "execution_count": 12,
   "metadata": {},
   "outputs": [
    {
     "data": {
      "application/vnd.jupyter.widget-view+json": {
       "model_id": "4867b66f-504a-43a1-9ece-9b2e86735182",
       "version_major": 2,
       "version_minor": 0
      },
      "method": "display_data"
     },
     "metadata": {},
     "output_type": "display_data"
    }
   ],
   "source": [
    "SELECT COUNT(*) Number_Attempts, ROUND(AVG(time_desc),2) AVG_Time_Desc,\n",
    "                                 ROUND(AVG(CONVERT(confidence_desc, DECIMAL)),2) AVG_Confidence_Desc,\n",
    "                                 ROUND(AVG(time_ekg),2) AVG_Time_EKG,\n",
    "                                 ROUND(AVG(CONVERT(confidence_ekg, DECIMAL)),2) AVG_Confidence_EKG\n",
    "FROM DescEKGCases\n",
    "WHERE ctype='DF' AND points_desc = 1 AND points_ekg = 1;"
   ]
  },
  {
   "cell_type": "markdown",
   "metadata": {},
   "source": [
    "### For EKG First"
   ]
  },
  {
   "cell_type": "code",
   "execution_count": 13,
   "metadata": {},
   "outputs": [
    {
     "data": {
      "application/vnd.jupyter.widget-view+json": {
       "model_id": "b634af76-fff2-460c-9509-622bff61541b",
       "version_major": 2,
       "version_minor": 0
      },
      "method": "display_data"
     },
     "metadata": {},
     "output_type": "display_data"
    }
   ],
   "source": [
    "SELECT COUNT(*) Number_Attempts, ROUND(AVG(time_ekg),2) AVG_Time_EKG,\n",
    "                                 ROUND(AVG(CONVERT(confidence_ekg, DECIMAL)),2) AVG_Confidence_EKG,\n",
    "                                 ROUND(AVG(time_desc),2) AVG_Time_Desc,\n",
    "                                 ROUND(AVG(CONVERT(confidence_desc, DECIMAL)),2) AVG_Confidence_Desc\n",
    "FROM DescEKGCases\n",
    "WHERE ctype='EF' AND points_ekg = 1 AND points_desc = 1;"
   ]
  },
  {
   "cell_type": "markdown",
   "metadata": {},
   "source": [
    "# Question 01\n",
    "The order of the presentation affects the confidence.\n",
    "\n",
    "## For Description First\n",
    "\n",
    "* AVG_CONFIDENCE_DESC - average confidence of the answers given in the description stage (1st stage);\n",
    "* AVG_CONFIDENCE_EKG - average confidence of the answers given in the EKG stage (2nd stage).\n",
    "* AVG_CONFIDENCE_OVERALL - average confidence of the answers in both stages."
   ]
  },
  {
   "cell_type": "code",
   "execution_count": 14,
   "metadata": {},
   "outputs": [
    {
     "data": {
      "application/vnd.jupyter.widget-view+json": {
       "model_id": "30fd0799-2798-48eb-b294-7c0b80ec4c27",
       "version_major": 2,
       "version_minor": 0
      },
      "method": "display_data"
     },
     "metadata": {},
     "output_type": "display_data"
    }
   ],
   "source": [
    "SELECT ROUND(AVG(CONVERT(confidence_desc, DECIMAL)),2) AVG_confidence_desc,\n",
    "       ROUND(AVG(CONVERT(confidence_ekg, DECIMAL)),2) AVG_confidence_ekg,\n",
    "       ROUND(((AVG(CONVERT(confidence_desc, DECIMAL)) + AVG(CONVERT(confidence_ekg, DECIMAL))) / 2),2) AS AVG_Overall\n",
    "FROM DescEKGCases\n",
    "WHERE ctype = 'DF';"
   ]
  },
  {
   "cell_type": "markdown",
   "metadata": {},
   "source": [
    "## For EKG First\n",
    "\n",
    "* AVG_CONFIDENCE_EKG - average confidence of the answers given in the EKG stage (1st stage).\n",
    "* AVG_CONFIDENCE_DESC - average confidence of the answers given in the description stage (2nd stage);\n",
    "* AVG_CONFIDENCE_OVERALL - average confidence of the answers in both stages."
   ]
  },
  {
   "cell_type": "code",
   "execution_count": 15,
   "metadata": {},
   "outputs": [
    {
     "data": {
      "application/vnd.jupyter.widget-view+json": {
       "model_id": "f4706f2d-8945-4cf1-bd23-2427fd439a68",
       "version_major": 2,
       "version_minor": 0
      },
      "method": "display_data"
     },
     "metadata": {},
     "output_type": "display_data"
    }
   ],
   "source": [
    "SELECT ROUND(AVG(CONVERT(confidence_ekg, DECIMAL)),2) AVG_confidence_ekg,\n",
    "       ROUND(AVG(CONVERT(confidence_desc, DECIMAL)),2) AVG_confidence_desc,\n",
    "       ROUND(((AVG(CONVERT(confidence_desc, DECIMAL)) + AVG(CONVERT(confidence_ekg, DECIMAL))) / 2),2) AS AVG_Overall\n",
    "FROM DescEKGCases\n",
    "WHERE ctype = 'EF';"
   ]
  },
  {
   "cell_type": "markdown",
   "metadata": {},
   "source": [
    "# Question 02\n",
    "The confidence score in the first stage affects the time it takes to accomplish the task in the second stage.\n",
    "\n",
    "## For Description First\n",
    "* AVG_CONFIDENCE_DESC - average confidence of the answers given in the description stage (1st stage) grouped per case;\n",
    "* AVG_TIME_EKG - average time to give the answers in the EKG stage (2nd stage) grouped per case;\n",
    "\n",
    "\n",
    "* AVG_CONFIDENCE_DESC_OVERALL - average confidence of the answers given in the description stage (1st stage) in all cases;\n",
    "* AVG_TIME_EKG_OVERALL - average time to give the answers in the EKG stage (2nd stage) in all cases."
   ]
  },
  {
   "cell_type": "code",
   "execution_count": 16,
   "metadata": {},
   "outputs": [
    {
     "data": {
      "application/vnd.jupyter.widget-view+json": {
       "model_id": "9afad890-203b-4244-accc-affdf7d83e79",
       "version_major": 2,
       "version_minor": 0
      },
      "method": "display_data"
     },
     "metadata": {},
     "output_type": "display_data"
    },
    {
     "data": {
      "application/vnd.jupyter.widget-view+json": {
       "model_id": "2e6c3b3a-aac2-4f70-9dfc-f63d583ea4ad",
       "version_major": 2,
       "version_minor": 0
      },
      "method": "display_data"
     },
     "metadata": {},
     "output_type": "display_data"
    }
   ],
   "source": [
    "SELECT casen, ROUND(AVG(CONVERT(confidence_desc, DECIMAL)),2) AVG_confidence_desc, ROUND(AVG(time_ekg),2) AVG_time_ekg\n",
    "FROM DescEKGCases\n",
    "WHERE ctype = 'DF'\n",
    "GROUP BY casen\n",
    "ORDER BY casen;\n",
    "\n",
    "SELECT ROUND(AVG(CONVERT(confidence_desc, DECIMAL)),2) AVG_confidence_desc_overall, ROUND(AVG(time_ekg),2) AVG_time_ekg_overall\n",
    "FROM DescEKGCases\n",
    "WHERE ctype = 'DF';"
   ]
  },
  {
   "cell_type": "markdown",
   "metadata": {},
   "source": [
    "## For EKG First\n",
    "* AVG_CONFIDENCE_EKG - average confidence of the answers given in the EKG stage (1st stage) grouped per case;\n",
    "* AVG_TIME_DESC - average time to give the answers in the description stage (2nd stage) grouped per case;\n",
    "\n",
    "\n",
    "* AVG_CONFIDENCE_EKG_OVERALL - average confidence of the answers given in the EKG stage (1st stage) in all cases;\n",
    "* AVG_TIME_DESC_OVERALL - average time to give the answers in the description stage (2nd stage) in all cases."
   ]
  },
  {
   "cell_type": "code",
   "execution_count": 17,
   "metadata": {},
   "outputs": [
    {
     "data": {
      "application/vnd.jupyter.widget-view+json": {
       "model_id": "0ddb7540-0df7-4f46-a886-4f782a4aa9cf",
       "version_major": 2,
       "version_minor": 0
      },
      "method": "display_data"
     },
     "metadata": {},
     "output_type": "display_data"
    },
    {
     "data": {
      "application/vnd.jupyter.widget-view+json": {
       "model_id": "1ba0c5c3-8330-417a-a8ff-493c2d096f8f",
       "version_major": 2,
       "version_minor": 0
      },
      "method": "display_data"
     },
     "metadata": {},
     "output_type": "display_data"
    }
   ],
   "source": [
    "SELECT casen, ROUND(AVG(CONVERT(confidence_ekg, DECIMAL)),2) AVG_confidence_ekg, ROUND(AVG(time_desc),2) AVG_time_desc\n",
    "FROM DescEKGCases\n",
    "WHERE ctype = 'EF'\n",
    "GROUP BY casen\n",
    "ORDER BY casen;\n",
    "\n",
    "SELECT ROUND(AVG(CONVERT(confidence_ekg, DECIMAL)),2) AVG_confidence_ekg_overall, ROUND(AVG(time_desc),2) AVG_time_desc_overall\n",
    "FROM DescEKGCases\n",
    "WHERE ctype = 'EF';"
   ]
  },
  {
   "cell_type": "markdown",
   "metadata": {},
   "source": [
    "# Question 3\n",
    "\n",
    "The confidence score in the first stage will influence the probability of changing the hypothesis.\n",
    "\n",
    "## Description First\n",
    "\n",
    "* AVG_CONF_DS_CH - the average of the confidence during the description stage (1st stage) of those who changed the answer from the first stage to the second stage;\n",
    "* N_CH - number of users who changed the answer from the first stage to the second stage;\n",
    "* P_CH - percentual of the users who changed the answer from the first stage to the second stage;\n",
    "* AVG_CONF_DS_NCH - the average of the confidence during the description stage (1st stage) of those who not changed the answer from the first stage to the second stage;\n",
    "* N_NCH - number of users who not changed the answer from the first stage to the second stage;\n",
    "* P_NCH - percentual of the users who not changed the answer from the first stage to the second stage."
   ]
  },
  {
   "cell_type": "code",
   "execution_count": 18,
   "metadata": {},
   "outputs": [
    {
     "data": {
      "application/vnd.jupyter.widget-view+json": {
       "model_id": "12a21d7b-e37b-4e27-b767-39a835f5a5f3",
       "version_major": 2,
       "version_minor": 0
      },
      "method": "display_data"
     },
     "metadata": {},
     "output_type": "display_data"
    }
   ],
   "source": [
    "DROP VIEW IF EXISTS ChangedHypDesc;\n",
    "CREATE VIEW ChangedHypDesc AS\n",
    "SELECT casen, ROUND(AVG(CONVERT(confidence_desc, DECIMAL)),2) AVG_confidence_desc_changed, COUNT(*) number_changed\n",
    "FROM DescEKGCases\n",
    "WHERE ctype = 'DF' AND answer_desc <> answer_ekg\n",
    "GROUP BY casen\n",
    "ORDER BY casen;\n",
    "\n",
    "DROP VIEW IF EXISTS NotChangedHypDesc;\n",
    "CREATE VIEW NotChangedHypDesc AS\n",
    "SELECT casen, ROUND(AVG(CONVERT(confidence_desc, DECIMAL)),2) AVG_confidence_desc_not_changed, COUNT(*) number_not_changed\n",
    "FROM DescEKGCases\n",
    "WHERE ctype = 'DF' AND answer_desc = answer_ekg\n",
    "GROUP BY casen\n",
    "ORDER BY casen;\n",
    "\n",
    "DROP VIEW IF EXISTS CompHypDesc;\n",
    "CREATE VIEW CompHypDesc AS\n",
    "SELECT CH.casen, CH.AVG_confidence_desc_changed AVG_CONF_DS_CH, CH.number_changed N_CH,\n",
    "                 ROUND(CONVERT(CH.number_changed, DECIMAL)*100 / (CH.number_changed+NT.number_not_changed), 2) AS P_CH,\n",
    "                 NT.AVG_confidence_desc_not_changed AVG_CONF_DS_NCH, NT.number_not_changed N_NCH,\n",
    "                 ROUND(CONVERT(NT.number_not_changed, DECIMAL)*100 / (CH.number_changed+NT.number_not_changed),2) AS P_NCH\n",
    "FROM ChangedHypDesc CH, NotChangedHypDesc NT\n",
    "WHERE CH.casen = NT.casen\n",
    "ORDER BY casen;\n",
    "\n",
    "SELECT * FROM CompHypDesc;"
   ]
  },
  {
   "cell_type": "markdown",
   "metadata": {},
   "source": [
    "* AVG_CONFIDENCE_DESC_CHANGED - the average of the confidence during the description stage (1st stage) of those who changed the answer from the first stage to the second stage  throughout the cases;\n",
    "* AVG_NUMBER_CHANGED - the average of the number of users who changed the answer from the first stage to the second stage throughout the cases;\n",
    "* PERCENT_CHANGED - the average of the percentual of the users who changed the answer from the first stage to the second stage throughout the cases;\n",
    "* AVG_CONFIDENCE_DESC_NOT_CHANGED - the average of the confidence of the cases during the description stage (1st stage) of those who not changed the answer from the first stage to the second stage throughout the cases;\n",
    "* AVG_NUMBER_NOT_CHANGED - the average of the number of users who not changed the answer from the first stage to the second stage throughout the cases;\n",
    "* PERCENT_NOT_CHANGED - the average of the percentual of the users who not changed the answer from the first stage to the second stage throughout the cases."
   ]
  },
  {
   "cell_type": "code",
   "execution_count": 19,
   "metadata": {},
   "outputs": [
    {
     "data": {
      "application/vnd.jupyter.widget-view+json": {
       "model_id": "7df36203-6d60-45f6-bff5-1e1528d1a3a7",
       "version_major": 2,
       "version_minor": 0
      },
      "method": "display_data"
     },
     "metadata": {},
     "output_type": "display_data"
    }
   ],
   "source": [
    "SELECT ROUND(AVG(AVG_CONF_DS_CH),2) AVG_confidence_desc_changed,\n",
    "       ROUND(AVG(CONVERT(N_CH, DECIMAL)),2) avg_number_changed,\n",
    "       ROUND(AVG(P_CH),2) avg_percent_changed,\n",
    "       ROUND(AVG(AVG_CONF_DS_NCH),2) AVG_confidence_desc_not_changed,\n",
    "       ROUND(AVG(CONVERT(N_NCH, DECIMAL)),2) avg_number_not_changed,\n",
    "       ROUND(AVG(P_NCH),2) avg_percent_not_changed\n",
    "FROM CompHypDesc;"
   ]
  },
  {
   "cell_type": "markdown",
   "metadata": {},
   "source": [
    "## EKG First\n",
    "\n",
    "* AVG_CONF_EKG_CH - the average of the confidence during the EKG stage (1st stage) of those who changed the answer from the first stage to the second stage;\n",
    "* N_CH - number of users who changed the answer from the first stage to the second stage;\n",
    "* P_CH - percentual of the users who changed the answer from the first stage to the second stage;\n",
    "* AVG_CONF_EKG_NCH - the average of the confidence during the EKG stage (1st stage) of those who not changed the answer from the first stage to the second stage;\n",
    "* N_NCH - number of users who not changed the answer from the first stage to the second stage;\n",
    "* P_NCH - percentual of the users who not changed the answer from the first stage to the second stage."
   ]
  },
  {
   "cell_type": "code",
   "execution_count": 20,
   "metadata": {},
   "outputs": [
    {
     "data": {
      "application/vnd.jupyter.widget-view+json": {
       "model_id": "95b2c1b9-fad4-43e5-81f1-1e5022e27c7b",
       "version_major": 2,
       "version_minor": 0
      },
      "method": "display_data"
     },
     "metadata": {},
     "output_type": "display_data"
    }
   ],
   "source": [
    "DROP VIEW IF EXISTS ChangedHypEKG;\n",
    "CREATE VIEW ChangedHypEKG AS\n",
    "SELECT casen, ROUND(AVG(CONVERT(confidence_ekg, DECIMAL)),2) AVG_confidence_ekg_changed, COUNT(*) number_changed\n",
    "FROM DescEKGCases\n",
    "WHERE ctype = 'EF' AND answer_ekg <> answer_desc\n",
    "GROUP BY casen\n",
    "ORDER BY casen;\n",
    "\n",
    "DROP VIEW IF EXISTS NotChangedHypEKG;\n",
    "CREATE VIEW NotChangedHypEKG AS\n",
    "SELECT casen, ROUND(AVG(CONVERT(confidence_ekg, DECIMAL)),2) AVG_confidence_ekg_not_changed, COUNT(*) number_not_changed\n",
    "FROM DescEKGCases\n",
    "WHERE ctype = 'EF' AND answer_ekg = answer_desc\n",
    "GROUP BY casen\n",
    "ORDER BY casen;\n",
    "\n",
    "DROP VIEW IF EXISTS CompHypEKG;\n",
    "CREATE VIEW CompHypEKG AS\n",
    "SELECT CH.casen, CH.AVG_confidence_ekg_changed AVG_CONF_EKG_CH, CH.number_changed N_CH,\n",
    "                 ROUND(CONVERT(CH.number_changed, DECIMAL)*100 / (CH.number_changed+NT.number_not_changed), 2) AS P_CH,\n",
    "                 NT.AVG_confidence_ekg_not_changed AVG_CONF_EKG_NCH, NT.number_not_changed N_NCH,\n",
    "                 ROUND(CONVERT(NT.number_not_changed, DECIMAL)*100 / (CH.number_changed+NT.number_not_changed),2) AS P_NCH\n",
    "FROM ChangedHypEKG CH, NotChangedHypEKG NT\n",
    "WHERE CH.casen = NT.casen\n",
    "ORDER BY casen;\n",
    "\n",
    "SELECT * FROM CompHypEKG;"
   ]
  },
  {
   "cell_type": "markdown",
   "metadata": {},
   "source": [
    "* AVG_CONFIDENCE_EKG_CHANGED - the average of the confidence during the EKG stage (1st stage) of those who changed the answer from the first stage to the second stage  throughout the cases;\n",
    "* AVG_NUMBER_CHANGED - the average of the number of users who changed the answer from the first stage to the second stage throughout the cases;\n",
    "* PERCENT_CHANGED - the average of the percentual of the users who changed the answer from the first stage to the second stage throughout the cases;\n",
    "* AVG_CONFIDENCE_EKG_NOT_CHANGED - the average of the confidence of the cases during the EKG stage (1st stage) of those who not changed the answer from the first stage to the second stage throughout the cases;\n",
    "* AVG_NUMBER_NOT_CHANGED - the average of the number of users who not changed the answer from the first stage to the second stage throughout the cases;\n",
    "* PERCENT_NOT_CHANGED - the average of the percentual of the users who not changed the answer from the first stage to the second stage throughout the cases."
   ]
  },
  {
   "cell_type": "code",
   "execution_count": 21,
   "metadata": {},
   "outputs": [
    {
     "data": {
      "application/vnd.jupyter.widget-view+json": {
       "model_id": "bc1db3c0-88c3-4f86-ade2-1c3bd4854867",
       "version_major": 2,
       "version_minor": 0
      },
      "method": "display_data"
     },
     "metadata": {},
     "output_type": "display_data"
    }
   ],
   "source": [
    "SELECT ROUND(AVG(AVG_CONF_EKG_CH),2) AVG_confidence_ekg_changed,\n",
    "       ROUND(AVG(CONVERT(N_CH, DECIMAL)),2) avg_number_changed,\n",
    "       ROUND(AVG(P_CH),2) avg_percent_changed,\n",
    "       ROUND(AVG(AVG_CONF_EKG_NCH),2) AVG_confidence_ekg_not_changed,\n",
    "       ROUND(AVG(CONVERT(N_NCH, DECIMAL)),2) avg_number_not_changed,\n",
    "       ROUND(AVG(P_NCH),2) avg_percent_not_changed\n",
    "FROM CompHypEKG;"
   ]
  },
  {
   "cell_type": "markdown",
   "metadata": {},
   "source": [
    "# Question 4\n",
    "\n",
    "The time to accomplish the first and second stages between the groups.\n",
    "\n",
    "# Question 5\n",
    "\n",
    "The time between the first and the second task.\n",
    "\n",
    "* DF_AVG_TIME_1ST - the average time to accomplish the first stage (description stage) for the description first users by case;\n",
    "* DF_AVG_TIME_2ND - the average time to accomplish the second stage (EKG stage) for the description first users by case;\n",
    "* EF_AVG_TIME_1ST - the average time to accomplish the first stage (EKG stage) for the EKG first users by case;\n",
    "* EF_AVG_TIME_2ND - the average time to accomplish the second stage (description stage) for the EKG first users by case."
   ]
  },
  {
   "cell_type": "code",
   "execution_count": 22,
   "metadata": {},
   "outputs": [
    {
     "data": {
      "application/vnd.jupyter.widget-view+json": {
       "model_id": "595a5397-b29c-4f07-8d6d-fb1bf52824b3",
       "version_major": 2,
       "version_minor": 0
      },
      "method": "display_data"
     },
     "metadata": {},
     "output_type": "display_data"
    }
   ],
   "source": [
    "DROP VIEW IF EXISTS TimeTasksDesc;\n",
    "CREATE VIEW TimeTasksDesc AS\n",
    "SELECT casen, AVG(time_desc) avg_time_1st_desc, AVG(time_ekg) avg_time_2nd_ekg\n",
    "FROM DescEKGCases\n",
    "WHERE ctype = 'DF'\n",
    "GROUP BY casen\n",
    "ORDER BY casen;\n",
    "\n",
    "DROP VIEW IF EXISTS TimeTasksEKG;\n",
    "CREATE VIEW TimeTasksEKG AS\n",
    "SELECT casen, AVG(time_ekg) avg_time_1st_ekg, AVG(time_desc) avg_time_2nd_desc\n",
    "FROM DescEKGCases\n",
    "WHERE ctype = 'EF'\n",
    "GROUP BY casen\n",
    "ORDER BY casen;\n",
    "\n",
    "SELECT DF.casen, ROUND(DF.avg_time_1st_desc, 2) df_avg_time_1st, ROUND(DF.avg_time_2nd_ekg, 2) df_avg_time_2nd,\n",
    "                 ROUND(EF.avg_time_1st_ekg, 2) ef_avg_time_1st, ROUND(EF.avg_time_2nd_desc, 2) ef_avg_time_2nd\n",
    "FROM TimeTasksDesc DF, TimeTasksEKG EF\n",
    "WHERE DF.casen = EF.casen;"
   ]
  },
  {
   "cell_type": "markdown",
   "metadata": {},
   "source": [
    "* DF_AVG_TIME_1ST_OVERALL - the average time to accomplish the first stage (description stage) for the description first users in all cases;\n",
    "* DF_AVG_TIME_2ND_OVERALL - the average time to accomplish the second stage (EKG stage) for the description first users in all cases;\n",
    "* EF_AVG_TIME_1ST_OVERALL - the average time to accomplish the first stage (EKG stage) for the EKG first users in all cases;\n",
    "* EF_AVG_TIME_2ND_OVERALL - the average time to accomplish the second stage (description stage) for the EKG first users in all cases."
   ]
  },
  {
   "cell_type": "code",
   "execution_count": 23,
   "metadata": {},
   "outputs": [
    {
     "data": {
      "application/vnd.jupyter.widget-view+json": {
       "model_id": "2650005f-ca74-41bf-af3d-66503b22448d",
       "version_major": 2,
       "version_minor": 0
      },
      "method": "display_data"
     },
     "metadata": {},
     "output_type": "display_data"
    }
   ],
   "source": [
    "DROP VIEW IF EXISTS TimeTasksDescOverall;\n",
    "CREATE VIEW TimeTasksDescOverall AS\n",
    "SELECT AVG(time_desc) avg_time_1st_desc, AVG(time_ekg) avg_time_2nd_ekg\n",
    "FROM DescEKGCases\n",
    "WHERE ctype = 'DF';\n",
    "\n",
    "DROP VIEW IF EXISTS TimeTasksEKGOverall;\n",
    "CREATE VIEW TimeTasksEKGOverall AS\n",
    "SELECT AVG(time_ekg) avg_time_1st_ekg, AVG(time_desc) avg_time_2nd_desc\n",
    "FROM DescEKGCases\n",
    "WHERE ctype = 'EF';\n",
    "\n",
    "SELECT ROUND(DF.avg_time_1st_desc, 2) df_avg_time_1st_overall, ROUND(DF.avg_time_2nd_ekg, 2) df_avg_time_2nd_overall,\n",
    "       ROUND(EF.avg_time_1st_ekg, 2) ef_avg_time_1st_overall, ROUND(EF.avg_time_2nd_desc, 2) ef_avg_time_2nd_overall\n",
    "FROM TimeTasksDescOverall DF, TimeTasksEKGOverall EF;"
   ]
  },
  {
   "cell_type": "markdown",
   "metadata": {},
   "source": [
    "The confidence in the answer to the first and second stages between the groups.\n",
    "\n",
    "* DF_AVG_CON_1ST - the average confidence in the answer to the first stage (description stage) for the description first users by case;\n",
    "* DF_AVG_CON_2ND - the average confidence in the answer to the second stage (EKG stage) for the description first users by case;\n",
    "* EF_AVG_CON_1ST - the average confidence in the answer to the first stage (EKG stage) for the EKG first users by case;\n",
    "* EF_AVG_CON_2ND - the average confidence in the answer to the second stage (description stage) for the EKG first users by case."
   ]
  },
  {
   "cell_type": "code",
   "execution_count": 24,
   "metadata": {},
   "outputs": [
    {
     "data": {
      "application/vnd.jupyter.widget-view+json": {
       "model_id": "562c2cb3-be5d-4f78-9a53-bdb5ff1b4b41",
       "version_major": 2,
       "version_minor": 0
      },
      "method": "display_data"
     },
     "metadata": {},
     "output_type": "display_data"
    }
   ],
   "source": [
    "DROP VIEW IF EXISTS ConfidenceTasksDesc;\n",
    "CREATE VIEW ConfidenceTasksDesc AS\n",
    "SELECT casen, AVG(CONVERT(confidence_desc, DECIMAL)) avg_confidence_1st_desc,\n",
    "              AVG(CONVERT(confidence_ekg, DECIMAL)) avg_confidence_2nd_ekg\n",
    "FROM DescEKGCases\n",
    "WHERE ctype = 'DF'\n",
    "GROUP BY casen\n",
    "ORDER BY casen;\n",
    "\n",
    "DROP VIEW IF EXISTS ConfidenceTasksEKG;\n",
    "CREATE VIEW ConfidenceTasksEKG AS\n",
    "SELECT casen, AVG(CONVERT(confidence_ekg, DECIMAL)) avg_confidence_1st_ekg,\n",
    "              AVG(CONVERT(confidence_desc, DECIMAL)) avg_confidence_2nd_desc\n",
    "FROM DescEKGCases\n",
    "WHERE ctype = 'EF'\n",
    "GROUP BY casen\n",
    "ORDER BY casen;\n",
    "\n",
    "SELECT DF.casen, ROUND(DF.avg_confidence_1st_desc,2) df_avg_con_1st,\n",
    "                 ROUND(DF.avg_confidence_2nd_ekg,2) df_avg_con_2nd,\n",
    "                 ROUND(EF.avg_confidence_1st_ekg,2) ef_avg_con_1st,\n",
    "                 ROUND(EF.avg_confidence_2nd_desc,2) ef_avg_con_2nd\n",
    "FROM ConfidenceTasksDesc DF, ConfidenceTasksEKG EF\n",
    "WHERE DF.casen = EF.casen;"
   ]
  },
  {
   "cell_type": "markdown",
   "metadata": {},
   "source": [
    "* DF_AVG_CON_1ST - the average confidence in the answer to the first stage (description stage) for the description first users in all cases;\n",
    "* DF_AVG_CON_2ND - the average confidence in the answer to the second stage (EKG stage) for the description first users in all cases;\n",
    "* EF_AVG_CON_1ST - the average confidence in the answer to the first stage (EKG stage) for the EKG first users in all cases;\n",
    "* EF_AVG_CON_2ND - the average confidence in the answer to the second stage (description stage) for the EKG first users in all cases."
   ]
  },
  {
   "cell_type": "code",
   "execution_count": 25,
   "metadata": {},
   "outputs": [
    {
     "data": {
      "application/vnd.jupyter.widget-view+json": {
       "model_id": "d1f26ecc-3f87-4271-b6a7-8cfa27e4cdca",
       "version_major": 2,
       "version_minor": 0
      },
      "method": "display_data"
     },
     "metadata": {},
     "output_type": "display_data"
    }
   ],
   "source": [
    "DROP VIEW IF EXISTS ConfidenceTasksDescOverall;\n",
    "CREATE VIEW ConfidenceTasksDescOverall AS\n",
    "SELECT AVG(CONVERT(confidence_desc, DECIMAL)) avg_confidence_1st_desc,\n",
    "       AVG(CONVERT(confidence_ekg, DECIMAL)) avg_confidence_2nd_ekg\n",
    "FROM DescEKGCases\n",
    "WHERE ctype = 'DF';\n",
    "                   \n",
    "DROP VIEW IF EXISTS ConfidenceTasksEKGOverall;\n",
    "CREATE VIEW ConfidenceTasksEKGOverall AS\n",
    "SELECT AVG(CONVERT(confidence_ekg, DECIMAL)) avg_confidence_1st_ekg,\n",
    "       AVG(CONVERT(confidence_desc, DECIMAL)) avg_confidence_2nd_desc\n",
    "FROM DescEKGCases\n",
    "WHERE ctype = 'EF';\n",
    "                   \n",
    "SELECT ROUND(DF.avg_confidence_1st_desc,2) df_avg_con_1st_overall,\n",
    "       ROUND(DF.avg_confidence_2nd_ekg,2) df_avg_con_2nd_overall,\n",
    "       ROUND(EF.avg_confidence_1st_ekg,2) ef_avg_con_1st_overall,\n",
    "       ROUND(EF.avg_confidence_2nd_desc,2) ef_avg_con_2nd_overall\n",
    "FROM ConfidenceTasksDescOverall DF, ConfidenceTasksEKGOverall EF;"
   ]
  }
 ],
 "metadata": {
  "kernelspec": {
   "display_name": "SQL",
   "language": "SQL",
   "name": "sql"
  },
  "language_info": {
   "codemirror_mode": "sql",
   "file_extension": ".sql",
   "mimetype": "",
   "name": "SQL",
   "nbconverter_exporter": "",
   "version": ""
  },
  "toc": {
   "base_numbering": 1,
   "nav_menu": {},
   "number_sections": false,
   "sideBar": false,
   "skip_h1_title": false,
   "title_cell": "Table of Contents",
   "title_sidebar": "Contents",
   "toc_cell": false,
   "toc_position": {},
   "toc_section_display": false,
   "toc_window_display": false
  }
 },
 "nbformat": 4,
 "nbformat_minor": 4
}
