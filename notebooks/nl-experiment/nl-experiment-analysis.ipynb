{
 "cells": [
  {
   "cell_type": "code",
   "execution_count": 1,
   "metadata": {},
   "outputs": [],
   "source": [
    "%defaultDatasource jdbc:h2:mem:db"
   ]
  },
  {
   "cell_type": "code",
   "execution_count": 2,
   "metadata": {},
   "outputs": [],
   "source": [
    "DROP TABLE IF EXISTS DescEKGCases;\n",
    "\n",
    "CREATE TABLE DescEKGCases (\n",
    "  ctype VARCHAR(2),\n",
    "  user INT,\n",
    "  casen VARCHAR(7),\n",
    "  answer_desc VARCHAR(200),\n",
    "  points_desc DECIMAL(3,1),\n",
    "  confidence_desc INT,\n",
    "  time_desc DECIMAL(8,2),\n",
    "  answer_ekg VARCHAR(200),\n",
    "  points_ekg DECIMAL(3,1),\n",
    "  confidence_ekg INT,\n",
    "  time_ekg DECIMAL(8,2),\n",
    "  PRIMARY KEY(user, casen)\n",
    ") AS SELECT *\n",
    "  FROM CSVREAD('../../resources/nl-experiment1/transformed-data/nl-experiment-01.csv');"
   ]
  },
  {
   "cell_type": "code",
   "execution_count": 3,
   "metadata": {},
   "outputs": [
    {
     "data": {
      "application/vnd.jupyter.widget-view+json": {
       "model_id": "9b4f2da4-cabf-46e8-b323-4a1acf573ecf",
       "version_major": 2,
       "version_minor": 0
      },
      "method": "display_data"
     },
     "metadata": {},
     "output_type": "display_data"
    }
   ],
   "source": [
    "SELECT * FROM DescEKGCases ORDER BY user, casen;"
   ]
  },
  {
   "cell_type": "markdown",
   "metadata": {},
   "source": [
    "# Overall Average of the Accuracy\n",
    "\n",
    "## For Description First\n",
    "\n",
    "* AVG_POINTS_DESC - avarage points of answer in the description stage (1st stage);\n",
    "* STD_POINTS_DESC - standard deviation of the points for the answers in the description stage (1st stage);\n",
    "* AVG_POINTS_EKG  - avarage points of answer in the EKG stage (2nd stage);\n",
    "* STD_POINTS_EKG - standard deviation of the points for the answers in the EKG stage (2nd stage)."
   ]
  },
  {
   "cell_type": "code",
   "execution_count": 4,
   "metadata": {},
   "outputs": [
    {
     "data": {
      "application/vnd.jupyter.widget-view+json": {
       "model_id": "5a67ef27-9f19-4edb-a133-5153e875b998",
       "version_major": 2,
       "version_minor": 0
      },
      "method": "display_data"
     },
     "metadata": {},
     "output_type": "display_data"
    }
   ],
   "source": [
    "SELECT ROUND(AVG(points_desc),2) AVG_points_desc, ROUND(STDDEV_SAMP(points_desc),2) STD_points_desc,\n",
    "       ROUND(AVG(points_ekg),2) AVG_points_ekg, ROUND(STDDEV_SAMP(points_ekg),2) STD_points_ekg\n",
    "FROM DescEKGCases\n",
    "WHERE ctype='DF';"
   ]
  },
  {
   "cell_type": "markdown",
   "metadata": {},
   "source": [
    "# For EKG First\n",
    "\n",
    "* AVG_POINTS_EKG  - avarage points of answer in the EKG stage (1st stage);\n",
    "* STD_POINTS_EKG - standard deviation of the points for the answers in the EKG stage (1st stage);\n",
    "* AVG_POINTS_DESC - avarage points of answer in the description stage (2nd stage);\n",
    "* STD_POINTS_DESC - standard deviation of the points for the answers in the description stage (2nd stage)."
   ]
  },
  {
   "cell_type": "code",
   "execution_count": 5,
   "metadata": {},
   "outputs": [
    {
     "data": {
      "application/vnd.jupyter.widget-view+json": {
       "model_id": "cdfaba82-0e40-433e-9abb-1c76cb221ab9",
       "version_major": 2,
       "version_minor": 0
      },
      "method": "display_data"
     },
     "metadata": {},
     "output_type": "display_data"
    }
   ],
   "source": [
    "SELECT ROUND(AVG(points_ekg),2) AVG_points_ekg, ROUND(STDDEV_SAMP(points_ekg),2) STD_points_ekg,\n",
    "       ROUND(AVG(points_desc),2) AVG_points_desc, ROUND(STDDEV_SAMP(points_desc),2) STD_points_desc\n",
    "FROM DescEKGCases\n",
    "WHERE ctype='EF';"
   ]
  },
  {
   "cell_type": "markdown",
   "metadata": {},
   "source": [
    "# Accuracy in the First and Second Task by Case\n",
    "## For Description First\n",
    "\n",
    "* AVG_POINTS_DESC - average points of the answer in the description stage (1st stage);\n",
    "* STD_POINTS_DESC - standard deviation of the points for the answers in the description stage (1st stage);\n",
    "* AVG_POINTS_EKG  - average points of the answer in the EKG stage (2nd stage);\n",
    "* STD_POINTS_EKG - standard deviation of the points for the answers in the EKG stage (2nd stage)."
   ]
  },
  {
   "cell_type": "code",
   "execution_count": 6,
   "metadata": {},
   "outputs": [
    {
     "data": {
      "application/vnd.jupyter.widget-view+json": {
       "model_id": "f4897ed3-d717-4edb-983b-eb5cf62cb80b",
       "version_major": 2,
       "version_minor": 0
      },
      "method": "display_data"
     },
     "metadata": {},
     "output_type": "display_data"
    }
   ],
   "source": [
    "SELECT casen, ROUND(AVG(points_desc),2) AVG_points_desc, ROUND(STDDEV_SAMP(points_desc),2) STD_points_desc,\n",
    "              ROUND(AVG(points_ekg),2) AVG_points_ekg, ROUND(STDDEV_SAMP(points_ekg),2) STD_points_ekg\n",
    "FROM DescEKGCases\n",
    "WHERE ctype='DF'\n",
    "GROUP BY casen\n",
    "ORDER BY casen;"
   ]
  },
  {
   "cell_type": "markdown",
   "metadata": {},
   "source": [
    "# For EKG First\n",
    "\n",
    "* AVG_POINTS_EKG  - average points of the answer in the EKG stage (1st stage);\n",
    "* STD_POINTS_EKG - standard deviation of the points for the answers in the EKG stage (1st stage);\n",
    "* AVG_POINTS_DESC - average points of the answer in the description stage (2nd stage);\n",
    "* STD_POINTS_DESC - standard deviation of the points for the answers in the description stage (2nd stage)."
   ]
  },
  {
   "cell_type": "code",
   "execution_count": 7,
   "metadata": {},
   "outputs": [
    {
     "data": {
      "application/vnd.jupyter.widget-view+json": {
       "model_id": "f405994a-532b-4a1b-bcc4-7dc9ce7d0521",
       "version_major": 2,
       "version_minor": 0
      },
      "method": "display_data"
     },
     "metadata": {},
     "output_type": "display_data"
    }
   ],
   "source": [
    "SELECT casen, ROUND(AVG(points_ekg),2) AVG_points_ekg, ROUND(STDDEV_SAMP(points_ekg),2) STD_points_ekg,\n",
    "              ROUND(AVG(points_desc),2) AVG_points_desc, ROUND(STDDEV_SAMP(points_desc),2) STD_points_desc\n",
    "FROM DescEKGCases\n",
    "WHERE ctype='EF'\n",
    "GROUP BY casen\n",
    "ORDER BY casen;"
   ]
  },
  {
   "cell_type": "markdown",
   "metadata": {},
   "source": [
    "# Average According to the Success of Attempts\n",
    "## Wrong to Right\n",
    "### For Description First\n",
    "Attempts that were wrong at the beginning (accuracy below 1) and became right (accuracy equal 1).\n",
    "\n",
    "* NUMBER_ATTEMPTS - number of attempts that were wrong in the beginning and became right;\n",
    "* AVG_TIME_DESC - average time to answer in the description stage (1st stage);\n",
    "* AVG_CONFIDENCE_DESC - average confidence of the answers given in the description stage (1st stage);\n",
    "* AVG_TIME_EKG - average time to answer in the EKG stage (2nd stage);\n",
    "* AVG_CONFIDENCE_EKG - average confidence of the answers given in the EKG stage (2nd stage)."
   ]
  },
  {
   "cell_type": "code",
   "execution_count": 8,
   "metadata": {},
   "outputs": [
    {
     "data": {
      "application/vnd.jupyter.widget-view+json": {
       "model_id": "a6b1f9b3-c7c6-49a6-b33d-40672efd361b",
       "version_major": 2,
       "version_minor": 0
      },
      "method": "display_data"
     },
     "metadata": {},
     "output_type": "display_data"
    }
   ],
   "source": [
    "SELECT COUNT(*) Number_Attempts, ROUND(AVG(time_desc),2) AVG_Time_Desc, AVG(confidence_desc) AVG_Confidence_Desc,\n",
    "                                 ROUND(AVG(time_ekg),2) AVG_Time_EKG, AVG(confidence_ekg) AVG_Confidence_EKG\n",
    "FROM DescEKGCases\n",
    "WHERE ctype='DF' AND points_desc < 1 AND points_ekg = 1;"
   ]
  },
  {
   "cell_type": "markdown",
   "metadata": {},
   "source": [
    "### For EKG First\n",
    "Attempts that were wrong at the beginning (accuracy below 1) and became right (accuracy equal 1).\n",
    "\n",
    "* NUMBER_ATTEMPTS - number of attempts that were wrong in the beginning and became right;\n",
    "* AVG_TIME_EKG - average time to answer in the EKG stage (1st stage);\n",
    "* AVG_CONFIDENCE_EKG - average confidence of the answers given in the EKG stage (1st stage);\n",
    "* AVG_TIME_DESC - average time to answer in the description stage (2nd stage);\n",
    "* AVG_CONFIDENCE_DESC - average confidence of the answers given in the description stage (2nd stage)."
   ]
  },
  {
   "cell_type": "code",
   "execution_count": 9,
   "metadata": {},
   "outputs": [
    {
     "data": {
      "application/vnd.jupyter.widget-view+json": {
       "model_id": "a1814499-80d6-411e-b39c-b59610d1a3f7",
       "version_major": 2,
       "version_minor": 0
      },
      "method": "display_data"
     },
     "metadata": {},
     "output_type": "display_data"
    }
   ],
   "source": [
    "SELECT COUNT(*) Number_Attempts, ROUND(AVG(time_ekg),2) AVG_Time_EKG, AVG(confidence_ekg) AVG_Confidence_EKG,\n",
    "                                 ROUND(AVG(time_desc),2) AVG_Time_Desc, AVG(confidence_desc) AVG_Confidence_Desc\n",
    "FROM DescEKGCases\n",
    "WHERE ctype='EF' AND points_ekg < 1 AND points_desc = 1;"
   ]
  },
  {
   "cell_type": "markdown",
   "metadata": {},
   "source": [
    "## Wrong stays Wrong\n",
    "### For Description First\n",
    "\n",
    "Attempts that were wrong at the beginning (accuracy below 1) and stayed wrong (accuracy below 1).\n",
    "\n",
    "* NUMBER_ATTEMPTS - number of attempts that were wrong in the beginning and stayed wrong."
   ]
  },
  {
   "cell_type": "code",
   "execution_count": 10,
   "metadata": {},
   "outputs": [
    {
     "data": {
      "application/vnd.jupyter.widget-view+json": {
       "model_id": "42139f91-301f-4618-bff9-d138ecf44fad",
       "version_major": 2,
       "version_minor": 0
      },
      "method": "display_data"
     },
     "metadata": {},
     "output_type": "display_data"
    }
   ],
   "source": [
    "SELECT COUNT(*) Number_Attempts, ROUND(AVG(time_desc),2) AVG_Time_Desc, AVG(confidence_desc) AVG_Confidence_Desc,\n",
    "                                 ROUND(AVG(time_ekg),2) AVG_Time_EKG, AVG(confidence_ekg) AVG_Confidence_EKG\n",
    "FROM DescEKGCases\n",
    "WHERE ctype='DF' AND points_desc < 1 AND points_ekg < 1;"
   ]
  },
  {
   "cell_type": "markdown",
   "metadata": {},
   "source": [
    "### For EKG First"
   ]
  },
  {
   "cell_type": "code",
   "execution_count": 11,
   "metadata": {},
   "outputs": [
    {
     "data": {
      "application/vnd.jupyter.widget-view+json": {
       "model_id": "2f079d2e-ce42-4f37-b273-4bfb7f07682f",
       "version_major": 2,
       "version_minor": 0
      },
      "method": "display_data"
     },
     "metadata": {},
     "output_type": "display_data"
    }
   ],
   "source": [
    "SELECT COUNT(*) Number_Attempts, ROUND(AVG(time_ekg),2) AVG_Time_EKG, AVG(confidence_ekg) AVG_Confidence_EKG,\n",
    "                                 ROUND(AVG(time_desc),2) AVG_Time_Desc, AVG(confidence_desc) AVG_Confidence_Desc\n",
    "FROM DescEKGCases\n",
    "WHERE ctype='EF' AND points_ekg < 1 AND points_desc < 1;"
   ]
  },
  {
   "cell_type": "markdown",
   "metadata": {},
   "source": [
    "## Right stays Right\n",
    "### For Description First\n",
    "\n",
    "Attempts that were right at the beginning (accuracy equal 1) and stayed right (accuracy equal 1).\n",
    "\n",
    "* NUMBER_ATTEMPTS - number of attempts that were right in the beginning and stayed right."
   ]
  },
  {
   "cell_type": "code",
   "execution_count": 12,
   "metadata": {},
   "outputs": [
    {
     "data": {
      "application/vnd.jupyter.widget-view+json": {
       "model_id": "9ff745f1-b539-416e-a659-0bed71def6ca",
       "version_major": 2,
       "version_minor": 0
      },
      "method": "display_data"
     },
     "metadata": {},
     "output_type": "display_data"
    }
   ],
   "source": [
    "SELECT COUNT(*) Number_Attempts, ROUND(AVG(time_desc),2) AVG_Time_Desc, AVG(confidence_desc) AVG_Confidence_Desc,\n",
    "                                 ROUND(AVG(time_ekg),2) AVG_Time_EKG, AVG(confidence_ekg) AVG_Confidence_EKG\n",
    "FROM DescEKGCases\n",
    "WHERE ctype='DF' AND points_desc = 1 AND points_ekg = 1;"
   ]
  },
  {
   "cell_type": "markdown",
   "metadata": {},
   "source": [
    "### For EKG First"
   ]
  },
  {
   "cell_type": "code",
   "execution_count": 13,
   "metadata": {},
   "outputs": [
    {
     "data": {
      "application/vnd.jupyter.widget-view+json": {
       "model_id": "6e2d5999-793a-49b3-aad7-3a89671baf82",
       "version_major": 2,
       "version_minor": 0
      },
      "method": "display_data"
     },
     "metadata": {},
     "output_type": "display_data"
    }
   ],
   "source": [
    "SELECT COUNT(*) Number_Attempts, ROUND(AVG(time_ekg),2) AVG_Time_EKG, AVG(confidence_ekg) AVG_Confidence_EKG,\n",
    "                                 ROUND(AVG(time_desc),2) AVG_Time_Desc, AVG(confidence_desc) AVG_Confidence_Desc\n",
    "FROM DescEKGCases\n",
    "WHERE ctype='EF' AND points_ekg = 1 AND points_desc = 1;"
   ]
  },
  {
   "cell_type": "markdown",
   "metadata": {},
   "source": [
    "# Question 01\n",
    "The order of the presentation affects the confidence.\n",
    "\n",
    "## For Description First\n",
    "\n",
    "* AVG_CONFIDENCE_DESC - average confidence of the answers given in the description stage (1st stage);\n",
    "* AVG_CONFIDENCE_EKG - average confidence of the answers given in the EKG stage (2nd stage).\n",
    "* AVG_CONFIDENCE_OVERALL - average confidence of the answers in both stages."
   ]
  },
  {
   "cell_type": "code",
   "execution_count": 14,
   "metadata": {},
   "outputs": [
    {
     "data": {
      "application/vnd.jupyter.widget-view+json": {
       "model_id": "9a017a4b-39c6-4fb4-bc2d-1a8b28e98c38",
       "version_major": 2,
       "version_minor": 0
      },
      "method": "display_data"
     },
     "metadata": {},
     "output_type": "display_data"
    }
   ],
   "source": [
    "SELECT AVG(confidence_desc) AVG_confidence_desc, AVG(confidence_ekg) AVG_confidence_ekg,\n",
    "       ((AVG(confidence_desc) + AVG(confidence_ekg)) / 2) AS AVG_Overall\n",
    "FROM DescEKGCases\n",
    "WHERE ctype = 'DF';"
   ]
  },
  {
   "cell_type": "markdown",
   "metadata": {},
   "source": [
    "## For EKG First\n",
    "\n",
    "* AVG_CONFIDENCE_EKG - average confidence of the answers given in the EKG stage (1st stage).\n",
    "* AVG_CONFIDENCE_DESC - average confidence of the answers given in the description stage (2nd stage);\n",
    "* AVG_CONFIDENCE_OVERALL - average confidence of the answers in both stages."
   ]
  },
  {
   "cell_type": "code",
   "execution_count": 15,
   "metadata": {},
   "outputs": [
    {
     "data": {
      "application/vnd.jupyter.widget-view+json": {
       "model_id": "c16800ea-14d9-4091-911d-1971944843a7",
       "version_major": 2,
       "version_minor": 0
      },
      "method": "display_data"
     },
     "metadata": {},
     "output_type": "display_data"
    }
   ],
   "source": [
    "SELECT AVG(confidence_ekg) AVG_confidence_ekg, AVG(confidence_desc) AVG_confidence_desc,\n",
    "       ((AVG(confidence_desc) + AVG(confidence_ekg)) / 2) AS AVG_Overall\n",
    "FROM DescEKGCases\n",
    "WHERE ctype = 'EF';"
   ]
  },
  {
   "cell_type": "markdown",
   "metadata": {},
   "source": [
    "# Question 02\n",
    "The confidence score in the first stage affects the time it takes to accomplish the task in the second stage.\n",
    "\n",
    "## For Description First\n",
    "* AVG_CONFIDENCE_DESC - average confidence of the answers given in the description stage (1st stage) grouped per case;\n",
    "* AVG_TIME_EKG - average time to give the answers in the EKG stage (2nd stage) grouped per case;\n",
    "\n",
    "\n",
    "* AVG_CONFIDENCE_DESC_OVERALL - average confidence of the answers given in the description stage (1st stage) in all cases;\n",
    "* AVG_TIME_EKG_OVERALL - average time to give the answers in the EKG stage (2nd stage) in all cases."
   ]
  },
  {
   "cell_type": "code",
   "execution_count": 21,
   "metadata": {},
   "outputs": [
    {
     "data": {
      "application/vnd.jupyter.widget-view+json": {
       "model_id": "3a1bf82a-b69c-496f-904d-89bcebcabb19",
       "version_major": 2,
       "version_minor": 0
      },
      "method": "display_data"
     },
     "metadata": {},
     "output_type": "display_data"
    },
    {
     "data": {
      "application/vnd.jupyter.widget-view+json": {
       "model_id": "cf199930-b098-43d9-a6d3-9998e195c7d5",
       "version_major": 2,
       "version_minor": 0
      },
      "method": "display_data"
     },
     "metadata": {},
     "output_type": "display_data"
    }
   ],
   "source": [
    "SELECT casen, AVG(confidence_desc) AVG_confidence_desc, ROUND(AVG(time_ekg),2) AVG_time_ekg\n",
    "FROM DescEKGCases\n",
    "WHERE ctype = 'DF'\n",
    "GROUP BY casen\n",
    "ORDER BY casen;\n",
    "\n",
    "SELECT AVG(confidence_desc) AVG_confidence_desc_overall, ROUND(AVG(time_ekg),2) AVG_time_ekg_overall\n",
    "FROM DescEKGCases\n",
    "WHERE ctype = 'DF';"
   ]
  },
  {
   "cell_type": "markdown",
   "metadata": {},
   "source": [
    "## For EKG First\n",
    "* AVG_CONFIDENCE_EKG - average confidence of the answers given in the EKG stage (1st stage) grouped per case;\n",
    "* AVG_TIME_DESC - average time to give the answers in the description stage (2nd stage) grouped per case;\n",
    "\n",
    "\n",
    "* AVG_CONFIDENCE_EKG_OVERALL - average confidence of the answers given in the EKG stage (1st stage) in all cases;\n",
    "* AVG_TIME_DESC_OVERALL - average time to give the answers in the description stage (2nd stage) in all cases."
   ]
  },
  {
   "cell_type": "code",
   "execution_count": 22,
   "metadata": {},
   "outputs": [
    {
     "data": {
      "application/vnd.jupyter.widget-view+json": {
       "model_id": "d92959a1-7d5d-4aad-b0d0-c6454eca83d8",
       "version_major": 2,
       "version_minor": 0
      },
      "method": "display_data"
     },
     "metadata": {},
     "output_type": "display_data"
    },
    {
     "data": {
      "application/vnd.jupyter.widget-view+json": {
       "model_id": "326f6670-db31-469d-8d12-db5611e19ae2",
       "version_major": 2,
       "version_minor": 0
      },
      "method": "display_data"
     },
     "metadata": {},
     "output_type": "display_data"
    }
   ],
   "source": [
    "SELECT casen, AVG(confidence_ekg) AVG_confidence_ekg, ROUND(AVG(time_desc),2) AVG_time_desc\n",
    "FROM DescEKGCases\n",
    "WHERE ctype = 'EF'\n",
    "GROUP BY casen\n",
    "ORDER BY casen;\n",
    "\n",
    "SELECT AVG(confidence_ekg) AVG_confidence_ekg_overall, ROUND(AVG(time_desc),2) AVG_time_desc_overall\n",
    "FROM DescEKGCases\n",
    "WHERE ctype = 'EF';"
   ]
  },
  {
   "cell_type": "markdown",
   "metadata": {},
   "source": [
    "# Question 3\n",
    "\n",
    "The confidence score in the first stage will influence the probability of changing the hypothesis.\n",
    "\n",
    "## Description First"
   ]
  },
  {
   "cell_type": "code",
   "execution_count": null,
   "metadata": {},
   "outputs": [],
   "source": [
    "SELECT casen, AVG(confidence_desc) AVG_confidence_desc, COUNT(*)\n",
    "FROM DescEKGCases\n",
    "WHERE ctype = 'DF'\n",
    "GROUP BY casen\n",
    "ORDER BY casen;\n",
    "\n",
    "SELECT AVG(confidence_desc) AVG_confidence_desc_overall, ROUND(AVG(time_ekg),2) AVG_time_ekg_overall\n",
    "FROM DescEKGCases\n",
    "WHERE ctype = 'DF';"
   ]
  },
  {
   "cell_type": "markdown",
   "metadata": {},
   "source": [
    "### AVG confidence for same answer"
   ]
  },
  {
   "cell_type": "code",
   "execution_count": null,
   "metadata": {},
   "outputs": [],
   "source": [
    "SELECT D1.casen, AVG(confidence) AVG_confidence, COUNT(*)\n",
    "FROM First_Answer_DF D1, Second_Answer_DF D2\n",
    "WHERE D1.user = D2.user AND D1.casen = D2.casen AND First_Answer = Second_Answer\n",
    "GROUP BY D1.casen;"
   ]
  },
  {
   "cell_type": "markdown",
   "metadata": {},
   "source": [
    "### AVG confidence for different answer"
   ]
  },
  {
   "cell_type": "code",
   "execution_count": null,
   "metadata": {},
   "outputs": [],
   "source": [
    "SELECT D1.casen, AVG(confidence) AVG_confidence, COUNT(*)\n",
    "FROM First_Answer_DF D1, Second_Answer_DF D2\n",
    "WHERE D1.user = D2.user AND D1.casen = D2.casen AND First_Answer <> Second_Answer\n",
    "GROUP BY D1.casen;"
   ]
  },
  {
   "cell_type": "markdown",
   "metadata": {},
   "source": [
    "## EKG First"
   ]
  },
  {
   "cell_type": "code",
   "execution_count": null,
   "metadata": {},
   "outputs": [],
   "source": [
    "DROP VIEW IF EXISTS First_Answer_EF;\n",
    "CREATE VIEW First_Answer_EF AS\n",
    "SELECT user, casen, answer First_Answer, confidence\n",
    "FROM DescEKGCases\n",
    "WHERE stage = 'EKG Hypothesis' AND ctype = 'EF';\n",
    "\n",
    "DROP VIEW IF EXISTS Second_Answer_EF;\n",
    "CREATE VIEW Second_Answer_EF AS\n",
    "SELECT user, casen, answer Second_Answer\n",
    "FROM DescEKGCases\n",
    "WHERE stage = 'Description Hypothesis' AND ctype = 'EF';\n",
    "\n",
    "SELECT E1.user, E1.casen, First_Answer, confidence, Second_Answer\n",
    "FROM First_Answer_EF E1, Second_Answer_EF E2\n",
    "WHERE E1.user = E2.user AND E1.casen = E2.casen;"
   ]
  },
  {
   "cell_type": "markdown",
   "metadata": {},
   "source": [
    "### AVG confidence for same answer"
   ]
  },
  {
   "cell_type": "code",
   "execution_count": null,
   "metadata": {},
   "outputs": [],
   "source": [
    "SELECT E1.casen, AVG(confidence) AVG_confidence, COUNT(*)\n",
    "FROM First_Answer_EF E1, Second_Answer_EF E2\n",
    "WHERE E1.user = E2.user AND E1.casen = E2.casen AND First_Answer = Second_Answer\n",
    "GROUP BY E1.casen;"
   ]
  },
  {
   "cell_type": "markdown",
   "metadata": {},
   "source": [
    "### AVG confidence for different answer"
   ]
  },
  {
   "cell_type": "code",
   "execution_count": null,
   "metadata": {},
   "outputs": [],
   "source": [
    "SELECT E1.casen, AVG(confidence) AVG_confidence, COUNT(*)\n",
    "FROM First_Answer_EF E1, Second_Answer_EF E2\n",
    "WHERE E1.user = E2.user AND E1.casen = E2.casen AND First_Answer <> Second_Answer\n",
    "GROUP BY E1.casen;"
   ]
  },
  {
   "cell_type": "markdown",
   "metadata": {},
   "source": [
    "# Question 4\n",
    "\n",
    "The time to accomplish the first task between the groups."
   ]
  },
  {
   "cell_type": "code",
   "execution_count": null,
   "metadata": {},
   "outputs": [],
   "source": [
    "DROP VIEW IF EXISTS Confidence_AVG_DF;\n",
    "CREATE VIEW Confidence_AVG_DF AS\n",
    "SELECT casen, AVG(time) AVG_Time_Description_First\n",
    "FROM DescEKGCases\n",
    "WHERE ctype='DF' AND stage = 'Description Hypothesis'\n",
    "GROUP BY casen\n",
    "ORDER BY casen;\n",
    "\n",
    "DROP VIEW IF EXISTS Confidence_AVG_EF;\n",
    "CREATE VIEW Confidence_AVG_EF AS\n",
    "SELECT casen, AVG(time) AVG_Time_EKG_First\n",
    "FROM DescEKGCases\n",
    "WHERE ctype='EF' AND stage = 'EKG Hypothesis'\n",
    "GROUP BY casen\n",
    "ORDER BY casen;\n",
    "\n",
    "SELECT DF.casen, AVG_Time_Description_First, AVG_Time_EKG_First\n",
    "FROM Confidence_AVG_DF DF, Confidence_AVG_EF EF\n",
    "WHERE DF.casen = EF.casen;"
   ]
  },
  {
   "cell_type": "markdown",
   "metadata": {},
   "source": [
    "# Time in the EKG"
   ]
  },
  {
   "cell_type": "code",
   "execution_count": null,
   "metadata": {},
   "outputs": [],
   "source": [
    "DROP VIEW IF EXISTS Confidence_AVG_DF;\n",
    "CREATE VIEW Confidence_AVG_DF AS\n",
    "SELECT casen, AVG(time) AVG_Time_Description_First\n",
    "FROM DescEKGCases\n",
    "WHERE ctype='DF' AND stage = 'EKG Hypothesis'\n",
    "GROUP BY casen\n",
    "ORDER BY casen;\n",
    "\n",
    "DROP VIEW IF EXISTS Confidence_AVG_EF;\n",
    "CREATE VIEW Confidence_AVG_EF AS\n",
    "SELECT casen, AVG(time) AVG_Time_EKG_First\n",
    "FROM DescEKGCases\n",
    "WHERE ctype='EF' AND stage = 'EKG Hypothesis'\n",
    "GROUP BY casen\n",
    "ORDER BY casen;\n",
    "\n",
    "SELECT DF.casen, AVG_Time_Description_First, AVG_Time_EKG_First\n",
    "FROM Confidence_AVG_DF DF, Confidence_AVG_EF EF\n",
    "WHERE DF.casen = EF.casen;"
   ]
  },
  {
   "cell_type": "markdown",
   "metadata": {},
   "source": [
    "# Time in the Description"
   ]
  },
  {
   "cell_type": "code",
   "execution_count": null,
   "metadata": {},
   "outputs": [],
   "source": [
    "DROP VIEW IF EXISTS Confidence_AVG_DF;\n",
    "CREATE VIEW Confidence_AVG_DF AS\n",
    "SELECT casen, AVG(time) AVG_Time_Description_First\n",
    "FROM DescEKGCases\n",
    "WHERE ctype='DF' AND stage = 'Description Hypothesis'\n",
    "GROUP BY casen\n",
    "ORDER BY casen;\n",
    "\n",
    "DROP VIEW IF EXISTS Confidence_AVG_EF;\n",
    "CREATE VIEW Confidence_AVG_EF AS\n",
    "SELECT casen, AVG(time) AVG_Time_EKG_First\n",
    "FROM DescEKGCases\n",
    "WHERE ctype='EF' AND stage = 'Description Hypothesis'\n",
    "GROUP BY casen\n",
    "ORDER BY casen;\n",
    "\n",
    "SELECT DF.casen, AVG_Time_Description_First, AVG_Time_EKG_First\n",
    "FROM Confidence_AVG_DF DF, Confidence_AVG_EF EF\n",
    "WHERE DF.casen = EF.casen;"
   ]
  },
  {
   "cell_type": "markdown",
   "metadata": {},
   "source": [
    "# AVG confidence first task"
   ]
  },
  {
   "cell_type": "code",
   "execution_count": null,
   "metadata": {},
   "outputs": [],
   "source": [
    "DROP VIEW IF EXISTS Confidence_AVG_DF;\n",
    "CREATE VIEW Confidence_AVG_DF AS\n",
    "SELECT casen, AVG(confidence) AVG_Confidence_Description_First\n",
    "FROM DescEKGCases\n",
    "WHERE ctype='DF' AND stage = 'Description Hypothesis'\n",
    "GROUP BY casen\n",
    "ORDER BY casen;\n",
    "\n",
    "DROP VIEW IF EXISTS Confidence_AVG_EF;\n",
    "CREATE VIEW Confidence_AVG_EF AS\n",
    "SELECT casen, AVG(confidence) AVG_Confidence_EKG_First\n",
    "FROM DescEKGCases\n",
    "WHERE ctype='EF' AND stage = 'EKG Hypothesis'\n",
    "GROUP BY casen\n",
    "ORDER BY casen;\n",
    "\n",
    "SELECT DF.casen, AVG_Confidence_Description_First, AVG_Confidence_EKG_First\n",
    "FROM Confidence_AVG_DF DF, Confidence_AVG_EF EF\n",
    "WHERE DF.casen = EF.casen;"
   ]
  },
  {
   "cell_type": "markdown",
   "metadata": {},
   "source": [
    "# AVG confidence second task"
   ]
  },
  {
   "cell_type": "code",
   "execution_count": null,
   "metadata": {},
   "outputs": [],
   "source": [
    "DROP VIEW IF EXISTS Confidence_AVG_DF;\n",
    "CREATE VIEW Confidence_AVG_DF AS\n",
    "SELECT casen, AVG(confidence) AVG_Confidence_Description_First\n",
    "FROM DescEKGCases\n",
    "WHERE ctype='DF' AND stage = 'EKG Hypothesis'\n",
    "GROUP BY casen\n",
    "ORDER BY casen;\n",
    "\n",
    "DROP VIEW IF EXISTS Confidence_AVG_EF;\n",
    "CREATE VIEW Confidence_AVG_EF AS\n",
    "SELECT casen, AVG(confidence) AVG_Confidence_EKG_First\n",
    "FROM DescEKGCases\n",
    "WHERE ctype='EF' AND stage = 'Description Hypothesis'\n",
    "GROUP BY casen\n",
    "ORDER BY casen;\n",
    "\n",
    "SELECT DF.casen, AVG_Confidence_Description_First, AVG_Confidence_EKG_First\n",
    "FROM Confidence_AVG_DF DF, Confidence_AVG_EF EF\n",
    "WHERE DF.casen = EF.casen;"
   ]
  },
  {
   "cell_type": "markdown",
   "metadata": {},
   "source": [
    "# Question 5\n",
    "\n",
    "The time between the first and the second task.\n",
    "\n",
    "## Description First"
   ]
  },
  {
   "cell_type": "code",
   "execution_count": null,
   "metadata": {},
   "outputs": [],
   "source": [
    "DROP VIEW IF EXISTS Confidence_AVG_Task1_DF;\n",
    "CREATE VIEW Confidence_AVG_Task1_DF AS\n",
    "SELECT casen, AVG(time) AVG_Time_Task1\n",
    "FROM DescEKGCases\n",
    "WHERE ctype='DF' AND stage = 'Description Hypothesis'\n",
    "GROUP BY casen\n",
    "ORDER BY casen;\n",
    "\n",
    "DROP VIEW IF EXISTS Confidence_AVG_Task2_DF;\n",
    "CREATE VIEW Confidence_AVG_Task2_DF AS\n",
    "SELECT casen, AVG(time) AVG_Time_Task2\n",
    "FROM DescEKGCases\n",
    "WHERE ctype='DF' AND stage = 'EKG Hypothesis'\n",
    "GROUP BY casen\n",
    "ORDER BY casen;\n",
    "\n",
    "SELECT T1.casen, AVG_Time_Task1, AVG_Time_Task2\n",
    "FROM Confidence_AVG_Task1_DF T1, Confidence_AVG_Task2_DF T2\n",
    "WHERE T1.casen = T2.casen;"
   ]
  },
  {
   "cell_type": "markdown",
   "metadata": {},
   "source": [
    "## EKG First"
   ]
  },
  {
   "cell_type": "code",
   "execution_count": null,
   "metadata": {},
   "outputs": [],
   "source": [
    "DROP VIEW IF EXISTS Confidence_AVG_Task1_EF;\n",
    "CREATE VIEW Confidence_AVG_Task1_EF AS\n",
    "SELECT casen, AVG(time) AVG_Time_Task1\n",
    "FROM DescEKGCases\n",
    "WHERE ctype='EF' AND stage = 'EKG Hypothesis'\n",
    "GROUP BY casen\n",
    "ORDER BY casen;\n",
    "\n",
    "DROP VIEW IF EXISTS Confidence_AVG_Task2_EF;\n",
    "CREATE VIEW Confidence_AVG_Task2_EF AS\n",
    "SELECT casen, AVG(time) AVG_Time_Task2\n",
    "FROM DescEKGCases\n",
    "WHERE ctype='EF' AND stage = 'Description Hypothesis'\n",
    "GROUP BY casen\n",
    "ORDER BY casen;\n",
    "\n",
    "SELECT T1.casen, AVG_Time_Task1, AVG_Time_Task2\n",
    "FROM Confidence_AVG_Task1_EF T1, Confidence_AVG_Task2_EF T2\n",
    "WHERE T1.casen = T2.casen;"
   ]
  },
  {
   "cell_type": "markdown",
   "metadata": {},
   "source": [
    "# Question 6\n",
    "\n",
    "The confidence level in the interpretation of EKG can indicate their proficiency."
   ]
  }
 ],
 "metadata": {
  "kernelspec": {
   "display_name": "SQL",
   "language": "SQL",
   "name": "sql"
  },
  "language_info": {
   "codemirror_mode": "sql",
   "file_extension": ".sql",
   "mimetype": "",
   "name": "SQL",
   "nbconverter_exporter": "",
   "version": ""
  },
  "toc": {
   "base_numbering": 1,
   "nav_menu": {},
   "number_sections": false,
   "sideBar": false,
   "skip_h1_title": false,
   "title_cell": "Table of Contents",
   "title_sidebar": "Contents",
   "toc_cell": false,
   "toc_position": {},
   "toc_section_display": false,
   "toc_window_display": false
  }
 },
 "nbformat": 4,
 "nbformat_minor": 2
}
