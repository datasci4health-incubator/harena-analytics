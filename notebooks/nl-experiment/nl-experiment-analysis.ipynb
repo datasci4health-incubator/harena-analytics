{
 "cells": [
  {
   "cell_type": "code",
   "execution_count": 1,
   "metadata": {},
   "outputs": [],
   "source": [
    "%defaultDatasource jdbc:h2:mem:db"
   ]
  },
  {
   "cell_type": "code",
   "execution_count": 2,
   "metadata": {},
   "outputs": [],
   "source": [
    "DROP TABLE IF EXISTS DescEKGCases;\n",
    "\n",
    "CREATE TABLE DescEKGCases (\n",
    "  ctype VARCHAR(2),\n",
    "  user INT,\n",
    "  casen VARCHAR(7),\n",
    "  answer_desc VARCHAR(200),\n",
    "  points_desc DECIMAL(3,1),\n",
    "  confidence_desc INT,\n",
    "  time_desc DECIMAL(8,2),\n",
    "  answer_ekg VARCHAR(200),\n",
    "  points_ekg DECIMAL(3,1),\n",
    "  confidence_ekg INT,\n",
    "  time_ekg DECIMAL(8,2),\n",
    "  PRIMARY KEY(user, casen)\n",
    ") AS SELECT *\n",
    "  FROM CSVREAD('../../resources/nl-experiment1/transformed-data/nl-experiment-01.csv');"
   ]
  },
  {
   "cell_type": "code",
   "execution_count": 3,
   "metadata": {},
   "outputs": [
    {
     "data": {
      "application/vnd.jupyter.widget-view+json": {
       "model_id": "03b4d934-ee3d-4200-90ce-b33182c06fab",
       "version_major": 2,
       "version_minor": 0
      },
      "method": "display_data"
     },
     "metadata": {},
     "output_type": "display_data"
    }
   ],
   "source": [
    "SELECT * FROM DescEKGCases ORDER BY user, casen;"
   ]
  },
  {
   "cell_type": "markdown",
   "metadata": {},
   "source": [
    "# Overall Average of the Accuracy\n",
    "\n",
    "## For Description First\n",
    "\n",
    "* AVG_POINTS_DESC - avarage points of answer in the description stage (1st stage);\n",
    "* STD_POINTS_DESC - standard deviation of the points for the answers in the description stage (1st stage);\n",
    "* AVG_POINTS_EKG  - avarage points of answer in the EKG stage (2nd stage);\n",
    "* STD_POINTS_EKG - standard deviation of the points for the answers in the EKG stage (2nd stage)."
   ]
  },
  {
   "cell_type": "code",
   "execution_count": 4,
   "metadata": {},
   "outputs": [
    {
     "data": {
      "application/vnd.jupyter.widget-view+json": {
       "model_id": "e9f5c42d-f2aa-468b-a0d5-28a5aa64f215",
       "version_major": 2,
       "version_minor": 0
      },
      "method": "display_data"
     },
     "metadata": {},
     "output_type": "display_data"
    }
   ],
   "source": [
    "SELECT ROUND(AVG(points_desc),2) AVG_points_desc, ROUND(STDDEV_SAMP(points_desc),2) STD_points_desc,\n",
    "       ROUND(AVG(points_ekg),2) AVG_points_ekg, ROUND(STDDEV_SAMP(points_ekg),2) STD_points_ekg\n",
    "FROM DescEKGCases\n",
    "WHERE ctype='DF';"
   ]
  },
  {
   "cell_type": "markdown",
   "metadata": {},
   "source": [
    "# For EKG First\n",
    "\n",
    "* AVG_POINTS_EKG  - avarage points of answer in the EKG stage (1st stage);\n",
    "* STD_POINTS_EKG - standard deviation of the points for the answers in the EKG stage (1st stage);\n",
    "* AVG_POINTS_DESC - avarage points of answer in the description stage (2nd stage);\n",
    "* STD_POINTS_DESC - standard deviation of the points for the answers in the description stage (2nd stage)."
   ]
  },
  {
   "cell_type": "code",
   "execution_count": 5,
   "metadata": {},
   "outputs": [
    {
     "data": {
      "application/vnd.jupyter.widget-view+json": {
       "model_id": "50bcd223-24b1-471a-b785-023fd0550869",
       "version_major": 2,
       "version_minor": 0
      },
      "method": "display_data"
     },
     "metadata": {},
     "output_type": "display_data"
    }
   ],
   "source": [
    "SELECT ROUND(AVG(points_ekg),2) AVG_points_ekg, ROUND(STDDEV_SAMP(points_ekg),2) STD_points_ekg,\n",
    "       ROUND(AVG(points_desc),2) AVG_points_desc, ROUND(STDDEV_SAMP(points_desc),2) STD_points_desc\n",
    "FROM DescEKGCases\n",
    "WHERE ctype='EF';"
   ]
  },
  {
   "cell_type": "markdown",
   "metadata": {},
   "source": [
    "# Accuracy in the First and Second Task by Case\n",
    "## For Description First\n",
    "\n",
    "* AVG_POINTS_DESC - average points of the answer in the description stage (1st stage);\n",
    "* STD_POINTS_DESC - standard deviation of the points for the answers in the description stage (1st stage);\n",
    "* AVG_POINTS_EKG  - average points of the answer in the EKG stage (2nd stage);\n",
    "* STD_POINTS_EKG - standard deviation of the points for the answers in the EKG stage (2nd stage)."
   ]
  },
  {
   "cell_type": "code",
   "execution_count": 6,
   "metadata": {},
   "outputs": [
    {
     "data": {
      "application/vnd.jupyter.widget-view+json": {
       "model_id": "26f5cf00-1047-4120-8186-928e8ac56648",
       "version_major": 2,
       "version_minor": 0
      },
      "method": "display_data"
     },
     "metadata": {},
     "output_type": "display_data"
    }
   ],
   "source": [
    "SELECT casen, ROUND(AVG(points_desc),2) AVG_points_desc, ROUND(STDDEV_SAMP(points_desc),2) STD_points_desc,\n",
    "              ROUND(AVG(points_ekg),2) AVG_points_ekg, ROUND(STDDEV_SAMP(points_ekg),2) STD_points_ekg\n",
    "FROM DescEKGCases\n",
    "WHERE ctype='DF'\n",
    "GROUP BY casen\n",
    "ORDER BY casen;"
   ]
  },
  {
   "cell_type": "markdown",
   "metadata": {},
   "source": [
    "# For EKG First\n",
    "\n",
    "* AVG_POINTS_EKG  - average points of the answer in the EKG stage (1st stage);\n",
    "* STD_POINTS_EKG - standard deviation of the points for the answers in the EKG stage (1st stage);\n",
    "* AVG_POINTS_DESC - average points of the answer in the description stage (2nd stage);\n",
    "* STD_POINTS_DESC - standard deviation of the points for the answers in the description stage (2nd stage)."
   ]
  },
  {
   "cell_type": "code",
   "execution_count": 7,
   "metadata": {},
   "outputs": [
    {
     "data": {
      "application/vnd.jupyter.widget-view+json": {
       "model_id": "b52e866b-f5bf-4f45-81fd-e44e949ef129",
       "version_major": 2,
       "version_minor": 0
      },
      "method": "display_data"
     },
     "metadata": {},
     "output_type": "display_data"
    }
   ],
   "source": [
    "SELECT casen, ROUND(AVG(points_ekg),2) AVG_points_ekg, ROUND(STDDEV_SAMP(points_ekg),2) STD_points_ekg,\n",
    "              ROUND(AVG(points_desc),2) AVG_points_desc, ROUND(STDDEV_SAMP(points_desc),2) STD_points_desc\n",
    "FROM DescEKGCases\n",
    "WHERE ctype='EF'\n",
    "GROUP BY casen\n",
    "ORDER BY casen;"
   ]
  },
  {
   "cell_type": "markdown",
   "metadata": {},
   "source": [
    "# Average According to the Success of Attempts\n",
    "## Wrong to Right\n",
    "### For Description First\n",
    "Attempts that were wrong at the beginning (accuracy below 1) and became right (accuracy equal 1).\n",
    "\n",
    "* NUMBER_ATTEMPTS - number of attempts that were wrong in the beginning and became right;\n",
    "* AVG_TIME_DESC - average time to answer in the description stage (1st stage);\n",
    "* AVG_CONFIDENCE_DESC - average confidence of the answers given in the description stage (1st stage);\n",
    "* AVG_TIME_EKG - average time to answer in the EKG stage (2nd stage);\n",
    "* AVG_CONFIDENCE_EKG - average confidence of the answers given in the EKG stage (2nd stage)."
   ]
  },
  {
   "cell_type": "code",
   "execution_count": 8,
   "metadata": {},
   "outputs": [
    {
     "data": {
      "application/vnd.jupyter.widget-view+json": {
       "model_id": "a5993e91-89bc-47f9-b0f5-a7528ef940c0",
       "version_major": 2,
       "version_minor": 0
      },
      "method": "display_data"
     },
     "metadata": {},
     "output_type": "display_data"
    }
   ],
   "source": [
    "SELECT COUNT(*) Number_Attempts, ROUND(AVG(time_desc),2) AVG_Time_Desc,\n",
    "                                 ROUND(AVG(CONVERT(confidence_desc, DECIMAL)),2) AVG_Confidence_Desc,\n",
    "                                 ROUND(AVG(time_ekg),2) AVG_Time_EKG,\n",
    "                                 ROUND(AVG(CONVERT(confidence_ekg, DECIMAL)),2) AVG_Confidence_EKG\n",
    "FROM DescEKGCases\n",
    "WHERE ctype='DF' AND points_desc < 1 AND points_ekg = 1;"
   ]
  },
  {
   "cell_type": "markdown",
   "metadata": {},
   "source": [
    "### For EKG First\n",
    "Attempts that were wrong at the beginning (accuracy below 1) and became right (accuracy equal 1).\n",
    "\n",
    "* NUMBER_ATTEMPTS - number of attempts that were wrong in the beginning and became right;\n",
    "* AVG_TIME_EKG - average time to answer in the EKG stage (1st stage);\n",
    "* AVG_CONFIDENCE_EKG - average confidence of the answers given in the EKG stage (1st stage);\n",
    "* AVG_TIME_DESC - average time to answer in the description stage (2nd stage);\n",
    "* AVG_CONFIDENCE_DESC - average confidence of the answers given in the description stage (2nd stage)."
   ]
  },
  {
   "cell_type": "code",
   "execution_count": 9,
   "metadata": {},
   "outputs": [
    {
     "data": {
      "application/vnd.jupyter.widget-view+json": {
       "model_id": "c16ce31e-5bbe-4080-8538-977e0b92e77d",
       "version_major": 2,
       "version_minor": 0
      },
      "method": "display_data"
     },
     "metadata": {},
     "output_type": "display_data"
    }
   ],
   "source": [
    "SELECT COUNT(*) Number_Attempts, ROUND(AVG(time_ekg),2) AVG_Time_EKG,\n",
    "                                 ROUND(AVG(CONVERT(confidence_ekg, DECIMAL)),2) AVG_Confidence_EKG,\n",
    "                                 ROUND(AVG(time_desc),2) AVG_Time_Desc,\n",
    "                                 ROUND(AVG(CONVERT(confidence_desc, DECIMAL)),2) AVG_Confidence_Desc\n",
    "FROM DescEKGCases\n",
    "WHERE ctype='EF' AND points_ekg < 1 AND points_desc = 1;"
   ]
  },
  {
   "cell_type": "markdown",
   "metadata": {},
   "source": [
    "## Wrong stays Wrong\n",
    "### For Description First\n",
    "\n",
    "Attempts that were wrong at the beginning (accuracy below 1) and stayed wrong (accuracy below 1).\n",
    "\n",
    "* NUMBER_ATTEMPTS - number of attempts that were wrong in the beginning and stayed wrong."
   ]
  },
  {
   "cell_type": "code",
   "execution_count": 10,
   "metadata": {},
   "outputs": [
    {
     "data": {
      "application/vnd.jupyter.widget-view+json": {
       "model_id": "f59b9901-62ec-4a0b-8c4b-9f0c9c258dda",
       "version_major": 2,
       "version_minor": 0
      },
      "method": "display_data"
     },
     "metadata": {},
     "output_type": "display_data"
    }
   ],
   "source": [
    "SELECT COUNT(*) Number_Attempts, ROUND(AVG(time_desc),2) AVG_Time_Desc,\n",
    "                                 ROUND(AVG(CONVERT(confidence_desc, DECIMAL)),2) AVG_Confidence_Desc,\n",
    "                                 ROUND(AVG(time_ekg),2) AVG_Time_EKG,\n",
    "                                 ROUND(AVG(CONVERT(confidence_ekg, DECIMAL)),2) AVG_Confidence_EKG\n",
    "FROM DescEKGCases\n",
    "WHERE ctype='DF' AND points_desc < 1 AND points_ekg < 1;"
   ]
  },
  {
   "cell_type": "markdown",
   "metadata": {},
   "source": [
    "### For EKG First"
   ]
  },
  {
   "cell_type": "code",
   "execution_count": 11,
   "metadata": {},
   "outputs": [
    {
     "data": {
      "application/vnd.jupyter.widget-view+json": {
       "model_id": "b6e44673-c65a-455f-934d-f4e0787cb0ae",
       "version_major": 2,
       "version_minor": 0
      },
      "method": "display_data"
     },
     "metadata": {},
     "output_type": "display_data"
    }
   ],
   "source": [
    "SELECT COUNT(*) Number_Attempts, ROUND(AVG(time_ekg),2) AVG_Time_EKG,\n",
    "                                 ROUND(AVG(CONVERT(confidence_ekg, DECIMAL)),2) AVG_Confidence_EKG,\n",
    "                                 ROUND(AVG(time_desc),2) AVG_Time_Desc,\n",
    "                                 ROUND(AVG(CONVERT(confidence_desc, DECIMAL)),2) AVG_Confidence_Desc\n",
    "FROM DescEKGCases\n",
    "WHERE ctype='EF' AND points_ekg < 1 AND points_desc < 1;"
   ]
  },
  {
   "cell_type": "markdown",
   "metadata": {},
   "source": [
    "## Right stays Right\n",
    "### For Description First\n",
    "\n",
    "Attempts that were right at the beginning (accuracy equal 1) and stayed right (accuracy equal 1).\n",
    "\n",
    "* NUMBER_ATTEMPTS - number of attempts that were right in the beginning and stayed right."
   ]
  },
  {
   "cell_type": "code",
   "execution_count": 12,
   "metadata": {},
   "outputs": [
    {
     "data": {
      "application/vnd.jupyter.widget-view+json": {
       "model_id": "84f23837-c3f8-4ddc-b492-36c6dfead476",
       "version_major": 2,
       "version_minor": 0
      },
      "method": "display_data"
     },
     "metadata": {},
     "output_type": "display_data"
    }
   ],
   "source": [
    "SELECT COUNT(*) Number_Attempts, ROUND(AVG(time_desc),2) AVG_Time_Desc,\n",
    "                                 ROUND(AVG(CONVERT(confidence_desc, DECIMAL)),2) AVG_Confidence_Desc,\n",
    "                                 ROUND(AVG(time_ekg),2) AVG_Time_EKG,\n",
    "                                 ROUND(AVG(CONVERT(confidence_ekg, DECIMAL)),2) AVG_Confidence_EKG\n",
    "FROM DescEKGCases\n",
    "WHERE ctype='DF' AND points_desc = 1 AND points_ekg = 1;"
   ]
  },
  {
   "cell_type": "markdown",
   "metadata": {},
   "source": [
    "### For EKG First"
   ]
  },
  {
   "cell_type": "code",
   "execution_count": 13,
   "metadata": {},
   "outputs": [
    {
     "data": {
      "application/vnd.jupyter.widget-view+json": {
       "model_id": "b906cdaa-0664-45e0-9c8d-3c38cfd266c2",
       "version_major": 2,
       "version_minor": 0
      },
      "method": "display_data"
     },
     "metadata": {},
     "output_type": "display_data"
    }
   ],
   "source": [
    "SELECT COUNT(*) Number_Attempts, ROUND(AVG(time_ekg),2) AVG_Time_EKG,\n",
    "                                 ROUND(AVG(CONVERT(confidence_ekg, DECIMAL)),2) AVG_Confidence_EKG,\n",
    "                                 ROUND(AVG(time_desc),2) AVG_Time_Desc,\n",
    "                                 ROUND(AVG(CONVERT(confidence_desc, DECIMAL)),2) AVG_Confidence_Desc\n",
    "FROM DescEKGCases\n",
    "WHERE ctype='EF' AND points_ekg = 1 AND points_desc = 1;"
   ]
  },
  {
   "cell_type": "markdown",
   "metadata": {},
   "source": [
    "# Question 01\n",
    "The order of the presentation affects the confidence.\n",
    "\n",
    "## For Description First\n",
    "\n",
    "* AVG_CONFIDENCE_DESC - average confidence of the answers given in the description stage (1st stage);\n",
    "* AVG_CONFIDENCE_EKG - average confidence of the answers given in the EKG stage (2nd stage).\n",
    "* AVG_CONFIDENCE_OVERALL - average confidence of the answers in both stages."
   ]
  },
  {
   "cell_type": "code",
   "execution_count": 14,
   "metadata": {},
   "outputs": [
    {
     "data": {
      "application/vnd.jupyter.widget-view+json": {
       "model_id": "d1a5bba4-9c81-4f09-a08b-843ef98d29e8",
       "version_major": 2,
       "version_minor": 0
      },
      "method": "display_data"
     },
     "metadata": {},
     "output_type": "display_data"
    }
   ],
   "source": [
    "SELECT ROUND(AVG(CONVERT(confidence_desc, DECIMAL)),2) AVG_confidence_desc,\n",
    "       ROUND(AVG(CONVERT(confidence_ekg, DECIMAL)),2) AVG_confidence_ekg,\n",
    "       ROUND(((AVG(CONVERT(confidence_desc, DECIMAL)) + AVG(CONVERT(confidence_ekg, DECIMAL))) / 2),2) AS AVG_Overall\n",
    "FROM DescEKGCases\n",
    "WHERE ctype = 'DF';"
   ]
  },
  {
   "cell_type": "markdown",
   "metadata": {},
   "source": [
    "## For EKG First\n",
    "\n",
    "* AVG_CONFIDENCE_EKG - average confidence of the answers given in the EKG stage (1st stage).\n",
    "* AVG_CONFIDENCE_DESC - average confidence of the answers given in the description stage (2nd stage);\n",
    "* AVG_CONFIDENCE_OVERALL - average confidence of the answers in both stages."
   ]
  },
  {
   "cell_type": "code",
   "execution_count": 15,
   "metadata": {},
   "outputs": [
    {
     "data": {
      "application/vnd.jupyter.widget-view+json": {
       "model_id": "7846613e-612d-4df9-b132-6dde097b2735",
       "version_major": 2,
       "version_minor": 0
      },
      "method": "display_data"
     },
     "metadata": {},
     "output_type": "display_data"
    }
   ],
   "source": [
    "SELECT ROUND(AVG(CONVERT(confidence_ekg, DECIMAL)),2) AVG_confidence_ekg,\n",
    "       ROUND(AVG(CONVERT(confidence_desc, DECIMAL)),2) AVG_confidence_desc,\n",
    "       ROUND(((AVG(CONVERT(confidence_desc, DECIMAL)) + AVG(CONVERT(confidence_ekg, DECIMAL))) / 2),2) AS AVG_Overall\n",
    "FROM DescEKGCases\n",
    "WHERE ctype = 'EF';"
   ]
  },
  {
   "cell_type": "markdown",
   "metadata": {},
   "source": [
    "# Question 02\n",
    "The confidence score in the first stage affects the time it takes to accomplish the task in the second stage.\n",
    "\n",
    "## For Description First\n",
    "* AVG_CONFIDENCE_DESC - average confidence of the answers given in the description stage (1st stage) grouped per case;\n",
    "* AVG_TIME_EKG - average time to give the answers in the EKG stage (2nd stage) grouped per case;\n",
    "\n",
    "\n",
    "* AVG_CONFIDENCE_DESC_OVERALL - average confidence of the answers given in the description stage (1st stage) in all cases;\n",
    "* AVG_TIME_EKG_OVERALL - average time to give the answers in the EKG stage (2nd stage) in all cases."
   ]
  },
  {
   "cell_type": "code",
   "execution_count": 16,
   "metadata": {},
   "outputs": [
    {
     "data": {
      "application/vnd.jupyter.widget-view+json": {
       "model_id": "777c1504-2d77-4eee-af9f-dc74130e3a42",
       "version_major": 2,
       "version_minor": 0
      },
      "method": "display_data"
     },
     "metadata": {},
     "output_type": "display_data"
    },
    {
     "data": {
      "application/vnd.jupyter.widget-view+json": {
       "model_id": "7f723c0c-7986-4161-aee1-5f39254c8056",
       "version_major": 2,
       "version_minor": 0
      },
      "method": "display_data"
     },
     "metadata": {},
     "output_type": "display_data"
    }
   ],
   "source": [
    "SELECT casen, ROUND(AVG(CONVERT(confidence_desc, DECIMAL)),2) AVG_confidence_desc, ROUND(AVG(time_ekg),2) AVG_time_ekg\n",
    "FROM DescEKGCases\n",
    "WHERE ctype = 'DF'\n",
    "GROUP BY casen\n",
    "ORDER BY casen;\n",
    "\n",
    "SELECT ROUND(AVG(CONVERT(confidence_desc, DECIMAL)),2) AVG_confidence_desc_overall, ROUND(AVG(time_ekg),2) AVG_time_ekg_overall\n",
    "FROM DescEKGCases\n",
    "WHERE ctype = 'DF';"
   ]
  },
  {
   "cell_type": "markdown",
   "metadata": {},
   "source": [
    "## For EKG First\n",
    "* AVG_CONFIDENCE_EKG - average confidence of the answers given in the EKG stage (1st stage) grouped per case;\n",
    "* AVG_TIME_DESC - average time to give the answers in the description stage (2nd stage) grouped per case;\n",
    "\n",
    "\n",
    "* AVG_CONFIDENCE_EKG_OVERALL - average confidence of the answers given in the EKG stage (1st stage) in all cases;\n",
    "* AVG_TIME_DESC_OVERALL - average time to give the answers in the description stage (2nd stage) in all cases."
   ]
  },
  {
   "cell_type": "code",
   "execution_count": 17,
   "metadata": {},
   "outputs": [
    {
     "data": {
      "application/vnd.jupyter.widget-view+json": {
       "model_id": "b2705b61-2792-45d8-acfb-c480e31b868e",
       "version_major": 2,
       "version_minor": 0
      },
      "method": "display_data"
     },
     "metadata": {},
     "output_type": "display_data"
    },
    {
     "data": {
      "application/vnd.jupyter.widget-view+json": {
       "model_id": "b9494e96-5cd8-4cb5-8e03-bcae6ece78be",
       "version_major": 2,
       "version_minor": 0
      },
      "method": "display_data"
     },
     "metadata": {},
     "output_type": "display_data"
    }
   ],
   "source": [
    "SELECT casen, ROUND(AVG(CONVERT(confidence_ekg, DECIMAL)),2) AVG_confidence_ekg, ROUND(AVG(time_desc),2) AVG_time_desc\n",
    "FROM DescEKGCases\n",
    "WHERE ctype = 'EF'\n",
    "GROUP BY casen\n",
    "ORDER BY casen;\n",
    "\n",
    "SELECT ROUND(AVG(CONVERT(confidence_ekg, DECIMAL)),2) AVG_confidence_ekg_overall, ROUND(AVG(time_desc),2) AVG_time_desc_overall\n",
    "FROM DescEKGCases\n",
    "WHERE ctype = 'EF';"
   ]
  },
  {
   "cell_type": "markdown",
   "metadata": {},
   "source": [
    "# Question 3\n",
    "\n",
    "The confidence score in the first stage will influence the probability of changing the hypothesis.\n",
    "\n",
    "## Description First\n",
    "\n",
    "* AVG_CONF_DS_CH - the average of the confidence during the description stage (1st stage) of those who changed the answer from the first stage to the second stage;\n",
    "* N_CH - number of users who changed the answer from the first stage to the second stage;\n",
    "* P_CH - percentual of the users who changed the answer from the first stage to the second stage;\n",
    "* AVG_CONF_DS_NCH - the average of the confidence during the description stage (1st stage) of those who not changed the answer from the first stage to the second stage;\n",
    "* N_NCH - number of users who not changed the answer from the first stage to the second stage;\n",
    "* P_NCH - percentual of the users who not changed the answer from the first stage to the second stage."
   ]
  },
  {
   "cell_type": "code",
   "execution_count": 18,
   "metadata": {},
   "outputs": [
    {
     "data": {
      "application/vnd.jupyter.widget-view+json": {
       "model_id": "7da49bfe-c633-4d7c-9cb5-c8ca4d8c64c1",
       "version_major": 2,
       "version_minor": 0
      },
      "method": "display_data"
     },
     "metadata": {},
     "output_type": "display_data"
    }
   ],
   "source": [
    "DROP VIEW IF EXISTS ChangedHypDesc;\n",
    "CREATE VIEW ChangedHypDesc AS\n",
    "SELECT casen, ROUND(AVG(CONVERT(confidence_desc, DECIMAL)),2) AVG_confidence_desc_changed, COUNT(*) number_changed\n",
    "FROM DescEKGCases\n",
    "WHERE ctype = 'DF' AND answer_desc <> answer_ekg\n",
    "GROUP BY casen\n",
    "ORDER BY casen;\n",
    "\n",
    "DROP VIEW IF EXISTS NotChangedHypDesc;\n",
    "CREATE VIEW NotChangedHypDesc AS\n",
    "SELECT casen, ROUND(AVG(CONVERT(confidence_desc, DECIMAL)),2) AVG_confidence_desc_not_changed, COUNT(*) number_not_changed\n",
    "FROM DescEKGCases\n",
    "WHERE ctype = 'DF' AND answer_desc = answer_ekg\n",
    "GROUP BY casen\n",
    "ORDER BY casen;\n",
    "\n",
    "DROP VIEW IF EXISTS CompHypDesc;\n",
    "CREATE VIEW CompHypDesc AS\n",
    "SELECT CH.casen, CH.AVG_confidence_desc_changed AVG_CONF_DS_CH, CH.number_changed N_CH,\n",
    "                 ROUND(CONVERT(CH.number_changed, DECIMAL)*100 / (CH.number_changed+NT.number_not_changed), 2) AS P_CH,\n",
    "                 NT.AVG_confidence_desc_not_changed AVG_CONF_DS_NCH, NT.number_not_changed N_NCH,\n",
    "                 ROUND(CONVERT(NT.number_not_changed, DECIMAL)*100 / (CH.number_changed+NT.number_not_changed),2) AS P_NCH\n",
    "FROM ChangedHypDesc CH, NotChangedHypDesc NT\n",
    "WHERE CH.casen = NT.casen\n",
    "ORDER BY casen;\n",
    "\n",
    "SELECT * FROM CompHypDesc;"
   ]
  },
  {
   "cell_type": "markdown",
   "metadata": {},
   "source": [
    "* AVG_CONFIDENCE_DESC_CHANGED - the average of the confidence during the description stage (1st stage) of those who changed the answer from the first stage to the second stage  throughout the cases;\n",
    "* AVG_NUMBER_CHANGED - the average of the number of users who changed the answer from the first stage to the second stage throughout the cases;\n",
    "* PERCENT_CHANGED - the average of the percentual of the users who changed the answer from the first stage to the second stage throughout the cases;\n",
    "* AVG_CONFIDENCE_DESC_NOT_CHANGED - the average of the confidence of the cases during the description stage (1st stage) of those who not changed the answer from the first stage to the second stage throughout the cases;\n",
    "* AVG_NUMBER_NOT_CHANGED - the average of the number of users who not changed the answer from the first stage to the second stage throughout the cases;\n",
    "* PERCENT_NOT_CHANGED - the average of the percentual of the users who not changed the answer from the first stage to the second stage throughout the cases."
   ]
  },
  {
   "cell_type": "code",
   "execution_count": 19,
   "metadata": {},
   "outputs": [
    {
     "data": {
      "application/vnd.jupyter.widget-view+json": {
       "model_id": "0a063ea8-1848-45d5-a68b-0e1c12b9027b",
       "version_major": 2,
       "version_minor": 0
      },
      "method": "display_data"
     },
     "metadata": {},
     "output_type": "display_data"
    }
   ],
   "source": [
    "SELECT ROUND(AVG(AVG_CONF_DS_CH),2) AVG_confidence_desc_changed,\n",
    "       ROUND(AVG(CONVERT(N_CH, DECIMAL)),2) avg_number_changed,\n",
    "       ROUND(AVG(P_CH),2) avg_percent_changed,\n",
    "       ROUND(AVG(AVG_CONF_DS_NCH),2) AVG_confidence_desc_not_changed,\n",
    "       ROUND(AVG(CONVERT(N_NCH, DECIMAL)),2) avg_number_not_changed,\n",
    "       ROUND(AVG(P_NCH),2) avg_percent_not_changed\n",
    "FROM CompHypDesc;"
   ]
  },
  {
   "cell_type": "markdown",
   "metadata": {},
   "source": [
    "## EKG First\n",
    "\n",
    "* AVG_CONF_EKG_CH - the average of the confidence during the EKG stage (1st stage) of those who changed the answer from the first stage to the second stage;\n",
    "* N_CH - number of users who changed the answer from the first stage to the second stage;\n",
    "* P_CH - percentual of the users who changed the answer from the first stage to the second stage;\n",
    "* AVG_CONF_EKG_NCH - the average of the confidence during the EKG stage (1st stage) of those who not changed the answer from the first stage to the second stage;\n",
    "* N_NCH - number of users who not changed the answer from the first stage to the second stage;\n",
    "* P_NCH - percentual of the users who not changed the answer from the first stage to the second stage."
   ]
  },
  {
   "cell_type": "code",
   "execution_count": 20,
   "metadata": {},
   "outputs": [
    {
     "data": {
      "application/vnd.jupyter.widget-view+json": {
       "model_id": "20c2a7d8-0ed0-4180-8bc0-58be2a849e90",
       "version_major": 2,
       "version_minor": 0
      },
      "method": "display_data"
     },
     "metadata": {},
     "output_type": "display_data"
    }
   ],
   "source": [
    "DROP VIEW IF EXISTS ChangedHypEKG;\n",
    "CREATE VIEW ChangedHypEKG AS\n",
    "SELECT casen, ROUND(AVG(CONVERT(confidence_ekg, DECIMAL)),2) AVG_confidence_ekg_changed, COUNT(*) number_changed\n",
    "FROM DescEKGCases\n",
    "WHERE ctype = 'EF' AND answer_ekg <> answer_desc\n",
    "GROUP BY casen\n",
    "ORDER BY casen;\n",
    "\n",
    "DROP VIEW IF EXISTS NotChangedHypEKG;\n",
    "CREATE VIEW NotChangedHypEKG AS\n",
    "SELECT casen, ROUND(AVG(CONVERT(confidence_ekg, DECIMAL)),2) AVG_confidence_ekg_not_changed, COUNT(*) number_not_changed\n",
    "FROM DescEKGCases\n",
    "WHERE ctype = 'EF' AND answer_ekg = answer_desc\n",
    "GROUP BY casen\n",
    "ORDER BY casen;\n",
    "\n",
    "DROP VIEW IF EXISTS CompHypEKG;\n",
    "CREATE VIEW CompHypEKG AS\n",
    "SELECT CH.casen, CH.AVG_confidence_ekg_changed AVG_CONF_EKG_CH, CH.number_changed N_CH,\n",
    "                 ROUND(CONVERT(CH.number_changed, DECIMAL)*100 / (CH.number_changed+NT.number_not_changed), 2) AS P_CH,\n",
    "                 NT.AVG_confidence_ekg_not_changed AVG_CONF_EKG_NCH, NT.number_not_changed N_NCH,\n",
    "                 ROUND(CONVERT(NT.number_not_changed, DECIMAL)*100 / (CH.number_changed+NT.number_not_changed),2) AS P_NCH\n",
    "FROM ChangedHypEKG CH, NotChangedHypEKG NT\n",
    "WHERE CH.casen = NT.casen\n",
    "ORDER BY casen;\n",
    "\n",
    "SELECT * FROM CompHypEKG;"
   ]
  },
  {
   "cell_type": "markdown",
   "metadata": {},
   "source": [
    "* AVG_CONFIDENCE_EKG_CHANGED - the average of the confidence during the EKG stage (1st stage) of those who changed the answer from the first stage to the second stage  throughout the cases;\n",
    "* AVG_NUMBER_CHANGED - the average of the number of users who changed the answer from the first stage to the second stage throughout the cases;\n",
    "* PERCENT_CHANGED - the average of the percentual of the users who changed the answer from the first stage to the second stage throughout the cases;\n",
    "* AVG_CONFIDENCE_EKG_NOT_CHANGED - the average of the confidence of the cases during the EKG stage (1st stage) of those who not changed the answer from the first stage to the second stage throughout the cases;\n",
    "* AVG_NUMBER_NOT_CHANGED - the average of the number of users who not changed the answer from the first stage to the second stage throughout the cases;\n",
    "* PERCENT_NOT_CHANGED - the average of the percentual of the users who not changed the answer from the first stage to the second stage throughout the cases."
   ]
  },
  {
   "cell_type": "code",
   "execution_count": 21,
   "metadata": {},
   "outputs": [
    {
     "data": {
      "application/vnd.jupyter.widget-view+json": {
       "model_id": "68cb12ad-83ce-4949-b910-335d63862e46",
       "version_major": 2,
       "version_minor": 0
      },
      "method": "display_data"
     },
     "metadata": {},
     "output_type": "display_data"
    }
   ],
   "source": [
    "SELECT ROUND(AVG(AVG_CONF_EKG_CH),2) AVG_confidence_ekg_changed,\n",
    "       ROUND(AVG(CONVERT(N_CH, DECIMAL)),2) avg_number_changed,\n",
    "       ROUND(AVG(P_CH),2) avg_percent_changed,\n",
    "       ROUND(AVG(AVG_CONF_EKG_NCH),2) AVG_confidence_ekg_not_changed,\n",
    "       ROUND(AVG(CONVERT(N_NCH, DECIMAL)),2) avg_number_not_changed,\n",
    "       ROUND(AVG(P_NCH),2) avg_percent_not_changed\n",
    "FROM CompHypEKG;"
   ]
  },
  {
   "cell_type": "markdown",
   "metadata": {},
   "source": [
    "# Question 4\n",
    "\n",
    "The time to accomplish the first and second stages between the groups.\n",
    "\n",
    "# Question 5\n",
    "\n",
    "The time between the first and the second task.\n",
    "\n",
    "* DF_AVG_TIME_1ST - the average time to accomplish the first stage (description stage) for the description first users by case;\n",
    "* DF_AVG_TIME_2ND - the average time to accomplish the second stage (EKG stage) for the description first users by case;\n",
    "* EF_AVG_TIME_1ST - the average time to accomplish the first stage (EKG stage) for the EKG first users by case;\n",
    "* EF_AVG_TIME_2ND - the average time to accomplish the second stage (description stage) for the EKG first users by case.\n",
    "\n",
    "\n",
    "* DF_AVG_TIME_1ST_OVERALL - the average time to accomplish the first stage (description stage) for the description first users in all cases;\n",
    "* DF_AVG_TIME_2ND_OVERALL - the average time to accomplish the second stage (EKG stage) for the description first users in all cases;\n",
    "* EF_AVG_TIME_1ST_OVERALL - the average time to accomplish the first stage (EKG stage) for the EKG first users in all cases;\n",
    "* EF_AVG_TIME_2ND_OVERALL - the average time to accomplish the second stage (description stage) for the EKG first users in all cases."
   ]
  },
  {
   "cell_type": "code",
   "execution_count": 22,
   "metadata": {},
   "outputs": [
    {
     "data": {
      "application/vnd.jupyter.widget-view+json": {
       "model_id": "e6e41398-330c-4b47-8565-1dfcece8f7b3",
       "version_major": 2,
       "version_minor": 0
      },
      "method": "display_data"
     },
     "metadata": {},
     "output_type": "display_data"
    },
    {
     "data": {
      "application/vnd.jupyter.widget-view+json": {
       "model_id": "8e02d748-77e5-44cb-92d5-1ce5e22717ca",
       "version_major": 2,
       "version_minor": 0
      },
      "method": "display_data"
     },
     "metadata": {},
     "output_type": "display_data"
    }
   ],
   "source": [
    "DROP VIEW IF EXISTS TimeTasksDesc;\n",
    "CREATE VIEW TimeTasksDesc AS\n",
    "SELECT casen, AVG(time_desc) avg_time_1st_desc, AVG(time_ekg) avg_time_2nd_ekg\n",
    "FROM DescEKGCases\n",
    "WHERE ctype = 'DF'\n",
    "GROUP BY casen\n",
    "ORDER BY casen;\n",
    "\n",
    "DROP VIEW IF EXISTS TimeTasksEKG;\n",
    "CREATE VIEW TimeTasksEKG AS\n",
    "SELECT casen, AVG(time_ekg) avg_time_1st_ekg, AVG(time_desc) avg_time_2nd_desc\n",
    "FROM DescEKGCases\n",
    "WHERE ctype = 'EF'\n",
    "GROUP BY casen\n",
    "ORDER BY casen;\n",
    "\n",
    "SELECT DF.casen, ROUND(DF.avg_time_1st_desc, 2) df_avg_time_1st, ROUND(DF.avg_time_2nd_ekg, 2) df_avg_time_2nd,\n",
    "                 ROUND(EF.avg_time_1st_ekg, 2) ef_avg_time_1st, ROUND(EF.avg_time_2nd_desc, 2) ef_avg_time_2nd\n",
    "FROM TimeTasksDesc DF, TimeTasksEKG EF\n",
    "WHERE DF.casen = EF.casen;\n",
    "\n",
    "DROP VIEW IF EXISTS TimeTasksDescOverall;\n",
    "CREATE VIEW TimeTasksDescOverall AS\n",
    "SELECT AVG(time_desc) avg_time_1st_desc, AVG(time_ekg) avg_time_2nd_ekg\n",
    "FROM DescEKGCases\n",
    "WHERE ctype = 'DF';\n",
    "\n",
    "DROP VIEW IF EXISTS TimeTasksEKGOverall;\n",
    "CREATE VIEW TimeTasksEKGOverall AS\n",
    "SELECT AVG(time_ekg) avg_time_1st_ekg, AVG(time_desc) avg_time_2nd_desc\n",
    "FROM DescEKGCases\n",
    "WHERE ctype = 'EF';\n",
    "\n",
    "SELECT ROUND(DF.avg_time_1st_desc, 2) df_avg_time_1st_overall, ROUND(DF.avg_time_2nd_ekg, 2) df_avg_time_2nd_overall,\n",
    "       ROUND(EF.avg_time_1st_ekg, 2) ef_avg_time_1st_overall, ROUND(EF.avg_time_2nd_desc, 2) ef_avg_time_2nd_overall\n",
    "FROM TimeTasksDescOverall DF, TimeTasksEKGOverall EF;"
   ]
  },
  {
   "cell_type": "code",
   "execution_count": 23,
   "metadata": {},
   "outputs": [
    {
     "data": {
      "application/vnd.jupyter.widget-view+json": {
       "model_id": "79955c24-08d5-42d0-9863-115d13106b55",
       "version_major": 2,
       "version_minor": 0
      },
      "method": "display_data"
     },
     "metadata": {},
     "output_type": "display_data"
    }
   ],
   "source": [
    "SELECT ROUND(AVG(DF.avg_time_1st_desc), 2) df_avg_time_1st, ROUND(AVG(DF.avg_time_2nd_ekg), 2) df_avg_time_2nd,\n",
    "       ROUND(AVG(EF.avg_time_1st_ekg), 2) ef_avg_time_1st, ROUND(AVG(EF.avg_time_2nd_desc), 2) ef_avg_time_2nd\n",
    "FROM TimeTasksDesc DF, TimeTasksEKG EF"
   ]
  },
  {
   "cell_type": "markdown",
   "metadata": {},
   "source": [
    "The confidence in the answer to the first and second stages between the groups.\n",
    "\n",
    "* DF_AVG_CON_1ST - the average confidence in the answer to the first stage (description stage) for the description first users by case;\n",
    "* DF_AVG_CON_2ND - the average confidence in the answer to the second stage (EKG stage) for the description first users by case;\n",
    "* EF_AVG_CON_1ST - the average confidence in the answer to the first stage (EKG stage) for the EKG first users by case;\n",
    "* EF_AVG_CON_2ND - the average confidence in the answer to the second stage (description stage) for the EKG first users by case.\n",
    "\n",
    "\n",
    "* DF_AVG_CON_1ST - the average confidence in the answer to the first stage (description stage) for the description first users in all cases;\n",
    "* DF_AVG_CON_2ND - the average confidence in the answer to the second stage (EKG stage) for the description first users in all cases;\n",
    "* EF_AVG_CON_1ST - the average confidence in the answer to the first stage (EKG stage) for the EKG first users in all cases;\n",
    "* EF_AVG_CON_2ND - the average confidence in the answer to the second stage (description stage) for the EKG first users in all cases."
   ]
  },
  {
   "cell_type": "code",
   "execution_count": 24,
   "metadata": {},
   "outputs": [
    {
     "data": {
      "application/vnd.jupyter.widget-view+json": {
       "model_id": "5bf603b3-b3a2-42ca-9c94-1cbbda8adddb",
       "version_major": 2,
       "version_minor": 0
      },
      "method": "display_data"
     },
     "metadata": {},
     "output_type": "display_data"
    },
    {
     "data": {
      "application/vnd.jupyter.widget-view+json": {
       "model_id": "97f06e70-19d4-4828-a3ec-94a89c5a0df5",
       "version_major": 2,
       "version_minor": 0
      },
      "method": "display_data"
     },
     "metadata": {},
     "output_type": "display_data"
    }
   ],
   "source": [
    "DROP VIEW IF EXISTS ConfidenceTasksDesc;\n",
    "CREATE VIEW ConfidenceTasksDesc AS\n",
    "SELECT casen, AVG(CONVERT(confidence_desc, DECIMAL)) avg_confidence_1st_desc,\n",
    "              AVG(CONVERT(confidence_ekg, DECIMAL)) avg_confidence_2nd_ekg\n",
    "FROM DescEKGCases\n",
    "WHERE ctype = 'DF'\n",
    "GROUP BY casen\n",
    "ORDER BY casen;\n",
    "\n",
    "DROP VIEW IF EXISTS ConfidenceTasksEKG;\n",
    "CREATE VIEW ConfidenceTasksEKG AS\n",
    "SELECT casen, AVG(CONVERT(confidence_ekg, DECIMAL)) avg_confidence_1st_ekg,\n",
    "              AVG(CONVERT(confidence_desc, DECIMAL)) avg_confidence_2nd_desc\n",
    "FROM DescEKGCases\n",
    "WHERE ctype = 'EF'\n",
    "GROUP BY casen\n",
    "ORDER BY casen;\n",
    "\n",
    "SELECT DF.casen, ROUND(DF.avg_confidence_1st_desc,2) df_avg_con_1st,\n",
    "                 ROUND(DF.avg_confidence_2nd_ekg,2) df_avg_con_2nd,\n",
    "                 ROUND(EF.avg_confidence_1st_ekg,2) ef_avg_con_1st,\n",
    "                 ROUND(EF.avg_confidence_2nd_desc,2) ef_avg_con_2nd\n",
    "FROM ConfidenceTasksDesc DF, ConfidenceTasksEKG EF\n",
    "WHERE DF.casen = EF.casen;\n",
    "                          \n",
    "DROP VIEW IF EXISTS ConfidenceTasksDescOverall;\n",
    "CREATE VIEW ConfidenceTasksDescOverall AS\n",
    "SELECT AVG(CONVERT(confidence_desc, DECIMAL)) avg_confidence_1st_desc,\n",
    "       AVG(CONVERT(confidence_ekg, DECIMAL)) avg_confidence_2nd_ekg\n",
    "FROM DescEKGCases\n",
    "WHERE ctype = 'DF';\n",
    "                   \n",
    "DROP VIEW IF EXISTS ConfidenceTasksEKGOverall;\n",
    "CREATE VIEW ConfidenceTasksEKGOverall AS\n",
    "SELECT AVG(CONVERT(confidence_ekg, DECIMAL)) avg_confidence_1st_ekg,\n",
    "       AVG(CONVERT(confidence_desc, DECIMAL)) avg_confidence_2nd_desc\n",
    "FROM DescEKGCases\n",
    "WHERE ctype = 'EF';\n",
    "                   \n",
    "SELECT ROUND(DF.avg_confidence_1st_desc,2) df_avg_con_1st_overall,\n",
    "       ROUND(DF.avg_confidence_2nd_ekg,2) df_avg_con_2nd_overall,\n",
    "       ROUND(EF.avg_confidence_1st_ekg,2) ef_avg_con_1st_overall,\n",
    "       ROUND(EF.avg_confidence_2nd_desc,2) ef_avg_con_2nd_overall\n",
    "FROM ConfidenceTasksDescOverall DF, ConfidenceTasksEKGOverall EF;"
   ]
  }
 ],
 "metadata": {
  "kernelspec": {
   "display_name": "Python 3",
   "language": "python",
   "name": "python3"
  },
  "language_info": {
   "codemirror_mode": {
    "name": "ipython",
    "version": 3
   },
   "file_extension": ".py",
   "mimetype": "text/x-python",
   "name": "python",
   "nbconvert_exporter": "python",
   "pygments_lexer": "ipython3",
   "version": "3.7.4"
  },
  "toc": {
   "base_numbering": 1,
   "nav_menu": {},
   "number_sections": false,
   "sideBar": false,
   "skip_h1_title": false,
   "title_cell": "Table of Contents",
   "title_sidebar": "Contents",
   "toc_cell": false,
   "toc_position": {},
   "toc_section_display": false,
   "toc_window_display": false
  }
 },
 "nbformat": 4,
 "nbformat_minor": 4
}
