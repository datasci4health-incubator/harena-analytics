{
 "cells": [
  {
   "cell_type": "code",
   "execution_count": 1,
   "metadata": {},
   "outputs": [],
   "source": [
    "%defaultDatasource jdbc:h2:mem:db"
   ]
  },
  {
   "cell_type": "code",
   "execution_count": 2,
   "metadata": {},
   "outputs": [],
   "source": [
    "DROP TABLE IF EXISTS DescEKGCases;\n",
    "\n",
    "CREATE TABLE DescEKGCases (\n",
    "  ctype VARCHAR(2),\n",
    "  user INT,\n",
    "  casen VARCHAR(7),\n",
    "  answer_desc VARCHAR(200),\n",
    "  points_desc DECIMAL(3,1),\n",
    "  confidence_desc INT,\n",
    "  time_desc DECIMAL(8,2),\n",
    "  answer_ekg VARCHAR(200),\n",
    "  points_ekg DECIMAL(3,1),\n",
    "  confidence_ekg INT,\n",
    "  time_ekg DECIMAL(8,2),\n",
    "  PRIMARY KEY(user, casen)\n",
    ") AS SELECT *\n",
    "  FROM CSVREAD('../../resources/nl-experiment1/transformed-data/nl-experiment-01.csv');"
   ]
  },
  {
   "cell_type": "code",
   "execution_count": 3,
   "metadata": {},
   "outputs": [
    {
     "data": {
      "application/vnd.jupyter.widget-view+json": {
       "model_id": "aafd4f01-d018-4e2c-81ac-35525756deb3",
       "version_major": 2,
       "version_minor": 0
      },
      "method": "display_data"
     },
     "metadata": {},
     "output_type": "display_data"
    }
   ],
   "source": [
    "SELECT * FROM DescEKGCases ORDER BY user, casen;"
   ]
  },
  {
   "cell_type": "markdown",
   "metadata": {},
   "source": [
    "# Overall Average of the Accuracy\n",
    "\n",
    "## For Description First\n",
    "\n",
    "* AVG_POINTS_DESC - avarage points of answer in the description stage (1st stage);\n",
    "* STD_POINTS_DESC - standard deviation of the points for the answers in the description stage (1st stage);\n",
    "* AVG_POINTS_EKG  - avarage points of answer in the EKG stage (2nd stage);\n",
    "* STD_POINTS_EKG - standard deviation of the points for the answers in the EKG stage (2nd stage)."
   ]
  },
  {
   "cell_type": "code",
   "execution_count": 4,
   "metadata": {},
   "outputs": [
    {
     "data": {
      "application/vnd.jupyter.widget-view+json": {
       "model_id": "5e1fd41b-fd6f-48b2-9826-70e3f1fef6d4",
       "version_major": 2,
       "version_minor": 0
      },
      "method": "display_data"
     },
     "metadata": {},
     "output_type": "display_data"
    }
   ],
   "source": [
    "SELECT ROUND(AVG(points_desc),2) AVG_points_desc, ROUND(STDDEV_SAMP(points_desc),2) STD_points_desc,\n",
    "       ROUND(AVG(points_ekg),2) AVG_points_ekg, ROUND(STDDEV_SAMP(points_ekg),2) STD_points_ekg\n",
    "FROM DescEKGCases\n",
    "WHERE ctype='DF';"
   ]
  },
  {
   "cell_type": "markdown",
   "metadata": {},
   "source": [
    "# For EKG First\n",
    "\n",
    "* AVG_POINTS_EKG  - avarage points of answer in the EKG stage (1st stage);\n",
    "* STD_POINTS_EKG - standard deviation of the points for the answers in the EKG stage (1st stage);\n",
    "* AVG_POINTS_DESC - avarage points of answer in the description stage (2nd stage);\n",
    "* STD_POINTS_DESC - standard deviation of the points for the answers in the description stage (2nd stage)."
   ]
  },
  {
   "cell_type": "code",
   "execution_count": 5,
   "metadata": {},
   "outputs": [
    {
     "data": {
      "application/vnd.jupyter.widget-view+json": {
       "model_id": "a698ba59-edc0-4aac-be7a-e9a83074e474",
       "version_major": 2,
       "version_minor": 0
      },
      "method": "display_data"
     },
     "metadata": {},
     "output_type": "display_data"
    }
   ],
   "source": [
    "SELECT ROUND(AVG(points_ekg),2) AVG_points_ekg, ROUND(STDDEV_SAMP(points_ekg),2) STD_points_ekg,\n",
    "       ROUND(AVG(points_desc),2) AVG_points_desc, ROUND(STDDEV_SAMP(points_desc),2) STD_points_desc\n",
    "FROM DescEKGCases\n",
    "WHERE ctype='EF';"
   ]
  },
  {
   "cell_type": "markdown",
   "metadata": {},
   "source": [
    "# Accuracy in the First and Second Task by Case\n",
    "## For Description First\n",
    "\n",
    "* AVG_POINTS_DESC - average points of the answer in the description stage (1st stage);\n",
    "* STD_POINTS_DESC - standard deviation of the points for the answers in the description stage (1st stage);\n",
    "* AVG_POINTS_EKG  - average points of the answer in the EKG stage (2nd stage);\n",
    "* STD_POINTS_EKG - standard deviation of the points for the answers in the EKG stage (2nd stage)."
   ]
  },
  {
   "cell_type": "code",
   "execution_count": 6,
   "metadata": {},
   "outputs": [
    {
     "data": {
      "application/vnd.jupyter.widget-view+json": {
       "model_id": "2cfcf2d6-dead-44f7-b70c-6afe12b55781",
       "version_major": 2,
       "version_minor": 0
      },
      "method": "display_data"
     },
     "metadata": {},
     "output_type": "display_data"
    }
   ],
   "source": [
    "SELECT casen, ROUND(AVG(points_desc),2) AVG_points_desc, ROUND(STDDEV_SAMP(points_desc),2) STD_points_desc,\n",
    "              ROUND(AVG(points_ekg),2) AVG_points_ekg, ROUND(STDDEV_SAMP(points_ekg),2) STD_points_ekg\n",
    "FROM DescEKGCases\n",
    "WHERE ctype='DF'\n",
    "GROUP BY casen\n",
    "ORDER BY casen;"
   ]
  },
  {
   "cell_type": "markdown",
   "metadata": {},
   "source": [
    "# For EKG First\n",
    "\n",
    "* AVG_POINTS_EKG  - average points of the answer in the EKG stage (1st stage);\n",
    "* STD_POINTS_EKG - standard deviation of the points for the answers in the EKG stage (1st stage);\n",
    "* AVG_POINTS_DESC - average points of the answer in the description stage (2nd stage);\n",
    "* STD_POINTS_DESC - standard deviation of the points for the answers in the description stage (2nd stage)."
   ]
  },
  {
   "cell_type": "code",
   "execution_count": 7,
   "metadata": {},
   "outputs": [
    {
     "data": {
      "application/vnd.jupyter.widget-view+json": {
       "model_id": "ffade810-4528-4717-bb01-de8a860ee30d",
       "version_major": 2,
       "version_minor": 0
      },
      "method": "display_data"
     },
     "metadata": {},
     "output_type": "display_data"
    }
   ],
   "source": [
    "SELECT casen, ROUND(AVG(points_ekg),2) AVG_points_ekg, ROUND(STDDEV_SAMP(points_ekg),2) STD_points_ekg,\n",
    "              ROUND(AVG(points_desc),2) AVG_points_desc, ROUND(STDDEV_SAMP(points_desc),2) STD_points_desc\n",
    "FROM DescEKGCases\n",
    "WHERE ctype='EF'\n",
    "GROUP BY casen\n",
    "ORDER BY casen;"
   ]
  },
  {
   "cell_type": "markdown",
   "metadata": {},
   "source": [
    "# Average According to the Success of Attempts\n",
    "## Wrong to Right\n",
    "### For Description First\n",
    "Attempts that were wrong at the beginning (accuracy below 1) and became right (accuracy equal 1).\n",
    "\n",
    "* NUMBER_ATTEMPTS - number of attempts that were wrong in the beginning and became right;\n",
    "* AVG_TIME_DESC - average time to answer in the description stage (1st stage);\n",
    "* AVG_CONFIDENCE_DESC - average confidence of the answers given in the description stage (1st stage);\n",
    "* AVG_TIME_EKG - average time to answer in the EKG stage (2nd stage);\n",
    "* AVG_CONFIDENCE_EKG - average confidence of the answers given in the EKG stage (2nd stage)."
   ]
  },
  {
   "cell_type": "code",
   "execution_count": 8,
   "metadata": {},
   "outputs": [
    {
     "data": {
      "application/vnd.jupyter.widget-view+json": {
       "model_id": "da4deba1-133c-4dd6-aa01-a1e017deeffd",
       "version_major": 2,
       "version_minor": 0
      },
      "method": "display_data"
     },
     "metadata": {},
     "output_type": "display_data"
    }
   ],
   "source": [
    "SELECT COUNT(*) Number_Attempts, ROUND(AVG(time_desc),2) AVG_Time_Desc,\n",
    "                                 ROUND(AVG(CONVERT(confidence_desc, DECIMAL)),2) AVG_Confidence_Desc,\n",
    "                                 ROUND(AVG(time_ekg),2) AVG_Time_EKG,\n",
    "                                 ROUND(AVG(CONVERT(confidence_ekg, DECIMAL)),2) AVG_Confidence_EKG\n",
    "FROM DescEKGCases\n",
    "WHERE ctype='DF' AND points_desc < 1 AND points_ekg = 1;"
   ]
  },
  {
   "cell_type": "markdown",
   "metadata": {},
   "source": [
    "### For EKG First\n",
    "Attempts that were wrong at the beginning (accuracy below 1) and became right (accuracy equal 1).\n",
    "\n",
    "* NUMBER_ATTEMPTS - number of attempts that were wrong in the beginning and became right;\n",
    "* AVG_TIME_EKG - average time to answer in the EKG stage (1st stage);\n",
    "* AVG_CONFIDENCE_EKG - average confidence of the answers given in the EKG stage (1st stage);\n",
    "* AVG_TIME_DESC - average time to answer in the description stage (2nd stage);\n",
    "* AVG_CONFIDENCE_DESC - average confidence of the answers given in the description stage (2nd stage)."
   ]
  },
  {
   "cell_type": "code",
   "execution_count": 9,
   "metadata": {},
   "outputs": [
    {
     "data": {
      "application/vnd.jupyter.widget-view+json": {
       "model_id": "11bd4a92-6567-4535-9f2d-7ef0e932dec6",
       "version_major": 2,
       "version_minor": 0
      },
      "method": "display_data"
     },
     "metadata": {},
     "output_type": "display_data"
    }
   ],
   "source": [
    "SELECT COUNT(*) Number_Attempts, ROUND(AVG(time_ekg),2) AVG_Time_EKG,\n",
    "                                 ROUND(AVG(CONVERT(confidence_ekg, DECIMAL)),2) AVG_Confidence_EKG,\n",
    "                                 ROUND(AVG(time_desc),2) AVG_Time_Desc,\n",
    "                                 ROUND(AVG(CONVERT(confidence_desc, DECIMAL)),2) AVG_Confidence_Desc\n",
    "FROM DescEKGCases\n",
    "WHERE ctype='EF' AND points_ekg < 1 AND points_desc = 1;"
   ]
  },
  {
   "cell_type": "markdown",
   "metadata": {},
   "source": [
    "## Wrong stays Wrong\n",
    "### For Description First\n",
    "\n",
    "Attempts that were wrong at the beginning (accuracy below 1) and stayed wrong (accuracy below 1).\n",
    "\n",
    "* NUMBER_ATTEMPTS - number of attempts that were wrong in the beginning and stayed wrong."
   ]
  },
  {
   "cell_type": "code",
   "execution_count": 10,
   "metadata": {},
   "outputs": [
    {
     "data": {
      "application/vnd.jupyter.widget-view+json": {
       "model_id": "e2ca2e89-06c8-4e6c-acc0-58ea7289ad99",
       "version_major": 2,
       "version_minor": 0
      },
      "method": "display_data"
     },
     "metadata": {},
     "output_type": "display_data"
    }
   ],
   "source": [
    "SELECT COUNT(*) Number_Attempts, ROUND(AVG(time_desc),2) AVG_Time_Desc,\n",
    "                                 ROUND(AVG(CONVERT(confidence_desc, DECIMAL)),2) AVG_Confidence_Desc,\n",
    "                                 ROUND(AVG(time_ekg),2) AVG_Time_EKG,\n",
    "                                 ROUND(AVG(CONVERT(confidence_ekg, DECIMAL)),2) AVG_Confidence_EKG\n",
    "FROM DescEKGCases\n",
    "WHERE ctype='DF' AND points_desc < 1 AND points_ekg < 1;"
   ]
  },
  {
   "cell_type": "markdown",
   "metadata": {},
   "source": [
    "### For EKG First"
   ]
  },
  {
   "cell_type": "code",
   "execution_count": 11,
   "metadata": {},
   "outputs": [
    {
     "data": {
      "application/vnd.jupyter.widget-view+json": {
       "model_id": "7f51057d-e856-4ad8-a810-01d704dbf1e6",
       "version_major": 2,
       "version_minor": 0
      },
      "method": "display_data"
     },
     "metadata": {},
     "output_type": "display_data"
    }
   ],
   "source": [
    "SELECT COUNT(*) Number_Attempts, ROUND(AVG(time_ekg),2) AVG_Time_EKG,\n",
    "                                 ROUND(AVG(CONVERT(confidence_ekg, DECIMAL)),2) AVG_Confidence_EKG,\n",
    "                                 ROUND(AVG(time_desc),2) AVG_Time_Desc,\n",
    "                                 ROUND(AVG(CONVERT(confidence_desc, DECIMAL)),2) AVG_Confidence_Desc\n",
    "FROM DescEKGCases\n",
    "WHERE ctype='EF' AND points_ekg < 1 AND points_desc < 1;"
   ]
  },
  {
   "cell_type": "markdown",
   "metadata": {},
   "source": [
    "## Right stays Right\n",
    "### For Description First\n",
    "\n",
    "Attempts that were right at the beginning (accuracy equal 1) and stayed right (accuracy equal 1).\n",
    "\n",
    "* NUMBER_ATTEMPTS - number of attempts that were right in the beginning and stayed right."
   ]
  },
  {
   "cell_type": "code",
   "execution_count": 12,
   "metadata": {},
   "outputs": [
    {
     "data": {
      "application/vnd.jupyter.widget-view+json": {
       "model_id": "bfafac7d-0a49-4769-bae9-937cc881184c",
       "version_major": 2,
       "version_minor": 0
      },
      "method": "display_data"
     },
     "metadata": {},
     "output_type": "display_data"
    }
   ],
   "source": [
    "SELECT COUNT(*) Number_Attempts, ROUND(AVG(time_desc),2) AVG_Time_Desc,\n",
    "                                 ROUND(AVG(CONVERT(confidence_desc, DECIMAL)),2) AVG_Confidence_Desc,\n",
    "                                 ROUND(AVG(time_ekg),2) AVG_Time_EKG,\n",
    "                                 ROUND(AVG(CONVERT(confidence_ekg, DECIMAL)),2) AVG_Confidence_EKG\n",
    "FROM DescEKGCases\n",
    "WHERE ctype='DF' AND points_desc = 1 AND points_ekg = 1;"
   ]
  },
  {
   "cell_type": "markdown",
   "metadata": {},
   "source": [
    "### For EKG First"
   ]
  },
  {
   "cell_type": "code",
   "execution_count": 13,
   "metadata": {},
   "outputs": [
    {
     "data": {
      "application/vnd.jupyter.widget-view+json": {
       "model_id": "830ddff7-eae5-4ba0-a106-9ba6add1a8d2",
       "version_major": 2,
       "version_minor": 0
      },
      "method": "display_data"
     },
     "metadata": {},
     "output_type": "display_data"
    }
   ],
   "source": [
    "SELECT COUNT(*) Number_Attempts, ROUND(AVG(time_ekg),2) AVG_Time_EKG,\n",
    "                                 ROUND(AVG(CONVERT(confidence_ekg, DECIMAL)),2) AVG_Confidence_EKG,\n",
    "                                 ROUND(AVG(time_desc),2) AVG_Time_Desc,\n",
    "                                 ROUND(AVG(CONVERT(confidence_desc, DECIMAL)),2) AVG_Confidence_Desc\n",
    "FROM DescEKGCases\n",
    "WHERE ctype='EF' AND points_ekg = 1 AND points_desc = 1;"
   ]
  },
  {
   "cell_type": "markdown",
   "metadata": {},
   "source": [
    "# Question 01\n",
    "The order of the presentation affects the confidence.\n",
    "\n",
    "## For Description First\n",
    "\n",
    "* AVG_CONFIDENCE_DESC - average confidence of the answers given in the description stage (1st stage);\n",
    "* AVG_CONFIDENCE_EKG - average confidence of the answers given in the EKG stage (2nd stage).\n",
    "* AVG_CONFIDENCE_OVERALL - average confidence of the answers in both stages."
   ]
  },
  {
   "cell_type": "code",
   "execution_count": 14,
   "metadata": {},
   "outputs": [
    {
     "data": {
      "application/vnd.jupyter.widget-view+json": {
       "model_id": "6d594a91-5258-4239-a9c2-62e6f315fcac",
       "version_major": 2,
       "version_minor": 0
      },
      "method": "display_data"
     },
     "metadata": {},
     "output_type": "display_data"
    }
   ],
   "source": [
    "SELECT ROUND(AVG(CONVERT(confidence_desc, DECIMAL)),2) AVG_confidence_desc,\n",
    "       ROUND(AVG(CONVERT(confidence_ekg, DECIMAL)),2) AVG_confidence_ekg,\n",
    "       ROUND(((AVG(CONVERT(confidence_desc, DECIMAL)) + AVG(CONVERT(confidence_ekg, DECIMAL))) / 2),2) AS AVG_Overall\n",
    "FROM DescEKGCases\n",
    "WHERE ctype = 'DF';"
   ]
  },
  {
   "cell_type": "markdown",
   "metadata": {},
   "source": [
    "## For EKG First\n",
    "\n",
    "* AVG_CONFIDENCE_EKG - average confidence of the answers given in the EKG stage (1st stage).\n",
    "* AVG_CONFIDENCE_DESC - average confidence of the answers given in the description stage (2nd stage);\n",
    "* AVG_CONFIDENCE_OVERALL - average confidence of the answers in both stages."
   ]
  },
  {
   "cell_type": "code",
   "execution_count": 15,
   "metadata": {},
   "outputs": [
    {
     "data": {
      "application/vnd.jupyter.widget-view+json": {
       "model_id": "c0701c35-cc17-421e-bc0b-8b35f8c5fa05",
       "version_major": 2,
       "version_minor": 0
      },
      "method": "display_data"
     },
     "metadata": {},
     "output_type": "display_data"
    }
   ],
   "source": [
    "SELECT ROUND(AVG(CONVERT(confidence_ekg, DECIMAL)),2) AVG_confidence_ekg,\n",
    "       ROUND(AVG(CONVERT(confidence_desc, DECIMAL)),2) AVG_confidence_desc,\n",
    "       ROUND(((AVG(CONVERT(confidence_desc, DECIMAL)) + AVG(CONVERT(confidence_ekg, DECIMAL))) / 2),2) AS AVG_Overall\n",
    "FROM DescEKGCases\n",
    "WHERE ctype = 'EF';"
   ]
  },
  {
   "cell_type": "markdown",
   "metadata": {},
   "source": [
    "# Question 02\n",
    "The confidence score in the first stage affects the time it takes to accomplish the task in the second stage.\n",
    "\n",
    "## For Description First\n",
    "* AVG_CONFIDENCE_DESC - average confidence of the answers given in the description stage (1st stage) grouped per case;\n",
    "* AVG_TIME_EKG - average time to give the answers in the EKG stage (2nd stage) grouped per case;\n",
    "\n",
    "\n",
    "* AVG_CONFIDENCE_DESC_OVERALL - average confidence of the answers given in the description stage (1st stage) in all cases;\n",
    "* AVG_TIME_EKG_OVERALL - average time to give the answers in the EKG stage (2nd stage) in all cases."
   ]
  },
  {
   "cell_type": "code",
   "execution_count": 16,
   "metadata": {},
   "outputs": [
    {
     "data": {
      "application/vnd.jupyter.widget-view+json": {
       "model_id": "3615b953-df73-4165-902e-23d8deb08260",
       "version_major": 2,
       "version_minor": 0
      },
      "method": "display_data"
     },
     "metadata": {},
     "output_type": "display_data"
    },
    {
     "data": {
      "application/vnd.jupyter.widget-view+json": {
       "model_id": "f2386550-7839-4ebf-a232-3bc2a83942cc",
       "version_major": 2,
       "version_minor": 0
      },
      "method": "display_data"
     },
     "metadata": {},
     "output_type": "display_data"
    }
   ],
   "source": [
    "SELECT casen, ROUND(AVG(CONVERT(confidence_desc, DECIMAL)),2) AVG_confidence_desc, ROUND(AVG(time_ekg),2) AVG_time_ekg\n",
    "FROM DescEKGCases\n",
    "WHERE ctype = 'DF'\n",
    "GROUP BY casen\n",
    "ORDER BY casen;\n",
    "\n",
    "SELECT ROUND(AVG(CONVERT(confidence_desc, DECIMAL)),2) AVG_confidence_desc_overall, ROUND(AVG(time_ekg),2) AVG_time_ekg_overall\n",
    "FROM DescEKGCases\n",
    "WHERE ctype = 'DF';"
   ]
  },
  {
   "cell_type": "markdown",
   "metadata": {},
   "source": [
    "## For EKG First\n",
    "* AVG_CONFIDENCE_EKG - average confidence of the answers given in the EKG stage (1st stage) grouped per case;\n",
    "* AVG_TIME_DESC - average time to give the answers in the description stage (2nd stage) grouped per case;\n",
    "\n",
    "\n",
    "* AVG_CONFIDENCE_EKG_OVERALL - average confidence of the answers given in the EKG stage (1st stage) in all cases;\n",
    "* AVG_TIME_DESC_OVERALL - average time to give the answers in the description stage (2nd stage) in all cases."
   ]
  },
  {
   "cell_type": "code",
   "execution_count": 17,
   "metadata": {},
   "outputs": [
    {
     "data": {
      "application/vnd.jupyter.widget-view+json": {
       "model_id": "8923d251-1857-4a0b-8c83-2fc1b6ba767a",
       "version_major": 2,
       "version_minor": 0
      },
      "method": "display_data"
     },
     "metadata": {},
     "output_type": "display_data"
    },
    {
     "data": {
      "application/vnd.jupyter.widget-view+json": {
       "model_id": "f5a901d7-0acc-496e-9d39-70c4f76bb0e7",
       "version_major": 2,
       "version_minor": 0
      },
      "method": "display_data"
     },
     "metadata": {},
     "output_type": "display_data"
    }
   ],
   "source": [
    "SELECT casen, ROUND(AVG(CONVERT(confidence_ekg, DECIMAL)),2) AVG_confidence_ekg, ROUND(AVG(time_desc),2) AVG_time_desc\n",
    "FROM DescEKGCases\n",
    "WHERE ctype = 'EF'\n",
    "GROUP BY casen\n",
    "ORDER BY casen;\n",
    "\n",
    "SELECT ROUND(AVG(CONVERT(confidence_ekg, DECIMAL)),2) AVG_confidence_ekg_overall, ROUND(AVG(time_desc),2) AVG_time_desc_overall\n",
    "FROM DescEKGCases\n",
    "WHERE ctype = 'EF';"
   ]
  },
  {
   "cell_type": "markdown",
   "metadata": {},
   "source": [
    "# Question 3\n",
    "\n",
    "The confidence score in the first stage will influence the probability of changing the hypothesis.\n",
    "\n",
    "## Description First\n",
    "\n",
    "* AVG_CONFIDENCE_DESC_CHANGED - the average of the confidence during the description stage (1st stage) of those who changed the answer from the first stage to the second stage;\n",
    "* NUMBER_CHANGED - number of users who changed the answer from the first stage to the second stage;\n",
    "* PERCENT_CHANGED - percentual of the users who changed the answer from the first stage to the second stage;\n",
    "* AVG_CONFIDENCE_DESC_NOT_CHANGED - the average of the confidence during the description stage (1st stage) of those who not changed the answer from the first stage to the second stage;\n",
    "* NUMBER_NOT_CHANGED - number of users who not changed the answer from the first stage to the second stage;\n",
    "* PERCENT_NOT_CHANGED - percentual of the users who not changed the answer from the first stage to the second stage."
   ]
  },
  {
   "cell_type": "code",
   "execution_count": 18,
   "metadata": {},
   "outputs": [
    {
     "data": {
      "application/vnd.jupyter.widget-view+json": {
       "model_id": "8d7d4a71-ab11-4b25-ab26-782b792adc3a",
       "version_major": 2,
       "version_minor": 0
      },
      "method": "display_data"
     },
     "metadata": {},
     "output_type": "display_data"
    }
   ],
   "source": [
    "DROP VIEW IF EXISTS ChangedHypDesc;\n",
    "CREATE VIEW ChangedHypDesc AS\n",
    "SELECT casen, ROUND(AVG(CONVERT(confidence_desc, DECIMAL)),2) AVG_confidence_desc_changed, COUNT(*) number_changed\n",
    "FROM DescEKGCases\n",
    "WHERE ctype = 'DF' AND answer_desc <> answer_ekg\n",
    "GROUP BY casen\n",
    "ORDER BY casen;\n",
    "\n",
    "DROP VIEW IF EXISTS NotChangedHypDesc;\n",
    "CREATE VIEW NotChangedHypDesc AS\n",
    "SELECT casen, ROUND(AVG(CONVERT(confidence_desc, DECIMAL)),2) AVG_confidence_desc_not_changed, COUNT(*) number_not_changed\n",
    "FROM DescEKGCases\n",
    "WHERE ctype = 'DF' AND answer_desc = answer_ekg\n",
    "GROUP BY casen\n",
    "ORDER BY casen;\n",
    "\n",
    "DROP VIEW IF EXISTS CompHypDesc;\n",
    "CREATE VIEW CompHypDesc AS\n",
    "SELECT CH.casen, CH.AVG_confidence_desc_changed, CH.number_changed,\n",
    "                 ROUND(CONVERT(CH.number_changed, DECIMAL)*100 / (CH.number_changed+NT.number_not_changed), 2) AS percent_changed,\n",
    "                 NT.AVG_confidence_desc_not_changed, NT.number_not_changed,\n",
    "                 ROUND(CONVERT(NT.number_not_changed, DECIMAL)*100 / (CH.number_changed+NT.number_not_changed),2) AS percent_not_changed\n",
    "FROM ChangedHypDesc CH, NotChangedHypDesc NT\n",
    "WHERE CH.casen = NT.casen\n",
    "ORDER BY casen;\n",
    "\n",
    "SELECT * FROM CompHypDesc;"
   ]
  },
  {
   "cell_type": "markdown",
   "metadata": {},
   "source": [
    "* AVG_CONFIDENCE_DESC_CHANGED - the average of the confidence during the description stage (1st stage) of those who changed the answer from the first stage to the second stage  throughout the cases;\n",
    "* AVG_NUMBER_CHANGED - the average of the number of users who changed the answer from the first stage to the second stage throughout the cases;\n",
    "* PERCENT_CHANGED - the average of the percentual of the users who changed the answer from the first stage to the second stage throughout the cases;\n",
    "* AVG_CONFIDENCE_DESC_NOT_CHANGED - the average of the confidence of the cases during the description stage (1st stage) of those who not changed the answer from the first stage to the second stage throughout the cases;\n",
    "* AVG_NUMBER_NOT_CHANGED - the average of the number of users who not changed the answer from the first stage to the second stage throughout the cases;\n",
    "* PERCENT_NOT_CHANGED - the average of the percentual of the users who not changed the answer from the first stage to the second stage throughout the cases."
   ]
  },
  {
   "cell_type": "code",
   "execution_count": 19,
   "metadata": {},
   "outputs": [
    {
     "data": {
      "application/vnd.jupyter.widget-view+json": {
       "model_id": "19fa288d-f834-416e-89c6-ac0bc9cc2034",
       "version_major": 2,
       "version_minor": 0
      },
      "method": "display_data"
     },
     "metadata": {},
     "output_type": "display_data"
    }
   ],
   "source": [
    "SELECT ROUND(AVG(AVG_confidence_desc_changed),2) AVG_confidence_desc_changed,\n",
    "       ROUND(AVG(CONVERT(number_changed, DECIMAL)),2) avg_number_changed,\n",
    "       ROUND(AVG(percent_changed),2) avg_percent_changed,\n",
    "       ROUND(AVG(AVG_confidence_desc_not_changed),2) AVG_confidence_desc_not_changed,\n",
    "       ROUND(AVG(CONVERT(number_not_changed, DECIMAL)),2) avg_number_not_changed,\n",
    "       ROUND(AVG(percent_not_changed),2) avg_percent_not_changed\n",
    "FROM CompHypDesc;"
   ]
  },
  {
   "cell_type": "markdown",
   "metadata": {},
   "source": [
    "## EKG First\n",
    "\n",
    "* AVG_CONFIDENCE_EKG_CHANGED - the average of the confidence during the EKG stage (1st stage) of those who changed the answer from the first stage to the second stage;\n",
    "* NUMBER_CHANGED - number of users who changed the answer from the first stage to the second stage;\n",
    "* PERCENT_CHANGED - percentual of the users who changed the answer from the first stage to the second stage;\n",
    "* AVG_CONFIDENCE_EKG_NOT_CHANGED - the average of the confidence during the EKG stage (1st stage) of those who not changed the answer from the first stage to the second stage;\n",
    "* NUMBER_NOT_CHANGED - number of users who not changed the answer from the first stage to the second stage;\n",
    "* PERCENT_NOT_CHANGED - percentual of the users who not changed the answer from the first stage to the second stage."
   ]
  },
  {
   "cell_type": "code",
   "execution_count": 20,
   "metadata": {},
   "outputs": [
    {
     "data": {
      "application/vnd.jupyter.widget-view+json": {
       "model_id": "94a8249f-6a55-45fc-875d-cf64e276176c",
       "version_major": 2,
       "version_minor": 0
      },
      "method": "display_data"
     },
     "metadata": {},
     "output_type": "display_data"
    }
   ],
   "source": [
    "DROP VIEW IF EXISTS ChangedHypEKG;\n",
    "CREATE VIEW ChangedHypEKG AS\n",
    "SELECT casen, ROUND(AVG(CONVERT(confidence_ekg, DECIMAL)),2) AVG_confidence_ekg_changed, COUNT(*) number_changed\n",
    "FROM DescEKGCases\n",
    "WHERE ctype = 'EF' AND answer_ekg <> answer_desc\n",
    "GROUP BY casen\n",
    "ORDER BY casen;\n",
    "\n",
    "DROP VIEW IF EXISTS NotChangedHypEKG;\n",
    "CREATE VIEW NotChangedHypEKG AS\n",
    "SELECT casen, ROUND(AVG(CONVERT(confidence_ekg, DECIMAL)),2) AVG_confidence_ekg_not_changed, COUNT(*) number_not_changed\n",
    "FROM DescEKGCases\n",
    "WHERE ctype = 'EF' AND answer_ekg = answer_desc\n",
    "GROUP BY casen\n",
    "ORDER BY casen;\n",
    "\n",
    "DROP VIEW IF EXISTS CompHypEKG;\n",
    "CREATE VIEW CompHypEKG AS\n",
    "SELECT CH.casen, CH.AVG_confidence_ekg_changed, CH.number_changed,\n",
    "                 ROUND(CONVERT(CH.number_changed, DECIMAL)*100 / (CH.number_changed+NT.number_not_changed), 2) AS percent_changed,\n",
    "                 NT.AVG_confidence_ekg_not_changed, NT.number_not_changed,\n",
    "                 ROUND(CONVERT(NT.number_not_changed, DECIMAL)*100 / (CH.number_changed+NT.number_not_changed),2) AS percent_not_changed\n",
    "FROM ChangedHypEKG CH, NotChangedHypEKG NT\n",
    "WHERE CH.casen = NT.casen\n",
    "ORDER BY casen;\n",
    "\n",
    "SELECT * FROM CompHypEKG;"
   ]
  },
  {
   "cell_type": "markdown",
   "metadata": {},
   "source": [
    "* AVG_CONFIDENCE_EKG_CHANGED - the average of the confidence during the EKG stage (1st stage) of those who changed the answer from the first stage to the second stage  throughout the cases;\n",
    "* AVG_NUMBER_CHANGED - the average of the number of users who changed the answer from the first stage to the second stage throughout the cases;\n",
    "* PERCENT_CHANGED - the average of the percentual of the users who changed the answer from the first stage to the second stage throughout the cases;\n",
    "* AVG_CONFIDENCE_EKG_NOT_CHANGED - the average of the confidence of the cases during the EKG stage (1st stage) of those who not changed the answer from the first stage to the second stage throughout the cases;\n",
    "* AVG_NUMBER_NOT_CHANGED - the average of the number of users who not changed the answer from the first stage to the second stage throughout the cases;\n",
    "* PERCENT_NOT_CHANGED - the average of the percentual of the users who not changed the answer from the first stage to the second stage throughout the cases."
   ]
  },
  {
   "cell_type": "code",
   "execution_count": 21,
   "metadata": {},
   "outputs": [
    {
     "data": {
      "application/vnd.jupyter.widget-view+json": {
       "model_id": "1ebf8c83-eae5-4a0f-9eb7-c035c361091e",
       "version_major": 2,
       "version_minor": 0
      },
      "method": "display_data"
     },
     "metadata": {},
     "output_type": "display_data"
    }
   ],
   "source": [
    "SELECT ROUND(AVG(AVG_confidence_ekg_changed),2) AVG_confidence_ekg_changed,\n",
    "       ROUND(AVG(CONVERT(number_changed, DECIMAL)),2) avg_number_changed,\n",
    "       ROUND(AVG(percent_changed),2) avg_percent_changed,\n",
    "       ROUND(AVG(AVG_confidence_ekg_not_changed),2) AVG_confidence_ekg_not_changed,\n",
    "       ROUND(AVG(CONVERT(number_not_changed, DECIMAL)),2) avg_number_not_changed,\n",
    "       ROUND(AVG(percent_not_changed),2) avg_percent_not_changed\n",
    "FROM CompHypEKG;"
   ]
  },
  {
   "cell_type": "markdown",
   "metadata": {},
   "source": [
    "# Question 4\n",
    "\n",
    "The time to accomplish the first and second stages between the groups.\n",
    "\n",
    "# Question 5\n",
    "\n",
    "The time between the first and the second task.\n",
    "\n",
    "* DF_AVG_TIME_1ST_DESC - the average time to accomplish the first stage (description stage) for the description first users;\n",
    "* DF_AVG_TIME_2ND_EKG - the average time to accomplish the second stage (EKG stage) for the description first users;\n",
    "* EF_AVG_TIME_1ST_EKG - the average time to accomplish the first stage (EKG stage) for the EKG first users;\n",
    "* EF_AVG_TIME_2ND_DESC - the average time to accomplish the second stage (description stage) for the EKG first users."
   ]
  },
  {
   "cell_type": "code",
   "execution_count": 22,
   "metadata": {},
   "outputs": [
    {
     "data": {
      "application/vnd.jupyter.widget-view+json": {
       "model_id": "9ed4add0-d513-4743-9f58-68c848ad5882",
       "version_major": 2,
       "version_minor": 0
      },
      "method": "display_data"
     },
     "metadata": {},
     "output_type": "display_data"
    }
   ],
   "source": [
    "DROP VIEW IF EXISTS TimeTasksDesc;\n",
    "CREATE VIEW TimeTasksDesc AS\n",
    "SELECT casen, AVG(time_desc) avg_time_1st_desc, AVG(time_ekg) avg_time_2nd_ekg\n",
    "FROM DescEKGCases\n",
    "WHERE ctype = 'DF'\n",
    "GROUP BY casen\n",
    "ORDER BY casen;\n",
    "\n",
    "DROP VIEW IF EXISTS TimeTasksEKG;\n",
    "CREATE VIEW TimeTasksEKG AS\n",
    "SELECT casen, AVG(time_ekg) avg_time_1st_ekg, AVG(time_desc) avg_time_2nd_desc\n",
    "FROM DescEKGCases\n",
    "WHERE ctype = 'EF'\n",
    "GROUP BY casen\n",
    "ORDER BY casen;\n",
    "\n",
    "SELECT DF.casen, ROUND(DF.avg_time_1st_desc, 2) df_avg_time_1st_desc, ROUND(DF.avg_time_2nd_ekg, 2) df_avg_time_2nd_ekg,\n",
    "                 ROUND(EF.avg_time_1st_ekg, 2) ef_avg_time_1st_ekg, ROUND(EF.avg_time_2nd_desc, 2) ef_avg_time_2nd_desc\n",
    "FROM TimeTasksDesc DF, TimeTasksEKG EF\n",
    "WHERE DF.casen = EF.casen;"
   ]
  },
  {
   "cell_type": "markdown",
   "metadata": {},
   "source": [
    "The confidence in the answer to the first and second stages between the groups.\n",
    "\n",
    "* DF_AVG_TIME_1ST_DESC - the average confidence in the answer to the first stage (description stage) for the description first users;\n",
    "* DF_AVG_TIME_2ND_EKG - the average confidence in the answer to the second stage (EKG stage) for the description first users;\n",
    "* EF_AVG_TIME_1ST_EKG - the average confidence in the answer to the first stage (EKG stage) for the EKG first users;\n",
    "* EF_AVG_TIME_2ND_DESC - the average confidence in the answer to the second stage (description stage) for the EKG first users."
   ]
  },
  {
   "cell_type": "code",
   "execution_count": 23,
   "metadata": {},
   "outputs": [
    {
     "data": {
      "application/vnd.jupyter.widget-view+json": {
       "model_id": "9ece681b-9c3d-472f-8d8d-9518972a720d",
       "version_major": 2,
       "version_minor": 0
      },
      "method": "display_data"
     },
     "metadata": {},
     "output_type": "display_data"
    }
   ],
   "source": [
    "DROP VIEW IF EXISTS ConfidenceTasksDesc;\n",
    "CREATE VIEW ConfidenceTasksDesc AS\n",
    "SELECT casen, ROUND(AVG(CONVERT(confidence_desc, DECIMAL)),2) avg_confidence_1st_desc,\n",
    "              ROUND(AVG(CONVERT(confidence_ekg, DECIMAL)),2) avg_confidence_2nd_ekg\n",
    "FROM DescEKGCases\n",
    "WHERE ctype = 'DF'\n",
    "GROUP BY casen\n",
    "ORDER BY casen;\n",
    "\n",
    "DROP VIEW IF EXISTS ConfidenceTasksEKG;\n",
    "CREATE VIEW ConfidenceTasksEKG AS\n",
    "SELECT casen, ROUND(AVG(CONVERT(confidence_ekg, DECIMAL)),2) avg_confidence_1st_ekg,\n",
    "              ROUND(AVG(CONVERT(confidence_desc, DECIMAL)),2) avg_confidence_2nd_desc\n",
    "FROM DescEKGCases\n",
    "WHERE ctype = 'EF'\n",
    "GROUP BY casen\n",
    "ORDER BY casen;\n",
    "\n",
    "SELECT DF.casen, DF.avg_confidence_1st_desc df_avg_confidence_1st_desc, DF.avg_confidence_2nd_ekg df_avg_confidence_2nd_ekg,\n",
    "                 EF.avg_confidence_1st_ekg ef_avg_confidence_1st_ekg, EF.avg_confidence_2nd_desc ef_avg_confidence_2nd_desc\n",
    "FROM ConfidenceTasksDesc DF, ConfidenceTasksEKG EF\n",
    "WHERE DF.casen = EF.casen;"
   ]
  }
 ],
 "metadata": {
  "kernelspec": {
   "display_name": "SQL",
   "language": "SQL",
   "name": "sql"
  },
  "language_info": {
   "codemirror_mode": "sql",
   "file_extension": ".sql",
   "mimetype": "",
   "name": "SQL",
   "nbconverter_exporter": "",
   "version": ""
  },
  "toc": {
   "base_numbering": 1,
   "nav_menu": {},
   "number_sections": false,
   "sideBar": false,
   "skip_h1_title": false,
   "title_cell": "Table of Contents",
   "title_sidebar": "Contents",
   "toc_cell": false,
   "toc_position": {},
   "toc_section_display": false,
   "toc_window_display": false
  }
 },
 "nbformat": 4,
 "nbformat_minor": 2
}
