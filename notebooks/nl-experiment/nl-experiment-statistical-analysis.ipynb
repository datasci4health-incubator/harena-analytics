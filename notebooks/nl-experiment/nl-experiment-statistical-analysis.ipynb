{
 "cells": [
  {
   "cell_type": "markdown",
   "metadata": {},
   "source": [
    "# Statistical Analysis of Groups (t-student testing)"
   ]
  },
  {
   "cell_type": "code",
   "execution_count": 66,
   "metadata": {},
   "outputs": [],
   "source": [
    "%matplotlib inline\n",
    "import numpy as np\n",
    "import pandas as pd\n",
    "import seaborn as sn\n",
    "from scipy.stats import ttest_ind, ttest_rel, sem, t, chi2_contingency\n",
    "from scipy.stats.contingency import expected_freq\n",
    "from sklearn.linear_model import LinearRegression\n",
    "import matplotlib.pyplot as plt"
   ]
  },
  {
   "cell_type": "code",
   "execution_count": 67,
   "metadata": {},
   "outputs": [],
   "source": [
    "data_path = \"../../resources/nl-experiment1/transformed-data/nl-experiment-01-revised.csv\"\n",
    "nl_data = pd.read_csv(data_path)"
   ]
  },
  {
   "cell_type": "code",
   "execution_count": 68,
   "metadata": {},
   "outputs": [
    {
     "data": {
      "text/html": [
       "<div>\n",
       "<style scoped>\n",
       "    .dataframe tbody tr th:only-of-type {\n",
       "        vertical-align: middle;\n",
       "    }\n",
       "\n",
       "    .dataframe tbody tr th {\n",
       "        vertical-align: top;\n",
       "    }\n",
       "\n",
       "    .dataframe thead th {\n",
       "        text-align: right;\n",
       "    }\n",
       "</style>\n",
       "<table border=\"1\" class=\"dataframe\">\n",
       "  <thead>\n",
       "    <tr style=\"text-align: right;\">\n",
       "      <th></th>\n",
       "      <th>CTYPE</th>\n",
       "      <th>USER</th>\n",
       "      <th>CASEN</th>\n",
       "      <th>ANSWER_DESC</th>\n",
       "      <th>POINTS_DESC</th>\n",
       "      <th>CONFIDENCE_DESC</th>\n",
       "      <th>TIME_DESC</th>\n",
       "      <th>ANSWER_EKG</th>\n",
       "      <th>POINTS_EKG</th>\n",
       "      <th>CONFIDENCE_EKG</th>\n",
       "      <th>TIME_EKG</th>\n",
       "    </tr>\n",
       "  </thead>\n",
       "  <tbody>\n",
       "    <tr>\n",
       "      <td>0</td>\n",
       "      <td>DF</td>\n",
       "      <td>61</td>\n",
       "      <td>Case-01</td>\n",
       "      <td>acs</td>\n",
       "      <td>1.0</td>\n",
       "      <td>60</td>\n",
       "      <td>116.29</td>\n",
       "      <td>nstemi</td>\n",
       "      <td>1.0</td>\n",
       "      <td>85</td>\n",
       "      <td>44.17</td>\n",
       "    </tr>\n",
       "    <tr>\n",
       "      <td>1</td>\n",
       "      <td>DF</td>\n",
       "      <td>61</td>\n",
       "      <td>Case-02</td>\n",
       "      <td>gastrointestinal</td>\n",
       "      <td>1.0</td>\n",
       "      <td>85</td>\n",
       "      <td>102.18</td>\n",
       "      <td>gastrointestinal</td>\n",
       "      <td>1.0</td>\n",
       "      <td>65</td>\n",
       "      <td>101.37</td>\n",
       "    </tr>\n",
       "    <tr>\n",
       "      <td>2</td>\n",
       "      <td>DF</td>\n",
       "      <td>61</td>\n",
       "      <td>Case-03</td>\n",
       "      <td>tendomyogenic</td>\n",
       "      <td>1.0</td>\n",
       "      <td>85</td>\n",
       "      <td>81.42</td>\n",
       "      <td>tendomyogenic</td>\n",
       "      <td>1.0</td>\n",
       "      <td>85</td>\n",
       "      <td>31.00</td>\n",
       "    </tr>\n",
       "    <tr>\n",
       "      <td>3</td>\n",
       "      <td>DF</td>\n",
       "      <td>61</td>\n",
       "      <td>Case-07</td>\n",
       "      <td>pericarditis</td>\n",
       "      <td>1.0</td>\n",
       "      <td>50</td>\n",
       "      <td>67.92</td>\n",
       "      <td>pericarditis</td>\n",
       "      <td>1.0</td>\n",
       "      <td>91</td>\n",
       "      <td>34.73</td>\n",
       "    </tr>\n",
       "    <tr>\n",
       "      <td>4</td>\n",
       "      <td>DF</td>\n",
       "      <td>61</td>\n",
       "      <td>Case-08</td>\n",
       "      <td>acs</td>\n",
       "      <td>1.0</td>\n",
       "      <td>70</td>\n",
       "      <td>49.27</td>\n",
       "      <td>acs</td>\n",
       "      <td>1.0</td>\n",
       "      <td>90</td>\n",
       "      <td>33.66</td>\n",
       "    </tr>\n",
       "    <tr>\n",
       "      <td>...</td>\n",
       "      <td>...</td>\n",
       "      <td>...</td>\n",
       "      <td>...</td>\n",
       "      <td>...</td>\n",
       "      <td>...</td>\n",
       "      <td>...</td>\n",
       "      <td>...</td>\n",
       "      <td>...</td>\n",
       "      <td>...</td>\n",
       "      <td>...</td>\n",
       "      <td>...</td>\n",
       "    </tr>\n",
       "    <tr>\n",
       "      <td>584</td>\n",
       "      <td>EF</td>\n",
       "      <td>116</td>\n",
       "      <td>Case-13</td>\n",
       "      <td>nstemi</td>\n",
       "      <td>1.0</td>\n",
       "      <td>80</td>\n",
       "      <td>32.83</td>\n",
       "      <td>nstemi (neg t inf)</td>\n",
       "      <td>1.0</td>\n",
       "      <td>70</td>\n",
       "      <td>55.83</td>\n",
       "    </tr>\n",
       "    <tr>\n",
       "      <td>585</td>\n",
       "      <td>EF</td>\n",
       "      <td>116</td>\n",
       "      <td>Case-15</td>\n",
       "      <td>nstemi</td>\n",
       "      <td>1.0</td>\n",
       "      <td>77</td>\n",
       "      <td>58.47</td>\n",
       "      <td>gb</td>\n",
       "      <td>0.0</td>\n",
       "      <td>60</td>\n",
       "      <td>26.95</td>\n",
       "    </tr>\n",
       "    <tr>\n",
       "      <td>586</td>\n",
       "      <td>EF</td>\n",
       "      <td>116</td>\n",
       "      <td>Case-16</td>\n",
       "      <td>nstemi</td>\n",
       "      <td>1.0</td>\n",
       "      <td>85</td>\n",
       "      <td>36.39</td>\n",
       "      <td>oud inf infarct en nstemi</td>\n",
       "      <td>0.5</td>\n",
       "      <td>65</td>\n",
       "      <td>48.28</td>\n",
       "    </tr>\n",
       "    <tr>\n",
       "      <td>587</td>\n",
       "      <td>EF</td>\n",
       "      <td>116</td>\n",
       "      <td>Case-17</td>\n",
       "      <td>nstemi</td>\n",
       "      <td>0.5</td>\n",
       "      <td>80</td>\n",
       "      <td>44.04</td>\n",
       "      <td>kort pr interval en nstemi</td>\n",
       "      <td>0.0</td>\n",
       "      <td>69</td>\n",
       "      <td>47.32</td>\n",
       "    </tr>\n",
       "    <tr>\n",
       "      <td>588</td>\n",
       "      <td>EF</td>\n",
       "      <td>116</td>\n",
       "      <td>Case-19</td>\n",
       "      <td>nstemi</td>\n",
       "      <td>1.0</td>\n",
       "      <td>80</td>\n",
       "      <td>32.10</td>\n",
       "      <td>preexcitatie (v2)</td>\n",
       "      <td>0.0</td>\n",
       "      <td>66</td>\n",
       "      <td>43.09</td>\n",
       "    </tr>\n",
       "  </tbody>\n",
       "</table>\n",
       "<p>589 rows × 11 columns</p>\n",
       "</div>"
      ],
      "text/plain": [
       "    CTYPE  USER    CASEN       ANSWER_DESC  POINTS_DESC  CONFIDENCE_DESC  \\\n",
       "0      DF    61  Case-01               acs          1.0               60   \n",
       "1      DF    61  Case-02  gastrointestinal          1.0               85   \n",
       "2      DF    61  Case-03     tendomyogenic          1.0               85   \n",
       "3      DF    61  Case-07      pericarditis          1.0               50   \n",
       "4      DF    61  Case-08               acs          1.0               70   \n",
       "..    ...   ...      ...               ...          ...              ...   \n",
       "584    EF   116  Case-13            nstemi          1.0               80   \n",
       "585    EF   116  Case-15            nstemi          1.0               77   \n",
       "586    EF   116  Case-16            nstemi          1.0               85   \n",
       "587    EF   116  Case-17            nstemi          0.5               80   \n",
       "588    EF   116  Case-19            nstemi          1.0               80   \n",
       "\n",
       "     TIME_DESC                  ANSWER_EKG  POINTS_EKG  CONFIDENCE_EKG  \\\n",
       "0       116.29                      nstemi         1.0              85   \n",
       "1       102.18            gastrointestinal         1.0              65   \n",
       "2        81.42               tendomyogenic         1.0              85   \n",
       "3        67.92                pericarditis         1.0              91   \n",
       "4        49.27                         acs         1.0              90   \n",
       "..         ...                         ...         ...             ...   \n",
       "584      32.83          nstemi (neg t inf)         1.0              70   \n",
       "585      58.47                          gb         0.0              60   \n",
       "586      36.39   oud inf infarct en nstemi         0.5              65   \n",
       "587      44.04  kort pr interval en nstemi         0.0              69   \n",
       "588      32.10           preexcitatie (v2)         0.0              66   \n",
       "\n",
       "     TIME_EKG  \n",
       "0       44.17  \n",
       "1      101.37  \n",
       "2       31.00  \n",
       "3       34.73  \n",
       "4       33.66  \n",
       "..        ...  \n",
       "584     55.83  \n",
       "585     26.95  \n",
       "586     48.28  \n",
       "587     47.32  \n",
       "588     43.09  \n",
       "\n",
       "[589 rows x 11 columns]"
      ]
     },
     "execution_count": 68,
     "metadata": {},
     "output_type": "execute_result"
    }
   ],
   "source": [
    "nl_data"
   ]
  },
  {
   "cell_type": "code",
   "execution_count": 69,
   "metadata": {},
   "outputs": [
    {
     "data": {
      "text/html": [
       "<div>\n",
       "<style scoped>\n",
       "    .dataframe tbody tr th:only-of-type {\n",
       "        vertical-align: middle;\n",
       "    }\n",
       "\n",
       "    .dataframe tbody tr th {\n",
       "        vertical-align: top;\n",
       "    }\n",
       "\n",
       "    .dataframe thead th {\n",
       "        text-align: right;\n",
       "    }\n",
       "</style>\n",
       "<table border=\"1\" class=\"dataframe\">\n",
       "  <thead>\n",
       "    <tr style=\"text-align: right;\">\n",
       "      <th></th>\n",
       "      <th>USER</th>\n",
       "      <th>POINTS_DESC</th>\n",
       "      <th>CONFIDENCE_DESC</th>\n",
       "      <th>TIME_DESC</th>\n",
       "      <th>POINTS_EKG</th>\n",
       "      <th>CONFIDENCE_EKG</th>\n",
       "      <th>TIME_EKG</th>\n",
       "    </tr>\n",
       "  </thead>\n",
       "  <tbody>\n",
       "    <tr>\n",
       "      <td>count</td>\n",
       "      <td>589.000000</td>\n",
       "      <td>589.000000</td>\n",
       "      <td>589.000000</td>\n",
       "      <td>589.000000</td>\n",
       "      <td>589.000000</td>\n",
       "      <td>589.000000</td>\n",
       "      <td>589.000000</td>\n",
       "    </tr>\n",
       "    <tr>\n",
       "      <td>mean</td>\n",
       "      <td>87.455008</td>\n",
       "      <td>0.740238</td>\n",
       "      <td>64.312394</td>\n",
       "      <td>61.508438</td>\n",
       "      <td>0.623090</td>\n",
       "      <td>60.237691</td>\n",
       "      <td>51.955331</td>\n",
       "    </tr>\n",
       "    <tr>\n",
       "      <td>std</td>\n",
       "      <td>15.927347</td>\n",
       "      <td>0.414976</td>\n",
       "      <td>19.538577</td>\n",
       "      <td>37.271248</td>\n",
       "      <td>0.447643</td>\n",
       "      <td>22.418436</td>\n",
       "      <td>31.064419</td>\n",
       "    </tr>\n",
       "    <tr>\n",
       "      <td>min</td>\n",
       "      <td>61.000000</td>\n",
       "      <td>0.000000</td>\n",
       "      <td>3.000000</td>\n",
       "      <td>8.880000</td>\n",
       "      <td>0.000000</td>\n",
       "      <td>0.000000</td>\n",
       "      <td>6.870000</td>\n",
       "    </tr>\n",
       "    <tr>\n",
       "      <td>25%</td>\n",
       "      <td>73.000000</td>\n",
       "      <td>0.500000</td>\n",
       "      <td>52.000000</td>\n",
       "      <td>36.460000</td>\n",
       "      <td>0.000000</td>\n",
       "      <td>45.000000</td>\n",
       "      <td>29.420000</td>\n",
       "    </tr>\n",
       "    <tr>\n",
       "      <td>50%</td>\n",
       "      <td>88.000000</td>\n",
       "      <td>1.000000</td>\n",
       "      <td>66.000000</td>\n",
       "      <td>52.300000</td>\n",
       "      <td>1.000000</td>\n",
       "      <td>61.000000</td>\n",
       "      <td>45.770000</td>\n",
       "    </tr>\n",
       "    <tr>\n",
       "      <td>75%</td>\n",
       "      <td>101.000000</td>\n",
       "      <td>1.000000</td>\n",
       "      <td>79.000000</td>\n",
       "      <td>76.630000</td>\n",
       "      <td>1.000000</td>\n",
       "      <td>77.000000</td>\n",
       "      <td>66.260000</td>\n",
       "    </tr>\n",
       "    <tr>\n",
       "      <td>max</td>\n",
       "      <td>116.000000</td>\n",
       "      <td>1.000000</td>\n",
       "      <td>100.000000</td>\n",
       "      <td>420.380000</td>\n",
       "      <td>1.000000</td>\n",
       "      <td>100.000000</td>\n",
       "      <td>226.960000</td>\n",
       "    </tr>\n",
       "  </tbody>\n",
       "</table>\n",
       "</div>"
      ],
      "text/plain": [
       "             USER  POINTS_DESC  CONFIDENCE_DESC   TIME_DESC  POINTS_EKG  \\\n",
       "count  589.000000   589.000000       589.000000  589.000000  589.000000   \n",
       "mean    87.455008     0.740238        64.312394   61.508438    0.623090   \n",
       "std     15.927347     0.414976        19.538577   37.271248    0.447643   \n",
       "min     61.000000     0.000000         3.000000    8.880000    0.000000   \n",
       "25%     73.000000     0.500000        52.000000   36.460000    0.000000   \n",
       "50%     88.000000     1.000000        66.000000   52.300000    1.000000   \n",
       "75%    101.000000     1.000000        79.000000   76.630000    1.000000   \n",
       "max    116.000000     1.000000       100.000000  420.380000    1.000000   \n",
       "\n",
       "       CONFIDENCE_EKG    TIME_EKG  \n",
       "count      589.000000  589.000000  \n",
       "mean        60.237691   51.955331  \n",
       "std         22.418436   31.064419  \n",
       "min          0.000000    6.870000  \n",
       "25%         45.000000   29.420000  \n",
       "50%         61.000000   45.770000  \n",
       "75%         77.000000   66.260000  \n",
       "max        100.000000  226.960000  "
      ]
     },
     "execution_count": 69,
     "metadata": {},
     "output_type": "execute_result"
    }
   ],
   "source": [
    "nl_data.describe()"
   ]
  },
  {
   "cell_type": "markdown",
   "metadata": {},
   "source": [
    "## Number of participants in the experiment n=52, Group Description First n=24, Group EKG first n=28"
   ]
  },
  {
   "cell_type": "markdown",
   "metadata": {},
   "source": [
    "## Splitting Data in Description and EKG groups"
   ]
  },
  {
   "cell_type": "code",
   "execution_count": 70,
   "metadata": {},
   "outputs": [
    {
     "data": {
      "text/html": [
       "<div>\n",
       "<style scoped>\n",
       "    .dataframe tbody tr th:only-of-type {\n",
       "        vertical-align: middle;\n",
       "    }\n",
       "\n",
       "    .dataframe tbody tr th {\n",
       "        vertical-align: top;\n",
       "    }\n",
       "\n",
       "    .dataframe thead th {\n",
       "        text-align: right;\n",
       "    }\n",
       "</style>\n",
       "<table border=\"1\" class=\"dataframe\">\n",
       "  <thead>\n",
       "    <tr style=\"text-align: right;\">\n",
       "      <th></th>\n",
       "      <th>USER</th>\n",
       "      <th>POINTS_DESC</th>\n",
       "      <th>CONFIDENCE_DESC</th>\n",
       "      <th>TIME_DESC</th>\n",
       "      <th>POINTS_EKG</th>\n",
       "      <th>CONFIDENCE_EKG</th>\n",
       "      <th>TIME_EKG</th>\n",
       "    </tr>\n",
       "  </thead>\n",
       "  <tbody>\n",
       "    <tr>\n",
       "      <td>count</td>\n",
       "      <td>282.000000</td>\n",
       "      <td>282.000000</td>\n",
       "      <td>282.000000</td>\n",
       "      <td>282.000000</td>\n",
       "      <td>282.000000</td>\n",
       "      <td>282.000000</td>\n",
       "      <td>282.000000</td>\n",
       "    </tr>\n",
       "    <tr>\n",
       "      <td>mean</td>\n",
       "      <td>73.000000</td>\n",
       "      <td>0.732270</td>\n",
       "      <td>63.354610</td>\n",
       "      <td>60.662270</td>\n",
       "      <td>0.750000</td>\n",
       "      <td>66.609929</td>\n",
       "      <td>40.017872</td>\n",
       "    </tr>\n",
       "    <tr>\n",
       "      <td>std</td>\n",
       "      <td>7.423633</td>\n",
       "      <td>0.428256</td>\n",
       "      <td>19.164445</td>\n",
       "      <td>31.372969</td>\n",
       "      <td>0.402947</td>\n",
       "      <td>21.742025</td>\n",
       "      <td>21.469140</td>\n",
       "    </tr>\n",
       "    <tr>\n",
       "      <td>min</td>\n",
       "      <td>61.000000</td>\n",
       "      <td>0.000000</td>\n",
       "      <td>3.000000</td>\n",
       "      <td>8.880000</td>\n",
       "      <td>0.000000</td>\n",
       "      <td>0.000000</td>\n",
       "      <td>8.570000</td>\n",
       "    </tr>\n",
       "    <tr>\n",
       "      <td>25%</td>\n",
       "      <td>66.000000</td>\n",
       "      <td>0.500000</td>\n",
       "      <td>51.000000</td>\n",
       "      <td>39.052500</td>\n",
       "      <td>0.500000</td>\n",
       "      <td>54.250000</td>\n",
       "      <td>24.082500</td>\n",
       "    </tr>\n",
       "    <tr>\n",
       "      <td>50%</td>\n",
       "      <td>73.000000</td>\n",
       "      <td>1.000000</td>\n",
       "      <td>64.500000</td>\n",
       "      <td>53.645000</td>\n",
       "      <td>1.000000</td>\n",
       "      <td>69.000000</td>\n",
       "      <td>34.860000</td>\n",
       "    </tr>\n",
       "    <tr>\n",
       "      <td>75%</td>\n",
       "      <td>80.000000</td>\n",
       "      <td>1.000000</td>\n",
       "      <td>75.750000</td>\n",
       "      <td>76.532500</td>\n",
       "      <td>1.000000</td>\n",
       "      <td>81.750000</td>\n",
       "      <td>51.917500</td>\n",
       "    </tr>\n",
       "    <tr>\n",
       "      <td>max</td>\n",
       "      <td>85.000000</td>\n",
       "      <td>1.000000</td>\n",
       "      <td>100.000000</td>\n",
       "      <td>181.100000</td>\n",
       "      <td>1.000000</td>\n",
       "      <td>100.000000</td>\n",
       "      <td>108.690000</td>\n",
       "    </tr>\n",
       "  </tbody>\n",
       "</table>\n",
       "</div>"
      ],
      "text/plain": [
       "             USER  POINTS_DESC  CONFIDENCE_DESC   TIME_DESC  POINTS_EKG  \\\n",
       "count  282.000000   282.000000       282.000000  282.000000  282.000000   \n",
       "mean    73.000000     0.732270        63.354610   60.662270    0.750000   \n",
       "std      7.423633     0.428256        19.164445   31.372969    0.402947   \n",
       "min     61.000000     0.000000         3.000000    8.880000    0.000000   \n",
       "25%     66.000000     0.500000        51.000000   39.052500    0.500000   \n",
       "50%     73.000000     1.000000        64.500000   53.645000    1.000000   \n",
       "75%     80.000000     1.000000        75.750000   76.532500    1.000000   \n",
       "max     85.000000     1.000000       100.000000  181.100000    1.000000   \n",
       "\n",
       "       CONFIDENCE_EKG    TIME_EKG  \n",
       "count      282.000000  282.000000  \n",
       "mean        66.609929   40.017872  \n",
       "std         21.742025   21.469140  \n",
       "min          0.000000    8.570000  \n",
       "25%         54.250000   24.082500  \n",
       "50%         69.000000   34.860000  \n",
       "75%         81.750000   51.917500  \n",
       "max        100.000000  108.690000  "
      ]
     },
     "execution_count": 70,
     "metadata": {},
     "output_type": "execute_result"
    }
   ],
   "source": [
    "df_group = nl_data[nl_data.CTYPE == \"DF\"]\n",
    "df_group.describe()"
   ]
  },
  {
   "cell_type": "code",
   "execution_count": 71,
   "metadata": {},
   "outputs": [
    {
     "data": {
      "text/html": [
       "<div>\n",
       "<style scoped>\n",
       "    .dataframe tbody tr th:only-of-type {\n",
       "        vertical-align: middle;\n",
       "    }\n",
       "\n",
       "    .dataframe tbody tr th {\n",
       "        vertical-align: top;\n",
       "    }\n",
       "\n",
       "    .dataframe thead th {\n",
       "        text-align: right;\n",
       "    }\n",
       "</style>\n",
       "<table border=\"1\" class=\"dataframe\">\n",
       "  <thead>\n",
       "    <tr style=\"text-align: right;\">\n",
       "      <th></th>\n",
       "      <th>USER</th>\n",
       "      <th>POINTS_DESC</th>\n",
       "      <th>CONFIDENCE_DESC</th>\n",
       "      <th>TIME_DESC</th>\n",
       "      <th>POINTS_EKG</th>\n",
       "      <th>CONFIDENCE_EKG</th>\n",
       "      <th>TIME_EKG</th>\n",
       "    </tr>\n",
       "  </thead>\n",
       "  <tbody>\n",
       "    <tr>\n",
       "      <td>count</td>\n",
       "      <td>307.000000</td>\n",
       "      <td>307.000000</td>\n",
       "      <td>307.000000</td>\n",
       "      <td>307.000000</td>\n",
       "      <td>307.000000</td>\n",
       "      <td>307.000000</td>\n",
       "      <td>307.000000</td>\n",
       "    </tr>\n",
       "    <tr>\n",
       "      <td>mean</td>\n",
       "      <td>100.732899</td>\n",
       "      <td>0.747557</td>\n",
       "      <td>65.192182</td>\n",
       "      <td>62.285700</td>\n",
       "      <td>0.506515</td>\n",
       "      <td>54.384365</td>\n",
       "      <td>62.920684</td>\n",
       "    </tr>\n",
       "    <tr>\n",
       "      <td>std</td>\n",
       "      <td>8.210884</td>\n",
       "      <td>0.402953</td>\n",
       "      <td>19.866520</td>\n",
       "      <td>42.002663</td>\n",
       "      <td>0.455493</td>\n",
       "      <td>21.444460</td>\n",
       "      <td>34.337809</td>\n",
       "    </tr>\n",
       "    <tr>\n",
       "      <td>min</td>\n",
       "      <td>86.000000</td>\n",
       "      <td>0.000000</td>\n",
       "      <td>3.000000</td>\n",
       "      <td>14.760000</td>\n",
       "      <td>0.000000</td>\n",
       "      <td>1.000000</td>\n",
       "      <td>6.870000</td>\n",
       "    </tr>\n",
       "    <tr>\n",
       "      <td>25%</td>\n",
       "      <td>94.000000</td>\n",
       "      <td>0.500000</td>\n",
       "      <td>53.500000</td>\n",
       "      <td>34.660000</td>\n",
       "      <td>0.000000</td>\n",
       "      <td>37.500000</td>\n",
       "      <td>38.070000</td>\n",
       "    </tr>\n",
       "    <tr>\n",
       "      <td>50%</td>\n",
       "      <td>101.000000</td>\n",
       "      <td>1.000000</td>\n",
       "      <td>68.000000</td>\n",
       "      <td>50.420000</td>\n",
       "      <td>0.500000</td>\n",
       "      <td>57.000000</td>\n",
       "      <td>55.950000</td>\n",
       "    </tr>\n",
       "    <tr>\n",
       "      <td>75%</td>\n",
       "      <td>107.000000</td>\n",
       "      <td>1.000000</td>\n",
       "      <td>80.000000</td>\n",
       "      <td>76.320000</td>\n",
       "      <td>1.000000</td>\n",
       "      <td>70.000000</td>\n",
       "      <td>78.280000</td>\n",
       "    </tr>\n",
       "    <tr>\n",
       "      <td>max</td>\n",
       "      <td>116.000000</td>\n",
       "      <td>1.000000</td>\n",
       "      <td>100.000000</td>\n",
       "      <td>420.380000</td>\n",
       "      <td>1.000000</td>\n",
       "      <td>100.000000</td>\n",
       "      <td>226.960000</td>\n",
       "    </tr>\n",
       "  </tbody>\n",
       "</table>\n",
       "</div>"
      ],
      "text/plain": [
       "             USER  POINTS_DESC  CONFIDENCE_DESC   TIME_DESC  POINTS_EKG  \\\n",
       "count  307.000000   307.000000       307.000000  307.000000  307.000000   \n",
       "mean   100.732899     0.747557        65.192182   62.285700    0.506515   \n",
       "std      8.210884     0.402953        19.866520   42.002663    0.455493   \n",
       "min     86.000000     0.000000         3.000000   14.760000    0.000000   \n",
       "25%     94.000000     0.500000        53.500000   34.660000    0.000000   \n",
       "50%    101.000000     1.000000        68.000000   50.420000    0.500000   \n",
       "75%    107.000000     1.000000        80.000000   76.320000    1.000000   \n",
       "max    116.000000     1.000000       100.000000  420.380000    1.000000   \n",
       "\n",
       "       CONFIDENCE_EKG    TIME_EKG  \n",
       "count      307.000000  307.000000  \n",
       "mean        54.384365   62.920684  \n",
       "std         21.444460   34.337809  \n",
       "min          1.000000    6.870000  \n",
       "25%         37.500000   38.070000  \n",
       "50%         57.000000   55.950000  \n",
       "75%         70.000000   78.280000  \n",
       "max        100.000000  226.960000  "
      ]
     },
     "execution_count": 71,
     "metadata": {},
     "output_type": "execute_result"
    }
   ],
   "source": [
    "ef_group = nl_data[nl_data.CTYPE == \"EF\"]\n",
    "ef_group.describe()"
   ]
  },
  {
   "cell_type": "markdown",
   "metadata": {},
   "source": [
    "## Degree of confidence of mean values"
   ]
  },
  {
   "cell_type": "code",
   "execution_count": 72,
   "metadata": {},
   "outputs": [],
   "source": [
    "def mean_confidence_interval(data, confidence=0.95):\n",
    "    a = 1.0 * np.array(data)\n",
    "    n = len(a)\n",
    "    m, se = np.mean(a), sem(a)\n",
    "    h = se * t.ppf((1 + confidence) / 2., n-1)\n",
    "    return m, h"
   ]
  },
  {
   "cell_type": "markdown",
   "metadata": {},
   "source": [
    "### Time Mean"
   ]
  },
  {
   "cell_type": "code",
   "execution_count": 73,
   "metadata": {},
   "outputs": [
    {
     "name": "stdout",
     "output_type": "stream",
     "text": [
      "Group 1 description time mean 60.66 +/- 3.68\n"
     ]
    }
   ],
   "source": [
    "df_group_mean_dtime, df_group_sem_dtime = mean_confidence_interval(df_group[\"TIME_DESC\"])\n",
    "print(\"Group 1 description time mean {} +/- {}\".format(round(df_group_mean_dtime, 2), round(df_group_sem_dtime, 2)))"
   ]
  },
  {
   "cell_type": "code",
   "execution_count": 74,
   "metadata": {},
   "outputs": [
    {
     "name": "stdout",
     "output_type": "stream",
     "text": [
      "Group 1 EKG time mean 40.02 +/- 2.52\n"
     ]
    }
   ],
   "source": [
    "df_group_mean_etime, df_group_sem_etime = mean_confidence_interval(df_group[\"TIME_EKG\"])\n",
    "print(\"Group 1 EKG time mean {} +/- {}\".format(round(df_group_mean_etime, 2), round(df_group_sem_etime, 2)))"
   ]
  },
  {
   "cell_type": "code",
   "execution_count": 75,
   "metadata": {},
   "outputs": [
    {
     "name": "stdout",
     "output_type": "stream",
     "text": [
      "Group 2 EKG time mean 62.92 +/- 3.86\n"
     ]
    }
   ],
   "source": [
    "ef_group_mean_etime, ef_group_sem_etime = mean_confidence_interval(ef_group[\"TIME_EKG\"])\n",
    "print(\"Group 2 EKG time mean {} +/- {}\".format(round(ef_group_mean_etime, 2), round(ef_group_sem_etime, 2)))"
   ]
  },
  {
   "cell_type": "code",
   "execution_count": 76,
   "metadata": {},
   "outputs": [
    {
     "name": "stdout",
     "output_type": "stream",
     "text": [
      "Group 2 description time mean 62.29 +/- 4.72\n"
     ]
    }
   ],
   "source": [
    "ef_group_mean_dtime, ef_group_sem_dtime = mean_confidence_interval(ef_group[\"TIME_DESC\"])\n",
    "print(\"Group 2 description time mean {} +/- {}\".format(round(ef_group_mean_dtime, 2), round(ef_group_sem_dtime, 2)))"
   ]
  },
  {
   "cell_type": "markdown",
   "metadata": {},
   "source": [
    "### Confidence Mean"
   ]
  },
  {
   "cell_type": "code",
   "execution_count": 77,
   "metadata": {},
   "outputs": [
    {
     "name": "stdout",
     "output_type": "stream",
     "text": [
      "Group 1 description confidence mean 63.35 +/- 2.25\n"
     ]
    }
   ],
   "source": [
    "df_group_mean_dconf, df_group_sem_dconf = mean_confidence_interval(df_group[\"CONFIDENCE_DESC\"])\n",
    "print(\"Group 1 description confidence mean {} +/- {}\".format(round(df_group_mean_dconf, 2), round(df_group_sem_dconf, 2)))"
   ]
  },
  {
   "cell_type": "code",
   "execution_count": 78,
   "metadata": {},
   "outputs": [
    {
     "name": "stdout",
     "output_type": "stream",
     "text": [
      "Group 1 EKG confidence mean 66.61 +/- 2.55\n"
     ]
    }
   ],
   "source": [
    "df_group_mean_econf, df_group_sem_econf = mean_confidence_interval(df_group[\"CONFIDENCE_EKG\"])\n",
    "print(\"Group 1 EKG confidence mean {} +/- {}\".format(round(df_group_mean_econf, 2), round(df_group_sem_econf, 2)))"
   ]
  },
  {
   "cell_type": "code",
   "execution_count": 79,
   "metadata": {},
   "outputs": [
    {
     "name": "stdout",
     "output_type": "stream",
     "text": [
      "Group 2 EKG confidence mean 54.38 +/- 2.41\n"
     ]
    }
   ],
   "source": [
    "ef_group_mean_econf, ef_group_sem_econf = mean_confidence_interval(ef_group[\"CONFIDENCE_EKG\"])\n",
    "print(\"Group 2 EKG confidence mean {} +/- {}\".format(round(ef_group_mean_econf, 2), round(ef_group_sem_econf, 2)))"
   ]
  },
  {
   "cell_type": "code",
   "execution_count": 80,
   "metadata": {},
   "outputs": [
    {
     "name": "stdout",
     "output_type": "stream",
     "text": [
      "Group 2 description confidence mean 65.19 +/- 2.23\n"
     ]
    }
   ],
   "source": [
    "ef_group_mean_dconf, ef_group_sem_dconf = mean_confidence_interval(ef_group[\"CONFIDENCE_DESC\"])\n",
    "print(\"Group 2 description confidence mean {} +/- {}\".format(round(ef_group_mean_dconf, 2), round(ef_group_sem_dconf, 2)))"
   ]
  },
  {
   "cell_type": "markdown",
   "metadata": {},
   "source": [
    "### Accuracy Mean"
   ]
  },
  {
   "cell_type": "code",
   "execution_count": 81,
   "metadata": {},
   "outputs": [
    {
     "name": "stdout",
     "output_type": "stream",
     "text": [
      "Group 1 description points mean 0.73 +/- 0.05\n"
     ]
    }
   ],
   "source": [
    "df_group_mean_dpoints, df_group_sem_dpoints = mean_confidence_interval(df_group[\"POINTS_DESC\"])\n",
    "print(\"Group 1 description points mean {} +/- {}\".format(round(df_group_mean_dpoints, 2), round(df_group_sem_dpoints, 2)))"
   ]
  },
  {
   "cell_type": "code",
   "execution_count": 82,
   "metadata": {},
   "outputs": [
    {
     "name": "stdout",
     "output_type": "stream",
     "text": [
      "Group 1 EKG points mean 0.75 +/- 0.05\n"
     ]
    }
   ],
   "source": [
    "df_group_mean_epoints, df_group_sem_epoints = mean_confidence_interval(df_group[\"POINTS_EKG\"])\n",
    "print(\"Group 1 EKG points mean {} +/- {}\".format(round(df_group_mean_epoints, 2), round(df_group_sem_epoints, 2)))"
   ]
  },
  {
   "cell_type": "code",
   "execution_count": 83,
   "metadata": {},
   "outputs": [
    {
     "name": "stdout",
     "output_type": "stream",
     "text": [
      "Group 2 EKG points mean 0.51 +/- 0.05\n"
     ]
    }
   ],
   "source": [
    "ef_group_mean_epoints, ef_group_sem_epoints = mean_confidence_interval(ef_group[\"POINTS_EKG\"])\n",
    "print(\"Group 2 EKG points mean {} +/- {}\".format(round(ef_group_mean_epoints, 2), round(ef_group_sem_epoints, 2)))"
   ]
  },
  {
   "cell_type": "code",
   "execution_count": 84,
   "metadata": {},
   "outputs": [
    {
     "name": "stdout",
     "output_type": "stream",
     "text": [
      "Group 2 description points mean 0.75 +/- 0.05\n"
     ]
    }
   ],
   "source": [
    "ef_group_mean_dpoints, ef_group_sem_dpoints = mean_confidence_interval(ef_group[\"POINTS_DESC\"])\n",
    "print(\"Group 2 description points mean {} +/- {}\".format(round(ef_group_mean_dpoints, 2), round(ef_group_sem_dpoints, 2)))"
   ]
  },
  {
   "cell_type": "markdown",
   "metadata": {},
   "source": [
    "# Hypothesis testing for total time in a case"
   ]
  },
  {
   "cell_type": "code",
   "execution_count": 85,
   "metadata": {},
   "outputs": [
    {
     "name": "stderr",
     "output_type": "stream",
     "text": [
      "/home/marcosf/anaconda3/lib/python3.7/site-packages/pandas/core/indexing.py:376: SettingWithCopyWarning: \n",
      "A value is trying to be set on a copy of a slice from a DataFrame.\n",
      "Try using .loc[row_indexer,col_indexer] = value instead\n",
      "\n",
      "See the caveats in the documentation: http://pandas.pydata.org/pandas-docs/stable/user_guide/indexing.html#returning-a-view-versus-a-copy\n",
      "  self.obj[key] = _infer_fill_value(value)\n",
      "/home/marcosf/anaconda3/lib/python3.7/site-packages/pandas/core/indexing.py:494: SettingWithCopyWarning: \n",
      "A value is trying to be set on a copy of a slice from a DataFrame.\n",
      "Try using .loc[row_indexer,col_indexer] = value instead\n",
      "\n",
      "See the caveats in the documentation: http://pandas.pydata.org/pandas-docs/stable/user_guide/indexing.html#returning-a-view-versus-a-copy\n",
      "  self.obj[item] = s\n"
     ]
    }
   ],
   "source": [
    "df_group.loc[:, \"TIME_CASE\"] = df_group[\"TIME_DESC\"] + df_group[\"TIME_EKG\"]\n",
    "# df_group.describe()"
   ]
  },
  {
   "cell_type": "code",
   "execution_count": 86,
   "metadata": {},
   "outputs": [],
   "source": [
    "ef_group.loc[:, \"TIME_CASE\"] = ef_group[\"TIME_DESC\"] + ef_group[\"TIME_EKG\"]\n",
    "# ef_group.describe()"
   ]
  },
  {
   "cell_type": "markdown",
   "metadata": {},
   "source": [
    "### Here we can check that the time in a case is statiscally different between the two groups  ($t = -5.91, p = 5.84^{-9}$)"
   ]
  },
  {
   "cell_type": "code",
   "execution_count": 87,
   "metadata": {},
   "outputs": [
    {
     "name": "stdout",
     "output_type": "stream",
     "text": [
      "t-value = -5.9088788134998325, p-value = 5.8402800077186535e-09\n"
     ]
    }
   ],
   "source": [
    "ttest_total_time = ttest_ind(df_group[\"TIME_CASE\"], ef_group[\"TIME_CASE\"])\n",
    "print(\"t-value = {}, p-value = {}\".format(ttest_total_time[0], ttest_total_time[1]))"
   ]
  },
  {
   "cell_type": "markdown",
   "metadata": {},
   "source": [
    "### Here we can check that the time in the first round NOT is statiscally different (p < 0.05) between the two groups ($t = -0.83, p = 0.41$)"
   ]
  },
  {
   "cell_type": "code",
   "execution_count": 88,
   "metadata": {},
   "outputs": [
    {
     "name": "stdout",
     "output_type": "stream",
     "text": [
      "t-value = -0.8309220181763984, p-value = 0.4063555264343799\n"
     ]
    }
   ],
   "source": [
    "ttest_total_time = ttest_ind(df_group[\"TIME_DESC\"], ef_group[\"TIME_EKG\"])\n",
    "print(\"t-value = {}, p-value = {}\".format(ttest_total_time[0], ttest_total_time[1]))"
   ]
  },
  {
   "cell_type": "markdown",
   "metadata": {},
   "source": [
    "### Here we can check that the time at the second round is statiscally different between the two groups ($t = -7.99, p = 6.93^{-15}$) "
   ]
  },
  {
   "cell_type": "code",
   "execution_count": 89,
   "metadata": {},
   "outputs": [
    {
     "name": "stdout",
     "output_type": "stream",
     "text": [
      "t-value = -7.994645298350919, p-value = 6.932739836965142e-15\n"
     ]
    }
   ],
   "source": [
    "ttest_total_time = ttest_ind(df_group[\"TIME_EKG\"], ef_group[\"TIME_DESC\"])\n",
    "print(\"t-value = {}, p-value = {}\".format(ttest_total_time[0], ttest_total_time[1]))"
   ]
  },
  {
   "cell_type": "markdown",
   "metadata": {},
   "source": [
    "## T-test for Time in the same task (Group 1 and Group 2 = Time in Description, Group 1 and Group 2 = Time in EKG)"
   ]
  },
  {
   "cell_type": "code",
   "execution_count": 90,
   "metadata": {},
   "outputs": [
    {
     "name": "stdout",
     "output_type": "stream",
     "text": [
      "Time on Description task t-value = -0.5277513410148111, p-value = 0.5978713597597857\n"
     ]
    }
   ],
   "source": [
    "ttest_desc_time = ttest_ind(df_group[\"TIME_DESC\"], ef_group[\"TIME_DESC\"])\n",
    "print(\"Time on Description task t-value = {}, p-value = {}\".format(ttest_desc_time[0], ttest_desc_time[1]))"
   ]
  },
  {
   "cell_type": "code",
   "execution_count": 91,
   "metadata": {},
   "outputs": [
    {
     "name": "stdout",
     "output_type": "stream",
     "text": [
      "Time on EKG task t-value = -9.607364701597685, p-value = 2.1439726381993676e-20\n"
     ]
    }
   ],
   "source": [
    "ttest_ekg_time = ttest_ind(df_group[\"TIME_EKG\"], ef_group[\"TIME_EKG\"])\n",
    "print(\"Time on EKG task t-value = {}, p-value = {}\".format(ttest_ekg_time[0], ttest_ekg_time[1]))"
   ]
  },
  {
   "cell_type": "markdown",
   "metadata": {},
   "source": [
    "## Confidence on same task t test "
   ]
  },
  {
   "cell_type": "code",
   "execution_count": 92,
   "metadata": {},
   "outputs": [
    {
     "name": "stdout",
     "output_type": "stream",
     "text": [
      "Confidence on Description task: t-value = -1.140508922648709, p-value = 0.2545394498718527\n"
     ]
    }
   ],
   "source": [
    "ttest_desc_conf = ttest_ind(df_group[\"CONFIDENCE_DESC\"], ef_group[\"CONFIDENCE_DESC\"])\n",
    "print(\"Confidence on Description task: t-value = {}, p-value = {}\".format(ttest_desc_conf[0], ttest_desc_conf[1]))"
   ]
  },
  {
   "cell_type": "code",
   "execution_count": 93,
   "metadata": {},
   "outputs": [
    {
     "name": "stdout",
     "output_type": "stream",
     "text": [
      "Confidence on EKG task: t-value = 6.866008223308817, p-value = 1.685036108100445e-11\n"
     ]
    }
   ],
   "source": [
    "ttest_ekg_conf = ttest_ind(df_group[\"CONFIDENCE_EKG\"], ef_group[\"CONFIDENCE_EKG\"])\n",
    "print(\"Confidence on EKG task: t-value = {}, p-value = {}\".format(ttest_ekg_conf[0], ttest_ekg_conf[1]))"
   ]
  },
  {
   "cell_type": "markdown",
   "metadata": {},
   "source": [
    "## Final confidence Hypothesis Test"
   ]
  },
  {
   "cell_type": "code",
   "execution_count": 94,
   "metadata": {},
   "outputs": [
    {
     "name": "stdout",
     "output_type": "stream",
     "text": [
      "t-value = 0.8269420674747929, p-value = 0.4086059170241658\n"
     ]
    }
   ],
   "source": [
    "ttest_final_conf = ttest_ind(df_group[\"CONFIDENCE_EKG\"], ef_group[\"CONFIDENCE_DESC\"])\n",
    "print(\"t-value = {}, p-value = {}\".format(ttest_final_conf[0], ttest_final_conf[1]))"
   ]
  },
  {
   "cell_type": "markdown",
   "metadata": {},
   "source": [
    "### This test allows us to check weather the order of presentation change the confidence on the final answer of the student. Therefore a t-test applied to the confidence on EKG round for the Description First Group and confidence on Description round for EKG First Group. The test result is p > 0.05, a value that can not be used to reject H0."
   ]
  },
  {
   "cell_type": "markdown",
   "metadata": {},
   "source": [
    "## Paired t-test to check if students changed confidence between stages"
   ]
  },
  {
   "cell_type": "code",
   "execution_count": 95,
   "metadata": {},
   "outputs": [
    {
     "name": "stdout",
     "output_type": "stream",
     "text": [
      "t-test paired confidence group 1: t-value = -2.9765229135604847, p-value = 0.003169173557347636\n"
     ]
    }
   ],
   "source": [
    "ttest_p_df = ttest_rel(df_group[\"CONFIDENCE_DESC\"], df_group[\"CONFIDENCE_EKG\"])\n",
    "print(\"t-test paired confidence group 1: t-value = {}, p-value = {}\".format(ttest_p_df[0], ttest_p_df[1]))"
   ]
  },
  {
   "cell_type": "code",
   "execution_count": 96,
   "metadata": {},
   "outputs": [
    {
     "name": "stdout",
     "output_type": "stream",
     "text": [
      "t-test paired confidence group 2: t-value = -8.63193804006805, p-value = 3.3612108669425784e-16\n"
     ]
    }
   ],
   "source": [
    "ttest_p_ef = ttest_rel(ef_group[\"CONFIDENCE_EKG\"], ef_group[\"CONFIDENCE_DESC\"])\n",
    "print(\"t-test paired confidence group 2: t-value = {}, p-value = {}\".format(ttest_p_ef[0], ttest_p_ef[1]))"
   ]
  },
  {
   "cell_type": "markdown",
   "metadata": {},
   "source": [
    "## Chi squared test"
   ]
  },
  {
   "cell_type": "code",
   "execution_count": 97,
   "metadata": {},
   "outputs": [],
   "source": [
    "df_group_always_right = len(df_group[(df_group[\"POINTS_DESC\"] == 1.0) & (df_group[\"POINTS_EKG\"] == 1.0)])\n",
    "\n",
    "df_group_changed_right = len(df_group[((df_group[\"POINTS_DESC\"] == 0.0) | (df_group[\"POINTS_DESC\"] == 0.5)) & (df_group[\"POINTS_EKG\"] == 1.0)])\n",
    "\n",
    "df_group_changed_wrong = len(df_group[(df_group[\"POINTS_DESC\"] == 1.0) & ((df_group[\"POINTS_EKG\"] == 0.0) | (df_group[\"POINTS_EKG\"] == 0.5))])\n",
    "\n",
    "df_group_stayed_wrong = len(df_group[((df_group[\"POINTS_DESC\"] == 0.0) | (df_group[\"POINTS_DESC\"] == 0.5)) & ((df_group[\"POINTS_EKG\"] == 0.0) | (df_group[\"POINTS_EKG\"] == 0.5))])"
   ]
  },
  {
   "cell_type": "code",
   "execution_count": 98,
   "metadata": {},
   "outputs": [],
   "source": [
    "ef_group_always_right = len(ef_group[(ef_group[\"POINTS_EKG\"] == 1.0) & (ef_group[\"POINTS_DESC\"] == 1.0)])\n",
    "\n",
    "ef_group_changed_right = len(ef_group[((ef_group[\"POINTS_EKG\"] == 0.0) | (ef_group[\"POINTS_EKG\"] == 0.5)) & (ef_group[\"POINTS_DESC\"] == 1.0)])\n",
    "\n",
    "ef_group_changed_wrong = len(ef_group[(ef_group[\"POINTS_EKG\"] == 1.0) & ((ef_group[\"POINTS_DESC\"] == 0.0) | (ef_group[\"POINTS_DESC\"] == 0.5))])\n",
    "\n",
    "ef_group_stayed_wrong = len(ef_group[((ef_group[\"POINTS_EKG\"] == 0.0) | (ef_group[\"POINTS_EKG\"] == 0.5)) & ((ef_group[\"POINTS_DESC\"] == 0.0) | (ef_group[\"POINTS_DESC\"] == 0.5))])"
   ]
  },
  {
   "cell_type": "code",
   "execution_count": 99,
   "metadata": {},
   "outputs": [
    {
     "data": {
      "text/plain": [
       "[179, 18, 20, 65]"
      ]
     },
     "execution_count": 99,
     "metadata": {},
     "output_type": "execute_result"
    }
   ],
   "source": [
    "cont_table_group1 = [df_group_always_right, df_group_changed_right, df_group_changed_wrong, df_group_stayed_wrong]\n",
    "cont_table_group1"
   ]
  },
  {
   "cell_type": "code",
   "execution_count": 100,
   "metadata": {},
   "outputs": [
    {
     "data": {
      "text/plain": [
       "[107, 106, 22, 72]"
      ]
     },
     "execution_count": 100,
     "metadata": {},
     "output_type": "execute_result"
    }
   ],
   "source": [
    "cont_table_group2 = [ef_group_always_right, ef_group_changed_right, ef_group_changed_wrong, ef_group_stayed_wrong]\n",
    "cont_table_group2"
   ]
  },
  {
   "cell_type": "code",
   "execution_count": 101,
   "metadata": {},
   "outputs": [
    {
     "data": {
      "text/plain": [
       "[[179, 18, 20, 65], [107, 106, 22, 72]]"
      ]
     },
     "execution_count": 101,
     "metadata": {},
     "output_type": "execute_result"
    }
   ],
   "source": [
    "contingency_table = [cont_table_group1, cont_table_group2]\n",
    "contingency_table"
   ]
  },
  {
   "cell_type": "code",
   "execution_count": 102,
   "metadata": {},
   "outputs": [
    {
     "name": "stdout",
     "output_type": "stream",
     "text": [
      "===Chi2 Stat===\n",
      "80.11359850081178\n",
      "\n",
      "\n",
      "===Degrees of Freedom===\n",
      "3\n",
      "\n",
      "\n",
      "===P-Value===\n",
      "2.90181188587557e-17\n",
      "\n",
      "\n",
      "===Contingency Table===\n",
      "[[136.93039049  59.36842105  20.10865874  65.59252971]\n",
      " [149.06960951  64.63157895  21.89134126  71.40747029]]\n"
     ]
    }
   ],
   "source": [
    "chi2, pval, dof, expected = chi2_contingency(contingency_table)\n",
    "print(\"===Chi2 Stat===\")\n",
    "print(chi2)\n",
    "print(\"\\n\")\n",
    "print(\"===Degrees of Freedom===\")\n",
    "print(dof)\n",
    "print(\"\\n\")\n",
    "print(\"===P-Value===\")\n",
    "print(pval)\n",
    "print(\"\\n\")\n",
    "print(\"===Contingency Table===\")\n",
    "print(expected)"
   ]
  },
  {
   "cell_type": "markdown",
   "metadata": {},
   "source": [
    "## Least-Squares line fitting to see how initial confidence affects time in second round"
   ]
  },
  {
   "cell_type": "code",
   "execution_count": 103,
   "metadata": {},
   "outputs": [],
   "source": [
    "init_conf_and_final_time = pd.DataFrame(columns=[\"CONF\", \"TIME\"])\n",
    "init_conf_and_final_time[\"CONF\"] = df_group[\"CONFIDENCE_DESC\"].append(ef_group[\"CONFIDENCE_EKG\"])"
   ]
  },
  {
   "cell_type": "code",
   "execution_count": 104,
   "metadata": {},
   "outputs": [],
   "source": [
    "init_conf_and_final_time[\"TIME\"] = df_group[\"TIME_EKG\"].append(ef_group[\"TIME_DESC\"])"
   ]
  },
  {
   "cell_type": "code",
   "execution_count": 105,
   "metadata": {},
   "outputs": [
    {
     "data": {
      "text/html": [
       "<div>\n",
       "<style scoped>\n",
       "    .dataframe tbody tr th:only-of-type {\n",
       "        vertical-align: middle;\n",
       "    }\n",
       "\n",
       "    .dataframe tbody tr th {\n",
       "        vertical-align: top;\n",
       "    }\n",
       "\n",
       "    .dataframe thead th {\n",
       "        text-align: right;\n",
       "    }\n",
       "</style>\n",
       "<table border=\"1\" class=\"dataframe\">\n",
       "  <thead>\n",
       "    <tr style=\"text-align: right;\">\n",
       "      <th></th>\n",
       "      <th>CONF</th>\n",
       "      <th>TIME</th>\n",
       "    </tr>\n",
       "  </thead>\n",
       "  <tbody>\n",
       "    <tr>\n",
       "      <td>0</td>\n",
       "      <td>60</td>\n",
       "      <td>44.17</td>\n",
       "    </tr>\n",
       "    <tr>\n",
       "      <td>1</td>\n",
       "      <td>85</td>\n",
       "      <td>101.37</td>\n",
       "    </tr>\n",
       "    <tr>\n",
       "      <td>2</td>\n",
       "      <td>85</td>\n",
       "      <td>31.00</td>\n",
       "    </tr>\n",
       "    <tr>\n",
       "      <td>3</td>\n",
       "      <td>50</td>\n",
       "      <td>34.73</td>\n",
       "    </tr>\n",
       "    <tr>\n",
       "      <td>4</td>\n",
       "      <td>70</td>\n",
       "      <td>33.66</td>\n",
       "    </tr>\n",
       "    <tr>\n",
       "      <td>...</td>\n",
       "      <td>...</td>\n",
       "      <td>...</td>\n",
       "    </tr>\n",
       "    <tr>\n",
       "      <td>584</td>\n",
       "      <td>70</td>\n",
       "      <td>32.83</td>\n",
       "    </tr>\n",
       "    <tr>\n",
       "      <td>585</td>\n",
       "      <td>60</td>\n",
       "      <td>58.47</td>\n",
       "    </tr>\n",
       "    <tr>\n",
       "      <td>586</td>\n",
       "      <td>65</td>\n",
       "      <td>36.39</td>\n",
       "    </tr>\n",
       "    <tr>\n",
       "      <td>587</td>\n",
       "      <td>69</td>\n",
       "      <td>44.04</td>\n",
       "    </tr>\n",
       "    <tr>\n",
       "      <td>588</td>\n",
       "      <td>66</td>\n",
       "      <td>32.10</td>\n",
       "    </tr>\n",
       "  </tbody>\n",
       "</table>\n",
       "<p>589 rows × 2 columns</p>\n",
       "</div>"
      ],
      "text/plain": [
       "     CONF    TIME\n",
       "0      60   44.17\n",
       "1      85  101.37\n",
       "2      85   31.00\n",
       "3      50   34.73\n",
       "4      70   33.66\n",
       "..    ...     ...\n",
       "584    70   32.83\n",
       "585    60   58.47\n",
       "586    65   36.39\n",
       "587    69   44.04\n",
       "588    66   32.10\n",
       "\n",
       "[589 rows x 2 columns]"
      ]
     },
     "execution_count": 105,
     "metadata": {},
     "output_type": "execute_result"
    }
   ],
   "source": [
    "init_conf_and_final_time"
   ]
  },
  {
   "cell_type": "code",
   "execution_count": 106,
   "metadata": {},
   "outputs": [
    {
     "name": "stdout",
     "output_type": "stream",
     "text": [
      "Coeficient = -0.042379942776061635, Bias = 54.111180954543705\n"
     ]
    }
   ],
   "source": [
    "array_conf_time = init_conf_and_final_time.to_numpy()\n",
    "x = array_conf_time[:,0]\n",
    "X = x.reshape((-1,1))\n",
    "y = array_conf_time[:,1]\n",
    "\n",
    "\n",
    "model = LinearRegression().fit(X,y)\n",
    "\n",
    "b = model.intercept_\n",
    "c = model.coef_\n",
    "print(\"Coeficient = {}, Bias = {}\".format(c[0], b))"
   ]
  },
  {
   "cell_type": "code",
   "execution_count": 107,
   "metadata": {},
   "outputs": [
    {
     "data": {
      "image/png": "[encoded data removed]",
      "text/plain": [
       "<Figure size 432x288 with 1 Axes>"
      ]
     },
     "metadata": {
      "needs_background": "light"
     },
     "output_type": "display_data"
    }
   ],
   "source": [
    "_ = plt.plot(x, y, 'o', label='Original data', markersize=6)\n",
    "_ = plt.plot(x, c*x + b, 'r', label='Fitted line')\n",
    "_ = plt.xlabel(\"Confidence\")\n",
    "_ = plt.ylabel(\"Time\")\n",
    "_ = plt.title(\"Confidence(1st round) / Time (2nd round)\")\n",
    "_ = plt.legend()\n",
    "plt.savefig(\"Conf_Time.png\")\n",
    "plt.show()"
   ]
  },
  {
   "cell_type": "markdown",
   "metadata": {},
   "source": [
    "### The coeficient with negative (c = -0.042) value indicates that high confidence in the initial round correlates with small time in the second time. The difference is small, thus the same analysis separating by groups allows better analysis. "
   ]
  },
  {
   "cell_type": "code",
   "execution_count": 108,
   "metadata": {},
   "outputs": [
    {
     "name": "stdout",
     "output_type": "stream",
     "text": [
      "Coeficient = -0.09705956085278568, Bias = 46.16704295814137\n"
     ]
    }
   ],
   "source": [
    "array_conf_time = df_group[[\"CONFIDENCE_DESC\", \"TIME_EKG\"]].to_numpy()\n",
    "x = array_conf_time[:,0]\n",
    "X = x.reshape((-1,1))\n",
    "y = array_conf_time[:,1]\n",
    "\n",
    "\n",
    "model = LinearRegression().fit(X,y)\n",
    "\n",
    "b = model.intercept_\n",
    "c = model.coef_\n",
    "print(\"Coeficient = {}, Bias = {}\".format(c[0], b))"
   ]
  },
  {
   "cell_type": "code",
   "execution_count": 109,
   "metadata": {},
   "outputs": [
    {
     "data": {
      "image/png": "[encoded data removed]",
      "text/plain": [
       "<Figure size 432x288 with 1 Axes>"
      ]
     },
     "metadata": {
      "needs_background": "light"
     },
     "output_type": "display_data"
    }
   ],
   "source": [
    "_ = plt.plot(x, y, 'o', label='Original data', markersize=6)\n",
    "_ = plt.plot(x, c*x + b, 'r', label='Fitted line')\n",
    "_ = plt.xlabel(\"Confidence\")\n",
    "_ = plt.ylabel(\"Time\")\n",
    "_ = plt.title(\"Confidence(1st round) / Time (2nd round) DF Group\")\n",
    "_ = plt.legend()\n",
    "plt.savefig(\"Conf_Time_DF.png\")\n",
    "plt.show()"
   ]
  },
  {
   "cell_type": "code",
   "execution_count": 110,
   "metadata": {},
   "outputs": [
    {
     "name": "stdout",
     "output_type": "stream",
     "text": [
      "Coeficient = 0.2028031706208689, Bias = 51.25637870786311\n"
     ]
    }
   ],
   "source": [
    "array_conf_time = ef_group[[\"CONFIDENCE_EKG\", \"TIME_DESC\"]].to_numpy()\n",
    "x = array_conf_time[:,0]\n",
    "X = x.reshape((-1,1))\n",
    "y = array_conf_time[:,1]\n",
    "\n",
    "\n",
    "model = LinearRegression().fit(X,y)\n",
    "\n",
    "b = model.intercept_\n",
    "c = model.coef_\n",
    "print(\"Coeficient = {}, Bias = {}\".format(c[0], b))"
   ]
  },
  {
   "cell_type": "code",
   "execution_count": 111,
   "metadata": {},
   "outputs": [
    {
     "data": {
      "image/png": "[encoded data removed]",
      "text/plain": [
       "<Figure size 432x288 with 1 Axes>"
      ]
     },
     "metadata": {
      "needs_background": "light"
     },
     "output_type": "display_data"
    }
   ],
   "source": [
    "_ = plt.plot(x, y, 'o', label='Original data', markersize=6)\n",
    "_ = plt.plot(x, c*x + b, 'r', label='Fitted line')\n",
    "_ = plt.xlabel(\"Confidence\")\n",
    "_ = plt.ylabel(\"Time\")\n",
    "_ = plt.title(\"Confidence(1st round) / Time (2nd round) EF Group\")\n",
    "_ = plt.legend()\n",
    "plt.savefig(\"Conf_Time_EF.png\")\n",
    "plt.show()"
   ]
  }
 ],
 "metadata": {
  "kernelspec": {
   "display_name": "Python 3",
   "language": "python",
   "name": "python3"
  },
  "language_info": {
   "codemirror_mode": {
    "name": "ipython",
    "version": 3
   },
   "file_extension": ".py",
   "mimetype": "text/x-python",
   "name": "python",
   "nbconvert_exporter": "python",
   "pygments_lexer": "ipython3",
   "version": "3.7.4"
  }
 },
 "nbformat": 4,
 "nbformat_minor": 4
}
