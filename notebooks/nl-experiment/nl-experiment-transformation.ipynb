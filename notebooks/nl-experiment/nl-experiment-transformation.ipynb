{
 "cells": [
  {
   "cell_type": "code",
   "execution_count": 1,
   "metadata": {},
   "outputs": [],
   "source": [
    "%defaultDatasource jdbc:h2:mem:db"
   ]
  },
  {
   "cell_type": "code",
   "execution_count": 2,
   "metadata": {},
   "outputs": [],
   "source": [
    "DROP TABLE IF EXISTS DescPoints;\n",
    "\n",
    "CREATE TABLE DescPoints (\n",
    "  ctype VARCHAR(2),\n",
    "  user INT,\n",
    "  question VARCHAR(22),\n",
    "  answer VARCHAR(200),\n",
    "  case VARCHAR(7),\n",
    "  points DECIMAL(3,1),\n",
    "  PRIMARY KEY(user, question, case)\n",
    ");"
   ]
  },
  {
   "cell_type": "code",
   "execution_count": 3,
   "metadata": {},
   "outputs": [],
   "source": [
    "INSERT INTO DescPoints SELECT 'DF' AS ctype, 61 AS user, * FROM CSVREAD('../../resources/nl-experiment1/transformed-data/group-df/Points61.csv') AS DescCSV WHERE question IS NOT NULL AND DescCSV.case IS NOT NULL;\n",
    "INSERT INTO DescPoints SELECT 'DF' AS ctype, 62 AS user, * FROM CSVREAD('../../resources/nl-experiment1/transformed-data/group-df/Points62.csv') AS DescCSV WHERE question IS NOT NULL AND DescCSV.case IS NOT NULL;\n",
    "INSERT INTO DescPoints SELECT 'DF' AS ctype, 63 AS user, * FROM CSVREAD('../../resources/nl-experiment1/transformed-data/group-df/Points63.csv') AS DescCSV WHERE question IS NOT NULL AND DescCSV.case IS NOT NULL;\n",
    "INSERT INTO DescPoints SELECT 'DF' AS ctype, 64 AS user, * FROM CSVREAD('../../resources/nl-experiment1/transformed-data/group-df/Points64.csv') AS DescCSV WHERE question IS NOT NULL AND DescCSV.case IS NOT NULL;\n",
    "INSERT INTO DescPoints SELECT 'DF' AS ctype, 65 AS user, * FROM CSVREAD('../../resources/nl-experiment1/transformed-data/group-df/Points65.csv') AS DescCSV WHERE question IS NOT NULL AND DescCSV.case IS NOT NULL;\n",
    "INSERT INTO DescPoints SELECT 'DF' AS ctype, 66 AS user, * FROM CSVREAD('../../resources/nl-experiment1/transformed-data/group-df/Points66.csv') AS DescCSV WHERE question IS NOT NULL AND DescCSV.case IS NOT NULL;\n",
    "INSERT INTO DescPoints SELECT 'DF' AS ctype, 67 AS user, * FROM CSVREAD('../../resources/nl-experiment1/transformed-data/group-df/Points67.csv') AS DescCSV WHERE question IS NOT NULL AND DescCSV.case IS NOT NULL;\n",
    "INSERT INTO DescPoints SELECT 'DF' AS ctype, 68 AS user, * FROM CSVREAD('../../resources/nl-experiment1/transformed-data/group-df/Points68.csv') AS DescCSV WHERE question IS NOT NULL AND DescCSV.case IS NOT NULL;\n",
    "INSERT INTO DescPoints SELECT 'DF' AS ctype, 69 AS user, * FROM CSVREAD('../../resources/nl-experiment1/transformed-data/group-df/Points69.csv') AS DescCSV WHERE question IS NOT NULL AND DescCSV.case IS NOT NULL;\n",
    "INSERT INTO DescPoints SELECT 'DF' AS ctype, 70 AS user, * FROM CSVREAD('../../resources/nl-experiment1/transformed-data/group-df/Points70.csv') AS DescCSV WHERE question IS NOT NULL AND DescCSV.case IS NOT NULL;\n",
    "INSERT INTO DescPoints SELECT 'DF' AS ctype, 71 AS user, * FROM CSVREAD('../../resources/nl-experiment1/transformed-data/group-df/Points71.csv') AS DescCSV WHERE question IS NOT NULL AND DescCSV.case IS NOT NULL;\n",
    "INSERT INTO DescPoints SELECT 'DF' AS ctype, 72 AS user, * FROM CSVREAD('../../resources/nl-experiment1/transformed-data/group-df/Points72.csv') AS DescCSV WHERE question IS NOT NULL AND DescCSV.case IS NOT NULL;\n",
    "INSERT INTO DescPoints SELECT 'DF' AS ctype, 73 AS user, * FROM CSVREAD('../../resources/nl-experiment1/transformed-data/group-df/Points73.csv') AS DescCSV WHERE question IS NOT NULL AND DescCSV.case IS NOT NULL;\n",
    "INSERT INTO DescPoints SELECT 'DF' AS ctype, 75 AS user, * FROM CSVREAD('../../resources/nl-experiment1/transformed-data/group-df/Points75.csv') AS DescCSV WHERE question IS NOT NULL AND DescCSV.case IS NOT NULL;\n",
    "INSERT INTO DescPoints SELECT 'DF' AS ctype, 76 AS user, * FROM CSVREAD('../../resources/nl-experiment1/transformed-data/group-df/Points76.csv') AS DescCSV WHERE question IS NOT NULL AND DescCSV.case IS NOT NULL;\n",
    "INSERT INTO DescPoints SELECT 'DF' AS ctype, 77 AS user, * FROM CSVREAD('../../resources/nl-experiment1/transformed-data/group-df/Points77.csv') AS DescCSV WHERE question IS NOT NULL AND DescCSV.case IS NOT NULL;\n",
    "INSERT INTO DescPoints SELECT 'DF' AS ctype, 78 AS user, * FROM CSVREAD('../../resources/nl-experiment1/transformed-data/group-df/Points78.csv') AS DescCSV WHERE question IS NOT NULL AND DescCSV.case IS NOT NULL;\n",
    "INSERT INTO DescPoints SELECT 'DF' AS ctype, 79 AS user, * FROM CSVREAD('../../resources/nl-experiment1/transformed-data/group-df/Points79.csv') AS DescCSV WHERE question IS NOT NULL AND DescCSV.case IS NOT NULL;\n",
    "INSERT INTO DescPoints SELECT 'DF' AS ctype, 80 AS user, * FROM CSVREAD('../../resources/nl-experiment1/transformed-data/group-df/Points80.csv') AS DescCSV WHERE question IS NOT NULL AND DescCSV.case IS NOT NULL;\n",
    "INSERT INTO DescPoints SELECT 'DF' AS ctype, 81 AS user, * FROM CSVREAD('../../resources/nl-experiment1/transformed-data/group-df/Points81.csv') AS DescCSV WHERE question IS NOT NULL AND DescCSV.case IS NOT NULL;\n",
    "INSERT INTO DescPoints SELECT 'DF' AS ctype, 82 AS user, * FROM CSVREAD('../../resources/nl-experiment1/transformed-data/group-df/Points82.csv') AS DescCSV WHERE question IS NOT NULL AND DescCSV.case IS NOT NULL;\n",
    "INSERT INTO DescPoints SELECT 'DF' AS ctype, 83 AS user, * FROM CSVREAD('../../resources/nl-experiment1/transformed-data/group-df/Points83.csv') AS DescCSV WHERE question IS NOT NULL AND DescCSV.case IS NOT NULL;\n",
    "INSERT INTO DescPoints SELECT 'DF' AS ctype, 84 AS user, * FROM CSVREAD('../../resources/nl-experiment1/transformed-data/group-df/Points84.csv') AS DescCSV WHERE question IS NOT NULL AND DescCSV.case IS NOT NULL;\n",
    "INSERT INTO DescPoints SELECT 'DF' AS ctype, 85 AS user, * FROM CSVREAD('../../resources/nl-experiment1/transformed-data/group-df/Points85.csv') AS DescCSV WHERE question IS NOT NULL AND DescCSV.case IS NOT NULL;"
   ]
  },
  {
   "cell_type": "code",
   "execution_count": 4,
   "metadata": {},
   "outputs": [],
   "source": [
    "ALTER TABLE DescPoints\n",
    "ALTER COLUMN case RENAME TO casen;"
   ]
  },
  {
   "cell_type": "code",
   "execution_count": 5,
   "metadata": {},
   "outputs": [
    {
     "data": {
      "application/vnd.jupyter.widget-view+json": {
       "model_id": "2289baa6-c059-4d4e-8068-ce9e48fbb86a",
       "version_major": 2,
       "version_minor": 0
      },
      "method": "display_data"
     },
     "metadata": {},
     "output_type": "display_data"
    }
   ],
   "source": [
    "SELECT * FROM DescPoints;"
   ]
  },
  {
   "cell_type": "code",
   "execution_count": 6,
   "metadata": {
    "scrolled": true
   },
   "outputs": [
    {
     "data": {
      "application/vnd.jupyter.widget-view+json": {
       "model_id": "bfd48855-cfb5-4f92-9d70-695a1683acdc",
       "version_major": 2,
       "version_minor": 0
      },
      "method": "display_data"
     },
     "metadata": {},
     "output_type": "display_data"
    }
   ],
   "source": [
    "SELECT DISTINCT USER FROM DescPoints;"
   ]
  },
  {
   "cell_type": "code",
   "execution_count": 7,
   "metadata": {},
   "outputs": [],
   "source": [
    "DROP TABLE IF EXISTS EKGPoints;\n",
    "\n",
    "CREATE TABLE EKGPoints (\n",
    "  ctype VARCHAR(2),\n",
    "  user INT,\n",
    "  question VARCHAR(22),\n",
    "  answer VARCHAR(200),\n",
    "  case VARCHAR(7),\n",
    "  points DECIMAL(3,1),\n",
    "  PRIMARY KEY(user, question, case)\n",
    ");"
   ]
  },
  {
   "cell_type": "code",
   "execution_count": 8,
   "metadata": {},
   "outputs": [],
   "source": [
    "INSERT INTO EKGPoints SELECT 'EF' AS ctype, 86 AS user, * FROM CSVREAD('../../resources/nl-experiment1/transformed-data/group-ef/Points86.csv') AS EKGCSV WHERE question IS NOT NULL AND EKGCSV.case IS NOT NULL;\n",
    "INSERT INTO EKGPoints SELECT 'EF' AS ctype, 88 AS user, * FROM CSVREAD('../../resources/nl-experiment1/transformed-data/group-ef/Points88.csv') AS EKGCSV WHERE question IS NOT NULL AND EKGCSV.case IS NOT NULL;\n",
    "INSERT INTO EKGPoints SELECT 'EF' AS ctype, 90 AS user, * FROM CSVREAD('../../resources/nl-experiment1/transformed-data/group-ef/Points90.csv') AS EKGCSV WHERE question IS NOT NULL AND EKGCSV.case IS NOT NULL;\n",
    "INSERT INTO EKGPoints SELECT 'EF' AS ctype, 91 AS user, * FROM CSVREAD('../../resources/nl-experiment1/transformed-data/group-ef/Points91.csv') AS EKGCSV WHERE question IS NOT NULL AND EKGCSV.case IS NOT NULL;\n",
    "INSERT INTO EKGPoints SELECT 'EF' AS ctype, 92 AS user, * FROM CSVREAD('../../resources/nl-experiment1/transformed-data/group-ef/Points92.csv') AS EKGCSV WHERE question IS NOT NULL AND EKGCSV.case IS NOT NULL;\n",
    "INSERT INTO EKGPoints SELECT 'EF' AS ctype, 93 AS user, * FROM CSVREAD('../../resources/nl-experiment1/transformed-data/group-ef/Points93.csv') AS EKGCSV WHERE question IS NOT NULL AND EKGCSV.case IS NOT NULL;\n",
    "INSERT INTO EKGPoints SELECT 'EF' AS ctype, 94 AS user, * FROM CSVREAD('../../resources/nl-experiment1/transformed-data/group-ef/Points94.csv') AS EKGCSV WHERE question IS NOT NULL AND EKGCSV.case IS NOT NULL;\n",
    "INSERT INTO EKGPoints SELECT 'EF' AS ctype, 95 AS user, * FROM CSVREAD('../../resources/nl-experiment1/transformed-data/group-ef/Points95.csv') AS EKGCSV WHERE question IS NOT NULL AND EKGCSV.case IS NOT NULL;\n",
    "INSERT INTO EKGPoints SELECT 'EF' AS ctype, 96 AS user, * FROM CSVREAD('../../resources/nl-experiment1/transformed-data/group-ef/Points96.csv') AS EKGCSV WHERE question IS NOT NULL AND EKGCSV.case IS NOT NULL;\n",
    "INSERT INTO EKGPoints SELECT 'EF' AS ctype, 97 AS user, * FROM CSVREAD('../../resources/nl-experiment1/transformed-data/group-ef/Points97.csv') AS EKGCSV WHERE question IS NOT NULL AND EKGCSV.case IS NOT NULL;\n",
    "INSERT INTO EKGPoints SELECT 'EF' AS ctype, 98 AS user, * FROM CSVREAD('../../resources/nl-experiment1/transformed-data/group-ef/Points98.csv') AS EKGCSV WHERE question IS NOT NULL AND EKGCSV.case IS NOT NULL;\n",
    "INSERT INTO EKGPoints SELECT 'EF' AS ctype, 99 AS user, * FROM CSVREAD('../../resources/nl-experiment1/transformed-data/group-ef/Points99.csv') AS EKGCSV WHERE question IS NOT NULL AND EKGCSV.case IS NOT NULL;\n",
    "INSERT INTO EKGPoints SELECT 'EF' AS ctype, 100 AS user, * FROM CSVREAD('../../resources/nl-experiment1/transformed-data/group-ef/Points100.csv') AS EKGCSV WHERE question IS NOT NULL AND EKGCSV.case IS NOT NULL;\n",
    "INSERT INTO EKGPoints SELECT 'EF' AS ctype, 101 AS user, * FROM CSVREAD('../../resources/nl-experiment1/transformed-data/group-ef/Points101.csv') AS EKGCSV WHERE question IS NOT NULL AND EKGCSV.case IS NOT NULL;\n",
    "INSERT INTO EKGPoints SELECT 'EF' AS ctype, 102 AS user, * FROM CSVREAD('../../resources/nl-experiment1/transformed-data/group-ef/Points102.csv') AS EKGCSV WHERE question IS NOT NULL AND EKGCSV.case IS NOT NULL;\n",
    "INSERT INTO EKGPoints SELECT 'EF' AS ctype, 103 AS user, * FROM CSVREAD('../../resources/nl-experiment1/transformed-data/group-ef/Points103.csv') AS EKGCSV WHERE question IS NOT NULL AND EKGCSV.case IS NOT NULL;\n",
    "INSERT INTO EKGPoints SELECT 'EF' AS ctype, 104 AS user, * FROM CSVREAD('../../resources/nl-experiment1/transformed-data/group-ef/Points104.csv') AS EKGCSV WHERE question IS NOT NULL AND EKGCSV.case IS NOT NULL;\n",
    "INSERT INTO EKGPoints SELECT 'EF' AS ctype, 105 AS user, * FROM CSVREAD('../../resources/nl-experiment1/transformed-data/group-ef/Points105.csv') AS EKGCSV WHERE question IS NOT NULL AND EKGCSV.case IS NOT NULL;\n",
    "INSERT INTO EKGPoints SELECT 'EF' AS ctype, 106 AS user, * FROM CSVREAD('../../resources/nl-experiment1/transformed-data/group-ef/Points106.csv') AS EKGCSV WHERE question IS NOT NULL AND EKGCSV.case IS NOT NULL;\n",
    "INSERT INTO EKGPoints SELECT 'EF' AS ctype, 107 AS user, * FROM CSVREAD('../../resources/nl-experiment1/transformed-data/group-ef/Points107.csv') AS EKGCSV WHERE question IS NOT NULL AND EKGCSV.case IS NOT NULL;\n",
    "INSERT INTO EKGPoints SELECT 'EF' AS ctype, 108 AS user, * FROM CSVREAD('../../resources/nl-experiment1/transformed-data/group-ef/Points108.csv') AS EKGCSV WHERE question IS NOT NULL AND EKGCSV.case IS NOT NULL;\n",
    "INSERT INTO EKGPoints SELECT 'EF' AS ctype, 109 AS user, * FROM CSVREAD('../../resources/nl-experiment1/transformed-data/group-ef/Points109.csv') AS EKGCSV WHERE question IS NOT NULL AND EKGCSV.case IS NOT NULL;\n",
    "INSERT INTO EKGPoints SELECT 'EF' AS ctype, 110 AS user, * FROM CSVREAD('../../resources/nl-experiment1/transformed-data/group-ef/Points110.csv') AS EKGCSV WHERE question IS NOT NULL AND EKGCSV.case IS NOT NULL;\n",
    "INSERT INTO EKGPoints SELECT 'EF' AS ctype, 111 AS user, * FROM CSVREAD('../../resources/nl-experiment1/transformed-data/group-ef/Points111.csv') AS EKGCSV WHERE question IS NOT NULL AND EKGCSV.case IS NOT NULL;\n",
    "INSERT INTO EKGPoints SELECT 'EF' AS ctype, 112 AS user, * FROM CSVREAD('../../resources/nl-experiment1/transformed-data/group-ef/Points112.csv') AS EKGCSV WHERE question IS NOT NULL AND EKGCSV.case IS NOT NULL;\n",
    "INSERT INTO EKGPoints SELECT 'EF' AS ctype, 113 AS user, * FROM CSVREAD('../../resources/nl-experiment1/transformed-data/group-ef/Points113.csv') AS EKGCSV WHERE question IS NOT NULL AND EKGCSV.case IS NOT NULL;\n",
    "INSERT INTO EKGPoints SELECT 'EF' AS ctype, 115 AS user, * FROM CSVREAD('../../resources/nl-experiment1/transformed-data/group-ef/Points115.csv') AS EKGCSV WHERE question IS NOT NULL AND EKGCSV.case IS NOT NULL;\n",
    "INSERT INTO EKGPoints SELECT 'EF' AS ctype, 116 AS user, * FROM CSVREAD('../../resources/nl-experiment1/transformed-data/group-ef/Points116.csv') AS EKGCSV WHERE question IS NOT NULL AND EKGCSV.case IS NOT NULL;"
   ]
  },
  {
   "cell_type": "code",
   "execution_count": 9,
   "metadata": {},
   "outputs": [],
   "source": [
    "ALTER TABLE EKGPoints\n",
    "ALTER COLUMN case RENAME TO casen;"
   ]
  },
  {
   "cell_type": "code",
   "execution_count": 10,
   "metadata": {},
   "outputs": [
    {
     "data": {
      "application/vnd.jupyter.widget-view+json": {
       "model_id": "37877cc4-d350-45c2-94d4-d3480dd0531c",
       "version_major": 2,
       "version_minor": 0
      },
      "method": "display_data"
     },
     "metadata": {},
     "output_type": "display_data"
    }
   ],
   "source": [
    "SELECT * FROM EKGPoints;"
   ]
  },
  {
   "cell_type": "code",
   "execution_count": 11,
   "metadata": {},
   "outputs": [
    {
     "data": {
      "application/vnd.jupyter.widget-view+json": {
       "model_id": "53927663-c8b0-4fd5-b795-9313aa2b907c",
       "version_major": 2,
       "version_minor": 0
      },
      "method": "display_data"
     },
     "metadata": {},
     "output_type": "display_data"
    }
   ],
   "source": [
    "SELECT DISTINCT USER FROM EKGPoints;"
   ]
  },
  {
   "cell_type": "code",
   "execution_count": 12,
   "metadata": {},
   "outputs": [],
   "source": [
    "CREATE VIEW CasesPoints AS\n",
    "SELECT * FROM DescPoints\n",
    "UNION\n",
    "SELECT * FROM EKGPoints;"
   ]
  },
  {
   "cell_type": "code",
   "execution_count": 13,
   "metadata": {},
   "outputs": [
    {
     "data": {
      "application/vnd.jupyter.widget-view+json": {
       "model_id": "670fb2a9-5410-46d5-81cd-502d420851bf",
       "version_major": 2,
       "version_minor": 0
      },
      "method": "display_data"
     },
     "metadata": {},
     "output_type": "display_data"
    }
   ],
   "source": [
    "SELECT * FROM CasesPoints;"
   ]
  },
  {
   "cell_type": "code",
   "execution_count": 14,
   "metadata": {},
   "outputs": [],
   "source": [
    "DROP TABLE IF EXISTS UserCase;\n",
    "\n",
    "CREATE TABLE UserCase (\n",
    "  ctype VARCHAR(2),\n",
    "  user INT,\n",
    "  casen VARCHAR(7),\n",
    "  answer_desc VARCHAR(200),\n",
    "  points_desc DECIMAL(3,1),\n",
    "  confidence_desc INT,\n",
    "  time_desc DECIMAL(8,2),\n",
    "  answer_ekg VARCHAR(200),\n",
    "  points_ekg DECIMAL(3,1),\n",
    "  confidence_ekg INT,\n",
    "  time_ekg DECIMAL(8,2),\n",
    "  PRIMARY KEY(user, casen)\n",
    ");\n",
    "\n",
    "INSERT INTO UserCase\n",
    "SELECT ctype, user, casen, answer as answer_desc, points as points_desc,\n",
    "        0 as confidence_desc, 0.0 as time_desc, '' as answer_ekg, 0.0 as points_ekg, 0 as confidence_ekg, 0.0 as time_ekg\n",
    "FROM CasesPoints\n",
    "WHERE question = 'Description Hypothesis';\n",
    "\n",
    "UPDATE UserCase UC\n",
    "SET confidence_desc = (SELECT CONVERT(CP.answer, INT) FROM CasesPoints CP WHERE CP.user=UC.user AND CP.casen=UC.casen AND CP.question = 'Description Confidence');\n",
    "\n",
    "UPDATE UserCase UC\n",
    "SET answer_ekg = (SELECT CP.answer FROM CasesPoints CP WHERE CP.user=UC.user AND CP.casen=UC.casen AND CP.question = 'EKG Hypothesis');\n",
    "\n",
    "UPDATE UserCase UC\n",
    "SET points_ekg = (SELECT CP.points FROM CasesPoints CP WHERE CP.user=UC.user AND CP.casen=UC.casen AND CP.question = 'EKG Hypothesis');\n",
    "\n",
    "UPDATE UserCase UC\n",
    "SET confidence_ekg = (SELECT CONVERT(CP.answer, INT) FROM CasesPoints CP WHERE CP.user=UC.user AND CP.casen=UC.casen AND CP.question = 'EKG Confidence');"
   ]
  },
  {
   "cell_type": "code",
   "execution_count": 15,
   "metadata": {},
   "outputs": [
    {
     "data": {
      "application/vnd.jupyter.widget-view+json": {
       "model_id": "8bf65558-99e2-410d-981f-d6064a6443f0",
       "version_major": 2,
       "version_minor": 0
      },
      "method": "display_data"
     },
     "metadata": {},
     "output_type": "display_data"
    }
   ],
   "source": [
    "SELECT * FROM UserCase;"
   ]
  },
  {
   "cell_type": "code",
   "execution_count": 16,
   "metadata": {},
   "outputs": [],
   "source": [
    "DROP TABLE IF EXISTS CasesTime;\n",
    "\n",
    "CREATE TABLE CasesTime (\n",
    "  ctype VARCHAR(2),\n",
    "  user INT,\n",
    "  cycle VARCHAR(22),\n",
    "  case VARCHAR(7),\n",
    "  time DECIMAL(8,2),\n",
    "  PRIMARY KEY(user, cycle, case)\n",
    ");"
   ]
  },
  {
   "cell_type": "code",
   "execution_count": 17,
   "metadata": {},
   "outputs": [],
   "source": [
    "INSERT INTO CasesTime SELECT 'DF' AS ctype, 61 AS user, * FROM CSVREAD('../../resources/nl-experiment1/transformed-data/group-df/Time61.csv') AS DescCSV WHERE cycle IS NOT NULL AND DescCSV.case IS NOT NULL;\n",
    "INSERT INTO CasesTime SELECT 'DF' AS ctype, 62 AS user, * FROM CSVREAD('../../resources/nl-experiment1/transformed-data/group-df/Time62.csv') AS DescCSV WHERE cycle IS NOT NULL AND DescCSV.case IS NOT NULL;\n",
    "INSERT INTO CasesTime SELECT 'DF' AS ctype, 63 AS user, * FROM CSVREAD('../../resources/nl-experiment1/transformed-data/group-df/Time63.csv') AS DescCSV WHERE cycle IS NOT NULL AND DescCSV.case IS NOT NULL;\n",
    "INSERT INTO CasesTime SELECT 'DF' AS ctype, 64 AS user, * FROM CSVREAD('../../resources/nl-experiment1/transformed-data/group-df/Time64.csv') AS DescCSV WHERE cycle IS NOT NULL AND DescCSV.case IS NOT NULL;\n",
    "INSERT INTO CasesTime SELECT 'DF' AS ctype, 65 AS user, * FROM CSVREAD('../../resources/nl-experiment1/transformed-data/group-df/Time65.csv') AS DescCSV WHERE cycle IS NOT NULL AND DescCSV.case IS NOT NULL;\n",
    "INSERT INTO CasesTime SELECT 'DF' AS ctype, 66 AS user, * FROM CSVREAD('../../resources/nl-experiment1/transformed-data/group-df/Time66.csv') AS DescCSV WHERE cycle IS NOT NULL AND DescCSV.case IS NOT NULL;\n",
    "INSERT INTO CasesTime SELECT 'DF' AS ctype, 67 AS user, * FROM CSVREAD('../../resources/nl-experiment1/transformed-data/group-df/Time67.csv') AS DescCSV WHERE cycle IS NOT NULL AND DescCSV.case IS NOT NULL;\n",
    "INSERT INTO CasesTime SELECT 'DF' AS ctype, 68 AS user, * FROM CSVREAD('../../resources/nl-experiment1/transformed-data/group-df/Time68.csv') AS DescCSV WHERE cycle IS NOT NULL AND DescCSV.case IS NOT NULL;\n",
    "INSERT INTO CasesTime SELECT 'DF' AS ctype, 69 AS user, * FROM CSVREAD('../../resources/nl-experiment1/transformed-data/group-df/Time69.csv') AS DescCSV WHERE cycle IS NOT NULL AND DescCSV.case IS NOT NULL;\n",
    "INSERT INTO CasesTime SELECT 'DF' AS ctype, 70 AS user, * FROM CSVREAD('../../resources/nl-experiment1/transformed-data/group-df/Time70.csv') AS DescCSV WHERE cycle IS NOT NULL AND DescCSV.case IS NOT NULL;\n",
    "INSERT INTO CasesTime SELECT 'DF' AS ctype, 71 AS user, * FROM CSVREAD('../../resources/nl-experiment1/transformed-data/group-df/Time71.csv') AS DescCSV WHERE cycle IS NOT NULL AND DescCSV.case IS NOT NULL;\n",
    "INSERT INTO CasesTime SELECT 'DF' AS ctype, 72 AS user, * FROM CSVREAD('../../resources/nl-experiment1/transformed-data/group-df/Time72.csv') AS DescCSV WHERE cycle IS NOT NULL AND DescCSV.case IS NOT NULL;\n",
    "INSERT INTO CasesTime SELECT 'DF' AS ctype, 73 AS user, * FROM CSVREAD('../../resources/nl-experiment1/transformed-data/group-df/Time73.csv') AS DescCSV WHERE cycle IS NOT NULL AND DescCSV.case IS NOT NULL;\n",
    "INSERT INTO CasesTime SELECT 'DF' AS ctype, 75 AS user, * FROM CSVREAD('../../resources/nl-experiment1/transformed-data/group-df/Time75.csv') AS DescCSV WHERE cycle IS NOT NULL AND DescCSV.case IS NOT NULL;\n",
    "INSERT INTO CasesTime SELECT 'DF' AS ctype, 76 AS user, * FROM CSVREAD('../../resources/nl-experiment1/transformed-data/group-df/Time76.csv') AS DescCSV WHERE cycle IS NOT NULL AND DescCSV.case IS NOT NULL;\n",
    "INSERT INTO CasesTime SELECT 'DF' AS ctype, 77 AS user, * FROM CSVREAD('../../resources/nl-experiment1/transformed-data/group-df/Time77.csv') AS DescCSV WHERE cycle IS NOT NULL AND DescCSV.case IS NOT NULL;\n",
    "INSERT INTO CasesTime SELECT 'DF' AS ctype, 78 AS user, * FROM CSVREAD('../../resources/nl-experiment1/transformed-data/group-df/Time78.csv') AS DescCSV WHERE cycle IS NOT NULL AND DescCSV.case IS NOT NULL;\n",
    "INSERT INTO CasesTime SELECT 'DF' AS ctype, 79 AS user, * FROM CSVREAD('../../resources/nl-experiment1/transformed-data/group-df/Time79.csv') AS DescCSV WHERE cycle IS NOT NULL AND DescCSV.case IS NOT NULL;\n",
    "INSERT INTO CasesTime SELECT 'DF' AS ctype, 80 AS user, * FROM CSVREAD('../../resources/nl-experiment1/transformed-data/group-df/Time80.csv') AS DescCSV WHERE cycle IS NOT NULL AND DescCSV.case IS NOT NULL;\n",
    "INSERT INTO CasesTime SELECT 'DF' AS ctype, 81 AS user, * FROM CSVREAD('../../resources/nl-experiment1/transformed-data/group-df/Time81.csv') AS DescCSV WHERE cycle IS NOT NULL AND DescCSV.case IS NOT NULL;\n",
    "INSERT INTO CasesTime SELECT 'DF' AS ctype, 82 AS user, * FROM CSVREAD('../../resources/nl-experiment1/transformed-data/group-df/Time82.csv') AS DescCSV WHERE cycle IS NOT NULL AND DescCSV.case IS NOT NULL;\n",
    "INSERT INTO CasesTime SELECT 'DF' AS ctype, 83 AS user, * FROM CSVREAD('../../resources/nl-experiment1/transformed-data/group-df/Time83.csv') AS DescCSV WHERE cycle IS NOT NULL AND DescCSV.case IS NOT NULL;\n",
    "INSERT INTO CasesTime SELECT 'DF' AS ctype, 84 AS user, * FROM CSVREAD('../../resources/nl-experiment1/transformed-data/group-df/Time84.csv') AS DescCSV WHERE cycle IS NOT NULL AND DescCSV.case IS NOT NULL;\n",
    "INSERT INTO CasesTime SELECT 'DF' AS ctype, 85 AS user, * FROM CSVREAD('../../resources/nl-experiment1/transformed-data/group-df/Time85.csv') AS DescCSV WHERE cycle IS NOT NULL AND DescCSV.case IS NOT NULL;"
   ]
  },
  {
   "cell_type": "code",
   "execution_count": 18,
   "metadata": {},
   "outputs": [],
   "source": [
    "INSERT INTO CasesTime SELECT 'EF' AS ctype, 86 AS user, * FROM CSVREAD('../../resources/nl-experiment1/transformed-data/group-ef/Time86.csv') AS EKGCSV WHERE cycle IS NOT NULL AND EKGCSV.case IS NOT NULL;\n",
    "INSERT INTO CasesTime SELECT 'EF' AS ctype, 88 AS user, * FROM CSVREAD('../../resources/nl-experiment1/transformed-data/group-ef/Time88.csv') AS EKGCSV WHERE cycle IS NOT NULL AND EKGCSV.case IS NOT NULL;\n",
    "INSERT INTO CasesTime SELECT 'EF' AS ctype, 90 AS user, * FROM CSVREAD('../../resources/nl-experiment1/transformed-data/group-ef/Time90.csv') AS EKGCSV WHERE cycle IS NOT NULL AND EKGCSV.case IS NOT NULL;\n",
    "INSERT INTO CasesTime SELECT 'EF' AS ctype, 91 AS user, * FROM CSVREAD('../../resources/nl-experiment1/transformed-data/group-ef/Time91.csv') AS EKGCSV WHERE cycle IS NOT NULL AND EKGCSV.case IS NOT NULL;\n",
    "INSERT INTO CasesTime SELECT 'EF' AS ctype, 92 AS user, * FROM CSVREAD('../../resources/nl-experiment1/transformed-data/group-ef/Time92.csv') AS EKGCSV WHERE cycle IS NOT NULL AND EKGCSV.case IS NOT NULL;\n",
    "INSERT INTO CasesTime SELECT 'EF' AS ctype, 93 AS user, * FROM CSVREAD('../../resources/nl-experiment1/transformed-data/group-ef/Time93.csv') AS EKGCSV WHERE cycle IS NOT NULL AND EKGCSV.case IS NOT NULL;\n",
    "INSERT INTO CasesTime SELECT 'EF' AS ctype, 94 AS user, * FROM CSVREAD('../../resources/nl-experiment1/transformed-data/group-ef/Time94.csv') AS EKGCSV WHERE cycle IS NOT NULL AND EKGCSV.case IS NOT NULL;\n",
    "INSERT INTO CasesTime SELECT 'EF' AS ctype, 95 AS user, * FROM CSVREAD('../../resources/nl-experiment1/transformed-data/group-ef/Time95.csv') AS EKGCSV WHERE cycle IS NOT NULL AND EKGCSV.case IS NOT NULL;\n",
    "INSERT INTO CasesTime SELECT 'EF' AS ctype, 96 AS user, * FROM CSVREAD('../../resources/nl-experiment1/transformed-data/group-ef/Time96.csv') AS EKGCSV WHERE cycle IS NOT NULL AND EKGCSV.case IS NOT NULL;\n",
    "INSERT INTO CasesTime SELECT 'EF' AS ctype, 97 AS user, * FROM CSVREAD('../../resources/nl-experiment1/transformed-data/group-ef/Time97.csv') AS EKGCSV WHERE cycle IS NOT NULL AND EKGCSV.case IS NOT NULL;\n",
    "INSERT INTO CasesTime SELECT 'EF' AS ctype, 98 AS user, * FROM CSVREAD('../../resources/nl-experiment1/transformed-data/group-ef/Time98.csv') AS EKGCSV WHERE cycle IS NOT NULL AND EKGCSV.case IS NOT NULL;\n",
    "INSERT INTO CasesTime SELECT 'EF' AS ctype, 99 AS user, * FROM CSVREAD('../../resources/nl-experiment1/transformed-data/group-ef/Time99.csv') AS EKGCSV WHERE cycle IS NOT NULL AND EKGCSV.case IS NOT NULL;\n",
    "INSERT INTO CasesTime SELECT 'EF' AS ctype, 100 AS user, * FROM CSVREAD('../../resources/nl-experiment1/transformed-data/group-ef/Time100.csv') AS EKGCSV WHERE cycle IS NOT NULL AND EKGCSV.case IS NOT NULL;\n",
    "INSERT INTO CasesTime SELECT 'EF' AS ctype, 101 AS user, * FROM CSVREAD('../../resources/nl-experiment1/transformed-data/group-ef/Time101.csv') AS EKGCSV WHERE cycle IS NOT NULL AND EKGCSV.case IS NOT NULL;\n",
    "INSERT INTO CasesTime SELECT 'EF' AS ctype, 102 AS user, * FROM CSVREAD('../../resources/nl-experiment1/transformed-data/group-ef/Time102.csv') AS EKGCSV WHERE cycle IS NOT NULL AND EKGCSV.case IS NOT NULL;\n",
    "INSERT INTO CasesTime SELECT 'EF' AS ctype, 103 AS user, * FROM CSVREAD('../../resources/nl-experiment1/transformed-data/group-ef/Time103.csv') AS EKGCSV WHERE cycle IS NOT NULL AND EKGCSV.case IS NOT NULL;\n",
    "INSERT INTO CasesTime SELECT 'EF' AS ctype, 104 AS user, * FROM CSVREAD('../../resources/nl-experiment1/transformed-data/group-ef/Time104.csv') AS EKGCSV WHERE cycle IS NOT NULL AND EKGCSV.case IS NOT NULL;\n",
    "INSERT INTO CasesTime SELECT 'EF' AS ctype, 105 AS user, * FROM CSVREAD('../../resources/nl-experiment1/transformed-data/group-ef/Time105.csv') AS EKGCSV WHERE cycle IS NOT NULL AND EKGCSV.case IS NOT NULL;\n",
    "INSERT INTO CasesTime SELECT 'EF' AS ctype, 106 AS user, * FROM CSVREAD('../../resources/nl-experiment1/transformed-data/group-ef/Time106.csv') AS EKGCSV WHERE cycle IS NOT NULL AND EKGCSV.case IS NOT NULL;\n",
    "INSERT INTO CasesTime SELECT 'EF' AS ctype, 107 AS user, * FROM CSVREAD('../../resources/nl-experiment1/transformed-data/group-ef/Time107.csv') AS EKGCSV WHERE cycle IS NOT NULL AND EKGCSV.case IS NOT NULL;\n",
    "INSERT INTO CasesTime SELECT 'EF' AS ctype, 108 AS user, * FROM CSVREAD('../../resources/nl-experiment1/transformed-data/group-ef/Time108.csv') AS EKGCSV WHERE cycle IS NOT NULL AND EKGCSV.case IS NOT NULL;\n",
    "INSERT INTO CasesTime SELECT 'EF' AS ctype, 109 AS user, * FROM CSVREAD('../../resources/nl-experiment1/transformed-data/group-ef/Time109.csv') AS EKGCSV WHERE cycle IS NOT NULL AND EKGCSV.case IS NOT NULL;\n",
    "INSERT INTO CasesTime SELECT 'EF' AS ctype, 110 AS user, * FROM CSVREAD('../../resources/nl-experiment1/transformed-data/group-ef/Time110.csv') AS EKGCSV WHERE cycle IS NOT NULL AND EKGCSV.case IS NOT NULL;\n",
    "INSERT INTO CasesTime SELECT 'EF' AS ctype, 111 AS user, * FROM CSVREAD('../../resources/nl-experiment1/transformed-data/group-ef/Time111.csv') AS EKGCSV WHERE cycle IS NOT NULL AND EKGCSV.case IS NOT NULL;\n",
    "INSERT INTO CasesTime SELECT 'EF' AS ctype, 112 AS user, * FROM CSVREAD('../../resources/nl-experiment1/transformed-data/group-ef/Time112.csv') AS EKGCSV WHERE cycle IS NOT NULL AND EKGCSV.case IS NOT NULL;\n",
    "INSERT INTO CasesTime SELECT 'EF' AS ctype, 113 AS user, * FROM CSVREAD('../../resources/nl-experiment1/transformed-data/group-ef/Time113.csv') AS EKGCSV WHERE cycle IS NOT NULL AND EKGCSV.case IS NOT NULL;\n",
    "INSERT INTO CasesTime SELECT 'EF' AS ctype, 115 AS user, * FROM CSVREAD('../../resources/nl-experiment1/transformed-data/group-ef/Time115.csv') AS EKGCSV WHERE cycle IS NOT NULL AND EKGCSV.case IS NOT NULL;\n",
    "INSERT INTO CasesTime SELECT 'EF' AS ctype, 116 AS user, * FROM CSVREAD('../../resources/nl-experiment1/transformed-data/group-ef/Time116.csv') AS EKGCSV WHERE cycle IS NOT NULL AND EKGCSV.case IS NOT NULL;"
   ]
  },
  {
   "cell_type": "code",
   "execution_count": 19,
   "metadata": {},
   "outputs": [],
   "source": [
    "ALTER TABLE CasesTime\n",
    "ALTER COLUMN case RENAME TO casen;"
   ]
  },
  {
   "cell_type": "code",
   "execution_count": 20,
   "metadata": {},
   "outputs": [
    {
     "data": {
      "application/vnd.jupyter.widget-view+json": {
       "model_id": "882996a9-8769-4b07-8736-ac6171726a67",
       "version_major": 2,
       "version_minor": 0
      },
      "method": "display_data"
     },
     "metadata": {},
     "output_type": "display_data"
    }
   ],
   "source": [
    "SELECT * FROM CasesTime;"
   ]
  },
  {
   "cell_type": "code",
   "execution_count": 21,
   "metadata": {},
   "outputs": [],
   "source": [
    "UPDATE UserCase UC\n",
    "SET time_desc = (SELECT CT.time FROM CasesTime CT WHERE CT.user=UC.user AND CT.casen=UC.casen AND CT.cycle = 'Description Cycle');\n",
    "\n",
    "UPDATE UserCase UC\n",
    "SET time_ekg = (SELECT CT.time FROM CasesTime CT WHERE CT.user=UC.user AND CT.casen=UC.casen AND CT.cycle = 'EKG Cycle');"
   ]
  },
  {
   "cell_type": "code",
   "execution_count": 22,
   "metadata": {},
   "outputs": [
    {
     "data": {
      "application/vnd.jupyter.widget-view+json": {
       "model_id": "2eca2789-01b8-40ad-9731-8ca8800a850f",
       "version_major": 2,
       "version_minor": 0
      },
      "method": "display_data"
     },
     "metadata": {},
     "output_type": "display_data"
    }
   ],
   "source": [
    "SELECT * FROM UserCase;"
   ]
  },
  {
   "cell_type": "code",
   "execution_count": 23,
   "metadata": {},
   "outputs": [
    {
     "data": {
      "text/plain": [
       "592"
      ]
     },
     "execution_count": 23,
     "metadata": {},
     "output_type": "execute_result"
    }
   ],
   "source": [
    "CALL CSVWRITE('../../resources/nl-experiment1/transformed-data/nl-experiment-01.csv', 'SELECT * FROM UserCase ORDER BY user, casen');"
   ]
  }
 ],
 "metadata": {
  "kernelspec": {
   "display_name": "SQL",
   "language": "SQL",
   "name": "sql"
  },
  "language_info": {
   "codemirror_mode": "sql",
   "file_extension": ".sql",
   "mimetype": "",
   "name": "SQL",
   "nbconverter_exporter": "",
   "version": ""
  },
  "toc": {
   "base_numbering": 1,
   "nav_menu": {},
   "number_sections": false,
   "sideBar": false,
   "skip_h1_title": false,
   "title_cell": "Table of Contents",
   "title_sidebar": "Contents",
   "toc_cell": false,
   "toc_position": {},
   "toc_section_display": false,
   "toc_window_display": false
  }
 },
 "nbformat": 4,
 "nbformat_minor": 2
}
