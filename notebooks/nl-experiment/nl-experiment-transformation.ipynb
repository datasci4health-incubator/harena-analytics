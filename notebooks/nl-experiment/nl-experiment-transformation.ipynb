{
 "cells": [
  {
   "cell_type": "code",
   "execution_count": 1,
   "metadata": {},
   "outputs": [],
   "source": [
    "%defaultDatasource jdbc:h2:mem:db"
   ]
  },
  {
   "cell_type": "code",
   "execution_count": 2,
   "metadata": {},
   "outputs": [],
   "source": [
    "DROP TABLE IF EXISTS DescPoints;\n",
    "\n",
    "CREATE TABLE DescPoints (\n",
    "  ctype VARCHAR(2),\n",
    "  user INT,\n",
    "  question VARCHAR(22),\n",
    "  answer VARCHAR(200),\n",
    "  case VARCHAR(7),\n",
    "  points DECIMAL(3,1),\n",
    "  PRIMARY KEY(user, question, case)\n",
    ");"
   ]
  },
  {
   "cell_type": "code",
   "execution_count": 3,
   "metadata": {},
   "outputs": [],
   "source": [
    "INSERT INTO DescPoints SELECT 'DF' AS ctype, 61 AS user, * FROM CSVREAD('../../resources/nl-experiment1/transformed-data/group-df/Points61.csv') AS DescCSV WHERE question IS NOT NULL AND DescCSV.case IS NOT NULL;\n",
    "INSERT INTO DescPoints SELECT 'DF' AS ctype, 62 AS user, * FROM CSVREAD('../../resources/nl-experiment1/transformed-data/group-df/Points62.csv') AS DescCSV WHERE question IS NOT NULL AND DescCSV.case IS NOT NULL;\n",
    "INSERT INTO DescPoints SELECT 'DF' AS ctype, 63 AS user, * FROM CSVREAD('../../resources/nl-experiment1/transformed-data/group-df/Points63.csv') AS DescCSV WHERE question IS NOT NULL AND DescCSV.case IS NOT NULL;\n",
    "INSERT INTO DescPoints SELECT 'DF' AS ctype, 64 AS user, * FROM CSVREAD('../../resources/nl-experiment1/transformed-data/group-df/Points64.csv') AS DescCSV WHERE question IS NOT NULL AND DescCSV.case IS NOT NULL;\n",
    "INSERT INTO DescPoints SELECT 'DF' AS ctype, 65 AS user, * FROM CSVREAD('../../resources/nl-experiment1/transformed-data/group-df/Points65.csv') AS DescCSV WHERE question IS NOT NULL AND DescCSV.case IS NOT NULL;\n",
    "INSERT INTO DescPoints SELECT 'DF' AS ctype, 66 AS user, * FROM CSVREAD('../../resources/nl-experiment1/transformed-data/group-df/Points66.csv') AS DescCSV WHERE question IS NOT NULL AND DescCSV.case IS NOT NULL;\n",
    "INSERT INTO DescPoints SELECT 'DF' AS ctype, 67 AS user, * FROM CSVREAD('../../resources/nl-experiment1/transformed-data/group-df/Points67.csv') AS DescCSV WHERE question IS NOT NULL AND DescCSV.case IS NOT NULL;\n",
    "INSERT INTO DescPoints SELECT 'DF' AS ctype, 68 AS user, * FROM CSVREAD('../../resources/nl-experiment1/transformed-data/group-df/Points68.csv') AS DescCSV WHERE question IS NOT NULL AND DescCSV.case IS NOT NULL;\n",
    "INSERT INTO DescPoints SELECT 'DF' AS ctype, 69 AS user, * FROM CSVREAD('../../resources/nl-experiment1/transformed-data/group-df/Points69.csv') AS DescCSV WHERE question IS NOT NULL AND DescCSV.case IS NOT NULL;\n",
    "INSERT INTO DescPoints SELECT 'DF' AS ctype, 70 AS user, * FROM CSVREAD('../../resources/nl-experiment1/transformed-data/group-df/Points70.csv') AS DescCSV WHERE question IS NOT NULL AND DescCSV.case IS NOT NULL;\n",
    "INSERT INTO DescPoints SELECT 'DF' AS ctype, 71 AS user, * FROM CSVREAD('../../resources/nl-experiment1/transformed-data/group-df/Points71.csv') AS DescCSV WHERE question IS NOT NULL AND DescCSV.case IS NOT NULL;\n",
    "INSERT INTO DescPoints SELECT 'DF' AS ctype, 72 AS user, * FROM CSVREAD('../../resources/nl-experiment1/transformed-data/group-df/Points72.csv') AS DescCSV WHERE question IS NOT NULL AND DescCSV.case IS NOT NULL;\n",
    "INSERT INTO DescPoints SELECT 'DF' AS ctype, 73 AS user, * FROM CSVREAD('../../resources/nl-experiment1/transformed-data/group-df/Points73.csv') AS DescCSV WHERE question IS NOT NULL AND DescCSV.case IS NOT NULL;\n",
    "INSERT INTO DescPoints SELECT 'DF' AS ctype, 75 AS user, * FROM CSVREAD('../../resources/nl-experiment1/transformed-data/group-df/Points75.csv') AS DescCSV WHERE question IS NOT NULL AND DescCSV.case IS NOT NULL;\n",
    "INSERT INTO DescPoints SELECT 'DF' AS ctype, 76 AS user, * FROM CSVREAD('../../resources/nl-experiment1/transformed-data/group-df/Points76.csv') AS DescCSV WHERE question IS NOT NULL AND DescCSV.case IS NOT NULL;\n",
    "INSERT INTO DescPoints SELECT 'DF' AS ctype, 77 AS user, * FROM CSVREAD('../../resources/nl-experiment1/transformed-data/group-df/Points77.csv') AS DescCSV WHERE question IS NOT NULL AND DescCSV.case IS NOT NULL;\n",
    "INSERT INTO DescPoints SELECT 'DF' AS ctype, 78 AS user, * FROM CSVREAD('../../resources/nl-experiment1/transformed-data/group-df/Points78.csv') AS DescCSV WHERE question IS NOT NULL AND DescCSV.case IS NOT NULL;\n",
    "INSERT INTO DescPoints SELECT 'DF' AS ctype, 79 AS user, * FROM CSVREAD('../../resources/nl-experiment1/transformed-data/group-df/Points79.csv') AS DescCSV WHERE question IS NOT NULL AND DescCSV.case IS NOT NULL;\n",
    "INSERT INTO DescPoints SELECT 'DF' AS ctype, 80 AS user, * FROM CSVREAD('../../resources/nl-experiment1/transformed-data/group-df/Points80.csv') AS DescCSV WHERE question IS NOT NULL AND DescCSV.case IS NOT NULL;\n",
    "INSERT INTO DescPoints SELECT 'DF' AS ctype, 81 AS user, * FROM CSVREAD('../../resources/nl-experiment1/transformed-data/group-df/Points81.csv') AS DescCSV WHERE question IS NOT NULL AND DescCSV.case IS NOT NULL;\n",
    "INSERT INTO DescPoints SELECT 'DF' AS ctype, 82 AS user, * FROM CSVREAD('../../resources/nl-experiment1/transformed-data/group-df/Points82.csv') AS DescCSV WHERE question IS NOT NULL AND DescCSV.case IS NOT NULL;\n",
    "INSERT INTO DescPoints SELECT 'DF' AS ctype, 83 AS user, * FROM CSVREAD('../../resources/nl-experiment1/transformed-data/group-df/Points83.csv') AS DescCSV WHERE question IS NOT NULL AND DescCSV.case IS NOT NULL;\n",
    "INSERT INTO DescPoints SELECT 'DF' AS ctype, 84 AS user, * FROM CSVREAD('../../resources/nl-experiment1/transformed-data/group-df/Points84.csv') AS DescCSV WHERE question IS NOT NULL AND DescCSV.case IS NOT NULL;\n",
    "INSERT INTO DescPoints SELECT 'DF' AS ctype, 85 AS user, * FROM CSVREAD('../../resources/nl-experiment1/transformed-data/group-df/Points85.csv') AS DescCSV WHERE question IS NOT NULL AND DescCSV.case IS NOT NULL;"
   ]
  },
  {
   "cell_type": "code",
   "execution_count": 4,
   "metadata": {},
   "outputs": [],
   "source": [
    "ALTER TABLE DescPoints\n",
    "ALTER COLUMN case RENAME TO casen;"
   ]
  },
  {
   "cell_type": "code",
   "execution_count": 5,
   "metadata": {},
   "outputs": [
    {
     "data": {
      "application/vnd.jupyter.widget-view+json": {
       "model_id": "9e072907-5caf-4e12-b3cd-cce8eb7435d9",
       "version_major": 2,
       "version_minor": 0
      },
      "method": "display_data"
     },
     "metadata": {},
     "output_type": "display_data"
    }
   ],
   "source": [
    "SELECT * FROM DescPoints;"
   ]
  },
  {
   "cell_type": "code",
   "execution_count": 6,
   "metadata": {
    "scrolled": true
   },
   "outputs": [
    {
     "data": {
      "application/vnd.jupyter.widget-view+json": {
       "model_id": "c145f867-d25d-48c6-877e-8577f4228ede",
       "version_major": 2,
       "version_minor": 0
      },
      "method": "display_data"
     },
     "metadata": {},
     "output_type": "display_data"
    }
   ],
   "source": [
    "SELECT DISTINCT USER FROM DescPoints;"
   ]
  },
  {
   "cell_type": "code",
   "execution_count": 7,
   "metadata": {},
   "outputs": [],
   "source": [
    "DROP TABLE IF EXISTS EKGPoints;\n",
    "\n",
    "CREATE TABLE EKGPoints (\n",
    "  ctype VARCHAR(2),\n",
    "  user INT,\n",
    "  question VARCHAR(22),\n",
    "  answer VARCHAR(200),\n",
    "  case VARCHAR(7),\n",
    "  points DECIMAL(3,1),\n",
    "  PRIMARY KEY(user, question, case)\n",
    ");"
   ]
  },
  {
   "cell_type": "code",
   "execution_count": 8,
   "metadata": {},
   "outputs": [],
   "source": [
    "INSERT INTO EKGPoints SELECT 'EF' AS ctype, 86 AS user, * FROM CSVREAD('../../resources/nl-experiment1/transformed-data/group-ef/Points86.csv') AS EKGCSV WHERE question IS NOT NULL AND EKGCSV.case IS NOT NULL;\n",
    "INSERT INTO EKGPoints SELECT 'EF' AS ctype, 88 AS user, * FROM CSVREAD('../../resources/nl-experiment1/transformed-data/group-ef/Points88.csv') AS EKGCSV WHERE question IS NOT NULL AND EKGCSV.case IS NOT NULL;\n",
    "INSERT INTO EKGPoints SELECT 'EF' AS ctype, 90 AS user, * FROM CSVREAD('../../resources/nl-experiment1/transformed-data/group-ef/Points90.csv') AS EKGCSV WHERE question IS NOT NULL AND EKGCSV.case IS NOT NULL;\n",
    "INSERT INTO EKGPoints SELECT 'EF' AS ctype, 91 AS user, * FROM CSVREAD('../../resources/nl-experiment1/transformed-data/group-ef/Points91.csv') AS EKGCSV WHERE question IS NOT NULL AND EKGCSV.case IS NOT NULL;\n",
    "INSERT INTO EKGPoints SELECT 'EF' AS ctype, 92 AS user, * FROM CSVREAD('../../resources/nl-experiment1/transformed-data/group-ef/Points92.csv') AS EKGCSV WHERE question IS NOT NULL AND EKGCSV.case IS NOT NULL;\n",
    "INSERT INTO EKGPoints SELECT 'EF' AS ctype, 93 AS user, * FROM CSVREAD('../../resources/nl-experiment1/transformed-data/group-ef/Points93.csv') AS EKGCSV WHERE question IS NOT NULL AND EKGCSV.case IS NOT NULL;\n",
    "INSERT INTO EKGPoints SELECT 'EF' AS ctype, 94 AS user, * FROM CSVREAD('../../resources/nl-experiment1/transformed-data/group-ef/Points94.csv') AS EKGCSV WHERE question IS NOT NULL AND EKGCSV.case IS NOT NULL;\n",
    "INSERT INTO EKGPoints SELECT 'EF' AS ctype, 95 AS user, * FROM CSVREAD('../../resources/nl-experiment1/transformed-data/group-ef/Points95.csv') AS EKGCSV WHERE question IS NOT NULL AND EKGCSV.case IS NOT NULL;\n",
    "INSERT INTO EKGPoints SELECT 'EF' AS ctype, 96 AS user, * FROM CSVREAD('../../resources/nl-experiment1/transformed-data/group-ef/Points96.csv') AS EKGCSV WHERE question IS NOT NULL AND EKGCSV.case IS NOT NULL;\n",
    "INSERT INTO EKGPoints SELECT 'EF' AS ctype, 97 AS user, * FROM CSVREAD('../../resources/nl-experiment1/transformed-data/group-ef/Points97.csv') AS EKGCSV WHERE question IS NOT NULL AND EKGCSV.case IS NOT NULL;\n",
    "INSERT INTO EKGPoints SELECT 'EF' AS ctype, 98 AS user, * FROM CSVREAD('../../resources/nl-experiment1/transformed-data/group-ef/Points98.csv') AS EKGCSV WHERE question IS NOT NULL AND EKGCSV.case IS NOT NULL;\n",
    "INSERT INTO EKGPoints SELECT 'EF' AS ctype, 99 AS user, * FROM CSVREAD('../../resources/nl-experiment1/transformed-data/group-ef/Points99.csv') AS EKGCSV WHERE question IS NOT NULL AND EKGCSV.case IS NOT NULL;\n",
    "INSERT INTO EKGPoints SELECT 'EF' AS ctype, 100 AS user, * FROM CSVREAD('../../resources/nl-experiment1/transformed-data/group-ef/Points100.csv') AS EKGCSV WHERE question IS NOT NULL AND EKGCSV.case IS NOT NULL;\n",
    "INSERT INTO EKGPoints SELECT 'EF' AS ctype, 101 AS user, * FROM CSVREAD('../../resources/nl-experiment1/transformed-data/group-ef/Points101.csv') AS EKGCSV WHERE question IS NOT NULL AND EKGCSV.case IS NOT NULL;\n",
    "INSERT INTO EKGPoints SELECT 'EF' AS ctype, 102 AS user, * FROM CSVREAD('../../resources/nl-experiment1/transformed-data/group-ef/Points102.csv') AS EKGCSV WHERE question IS NOT NULL AND EKGCSV.case IS NOT NULL;\n",
    "INSERT INTO EKGPoints SELECT 'EF' AS ctype, 103 AS user, * FROM CSVREAD('../../resources/nl-experiment1/transformed-data/group-ef/Points103.csv') AS EKGCSV WHERE question IS NOT NULL AND EKGCSV.case IS NOT NULL;\n",
    "INSERT INTO EKGPoints SELECT 'EF' AS ctype, 104 AS user, * FROM CSVREAD('../../resources/nl-experiment1/transformed-data/group-ef/Points104.csv') AS EKGCSV WHERE question IS NOT NULL AND EKGCSV.case IS NOT NULL;\n",
    "INSERT INTO EKGPoints SELECT 'EF' AS ctype, 105 AS user, * FROM CSVREAD('../../resources/nl-experiment1/transformed-data/group-ef/Points105.csv') AS EKGCSV WHERE question IS NOT NULL AND EKGCSV.case IS NOT NULL;\n",
    "INSERT INTO EKGPoints SELECT 'EF' AS ctype, 106 AS user, * FROM CSVREAD('../../resources/nl-experiment1/transformed-data/group-ef/Points106.csv') AS EKGCSV WHERE question IS NOT NULL AND EKGCSV.case IS NOT NULL;\n",
    "INSERT INTO EKGPoints SELECT 'EF' AS ctype, 107 AS user, * FROM CSVREAD('../../resources/nl-experiment1/transformed-data/group-ef/Points107.csv') AS EKGCSV WHERE question IS NOT NULL AND EKGCSV.case IS NOT NULL;\n",
    "INSERT INTO EKGPoints SELECT 'EF' AS ctype, 108 AS user, * FROM CSVREAD('../../resources/nl-experiment1/transformed-data/group-ef/Points108.csv') AS EKGCSV WHERE question IS NOT NULL AND EKGCSV.case IS NOT NULL;\n",
    "INSERT INTO EKGPoints SELECT 'EF' AS ctype, 109 AS user, * FROM CSVREAD('../../resources/nl-experiment1/transformed-data/group-ef/Points109.csv') AS EKGCSV WHERE question IS NOT NULL AND EKGCSV.case IS NOT NULL;\n",
    "INSERT INTO EKGPoints SELECT 'EF' AS ctype, 110 AS user, * FROM CSVREAD('../../resources/nl-experiment1/transformed-data/group-ef/Points110.csv') AS EKGCSV WHERE question IS NOT NULL AND EKGCSV.case IS NOT NULL;\n",
    "INSERT INTO EKGPoints SELECT 'EF' AS ctype, 111 AS user, * FROM CSVREAD('../../resources/nl-experiment1/transformed-data/group-ef/Points111.csv') AS EKGCSV WHERE question IS NOT NULL AND EKGCSV.case IS NOT NULL;\n",
    "INSERT INTO EKGPoints SELECT 'EF' AS ctype, 112 AS user, * FROM CSVREAD('../../resources/nl-experiment1/transformed-data/group-ef/Points112.csv') AS EKGCSV WHERE question IS NOT NULL AND EKGCSV.case IS NOT NULL;\n",
    "INSERT INTO EKGPoints SELECT 'EF' AS ctype, 113 AS user, * FROM CSVREAD('../../resources/nl-experiment1/transformed-data/group-ef/Points113.csv') AS EKGCSV WHERE question IS NOT NULL AND EKGCSV.case IS NOT NULL;\n",
    "INSERT INTO EKGPoints SELECT 'EF' AS ctype, 115 AS user, * FROM CSVREAD('../../resources/nl-experiment1/transformed-data/group-ef/Points115.csv') AS EKGCSV WHERE question IS NOT NULL AND EKGCSV.case IS NOT NULL;\n",
    "INSERT INTO EKGPoints SELECT 'EF' AS ctype, 116 AS user, * FROM CSVREAD('../../resources/nl-experiment1/transformed-data/group-ef/Points116.csv') AS EKGCSV WHERE question IS NOT NULL AND EKGCSV.case IS NOT NULL;"
   ]
  },
  {
   "cell_type": "code",
   "execution_count": 9,
   "metadata": {},
   "outputs": [],
   "source": [
    "ALTER TABLE EKGPoints\n",
    "ALTER COLUMN case RENAME TO casen;"
   ]
  },
  {
   "cell_type": "code",
   "execution_count": 10,
   "metadata": {},
   "outputs": [
    {
     "data": {
      "application/vnd.jupyter.widget-view+json": {
       "model_id": "c19351da-e209-4612-b384-b45923383187",
       "version_major": 2,
       "version_minor": 0
      },
      "method": "display_data"
     },
     "metadata": {},
     "output_type": "display_data"
    }
   ],
   "source": [
    "SELECT * FROM EKGPoints;"
   ]
  },
  {
   "cell_type": "code",
   "execution_count": 11,
   "metadata": {},
   "outputs": [
    {
     "data": {
      "application/vnd.jupyter.widget-view+json": {
       "model_id": "4770fea3-faf7-4baa-9b3e-0e67c89a0501",
       "version_major": 2,
       "version_minor": 0
      },
      "method": "display_data"
     },
     "metadata": {},
     "output_type": "display_data"
    }
   ],
   "source": [
    "SELECT DISTINCT USER FROM EKGPoints;"
   ]
  },
  {
   "cell_type": "code",
   "execution_count": 12,
   "metadata": {},
   "outputs": [],
   "source": [
    "CREATE VIEW CasesPoints AS\n",
    "SELECT * FROM DescPoints\n",
    "UNION\n",
    "SELECT * FROM EKGPoints;"
   ]
  },
  {
   "cell_type": "code",
   "execution_count": 13,
   "metadata": {},
   "outputs": [
    {
     "data": {
      "application/vnd.jupyter.widget-view+json": {
       "model_id": "5bc4439a-8eb8-4733-b1fe-b7ccaf418031",
       "version_major": 2,
       "version_minor": 0
      },
      "method": "display_data"
     },
     "metadata": {},
     "output_type": "display_data"
    }
   ],
   "source": [
    "SELECT * FROM CasesPoints;"
   ]
  },
  {
   "cell_type": "code",
   "execution_count": 14,
   "metadata": {},
   "outputs": [],
   "source": [
    "DROP TABLE IF EXISTS UserCase;\n",
    "\n",
    "CREATE TABLE UserCase (\n",
    "  ctype VARCHAR(2),\n",
    "  user INT,\n",
    "  casen VARCHAR(7),\n",
    "  answer_desc VARCHAR(200),\n",
    "  points_desc DECIMAL(3,1),\n",
    "  confidence_desc INT,\n",
    "  time_desc DECIMAL(8,2),\n",
    "  answer_ekg VARCHAR(200),\n",
    "  points_ekg DECIMAL(3,1),\n",
    "  confidence_ekg INT,\n",
    "  time_ekg DECIMAL(8,2),\n",
    "  PRIMARY KEY(user, casen)\n",
    ");\n",
    "\n",
    "INSERT INTO UserCase\n",
    "SELECT ctype, user, casen, answer as answer_desc, points as points_desc,\n",
    "        0 as confidence_desc, 0.0 as time_desc, '' as answer_ekg, 0.0 as points_ekg, 0 as confidence_ekg, 0.0 as time_ekg\n",
    "FROM CasesPoints\n",
    "WHERE question = 'Description Hypothesis';\n",
    "\n",
    "UPDATE UserCase UC\n",
    "SET confidence_desc = (SELECT CONVERT(CP.answer, INT) FROM CasesPoints CP WHERE CP.user=UC.user AND CP.casen=UC.casen AND CP.question = 'Description Confidence');\n",
    "\n",
    "UPDATE UserCase UC\n",
    "SET answer_ekg = (SELECT CP.answer FROM CasesPoints CP WHERE CP.user=UC.user AND CP.casen=UC.casen AND CP.question = 'EKG Hypothesis');\n",
    "\n",
    "UPDATE UserCase UC\n",
    "SET points_ekg = (SELECT CP.points FROM CasesPoints CP WHERE CP.user=UC.user AND CP.casen=UC.casen AND CP.question = 'EKG Hypothesis');\n",
    "\n",
    "UPDATE UserCase UC\n",
    "SET confidence_ekg = (SELECT CONVERT(CP.answer, INT) FROM CasesPoints CP WHERE CP.user=UC.user AND CP.casen=UC.casen AND CP.question = 'EKG Confidence');"
   ]
  },
  {
   "cell_type": "code",
   "execution_count": 15,
   "metadata": {},
   "outputs": [
    {
     "data": {
      "application/vnd.jupyter.widget-view+json": {
       "model_id": "0a21787c-de4a-4d2b-8449-8c588d8ea305",
       "version_major": 2,
       "version_minor": 0
      },
      "method": "display_data"
     },
     "metadata": {},
     "output_type": "display_data"
    }
   ],
   "source": [
    "SELECT * FROM UserCase;"
   ]
  },
  {
   "cell_type": "code",
   "execution_count": 16,
   "metadata": {},
   "outputs": [],
   "source": [
    "DROP TABLE IF EXISTS CasesTime;\n",
    "\n",
    "CREATE TABLE CasesTime (\n",
    "  ctype VARCHAR(2),\n",
    "  user INT,\n",
    "  cycle VARCHAR(22),\n",
    "  case VARCHAR(7),\n",
    "  time DECIMAL(8,2),\n",
    "  PRIMARY KEY(user, cycle, case)\n",
    ");"
   ]
  },
  {
   "cell_type": "code",
   "execution_count": 17,
   "metadata": {},
   "outputs": [],
   "source": [
    "INSERT INTO CasesTime SELECT 'DF' AS ctype, 61 AS user, * FROM CSVREAD('../../resources/nl-experiment1/transformed-data/group-df/Time61.csv') AS DescCSV WHERE cycle IS NOT NULL AND DescCSV.case IS NOT NULL;\n",
    "INSERT INTO CasesTime SELECT 'DF' AS ctype, 62 AS user, * FROM CSVREAD('../../resources/nl-experiment1/transformed-data/group-df/Time62.csv') AS DescCSV WHERE cycle IS NOT NULL AND DescCSV.case IS NOT NULL;\n",
    "INSERT INTO CasesTime SELECT 'DF' AS ctype, 63 AS user, * FROM CSVREAD('../../resources/nl-experiment1/transformed-data/group-df/Time63.csv') AS DescCSV WHERE cycle IS NOT NULL AND DescCSV.case IS NOT NULL;\n",
    "INSERT INTO CasesTime SELECT 'DF' AS ctype, 64 AS user, * FROM CSVREAD('../../resources/nl-experiment1/transformed-data/group-df/Time64.csv') AS DescCSV WHERE cycle IS NOT NULL AND DescCSV.case IS NOT NULL;\n",
    "INSERT INTO CasesTime SELECT 'DF' AS ctype, 65 AS user, * FROM CSVREAD('../../resources/nl-experiment1/transformed-data/group-df/Time65.csv') AS DescCSV WHERE cycle IS NOT NULL AND DescCSV.case IS NOT NULL;\n",
    "INSERT INTO CasesTime SELECT 'DF' AS ctype, 66 AS user, * FROM CSVREAD('../../resources/nl-experiment1/transformed-data/group-df/Time66.csv') AS DescCSV WHERE cycle IS NOT NULL AND DescCSV.case IS NOT NULL;\n",
    "INSERT INTO CasesTime SELECT 'DF' AS ctype, 67 AS user, * FROM CSVREAD('../../resources/nl-experiment1/transformed-data/group-df/Time67.csv') AS DescCSV WHERE cycle IS NOT NULL AND DescCSV.case IS NOT NULL;\n",
    "INSERT INTO CasesTime SELECT 'DF' AS ctype, 68 AS user, * FROM CSVREAD('../../resources/nl-experiment1/transformed-data/group-df/Time68.csv') AS DescCSV WHERE cycle IS NOT NULL AND DescCSV.case IS NOT NULL;\n",
    "INSERT INTO CasesTime SELECT 'DF' AS ctype, 69 AS user, * FROM CSVREAD('../../resources/nl-experiment1/transformed-data/group-df/Time69.csv') AS DescCSV WHERE cycle IS NOT NULL AND DescCSV.case IS NOT NULL;\n",
    "INSERT INTO CasesTime SELECT 'DF' AS ctype, 70 AS user, * FROM CSVREAD('../../resources/nl-experiment1/transformed-data/group-df/Time70.csv') AS DescCSV WHERE cycle IS NOT NULL AND DescCSV.case IS NOT NULL;\n",
    "INSERT INTO CasesTime SELECT 'DF' AS ctype, 71 AS user, * FROM CSVREAD('../../resources/nl-experiment1/transformed-data/group-df/Time71.csv') AS DescCSV WHERE cycle IS NOT NULL AND DescCSV.case IS NOT NULL;\n",
    "INSERT INTO CasesTime SELECT 'DF' AS ctype, 72 AS user, * FROM CSVREAD('../../resources/nl-experiment1/transformed-data/group-df/Time72.csv') AS DescCSV WHERE cycle IS NOT NULL AND DescCSV.case IS NOT NULL;\n",
    "INSERT INTO CasesTime SELECT 'DF' AS ctype, 73 AS user, * FROM CSVREAD('../../resources/nl-experiment1/transformed-data/group-df/Time73.csv') AS DescCSV WHERE cycle IS NOT NULL AND DescCSV.case IS NOT NULL;\n",
    "INSERT INTO CasesTime SELECT 'DF' AS ctype, 75 AS user, * FROM CSVREAD('../../resources/nl-experiment1/transformed-data/group-df/Time75.csv') AS DescCSV WHERE cycle IS NOT NULL AND DescCSV.case IS NOT NULL;\n",
    "INSERT INTO CasesTime SELECT 'DF' AS ctype, 76 AS user, * FROM CSVREAD('../../resources/nl-experiment1/transformed-data/group-df/Time76.csv') AS DescCSV WHERE cycle IS NOT NULL AND DescCSV.case IS NOT NULL;\n",
    "INSERT INTO CasesTime SELECT 'DF' AS ctype, 77 AS user, * FROM CSVREAD('../../resources/nl-experiment1/transformed-data/group-df/Time77.csv') AS DescCSV WHERE cycle IS NOT NULL AND DescCSV.case IS NOT NULL;\n",
    "INSERT INTO CasesTime SELECT 'DF' AS ctype, 78 AS user, * FROM CSVREAD('../../resources/nl-experiment1/transformed-data/group-df/Time78.csv') AS DescCSV WHERE cycle IS NOT NULL AND DescCSV.case IS NOT NULL;\n",
    "INSERT INTO CasesTime SELECT 'DF' AS ctype, 79 AS user, * FROM CSVREAD('../../resources/nl-experiment1/transformed-data/group-df/Time79.csv') AS DescCSV WHERE cycle IS NOT NULL AND DescCSV.case IS NOT NULL;\n",
    "INSERT INTO CasesTime SELECT 'DF' AS ctype, 80 AS user, * FROM CSVREAD('../../resources/nl-experiment1/transformed-data/group-df/Time80.csv') AS DescCSV WHERE cycle IS NOT NULL AND DescCSV.case IS NOT NULL;\n",
    "INSERT INTO CasesTime SELECT 'DF' AS ctype, 81 AS user, * FROM CSVREAD('../../resources/nl-experiment1/transformed-data/group-df/Time81.csv') AS DescCSV WHERE cycle IS NOT NULL AND DescCSV.case IS NOT NULL;\n",
    "INSERT INTO CasesTime SELECT 'DF' AS ctype, 82 AS user, * FROM CSVREAD('../../resources/nl-experiment1/transformed-data/group-df/Time82.csv') AS DescCSV WHERE cycle IS NOT NULL AND DescCSV.case IS NOT NULL;\n",
    "INSERT INTO CasesTime SELECT 'DF' AS ctype, 83 AS user, * FROM CSVREAD('../../resources/nl-experiment1/transformed-data/group-df/Time83.csv') AS DescCSV WHERE cycle IS NOT NULL AND DescCSV.case IS NOT NULL;\n",
    "INSERT INTO CasesTime SELECT 'DF' AS ctype, 84 AS user, * FROM CSVREAD('../../resources/nl-experiment1/transformed-data/group-df/Time84.csv') AS DescCSV WHERE cycle IS NOT NULL AND DescCSV.case IS NOT NULL;\n",
    "INSERT INTO CasesTime SELECT 'DF' AS ctype, 85 AS user, * FROM CSVREAD('../../resources/nl-experiment1/transformed-data/group-df/Time85.csv') AS DescCSV WHERE cycle IS NOT NULL AND DescCSV.case IS NOT NULL;"
   ]
  },
  {
   "cell_type": "code",
   "execution_count": 18,
   "metadata": {},
   "outputs": [],
   "source": [
    "INSERT INTO CasesTime SELECT 'EF' AS ctype, 86 AS user, * FROM CSVREAD('../../resources/nl-experiment1/transformed-data/group-ef/Time86.csv') AS EKGCSV WHERE cycle IS NOT NULL AND EKGCSV.case IS NOT NULL;\n",
    "INSERT INTO CasesTime SELECT 'EF' AS ctype, 88 AS user, * FROM CSVREAD('../../resources/nl-experiment1/transformed-data/group-ef/Time88.csv') AS EKGCSV WHERE cycle IS NOT NULL AND EKGCSV.case IS NOT NULL;\n",
    "INSERT INTO CasesTime SELECT 'EF' AS ctype, 90 AS user, * FROM CSVREAD('../../resources/nl-experiment1/transformed-data/group-ef/Time90.csv') AS EKGCSV WHERE cycle IS NOT NULL AND EKGCSV.case IS NOT NULL;\n",
    "INSERT INTO CasesTime SELECT 'EF' AS ctype, 91 AS user, * FROM CSVREAD('../../resources/nl-experiment1/transformed-data/group-ef/Time91.csv') AS EKGCSV WHERE cycle IS NOT NULL AND EKGCSV.case IS NOT NULL;\n",
    "INSERT INTO CasesTime SELECT 'EF' AS ctype, 92 AS user, * FROM CSVREAD('../../resources/nl-experiment1/transformed-data/group-ef/Time92.csv') AS EKGCSV WHERE cycle IS NOT NULL AND EKGCSV.case IS NOT NULL;\n",
    "INSERT INTO CasesTime SELECT 'EF' AS ctype, 93 AS user, * FROM CSVREAD('../../resources/nl-experiment1/transformed-data/group-ef/Time93.csv') AS EKGCSV WHERE cycle IS NOT NULL AND EKGCSV.case IS NOT NULL;\n",
    "INSERT INTO CasesTime SELECT 'EF' AS ctype, 94 AS user, * FROM CSVREAD('../../resources/nl-experiment1/transformed-data/group-ef/Time94.csv') AS EKGCSV WHERE cycle IS NOT NULL AND EKGCSV.case IS NOT NULL;\n",
    "INSERT INTO CasesTime SELECT 'EF' AS ctype, 95 AS user, * FROM CSVREAD('../../resources/nl-experiment1/transformed-data/group-ef/Time95.csv') AS EKGCSV WHERE cycle IS NOT NULL AND EKGCSV.case IS NOT NULL;\n",
    "INSERT INTO CasesTime SELECT 'EF' AS ctype, 96 AS user, * FROM CSVREAD('../../resources/nl-experiment1/transformed-data/group-ef/Time96.csv') AS EKGCSV WHERE cycle IS NOT NULL AND EKGCSV.case IS NOT NULL;\n",
    "INSERT INTO CasesTime SELECT 'EF' AS ctype, 97 AS user, * FROM CSVREAD('../../resources/nl-experiment1/transformed-data/group-ef/Time97.csv') AS EKGCSV WHERE cycle IS NOT NULL AND EKGCSV.case IS NOT NULL;\n",
    "INSERT INTO CasesTime SELECT 'EF' AS ctype, 98 AS user, * FROM CSVREAD('../../resources/nl-experiment1/transformed-data/group-ef/Time98.csv') AS EKGCSV WHERE cycle IS NOT NULL AND EKGCSV.case IS NOT NULL;\n",
    "INSERT INTO CasesTime SELECT 'EF' AS ctype, 99 AS user, * FROM CSVREAD('../../resources/nl-experiment1/transformed-data/group-ef/Time99.csv') AS EKGCSV WHERE cycle IS NOT NULL AND EKGCSV.case IS NOT NULL;\n",
    "INSERT INTO CasesTime SELECT 'EF' AS ctype, 100 AS user, * FROM CSVREAD('../../resources/nl-experiment1/transformed-data/group-ef/Time100.csv') AS EKGCSV WHERE cycle IS NOT NULL AND EKGCSV.case IS NOT NULL;\n",
    "INSERT INTO CasesTime SELECT 'EF' AS ctype, 101 AS user, * FROM CSVREAD('../../resources/nl-experiment1/transformed-data/group-ef/Time101.csv') AS EKGCSV WHERE cycle IS NOT NULL AND EKGCSV.case IS NOT NULL;\n",
    "INSERT INTO CasesTime SELECT 'EF' AS ctype, 102 AS user, * FROM CSVREAD('../../resources/nl-experiment1/transformed-data/group-ef/Time102.csv') AS EKGCSV WHERE cycle IS NOT NULL AND EKGCSV.case IS NOT NULL;\n",
    "INSERT INTO CasesTime SELECT 'EF' AS ctype, 103 AS user, * FROM CSVREAD('../../resources/nl-experiment1/transformed-data/group-ef/Time103.csv') AS EKGCSV WHERE cycle IS NOT NULL AND EKGCSV.case IS NOT NULL;\n",
    "INSERT INTO CasesTime SELECT 'EF' AS ctype, 104 AS user, * FROM CSVREAD('../../resources/nl-experiment1/transformed-data/group-ef/Time104.csv') AS EKGCSV WHERE cycle IS NOT NULL AND EKGCSV.case IS NOT NULL;\n",
    "INSERT INTO CasesTime SELECT 'EF' AS ctype, 105 AS user, * FROM CSVREAD('../../resources/nl-experiment1/transformed-data/group-ef/Time105.csv') AS EKGCSV WHERE cycle IS NOT NULL AND EKGCSV.case IS NOT NULL;\n",
    "INSERT INTO CasesTime SELECT 'EF' AS ctype, 106 AS user, * FROM CSVREAD('../../resources/nl-experiment1/transformed-data/group-ef/Time106.csv') AS EKGCSV WHERE cycle IS NOT NULL AND EKGCSV.case IS NOT NULL;\n",
    "INSERT INTO CasesTime SELECT 'EF' AS ctype, 107 AS user, * FROM CSVREAD('../../resources/nl-experiment1/transformed-data/group-ef/Time107.csv') AS EKGCSV WHERE cycle IS NOT NULL AND EKGCSV.case IS NOT NULL;\n",
    "INSERT INTO CasesTime SELECT 'EF' AS ctype, 108 AS user, * FROM CSVREAD('../../resources/nl-experiment1/transformed-data/group-ef/Time108.csv') AS EKGCSV WHERE cycle IS NOT NULL AND EKGCSV.case IS NOT NULL;\n",
    "INSERT INTO CasesTime SELECT 'EF' AS ctype, 109 AS user, * FROM CSVREAD('../../resources/nl-experiment1/transformed-data/group-ef/Time109.csv') AS EKGCSV WHERE cycle IS NOT NULL AND EKGCSV.case IS NOT NULL;\n",
    "INSERT INTO CasesTime SELECT 'EF' AS ctype, 110 AS user, * FROM CSVREAD('../../resources/nl-experiment1/transformed-data/group-ef/Time110.csv') AS EKGCSV WHERE cycle IS NOT NULL AND EKGCSV.case IS NOT NULL;\n",
    "INSERT INTO CasesTime SELECT 'EF' AS ctype, 111 AS user, * FROM CSVREAD('../../resources/nl-experiment1/transformed-data/group-ef/Time111.csv') AS EKGCSV WHERE cycle IS NOT NULL AND EKGCSV.case IS NOT NULL;\n",
    "INSERT INTO CasesTime SELECT 'EF' AS ctype, 112 AS user, * FROM CSVREAD('../../resources/nl-experiment1/transformed-data/group-ef/Time112.csv') AS EKGCSV WHERE cycle IS NOT NULL AND EKGCSV.case IS NOT NULL;\n",
    "INSERT INTO CasesTime SELECT 'EF' AS ctype, 113 AS user, * FROM CSVREAD('../../resources/nl-experiment1/transformed-data/group-ef/Time113.csv') AS EKGCSV WHERE cycle IS NOT NULL AND EKGCSV.case IS NOT NULL;\n",
    "INSERT INTO CasesTime SELECT 'EF' AS ctype, 115 AS user, * FROM CSVREAD('../../resources/nl-experiment1/transformed-data/group-ef/Time115.csv') AS EKGCSV WHERE cycle IS NOT NULL AND EKGCSV.case IS NOT NULL;\n",
    "INSERT INTO CasesTime SELECT 'EF' AS ctype, 116 AS user, * FROM CSVREAD('../../resources/nl-experiment1/transformed-data/group-ef/Time116.csv') AS EKGCSV WHERE cycle IS NOT NULL AND EKGCSV.case IS NOT NULL;"
   ]
  },
  {
   "cell_type": "code",
   "execution_count": 19,
   "metadata": {},
   "outputs": [],
   "source": [
    "ALTER TABLE CasesTime\n",
    "ALTER COLUMN case RENAME TO casen;"
   ]
  },
  {
   "cell_type": "code",
   "execution_count": 20,
   "metadata": {},
   "outputs": [
    {
     "data": {
      "application/vnd.jupyter.widget-view+json": {
       "model_id": "6414087e-9368-4673-84e9-c156afae5f24",
       "version_major": 2,
       "version_minor": 0
      },
      "method": "display_data"
     },
     "metadata": {},
     "output_type": "display_data"
    }
   ],
   "source": [
    "SELECT * FROM CasesTime;"
   ]
  },
  {
   "cell_type": "code",
   "execution_count": 21,
   "metadata": {},
   "outputs": [],
   "source": [
    "UPDATE UserCase UC\n",
    "SET time_desc = (SELECT CT.time FROM CasesTime CT WHERE CT.user=UC.user AND CT.casen=UC.casen AND CT.cycle = 'Description Cycle');\n",
    "\n",
    "UPDATE UserCase UC\n",
    "SET time_ekg = (SELECT CT.time FROM CasesTime CT WHERE CT.user=UC.user AND CT.casen=UC.casen AND CT.cycle = 'EKG Cycle');"
   ]
  },
  {
   "cell_type": "code",
   "execution_count": 22,
   "metadata": {},
   "outputs": [
    {
     "data": {
      "application/vnd.jupyter.widget-view+json": {
       "model_id": "a1c2fab9-b036-4fbb-ac63-09c17c3d2103",
       "version_major": 2,
       "version_minor": 0
      },
      "method": "display_data"
     },
     "metadata": {},
     "output_type": "display_data"
    }
   ],
   "source": [
    "SELECT * FROM UserCase;"
   ]
  },
  {
   "cell_type": "code",
   "execution_count": 23,
   "metadata": {},
   "outputs": [
    {
     "data": {
      "text/plain": [
       "592"
      ]
     },
     "execution_count": 23,
     "metadata": {},
     "output_type": "execute_result"
    }
   ],
   "source": [
    "CALL CSVWRITE('../../resources/nl-experiment1/transformed-data/nl-experiment-01.csv', 'SELECT * FROM UserCase ORDER BY user, casen');"
   ]
  },
  {
   "cell_type": "code",
   "execution_count": 24,
   "metadata": {},
   "outputs": [
    {
     "data": {
      "application/vnd.jupyter.widget-view+json": {
       "model_id": "0283f321-b4c7-4ab9-9924-4a5625d59a77",
       "version_major": 2,
       "version_minor": 0
      },
      "method": "display_data"
     },
     "metadata": {},
     "output_type": "display_data"
    }
   ],
   "source": [
    "select distinct casen from UserCase order by casen;"
   ]
  },
  {
   "cell_type": "code",
   "execution_count": 34,
   "metadata": {},
   "outputs": [],
   "source": [
    "DROP TABLE IF EXISTS UserPlay;\n",
    "\n",
    "CREATE TABLE UserPlay (\n",
    "  user INT,\n",
    "  ctype VARCHAR(2),\n",
    "\n",
    "  case01_answer_desc VARCHAR(200),\n",
    "  case01_points_desc DECIMAL(3,1),\n",
    "  case01_confidence_desc INT,\n",
    "  case01_time_desc DECIMAL(8,2),\n",
    "  case01_answer_ekg VARCHAR(200),\n",
    "  case01_points_ekg DECIMAL(3,1),\n",
    "  case01_confidence_ekg INT,\n",
    "  case01_time_ekg DECIMAL(8,2),\n",
    "\n",
    "  case02_answer_desc VARCHAR(200),\n",
    "  case02_points_desc DECIMAL(3,1),\n",
    "  case02_confidence_desc INT,\n",
    "  case02_time_desc DECIMAL(8,2),\n",
    "  case02_answer_ekg VARCHAR(200),\n",
    "  case02_points_ekg DECIMAL(3,1),\n",
    "  case02_confidence_ekg INT,\n",
    "  case02_time_ekg DECIMAL(8,2),\n",
    "\n",
    "  case03_answer_desc VARCHAR(200),\n",
    "  case03_points_desc DECIMAL(3,1),\n",
    "  case03_confidence_desc INT,\n",
    "  case03_time_desc DECIMAL(8,2),\n",
    "  case03_answer_ekg VARCHAR(200),\n",
    "  case03_points_ekg DECIMAL(3,1),\n",
    "  case03_confidence_ekg INT,\n",
    "  case03_time_ekg DECIMAL(8,2),\n",
    "\n",
    "  case07_answer_desc VARCHAR(200),\n",
    "  case07_points_desc DECIMAL(3,1),\n",
    "  case07_confidence_desc INT,\n",
    "  case07_time_desc DECIMAL(8,2),\n",
    "  case07_answer_ekg VARCHAR(200),\n",
    "  case07_points_ekg DECIMAL(3,1),\n",
    "  case07_confidence_ekg INT,\n",
    "  case07_time_ekg DECIMAL(8,2),\n",
    "\n",
    "  case08_answer_desc VARCHAR(200),\n",
    "  case08_points_desc DECIMAL(3,1),\n",
    "  case08_confidence_desc INT,\n",
    "  case08_time_desc DECIMAL(8,2),\n",
    "  case08_answer_ekg VARCHAR(200),\n",
    "  case08_points_ekg DECIMAL(3,1),\n",
    "  case08_confidence_ekg INT,\n",
    "  case08_time_ekg DECIMAL(8,2),\n",
    "\n",
    "  case09_answer_desc VARCHAR(200),\n",
    "  case09_points_desc DECIMAL(3,1),\n",
    "  case09_confidence_desc INT,\n",
    "  case09_time_desc DECIMAL(8,2),\n",
    "  case09_answer_ekg VARCHAR(200),\n",
    "  case09_points_ekg DECIMAL(3,1),\n",
    "  case09_confidence_ekg INT,\n",
    "  case09_time_ekg DECIMAL(8,2),\n",
    "\n",
    "  case12_answer_desc VARCHAR(200),\n",
    "  case12_points_desc DECIMAL(3,1),\n",
    "  case12_confidence_desc INT,\n",
    "  case12_time_desc DECIMAL(8,2),\n",
    "  case12_answer_ekg VARCHAR(200),\n",
    "  case12_points_ekg DECIMAL(3,1),\n",
    "  case12_confidence_ekg INT,\n",
    "  case12_time_ekg DECIMAL(8,2),\n",
    "\n",
    "  case13_answer_desc VARCHAR(200),\n",
    "  case13_points_desc DECIMAL(3,1),\n",
    "  case13_confidence_desc INT,\n",
    "  case13_time_desc DECIMAL(8,2),\n",
    "  case13_answer_ekg VARCHAR(200),\n",
    "  case13_points_ekg DECIMAL(3,1),\n",
    "  case13_confidence_ekg INT,\n",
    "  case13_time_ekg DECIMAL(8,2),\n",
    "\n",
    "  case15_answer_desc VARCHAR(200),\n",
    "  case15_points_desc DECIMAL(3,1),\n",
    "  case15_confidence_desc INT,\n",
    "  case15_time_desc DECIMAL(8,2),\n",
    "  case15_answer_ekg VARCHAR(200),\n",
    "  case15_points_ekg DECIMAL(3,1),\n",
    "  case15_confidence_ekg INT,\n",
    "  case15_time_ekg DECIMAL(8,2),\n",
    "\n",
    "  case16_answer_desc VARCHAR(200),\n",
    "  case16_points_desc DECIMAL(3,1),\n",
    "  case16_confidence_desc INT,\n",
    "  case16_time_desc DECIMAL(8,2),\n",
    "  case16_answer_ekg VARCHAR(200),\n",
    "  case16_points_ekg DECIMAL(3,1),\n",
    "  case16_confidence_ekg INT,\n",
    "  case16_time_ekg DECIMAL(8,2),\n",
    "\n",
    "  case17_answer_desc VARCHAR(200),\n",
    "  case17_points_desc DECIMAL(3,1),\n",
    "  case17_confidence_desc INT,\n",
    "  case17_time_desc DECIMAL(8,2),\n",
    "  case17_answer_ekg VARCHAR(200),\n",
    "  case17_points_ekg DECIMAL(3,1),\n",
    "  case17_confidence_ekg INT,\n",
    "  case17_time_ekg DECIMAL(8,2),\n",
    "\n",
    "  case19_answer_desc VARCHAR(200),\n",
    "  case19_points_desc DECIMAL(3,1),\n",
    "  case19_confidence_desc INT,\n",
    "  case19_time_desc DECIMAL(8,2),\n",
    "  case19_answer_ekg VARCHAR(200),\n",
    "  case19_points_ekg DECIMAL(3,1),\n",
    "  case19_confidence_ekg INT,\n",
    "  case19_time_ekg DECIMAL(8,2),\n",
    "\n",
    "  PRIMARY KEY(user)\n",
    ");\n",
    "\n",
    "INSERT INTO UserPlay\n",
    "SELECT distinct user, ctype,\n",
    "                '', 0.0, 0, 0.0, '', 0.0, 0, 0.0,\n",
    "                '', 0.0, 0, 0.0, '', 0.0, 0, 0.0,\n",
    "                '', 0.0, 0, 0.0, '', 0.0, 0, 0.0,\n",
    "                '', 0.0, 0, 0.0, '', 0.0, 0, 0.0,\n",
    "                '', 0.0, 0, 0.0, '', 0.0, 0, 0.0,\n",
    "                '', 0.0, 0, 0.0, '', 0.0, 0, 0.0,\n",
    "                '', 0.0, 0, 0.0, '', 0.0, 0, 0.0,\n",
    "                '', 0.0, 0, 0.0, '', 0.0, 0, 0.0,\n",
    "                '', 0.0, 0, 0.0, '', 0.0, 0, 0.0,\n",
    "                '', 0.0, 0, 0.0, '', 0.0, 0, 0.0,\n",
    "                '', 0.0, 0, 0.0, '', 0.0, 0, 0.0,\n",
    "                '', 0.0, 0, 0.0, '', 0.0, 0, 0.0\n",
    "FROM UserCase;"
   ]
  },
  {
   "cell_type": "code",
   "execution_count": 35,
   "metadata": {},
   "outputs": [
    {
     "data": {
      "application/vnd.jupyter.widget-view+json": {
       "model_id": "27e809db-9300-448c-8543-dc98455f7ccb",
       "version_major": 2,
       "version_minor": 0
      },
      "method": "display_data"
     },
     "metadata": {},
     "output_type": "display_data"
    }
   ],
   "source": [
    "UPDATE UserPlay UP\n",
    "SET case01_answer_desc = (SELECT answer_desc FROM UserCase UC WHERE UC.user = UP.user AND UC.casen = 'Case-01');\n",
    "UPDATE UserPlay UP\n",
    "SET case01_points_desc = (SELECT points_desc FROM UserCase UC WHERE UC.user = UP.user AND UC.casen = 'Case-01');\n",
    "UPDATE UserPlay UP\n",
    "SET case01_confidence_desc = (SELECT confidence_desc FROM UserCase UC WHERE UC.user = UP.user AND UC.casen = 'Case-01');\n",
    "UPDATE UserPlay UP\n",
    "SET case01_time_desc = (SELECT time_desc FROM UserCase UC WHERE UC.user = UP.user AND UC.casen = 'Case-01');\n",
    "UPDATE UserPlay UP\n",
    "SET case01_answer_ekg = (SELECT answer_ekg FROM UserCase UC WHERE UC.user = UP.user AND UC.casen = 'Case-01');\n",
    "UPDATE UserPlay UP\n",
    "SET case01_points_ekg = (SELECT points_ekg FROM UserCase UC WHERE UC.user = UP.user AND UC.casen = 'Case-01');\n",
    "UPDATE UserPlay UP\n",
    "SET case01_confidence_ekg = (SELECT confidence_ekg FROM UserCase UC WHERE UC.user = UP.user AND UC.casen = 'Case-01');\n",
    "UPDATE UserPlay UP\n",
    "SET case01_time_ekg = (SELECT time_ekg FROM UserCase UC WHERE UC.user = UP.user AND UC.casen = 'Case-01');\n",
    "\n",
    "UPDATE UserPlay UP\n",
    "SET case02_answer_desc = (SELECT answer_desc FROM UserCase UC WHERE UC.user = UP.user AND UC.casen = 'Case-02');\n",
    "UPDATE UserPlay UP\n",
    "SET case02_points_desc = (SELECT points_desc FROM UserCase UC WHERE UC.user = UP.user AND UC.casen = 'Case-02');\n",
    "UPDATE UserPlay UP\n",
    "SET case02_confidence_desc = (SELECT confidence_desc FROM UserCase UC WHERE UC.user = UP.user AND UC.casen = 'Case-02');\n",
    "UPDATE UserPlay UP\n",
    "SET case02_time_desc = (SELECT time_desc FROM UserCase UC WHERE UC.user = UP.user AND UC.casen = 'Case-02');\n",
    "UPDATE UserPlay UP\n",
    "SET case02_answer_ekg = (SELECT answer_ekg FROM UserCase UC WHERE UC.user = UP.user AND UC.casen = 'Case-02');\n",
    "UPDATE UserPlay UP\n",
    "SET case02_points_ekg = (SELECT points_ekg FROM UserCase UC WHERE UC.user = UP.user AND UC.casen = 'Case-02');\n",
    "UPDATE UserPlay UP\n",
    "SET case02_confidence_ekg = (SELECT confidence_ekg FROM UserCase UC WHERE UC.user = UP.user AND UC.casen = 'Case-02');\n",
    "UPDATE UserPlay UP\n",
    "SET case02_time_ekg = (SELECT time_ekg FROM UserCase UC WHERE UC.user = UP.user AND UC.casen = 'Case-02');\n",
    "\n",
    "UPDATE UserPlay UP\n",
    "SET case03_answer_desc = (SELECT answer_desc FROM UserCase UC WHERE UC.user = UP.user AND UC.casen = 'Case-03');\n",
    "UPDATE UserPlay UP\n",
    "SET case03_points_desc = (SELECT points_desc FROM UserCase UC WHERE UC.user = UP.user AND UC.casen = 'Case-03');\n",
    "UPDATE UserPlay UP\n",
    "SET case03_confidence_desc = (SELECT confidence_desc FROM UserCase UC WHERE UC.user = UP.user AND UC.casen = 'Case-03');\n",
    "UPDATE UserPlay UP\n",
    "SET case03_time_desc = (SELECT time_desc FROM UserCase UC WHERE UC.user = UP.user AND UC.casen = 'Case-03');\n",
    "UPDATE UserPlay UP\n",
    "SET case03_answer_ekg = (SELECT answer_ekg FROM UserCase UC WHERE UC.user = UP.user AND UC.casen = 'Case-03');\n",
    "UPDATE UserPlay UP\n",
    "SET case03_points_ekg = (SELECT points_ekg FROM UserCase UC WHERE UC.user = UP.user AND UC.casen = 'Case-03');\n",
    "UPDATE UserPlay UP\n",
    "SET case03_confidence_ekg = (SELECT confidence_ekg FROM UserCase UC WHERE UC.user = UP.user AND UC.casen = 'Case-03');\n",
    "UPDATE UserPlay UP\n",
    "SET case03_time_ekg = (SELECT time_ekg FROM UserCase UC WHERE UC.user = UP.user AND UC.casen = 'Case-03');\n",
    "\n",
    "UPDATE UserPlay UP\n",
    "SET case07_answer_desc = (SELECT answer_desc FROM UserCase UC WHERE UC.user = UP.user AND UC.casen = 'Case-07');\n",
    "UPDATE UserPlay UP\n",
    "SET case07_points_desc = (SELECT points_desc FROM UserCase UC WHERE UC.user = UP.user AND UC.casen = 'Case-07');\n",
    "UPDATE UserPlay UP\n",
    "SET case07_confidence_desc = (SELECT confidence_desc FROM UserCase UC WHERE UC.user = UP.user AND UC.casen = 'Case-07');\n",
    "UPDATE UserPlay UP\n",
    "SET case07_time_desc = (SELECT time_desc FROM UserCase UC WHERE UC.user = UP.user AND UC.casen = 'Case-07');\n",
    "UPDATE UserPlay UP\n",
    "SET case07_answer_ekg = (SELECT answer_ekg FROM UserCase UC WHERE UC.user = UP.user AND UC.casen = 'Case-07');\n",
    "UPDATE UserPlay UP\n",
    "SET case07_points_ekg = (SELECT points_ekg FROM UserCase UC WHERE UC.user = UP.user AND UC.casen = 'Case-07');\n",
    "UPDATE UserPlay UP\n",
    "SET case07_confidence_ekg = (SELECT confidence_ekg FROM UserCase UC WHERE UC.user = UP.user AND UC.casen = 'Case-07');\n",
    "UPDATE UserPlay UP\n",
    "SET case07_time_ekg = (SELECT time_ekg FROM UserCase UC WHERE UC.user = UP.user AND UC.casen = 'Case-07');\n",
    "\n",
    "UPDATE UserPlay UP\n",
    "SET case08_answer_desc = (SELECT answer_desc FROM UserCase UC WHERE UC.user = UP.user AND UC.casen = 'Case-08');\n",
    "UPDATE UserPlay UP\n",
    "SET case08_points_desc = (SELECT points_desc FROM UserCase UC WHERE UC.user = UP.user AND UC.casen = 'Case-08');\n",
    "UPDATE UserPlay UP\n",
    "SET case08_confidence_desc = (SELECT confidence_desc FROM UserCase UC WHERE UC.user = UP.user AND UC.casen = 'Case-08');\n",
    "UPDATE UserPlay UP\n",
    "SET case08_time_desc = (SELECT time_desc FROM UserCase UC WHERE UC.user = UP.user AND UC.casen = 'Case-08');\n",
    "UPDATE UserPlay UP\n",
    "SET case08_answer_ekg = (SELECT answer_ekg FROM UserCase UC WHERE UC.user = UP.user AND UC.casen = 'Case-08');\n",
    "UPDATE UserPlay UP\n",
    "SET case08_points_ekg = (SELECT points_ekg FROM UserCase UC WHERE UC.user = UP.user AND UC.casen = 'Case-08');\n",
    "UPDATE UserPlay UP\n",
    "SET case08_confidence_ekg = (SELECT confidence_ekg FROM UserCase UC WHERE UC.user = UP.user AND UC.casen = 'Case-08');\n",
    "UPDATE UserPlay UP\n",
    "SET case08_time_ekg = (SELECT time_ekg FROM UserCase UC WHERE UC.user = UP.user AND UC.casen = 'Case-08');\n",
    "\n",
    "UPDATE UserPlay UP\n",
    "SET case09_answer_desc = (SELECT answer_desc FROM UserCase UC WHERE UC.user = UP.user AND UC.casen = 'Case-09');\n",
    "UPDATE UserPlay UP\n",
    "SET case09_points_desc = (SELECT points_desc FROM UserCase UC WHERE UC.user = UP.user AND UC.casen = 'Case-09');\n",
    "UPDATE UserPlay UP\n",
    "SET case09_confidence_desc = (SELECT confidence_desc FROM UserCase UC WHERE UC.user = UP.user AND UC.casen = 'Case-09');\n",
    "UPDATE UserPlay UP\n",
    "SET case09_time_desc = (SELECT time_desc FROM UserCase UC WHERE UC.user = UP.user AND UC.casen = 'Case-09');\n",
    "UPDATE UserPlay UP\n",
    "SET case09_answer_ekg = (SELECT answer_ekg FROM UserCase UC WHERE UC.user = UP.user AND UC.casen = 'Case-09');\n",
    "UPDATE UserPlay UP\n",
    "SET case09_points_ekg = (SELECT points_ekg FROM UserCase UC WHERE UC.user = UP.user AND UC.casen = 'Case-09');\n",
    "UPDATE UserPlay UP\n",
    "SET case09_confidence_ekg = (SELECT confidence_ekg FROM UserCase UC WHERE UC.user = UP.user AND UC.casen = 'Case-09');\n",
    "UPDATE UserPlay UP\n",
    "SET case09_time_ekg = (SELECT time_ekg FROM UserCase UC WHERE UC.user = UP.user AND UC.casen = 'Case-09');\n",
    "\n",
    "UPDATE UserPlay UP\n",
    "SET case12_answer_desc = (SELECT answer_desc FROM UserCase UC WHERE UC.user = UP.user AND UC.casen = 'Case-12');\n",
    "UPDATE UserPlay UP\n",
    "SET case12_points_desc = (SELECT points_desc FROM UserCase UC WHERE UC.user = UP.user AND UC.casen = 'Case-12');\n",
    "UPDATE UserPlay UP\n",
    "SET case12_confidence_desc = (SELECT confidence_desc FROM UserCase UC WHERE UC.user = UP.user AND UC.casen = 'Case-12');\n",
    "UPDATE UserPlay UP\n",
    "SET case12_time_desc = (SELECT time_desc FROM UserCase UC WHERE UC.user = UP.user AND UC.casen = 'Case-12');\n",
    "UPDATE UserPlay UP\n",
    "SET case12_answer_ekg = (SELECT answer_ekg FROM UserCase UC WHERE UC.user = UP.user AND UC.casen = 'Case-12');\n",
    "UPDATE UserPlay UP\n",
    "SET case12_points_ekg = (SELECT points_ekg FROM UserCase UC WHERE UC.user = UP.user AND UC.casen = 'Case-12');\n",
    "UPDATE UserPlay UP\n",
    "SET case12_confidence_ekg = (SELECT confidence_ekg FROM UserCase UC WHERE UC.user = UP.user AND UC.casen = 'Case-12');\n",
    "UPDATE UserPlay UP\n",
    "SET case12_time_ekg = (SELECT time_ekg FROM UserCase UC WHERE UC.user = UP.user AND UC.casen = 'Case-12');\n",
    "\n",
    "UPDATE UserPlay UP\n",
    "SET case13_answer_desc = (SELECT answer_desc FROM UserCase UC WHERE UC.user = UP.user AND UC.casen = 'Case-13');\n",
    "UPDATE UserPlay UP\n",
    "SET case13_points_desc = (SELECT points_desc FROM UserCase UC WHERE UC.user = UP.user AND UC.casen = 'Case-13');\n",
    "UPDATE UserPlay UP\n",
    "SET case13_confidence_desc = (SELECT confidence_desc FROM UserCase UC WHERE UC.user = UP.user AND UC.casen = 'Case-13');\n",
    "UPDATE UserPlay UP\n",
    "SET case13_time_desc = (SELECT time_desc FROM UserCase UC WHERE UC.user = UP.user AND UC.casen = 'Case-13');\n",
    "UPDATE UserPlay UP\n",
    "SET case13_answer_ekg = (SELECT answer_ekg FROM UserCase UC WHERE UC.user = UP.user AND UC.casen = 'Case-13');\n",
    "UPDATE UserPlay UP\n",
    "SET case13_points_ekg = (SELECT points_ekg FROM UserCase UC WHERE UC.user = UP.user AND UC.casen = 'Case-13');\n",
    "UPDATE UserPlay UP\n",
    "SET case13_confidence_ekg = (SELECT confidence_ekg FROM UserCase UC WHERE UC.user = UP.user AND UC.casen = 'Case-13');\n",
    "UPDATE UserPlay UP\n",
    "SET case13_time_ekg = (SELECT time_ekg FROM UserCase UC WHERE UC.user = UP.user AND UC.casen = 'Case-13');\n",
    "\n",
    "UPDATE UserPlay UP\n",
    "SET case15_answer_desc = (SELECT answer_desc FROM UserCase UC WHERE UC.user = UP.user AND UC.casen = 'Case-15');\n",
    "UPDATE UserPlay UP\n",
    "SET case15_points_desc = (SELECT points_desc FROM UserCase UC WHERE UC.user = UP.user AND UC.casen = 'Case-15');\n",
    "UPDATE UserPlay UP\n",
    "SET case15_confidence_desc = (SELECT confidence_desc FROM UserCase UC WHERE UC.user = UP.user AND UC.casen = 'Case-15');\n",
    "UPDATE UserPlay UP\n",
    "SET case15_time_desc = (SELECT time_desc FROM UserCase UC WHERE UC.user = UP.user AND UC.casen = 'Case-15');\n",
    "UPDATE UserPlay UP\n",
    "SET case15_answer_ekg = (SELECT answer_ekg FROM UserCase UC WHERE UC.user = UP.user AND UC.casen = 'Case-15');\n",
    "UPDATE UserPlay UP\n",
    "SET case15_points_ekg = (SELECT points_ekg FROM UserCase UC WHERE UC.user = UP.user AND UC.casen = 'Case-15');\n",
    "UPDATE UserPlay UP\n",
    "SET case15_confidence_ekg = (SELECT confidence_ekg FROM UserCase UC WHERE UC.user = UP.user AND UC.casen = 'Case-15');\n",
    "UPDATE UserPlay UP\n",
    "SET case15_time_ekg = (SELECT time_ekg FROM UserCase UC WHERE UC.user = UP.user AND UC.casen = 'Case-15');\n",
    "\n",
    "UPDATE UserPlay UP\n",
    "SET case16_answer_desc = (SELECT answer_desc FROM UserCase UC WHERE UC.user = UP.user AND UC.casen = 'Case-16');\n",
    "UPDATE UserPlay UP\n",
    "SET case16_points_desc = (SELECT points_desc FROM UserCase UC WHERE UC.user = UP.user AND UC.casen = 'Case-16');\n",
    "UPDATE UserPlay UP\n",
    "SET case16_confidence_desc = (SELECT confidence_desc FROM UserCase UC WHERE UC.user = UP.user AND UC.casen = 'Case-16');\n",
    "UPDATE UserPlay UP\n",
    "SET case16_time_desc = (SELECT time_desc FROM UserCase UC WHERE UC.user = UP.user AND UC.casen = 'Case-16');\n",
    "UPDATE UserPlay UP\n",
    "SET case16_answer_ekg = (SELECT answer_ekg FROM UserCase UC WHERE UC.user = UP.user AND UC.casen = 'Case-16');\n",
    "UPDATE UserPlay UP\n",
    "SET case16_points_ekg = (SELECT points_ekg FROM UserCase UC WHERE UC.user = UP.user AND UC.casen = 'Case-16');\n",
    "UPDATE UserPlay UP\n",
    "SET case16_confidence_ekg = (SELECT confidence_ekg FROM UserCase UC WHERE UC.user = UP.user AND UC.casen = 'Case-16');\n",
    "UPDATE UserPlay UP\n",
    "SET case16_time_ekg = (SELECT time_ekg FROM UserCase UC WHERE UC.user = UP.user AND UC.casen = 'Case-16');\n",
    "\n",
    "UPDATE UserPlay UP\n",
    "SET case17_answer_desc = (SELECT answer_desc FROM UserCase UC WHERE UC.user = UP.user AND UC.casen = 'Case-17');\n",
    "UPDATE UserPlay UP\n",
    "SET case17_points_desc = (SELECT points_desc FROM UserCase UC WHERE UC.user = UP.user AND UC.casen = 'Case-17');\n",
    "UPDATE UserPlay UP\n",
    "SET case17_confidence_desc = (SELECT confidence_desc FROM UserCase UC WHERE UC.user = UP.user AND UC.casen = 'Case-17');\n",
    "UPDATE UserPlay UP\n",
    "SET case17_time_desc = (SELECT time_desc FROM UserCase UC WHERE UC.user = UP.user AND UC.casen = 'Case-17');\n",
    "UPDATE UserPlay UP\n",
    "SET case17_answer_ekg = (SELECT answer_ekg FROM UserCase UC WHERE UC.user = UP.user AND UC.casen = 'Case-17');\n",
    "UPDATE UserPlay UP\n",
    "SET case17_points_ekg = (SELECT points_ekg FROM UserCase UC WHERE UC.user = UP.user AND UC.casen = 'Case-17');\n",
    "UPDATE UserPlay UP\n",
    "SET case17_confidence_ekg = (SELECT confidence_ekg FROM UserCase UC WHERE UC.user = UP.user AND UC.casen = 'Case-17');\n",
    "UPDATE UserPlay UP\n",
    "SET case17_time_ekg = (SELECT time_ekg FROM UserCase UC WHERE UC.user = UP.user AND UC.casen = 'Case-17');\n",
    "\n",
    "UPDATE UserPlay UP\n",
    "SET case19_answer_desc = (SELECT answer_desc FROM UserCase UC WHERE UC.user = UP.user AND UC.casen = 'Case-19');\n",
    "UPDATE UserPlay UP\n",
    "SET case19_points_desc = (SELECT points_desc FROM UserCase UC WHERE UC.user = UP.user AND UC.casen = 'Case-19');\n",
    "UPDATE UserPlay UP\n",
    "SET case19_confidence_desc = (SELECT confidence_desc FROM UserCase UC WHERE UC.user = UP.user AND UC.casen = 'Case-19');\n",
    "UPDATE UserPlay UP\n",
    "SET case19_time_desc = (SELECT time_desc FROM UserCase UC WHERE UC.user = UP.user AND UC.casen = 'Case-19');\n",
    "UPDATE UserPlay UP\n",
    "SET case19_answer_ekg = (SELECT answer_ekg FROM UserCase UC WHERE UC.user = UP.user AND UC.casen = 'Case-19');\n",
    "UPDATE UserPlay UP\n",
    "SET case19_points_ekg = (SELECT points_ekg FROM UserCase UC WHERE UC.user = UP.user AND UC.casen = 'Case-19');\n",
    "UPDATE UserPlay UP\n",
    "SET case19_confidence_ekg = (SELECT confidence_ekg FROM UserCase UC WHERE UC.user = UP.user AND UC.casen = 'Case-19');\n",
    "UPDATE UserPlay UP\n",
    "SET case19_time_ekg = (SELECT time_ekg FROM UserCase UC WHERE UC.user = UP.user AND UC.casen = 'Case-19');\n",
    "\n",
    "SELECT * FROM UserPlay;"
   ]
  },
  {
   "cell_type": "code",
   "execution_count": 36,
   "metadata": {},
   "outputs": [
    {
     "data": {
      "text/plain": [
       "52"
      ]
     },
     "execution_count": 36,
     "metadata": {},
     "output_type": "execute_result"
    }
   ],
   "source": [
    "CALL CSVWRITE('../../resources/nl-experiment1/transformed-data/nl-experiment-01-byuser.csv', 'SELECT * FROM UserPlay ORDER BY user');"
   ]
  }
 ],
 "metadata": {
  "kernelspec": {
   "display_name": "SQL",
   "language": "SQL",
   "name": "sql"
  },
  "language_info": {
   "codemirror_mode": "sql",
   "file_extension": ".sql",
   "mimetype": "",
   "name": "SQL",
   "nbconverter_exporter": "",
   "version": ""
  },
  "toc": {
   "base_numbering": 1,
   "nav_menu": {},
   "number_sections": false,
   "sideBar": false,
   "skip_h1_title": false,
   "title_cell": "Table of Contents",
   "title_sidebar": "Contents",
   "toc_cell": false,
   "toc_position": {},
   "toc_section_display": false,
   "toc_window_display": false
  }
 },
 "nbformat": 4,
 "nbformat_minor": 2
}
