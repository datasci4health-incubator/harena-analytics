{
 "cells": [
  {
   "cell_type": "code",
   "execution_count": 1,
   "metadata": {},
   "outputs": [],
   "source": [
    "import pandas as pd\n",
    "import random "
   ]
  },
  {
   "cell_type": "code",
   "execution_count": 2,
   "metadata": {},
   "outputs": [],
   "source": [
    "cases = pd.read_csv(\"new_model_cases.csv\")\n",
    "cases = cases.values"
   ]
  },
  {
   "cell_type": "code",
   "execution_count": 17,
   "metadata": {},
   "outputs": [],
   "source": [
    "def case_generation(cases):\n",
    "    \n",
    "    \n",
    "    \n",
    "    for index, case in enumerate(cases):\n",
    "            "
   ]
  },
  {
   "cell_type": "code",
   "execution_count": 18,
   "metadata": {},
   "outputs": [
    {
     "name": "stdout",
     "output_type": "stream",
     "text": [
      "['(0, 1)' '(0, 1, 0)' '(154, 20)' '(141, 214, 0, 0)' 'Zanamivir']\n",
      "0\n",
      "['(1, 1)' '(0, 0, 1)' '(174, 102)' '(290, 280, 0, 1)' 'Amoxozumbicilina']\n",
      "1\n",
      "['(0, 1)' '(0, 1, 0)' '(155, 18)' '(123, 187, 0, 0)' 'Zanamivir']\n",
      "2\n",
      "['(1, 1)' '(0, 0, 1)' '(191, 106)' '(301, 321, 1, 1)' 'Amoxozumbicilina']\n",
      "3\n",
      "['(1, 0)' '(1, 0, 0)' '(201, 54)' '(191, 224, 1, 0)' 'Zumbidazol']\n",
      "4\n",
      "['(1, 1)' '(0, 0, 1)' '(188, 102)' '(294, 285, 1, 1)' 'Amoxozumbicilina']\n",
      "5\n",
      "['(1, 0)' '(1, 0, 0)' '(209, 54)' '(198, 249, 1, 0)' 'Zumbidazol']\n",
      "6\n",
      "['(1, 0)' '(1, 0, 0)' '(206, 51)' '(188, 242, 1, 0)' 'Zumbidazol']\n",
      "7\n",
      "['(0, 1)' '(0, 1, 0)' '(141, 20)' '(135, 200, 0, 0)' 'Zanamivir']\n",
      "8\n",
      "['(0, 1)' '(0, 1, 0)' '(144, 24)' '(139, 189, 0, 0)' 'Zanamivir']\n",
      "9\n",
      "['(1, 1)' '(0, 0, 1)' '(177, 87)' '(268, 282, 1, 1)' 'Amoxozumbicilina']\n",
      "10\n",
      "['(1, 0)' '(1, 0, 0)' '(199, 43)' '(164, 247, 1, 0)' 'Zumbidazol']\n",
      "11\n",
      "['(1, 1)' '(0, 0, 1)' '(177, 101)' '(296, 287, 1, 1)' 'Amoxozumbicilina']\n",
      "12\n",
      "['(0, 1)' '(0, 1, 0)' '(151, 14)' '(114, 181, 0, 0)' 'Zanamivir']\n",
      "13\n",
      "['(1, 0)' '(1, 0, 0)' '(201, 53)' '(198, 248, 1, 0)' 'Zumbidazol']\n",
      "14\n",
      "['(1, 1)' '(0, 0, 1)' '(174, 99)' '(284, 287, 0, 1)' 'Amoxozumbicilina']\n",
      "15\n",
      "['(1, 1)' '(0, 0, 1)' '(190, 101)' '(293, 298, 1, 1)' 'Amoxozumbicilina']\n",
      "16\n",
      "['(1, 1)' '(0, 0, 1)' '(178, 95)' '(282, 287, 1, 1)' 'Amoxozumbicilina']\n",
      "17\n",
      "['(0, 1)' '(0, 1, 0)' '(158, 13)' '(120, 180, 0, 0)' 'Zanamivir']\n",
      "18\n",
      "['(1, 0)' '(1, 0, 0)' '(213, 43)' '(177, 247, 1, 0)' 'Zumbidazol']\n",
      "19\n"
     ]
    }
   ],
   "source": [
    "case_generation(cases)"
   ]
  }
 ],
 "metadata": {
  "kernelspec": {
   "display_name": "Python 3",
   "language": "python",
   "name": "python3"
  },
  "language_info": {
   "codemirror_mode": {
    "name": "ipython",
    "version": 3
   },
   "file_extension": ".py",
   "mimetype": "text/x-python",
   "name": "python",
   "nbconvert_exporter": "python",
   "pygments_lexer": "ipython3",
   "version": "3.6.7"
  }
 },
 "nbformat": 4,
 "nbformat_minor": 2
}
