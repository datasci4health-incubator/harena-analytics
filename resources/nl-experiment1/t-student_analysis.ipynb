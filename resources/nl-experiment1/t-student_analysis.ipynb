{
 "cells": [
  {
   "cell_type": "code",
   "execution_count": 1,
   "metadata": {},
   "outputs": [],
   "source": [
    "%matplotlib inline\n",
    "import json\n",
    "import matplotlib.pyplot as plt\n",
    "import pandas as pd\n",
    "from pandas.io.json import json_normalize\n",
    "import time\n",
    "import numpy as np\n",
    "import seaborn as sns\n",
    "import re"
   ]
  },
  {
   "cell_type": "code",
   "execution_count": 2,
   "metadata": {},
   "outputs": [
    {
     "data": {
      "text/html": [
       "<div>\n",
       "<style scoped>\n",
       "    .dataframe tbody tr th:only-of-type {\n",
       "        vertical-align: middle;\n",
       "    }\n",
       "\n",
       "    .dataframe tbody tr th {\n",
       "        vertical-align: top;\n",
       "    }\n",
       "\n",
       "    .dataframe thead th {\n",
       "        text-align: right;\n",
       "    }\n",
       "</style>\n",
       "<table border=\"1\" class=\"dataframe\">\n",
       "  <thead>\n",
       "    <tr style=\"text-align: right;\">\n",
       "      <th></th>\n",
       "      <th>_id</th>\n",
       "      <th>topic</th>\n",
       "      <th>payload</th>\n",
       "      <th>timestamp</th>\n",
       "    </tr>\n",
       "  </thead>\n",
       "  <tbody>\n",
       "    <tr>\n",
       "      <td>0</td>\n",
       "      <td>{'$oid': '5d274d843299fa6236b8bc28'}</td>\n",
       "      <td>data/case/332f02b9-093e-4a2f-8d93-28022c275e8b...</td>\n",
       "      <td>{'responseStamp': 1}</td>\n",
       "      <td>2019-07-11 14:53:56.866</td>\n",
       "    </tr>\n",
       "    <tr>\n",
       "      <td>1</td>\n",
       "      <td>{'$oid': '5d274d853299fa6236b8bc29'}</td>\n",
       "      <td>data/case/332f02b9-093e-4a2f-8d93-28022c275e8b...</td>\n",
       "      <td>{'name': 'Zombie Venom 09', 'source': '# 1 (ca...</td>\n",
       "      <td>2019-07-11 14:53:57.587</td>\n",
       "    </tr>\n",
       "    <tr>\n",
       "      <td>2</td>\n",
       "      <td>{'$oid': '5d274e633299fa6236b8bc2a'}</td>\n",
       "      <td>data/case/00f14675-854c-4c58-95eb-8dd414f525d3...</td>\n",
       "      <td>{'responseStamp': 1}</td>\n",
       "      <td>2019-07-11 14:57:39.979</td>\n",
       "    </tr>\n",
       "    <tr>\n",
       "      <td>3</td>\n",
       "      <td>{'$oid': '5d274e643299fa6236b8bc2b'}</td>\n",
       "      <td>data/case/00f14675-854c-4c58-95eb-8dd414f525d3...</td>\n",
       "      <td>{'name': 'Zombie Venom 08', 'source': '# 1 (ca...</td>\n",
       "      <td>2019-07-11 14:57:40.069</td>\n",
       "    </tr>\n",
       "    <tr>\n",
       "      <td>4</td>\n",
       "      <td>{'$oid': '5d274e643299fa6236b8bc2c'}</td>\n",
       "      <td>data/theme/zombie.note/get</td>\n",
       "      <td>{'responseStamp': 2}</td>\n",
       "      <td>2019-07-11 14:57:40.085</td>\n",
       "    </tr>\n",
       "  </tbody>\n",
       "</table>\n",
       "</div>"
      ],
      "text/plain": [
       "                                    _id  \\\n",
       "0  {'$oid': '5d274d843299fa6236b8bc28'}   \n",
       "1  {'$oid': '5d274d853299fa6236b8bc29'}   \n",
       "2  {'$oid': '5d274e633299fa6236b8bc2a'}   \n",
       "3  {'$oid': '5d274e643299fa6236b8bc2b'}   \n",
       "4  {'$oid': '5d274e643299fa6236b8bc2c'}   \n",
       "\n",
       "                                               topic  \\\n",
       "0  data/case/332f02b9-093e-4a2f-8d93-28022c275e8b...   \n",
       "1  data/case/332f02b9-093e-4a2f-8d93-28022c275e8b...   \n",
       "2  data/case/00f14675-854c-4c58-95eb-8dd414f525d3...   \n",
       "3  data/case/00f14675-854c-4c58-95eb-8dd414f525d3...   \n",
       "4                         data/theme/zombie.note/get   \n",
       "\n",
       "                                             payload               timestamp  \n",
       "0                               {'responseStamp': 1} 2019-07-11 14:53:56.866  \n",
       "1  {'name': 'Zombie Venom 09', 'source': '# 1 (ca... 2019-07-11 14:53:57.587  \n",
       "2                               {'responseStamp': 1} 2019-07-11 14:57:39.979  \n",
       "3  {'name': 'Zombie Venom 08', 'source': '# 1 (ca... 2019-07-11 14:57:40.069  \n",
       "4                               {'responseStamp': 2} 2019-07-11 14:57:40.085  "
      ]
     },
     "execution_count": 2,
     "metadata": {},
     "output_type": "execute_result"
    }
   ],
   "source": [
    "path = \"executions-bkp-gcloudeu-28-11.jsonl\"\n",
    "raw_data = pd.read_json(path, lines=True)\n",
    "raw_data.head()"
   ]
  },
  {
   "cell_type": "code",
   "execution_count": 3,
   "metadata": {},
   "outputs": [],
   "source": [
    "nl_experiment = raw_data.loc[lambda df: df.timestamp > '2019-11-28 7:30:00']\n",
    "nl_experiment.to_json('nl_experiment1.json', orient='records')"
   ]
  },
  {
   "cell_type": "code",
   "execution_count": 34,
   "metadata": {},
   "outputs": [],
   "source": [
    "def reconstruct_users_track(log):\n",
    "    users_tracks = dict()\n",
    "    for index, row in log.iterrows():\n",
    "        payload = row.payload\n",
    "        try:\n",
    "            user = payload['track']['userid'] \n",
    "            if user in users_tracks:\n",
    "                users_tracks[user].append(row)\n",
    "            else:\n",
    "                users_tracks.update({user: [row]})\n",
    "        except:\n",
    "            pass\n",
    "    return users_tracks"
   ]
  },
  {
   "cell_type": "code",
   "execution_count": 5,
   "metadata": {},
   "outputs": [
    {
     "data": {
      "text/html": [
       "<div>\n",
       "<style scoped>\n",
       "    .dataframe tbody tr th:only-of-type {\n",
       "        vertical-align: middle;\n",
       "    }\n",
       "\n",
       "    .dataframe tbody tr th {\n",
       "        vertical-align: top;\n",
       "    }\n",
       "\n",
       "    .dataframe thead th {\n",
       "        text-align: right;\n",
       "    }\n",
       "</style>\n",
       "<table border=\"1\" class=\"dataframe\">\n",
       "  <thead>\n",
       "    <tr style=\"text-align: right;\">\n",
       "      <th></th>\n",
       "      <th>_id</th>\n",
       "      <th>topic</th>\n",
       "      <th>payload</th>\n",
       "      <th>timestamp</th>\n",
       "    </tr>\n",
       "  </thead>\n",
       "  <tbody>\n",
       "    <tr>\n",
       "      <td>22113</td>\n",
       "      <td>{'$oid': '5ddf8655cd683579f92534ee'}</td>\n",
       "      <td>data/user/login</td>\n",
       "      <td>{'email': 'A33@ds4h.org', 'password': 'a33', '...</td>\n",
       "      <td>2019-11-28 08:33:25.387</td>\n",
       "    </tr>\n",
       "    <tr>\n",
       "      <td>22114</td>\n",
       "      <td>{'$oid': '5ddf8655cd683579f92534ef'}</td>\n",
       "      <td>data/user/login/response/2</td>\n",
       "      <td>{'userid': 93, 'token': 'eyJhbGciOiJIUzI1NiIsI...</td>\n",
       "      <td>2019-11-28 08:33:25.551</td>\n",
       "    </tr>\n",
       "    <tr>\n",
       "      <td>22115</td>\n",
       "      <td>{'$oid': '5ddf8655cd683579f92534f0'}</td>\n",
       "      <td>data/case/*/list</td>\n",
       "      <td>{'filterBy': 'user', 'filter': 93, 'responseSt...</td>\n",
       "      <td>2019-11-28 08:33:25.614</td>\n",
       "    </tr>\n",
       "    <tr>\n",
       "      <td>22116</td>\n",
       "      <td>{'$oid': '5ddf8655cd683579f92534f1'}</td>\n",
       "      <td>data/case/*/list/response/3</td>\n",
       "      <td>[{'id': 'a46c78ec-9973-4792-a4ec-d9a9ef0e4978'...</td>\n",
       "      <td>2019-11-28 08:33:25.729</td>\n",
       "    </tr>\n",
       "    <tr>\n",
       "      <td>22117</td>\n",
       "      <td>{'$oid': '5ddf8655cd683579f92534f2'}</td>\n",
       "      <td>data/case/a46c78ec-9973-4792-a4ec-d9a9ef0e4978...</td>\n",
       "      <td>{'responseStamp': 4}</td>\n",
       "      <td>2019-11-28 08:33:25.754</td>\n",
       "    </tr>\n",
       "    <tr>\n",
       "      <td>22118</td>\n",
       "      <td>{'$oid': '5ddf8655cd683579f92534f3'}</td>\n",
       "      <td>data/case/a46c78ec-9973-4792-a4ec-d9a9ef0e4978...</td>\n",
       "      <td>{'name': 'EKG-First', 'source': 'EKG-Descripti...</td>\n",
       "      <td>2019-11-28 08:33:25.883</td>\n",
       "    </tr>\n",
       "    <tr>\n",
       "      <td>22119</td>\n",
       "      <td>{'$oid': '5ddf8656cd683579f92534f4'}</td>\n",
       "      <td>knot/&lt;&lt;/navigate</td>\n",
       "      <td>{}</td>\n",
       "      <td>2019-11-28 08:33:26.004</td>\n",
       "    </tr>\n",
       "    <tr>\n",
       "      <td>22120</td>\n",
       "      <td>{'$oid': '5ddf8656cd683579f92534f5'}</td>\n",
       "      <td>2019-11-28T08:33:25.342Z-980cae4f-15d1-9d08-11...</td>\n",
       "      <td>{'parameter': 'EKG first', 'track': {'userid':...</td>\n",
       "      <td>2019-11-28 08:33:26.033</td>\n",
       "    </tr>\n",
       "    <tr>\n",
       "      <td>22121</td>\n",
       "      <td>{'$oid': '5ddf8656cd683579f92534f6'}</td>\n",
       "      <td>2019-11-28T08:33:25.342Z-980cae4f-15d1-9d08-11...</td>\n",
       "      <td>{'track': {'userid': 93, 'caseid': 'a46c78ec-9...</td>\n",
       "      <td>2019-11-28 08:33:26.036</td>\n",
       "    </tr>\n",
       "    <tr>\n",
       "      <td>22122</td>\n",
       "      <td>{'$oid': '5ddf8656cd683579f92534f7'}</td>\n",
       "      <td>2019-11-28T08:33:25.342Z-980cae4f-15d1-9d08-11...</td>\n",
       "      <td>{'track': {'userid': 93, 'caseid': 'a46c78ec-9...</td>\n",
       "      <td>2019-11-28 08:33:26.082</td>\n",
       "    </tr>\n",
       "  </tbody>\n",
       "</table>\n",
       "</div>"
      ],
      "text/plain": [
       "                                        _id  \\\n",
       "22113  {'$oid': '5ddf8655cd683579f92534ee'}   \n",
       "22114  {'$oid': '5ddf8655cd683579f92534ef'}   \n",
       "22115  {'$oid': '5ddf8655cd683579f92534f0'}   \n",
       "22116  {'$oid': '5ddf8655cd683579f92534f1'}   \n",
       "22117  {'$oid': '5ddf8655cd683579f92534f2'}   \n",
       "22118  {'$oid': '5ddf8655cd683579f92534f3'}   \n",
       "22119  {'$oid': '5ddf8656cd683579f92534f4'}   \n",
       "22120  {'$oid': '5ddf8656cd683579f92534f5'}   \n",
       "22121  {'$oid': '5ddf8656cd683579f92534f6'}   \n",
       "22122  {'$oid': '5ddf8656cd683579f92534f7'}   \n",
       "\n",
       "                                                   topic  \\\n",
       "22113                                    data/user/login   \n",
       "22114                         data/user/login/response/2   \n",
       "22115                                   data/case/*/list   \n",
       "22116                        data/case/*/list/response/3   \n",
       "22117  data/case/a46c78ec-9973-4792-a4ec-d9a9ef0e4978...   \n",
       "22118  data/case/a46c78ec-9973-4792-a4ec-d9a9ef0e4978...   \n",
       "22119                                   knot/<</navigate   \n",
       "22120  2019-11-28T08:33:25.342Z-980cae4f-15d1-9d08-11...   \n",
       "22121  2019-11-28T08:33:25.342Z-980cae4f-15d1-9d08-11...   \n",
       "22122  2019-11-28T08:33:25.342Z-980cae4f-15d1-9d08-11...   \n",
       "\n",
       "                                                 payload  \\\n",
       "22113  {'email': 'A33@ds4h.org', 'password': 'a33', '...   \n",
       "22114  {'userid': 93, 'token': 'eyJhbGciOiJIUzI1NiIsI...   \n",
       "22115  {'filterBy': 'user', 'filter': 93, 'responseSt...   \n",
       "22116  [{'id': 'a46c78ec-9973-4792-a4ec-d9a9ef0e4978'...   \n",
       "22117                               {'responseStamp': 4}   \n",
       "22118  {'name': 'EKG-First', 'source': 'EKG-Descripti...   \n",
       "22119                                                 {}   \n",
       "22120  {'parameter': 'EKG first', 'track': {'userid':...   \n",
       "22121  {'track': {'userid': 93, 'caseid': 'a46c78ec-9...   \n",
       "22122  {'track': {'userid': 93, 'caseid': 'a46c78ec-9...   \n",
       "\n",
       "                    timestamp  \n",
       "22113 2019-11-28 08:33:25.387  \n",
       "22114 2019-11-28 08:33:25.551  \n",
       "22115 2019-11-28 08:33:25.614  \n",
       "22116 2019-11-28 08:33:25.729  \n",
       "22117 2019-11-28 08:33:25.754  \n",
       "22118 2019-11-28 08:33:25.883  \n",
       "22119 2019-11-28 08:33:26.004  \n",
       "22120 2019-11-28 08:33:26.033  \n",
       "22121 2019-11-28 08:33:26.036  \n",
       "22122 2019-11-28 08:33:26.082  "
      ]
     },
     "execution_count": 5,
     "metadata": {},
     "output_type": "execute_result"
    }
   ],
   "source": [
    "nl_experiment.head(10)"
   ]
  },
  {
   "cell_type": "code",
   "execution_count": 6,
   "metadata": {},
   "outputs": [
    {
     "data": {
      "text/html": [
       "<div>\n",
       "<style scoped>\n",
       "    .dataframe tbody tr th:only-of-type {\n",
       "        vertical-align: middle;\n",
       "    }\n",
       "\n",
       "    .dataframe tbody tr th {\n",
       "        vertical-align: top;\n",
       "    }\n",
       "\n",
       "    .dataframe thead th {\n",
       "        text-align: right;\n",
       "    }\n",
       "</style>\n",
       "<table border=\"1\" class=\"dataframe\">\n",
       "  <thead>\n",
       "    <tr style=\"text-align: right;\">\n",
       "      <th></th>\n",
       "      <th>_id</th>\n",
       "      <th>topic</th>\n",
       "      <th>payload</th>\n",
       "      <th>timestamp</th>\n",
       "    </tr>\n",
       "  </thead>\n",
       "  <tbody>\n",
       "    <tr>\n",
       "      <td>22113</td>\n",
       "      <td>{'$oid': '5ddf8655cd683579f92534ee'}</td>\n",
       "      <td>data/user/login</td>\n",
       "      <td>{'email': 'A33@ds4h.org', 'password': 'a33', '...</td>\n",
       "      <td>2019-11-28 08:33:25.387</td>\n",
       "    </tr>\n",
       "    <tr>\n",
       "      <td>22114</td>\n",
       "      <td>{'$oid': '5ddf8655cd683579f92534ef'}</td>\n",
       "      <td>data/user/login/response/2</td>\n",
       "      <td>{'userid': 93, 'token': 'eyJhbGciOiJIUzI1NiIsI...</td>\n",
       "      <td>2019-11-28 08:33:25.551</td>\n",
       "    </tr>\n",
       "    <tr>\n",
       "      <td>22115</td>\n",
       "      <td>{'$oid': '5ddf8655cd683579f92534f0'}</td>\n",
       "      <td>data/case/*/list</td>\n",
       "      <td>{'filterBy': 'user', 'filter': 93, 'responseSt...</td>\n",
       "      <td>2019-11-28 08:33:25.614</td>\n",
       "    </tr>\n",
       "    <tr>\n",
       "      <td>22116</td>\n",
       "      <td>{'$oid': '5ddf8655cd683579f92534f1'}</td>\n",
       "      <td>data/case/*/list/response/3</td>\n",
       "      <td>[{'id': 'a46c78ec-9973-4792-a4ec-d9a9ef0e4978'...</td>\n",
       "      <td>2019-11-28 08:33:25.729</td>\n",
       "    </tr>\n",
       "    <tr>\n",
       "      <td>22117</td>\n",
       "      <td>{'$oid': '5ddf8655cd683579f92534f2'}</td>\n",
       "      <td>data/case/a46c78ec-9973-4792-a4ec-d9a9ef0e4978...</td>\n",
       "      <td>{'responseStamp': 4}</td>\n",
       "      <td>2019-11-28 08:33:25.754</td>\n",
       "    </tr>\n",
       "    <tr>\n",
       "      <td>...</td>\n",
       "      <td>...</td>\n",
       "      <td>...</td>\n",
       "      <td>...</td>\n",
       "      <td>...</td>\n",
       "    </tr>\n",
       "    <tr>\n",
       "      <td>104931</td>\n",
       "      <td>{'$oid': '5ddf9024cd683579f9267870'}</td>\n",
       "      <td>2019-11-28T09:15:15.570Z-c73e9cbd-85e8-e63d-93...</td>\n",
       "      <td>{'responseStamp': 8, 'track': {'userid': 116, ...</td>\n",
       "      <td>2019-11-28 09:15:16.547</td>\n",
       "    </tr>\n",
       "    <tr>\n",
       "      <td>104932</td>\n",
       "      <td>{'$oid': '5ddf9024cd683579f9267871'}</td>\n",
       "      <td>2019-11-28T09:15:15.570Z-c73e9cbd-85e8-e63d-93...</td>\n",
       "      <td>{'content': '&lt;div class=\"styt-main-frame\"&gt;\n",
       "   ...</td>\n",
       "      <td>2019-11-28 09:15:16.584</td>\n",
       "    </tr>\n",
       "    <tr>\n",
       "      <td>104933</td>\n",
       "      <td>{'$oid': '5ddf9024cd683579f9267872'}</td>\n",
       "      <td>2019-11-28T09:15:15.570Z-c73e9cbd-85e8-e63d-93...</td>\n",
       "      <td>{'track': {'userid': 116, 'caseid': '9b1651f3-...</td>\n",
       "      <td>2019-11-28 09:15:16.624</td>\n",
       "    </tr>\n",
       "    <tr>\n",
       "      <td>104934</td>\n",
       "      <td>{'$oid': '5ddf9025cd683579f9267873'}</td>\n",
       "      <td>data/case/*/list</td>\n",
       "      <td>{'responseStamp': 2}</td>\n",
       "      <td>2019-11-28 09:15:17.504</td>\n",
       "    </tr>\n",
       "    <tr>\n",
       "      <td>104935</td>\n",
       "      <td>{'$oid': '5ddf9027cd683579f9267874'}</td>\n",
       "      <td>data/case/*/list/response/2</td>\n",
       "      <td>[{'id': '1a34ea2e-5432-47db-bd95-9e7b9608c44a'...</td>\n",
       "      <td>2019-11-28 09:15:19.713</td>\n",
       "    </tr>\n",
       "  </tbody>\n",
       "</table>\n",
       "<p>82823 rows × 4 columns</p>\n",
       "</div>"
      ],
      "text/plain": [
       "                                         _id  \\\n",
       "22113   {'$oid': '5ddf8655cd683579f92534ee'}   \n",
       "22114   {'$oid': '5ddf8655cd683579f92534ef'}   \n",
       "22115   {'$oid': '5ddf8655cd683579f92534f0'}   \n",
       "22116   {'$oid': '5ddf8655cd683579f92534f1'}   \n",
       "22117   {'$oid': '5ddf8655cd683579f92534f2'}   \n",
       "...                                      ...   \n",
       "104931  {'$oid': '5ddf9024cd683579f9267870'}   \n",
       "104932  {'$oid': '5ddf9024cd683579f9267871'}   \n",
       "104933  {'$oid': '5ddf9024cd683579f9267872'}   \n",
       "104934  {'$oid': '5ddf9025cd683579f9267873'}   \n",
       "104935  {'$oid': '5ddf9027cd683579f9267874'}   \n",
       "\n",
       "                                                    topic  \\\n",
       "22113                                     data/user/login   \n",
       "22114                          data/user/login/response/2   \n",
       "22115                                    data/case/*/list   \n",
       "22116                         data/case/*/list/response/3   \n",
       "22117   data/case/a46c78ec-9973-4792-a4ec-d9a9ef0e4978...   \n",
       "...                                                   ...   \n",
       "104931  2019-11-28T09:15:15.570Z-c73e9cbd-85e8-e63d-93...   \n",
       "104932  2019-11-28T09:15:15.570Z-c73e9cbd-85e8-e63d-93...   \n",
       "104933  2019-11-28T09:15:15.570Z-c73e9cbd-85e8-e63d-93...   \n",
       "104934                                   data/case/*/list   \n",
       "104935                        data/case/*/list/response/2   \n",
       "\n",
       "                                                  payload  \\\n",
       "22113   {'email': 'A33@ds4h.org', 'password': 'a33', '...   \n",
       "22114   {'userid': 93, 'token': 'eyJhbGciOiJIUzI1NiIsI...   \n",
       "22115   {'filterBy': 'user', 'filter': 93, 'responseSt...   \n",
       "22116   [{'id': 'a46c78ec-9973-4792-a4ec-d9a9ef0e4978'...   \n",
       "22117                                {'responseStamp': 4}   \n",
       "...                                                   ...   \n",
       "104931  {'responseStamp': 8, 'track': {'userid': 116, ...   \n",
       "104932  {'content': '<div class=\"styt-main-frame\">\n",
       "   ...   \n",
       "104933  {'track': {'userid': 116, 'caseid': '9b1651f3-...   \n",
       "104934                               {'responseStamp': 2}   \n",
       "104935  [{'id': '1a34ea2e-5432-47db-bd95-9e7b9608c44a'...   \n",
       "\n",
       "                     timestamp  \n",
       "22113  2019-11-28 08:33:25.387  \n",
       "22114  2019-11-28 08:33:25.551  \n",
       "22115  2019-11-28 08:33:25.614  \n",
       "22116  2019-11-28 08:33:25.729  \n",
       "22117  2019-11-28 08:33:25.754  \n",
       "...                        ...  \n",
       "104931 2019-11-28 09:15:16.547  \n",
       "104932 2019-11-28 09:15:16.584  \n",
       "104933 2019-11-28 09:15:16.624  \n",
       "104934 2019-11-28 09:15:17.504  \n",
       "104935 2019-11-28 09:15:19.713  \n",
       "\n",
       "[82823 rows x 4 columns]"
      ]
     },
     "execution_count": 6,
     "metadata": {},
     "output_type": "execute_result"
    }
   ],
   "source": [
    "nl_experiment"
   ]
  },
  {
   "cell_type": "code",
   "execution_count": 35,
   "metadata": {},
   "outputs": [],
   "source": [
    "users_track = reconstruct_users_track(nl_experiment)"
   ]
  },
  {
   "cell_type": "code",
   "execution_count": 53,
   "metadata": {},
   "outputs": [
    {
     "name": "stdout",
     "output_type": "stream",
     "text": [
      "[1, 61, 62, 63, 64, 65, 66, 67, 68, 69, 70, 71, 72, 73, 75, 76, 77, 78, 79, 80, 81, 82, 83, 84, 85, 86, 87, 88, 89, 90, 91, 92, 93, 94, 95, 96, 97, 98, 99, 100, 101, 102, 103, 104, 105, 106, 107, 108, 109, 110, 111, 112, 113, 115, 116]\n"
     ]
    }
   ],
   "source": [
    "print(sorted(users_track.keys()))"
   ]
  },
  {
   "cell_type": "code",
   "execution_count": 42,
   "metadata": {},
   "outputs": [],
   "source": [
    "def split_groups(users_track):\n",
    "    group_A = dict()\n",
    "    group_B = dict()\n",
    "    \n",
    "    for user in users_track.keys():\n",
    "        for log in users_track[user]:\n",
    "            try:\n",
    "                if log['payload']['parameter'] == \"Description first\":\n",
    "                    group_A[user] = users_track[user]\n",
    "                if log['payload']['parameter'] == \"EKG first\":\n",
    "                    group_B[user] = users_track[user]\n",
    "            except:\n",
    "                pass\n",
    "    return group_A, group_B"
   ]
  },
  {
   "cell_type": "code",
   "execution_count": 50,
   "metadata": {},
   "outputs": [
    {
     "name": "stdout",
     "output_type": "stream",
     "text": [
      "Users Group A - Description First\n",
      "[1, 61, 62, 63, 64, 65, 66, 67, 68, 69, 70, 71, 72, 73, 75, 76, 77, 78, 79, 80, 81, 82, 83, 84, 85, 87]\n",
      "Users Group B - EKG First\n",
      "[86, 87, 88, 90, 91, 92, 93, 94, 95, 96, 97, 98, 99, 100, 101, 102, 103, 104, 105, 106, 107, 108, 109, 110, 111, 112, 113, 115, 116]\n"
     ]
    }
   ],
   "source": [
    "group_A, group_B = split_groups(users_track)\n",
    "print(\"Users Group A - Description First\")\n",
    "print(sorted(list(group_A.keys())))\n",
    "print(\"Users Group B - EKG First\")\n",
    "print(sorted(list(group_B.keys())))"
   ]
  },
  {
   "cell_type": "code",
   "execution_count": 51,
   "metadata": {},
   "outputs": [],
   "source": [
    "# Manually adding user 89 whose don't have Group parameter\n",
    "# group_B[89]=users_track[89]\n",
    "#Deleting admin user and user in both groups\n",
    "del(group_A[1])\n",
    "del(group_A[87])\n",
    "del(group_B[87])"
   ]
  },
  {
   "cell_type": "code",
   "execution_count": 52,
   "metadata": {},
   "outputs": [
    {
     "name": "stdout",
     "output_type": "stream",
     "text": [
      "24\n",
      "28\n"
     ]
    }
   ],
   "source": [
    "print(len(list(group_A.keys())))\n",
    "print(len(list(group_B.keys())))"
   ]
  },
  {
   "cell_type": "code",
   "execution_count": 12,
   "metadata": {},
   "outputs": [],
   "source": [
    "def users_answers(users_track):\n",
    "    \n",
    "    users_answers = dict()\n",
    "    \n",
    "    for user in users_track.keys():\n",
    "        users_answers[user] = pd.DataFrame(columns=[\"Variable\", \"Answer\", \"CaseId\"])\n",
    "        \n",
    "        for log in users_track[user]:\n",
    "            if re.search('/var/[\\w+.]+/set', log['topic']):\n",
    "                \n",
    "                var_topic = re.search('/var/[\\w+.]+/set', log['topic']).group()\n",
    "                answer = log['payload']['content']\n",
    "                case_id = log['payload']['track']['caseid']\n",
    "                row = {\"Variable\": var_topic, \"Answer\": answer, \"CaseId\": case_id}\n",
    "                users_answers[user] = users_answers[user].append(row, ignore_index=True)\n",
    "                \n",
    "    return users_answers"
   ]
  },
  {
   "cell_type": "code",
   "execution_count": 54,
   "metadata": {
    "scrolled": true
   },
   "outputs": [],
   "source": [
    "answers_groupA = users_answers(group_A)\n",
    "answers_groupB = users_answers(group_B)"
   ]
  },
  {
   "cell_type": "code",
   "execution_count": 15,
   "metadata": {},
   "outputs": [],
   "source": [
    "def clean_variables_track(answers_track, columns):\n",
    "    \n",
    "    users_answers_clean = dict()\n",
    "    \n",
    "    for user in answers_track.keys():\n",
    "        cleaned_track = pd.DataFrame(columns=[\"Variable\", \"Answer\", \"CaseId\"])\n",
    "        group_track = answers_track[user].groupby(columns)\n",
    "        \n",
    "        for name, group in group_track:\n",
    "            cleaned_track = cleaned_track.append(group_track.get_group(name).iloc[-1])\n",
    "        \n",
    "        users_answers_clean[user] = cleaned_track.sort_values(by=[\"CaseId\",\"Variable\"], ascending=False)\n",
    "    \n",
    "    return users_answers_clean"
   ]
  },
  {
   "cell_type": "code",
   "execution_count": 85,
   "metadata": {},
   "outputs": [],
   "source": [
    "groupA_clean = clean_variables_track(answers_groupA, columns=[\"Variable\", \"CaseId\"])\n",
    "groupB_clean = clean_variables_track(answers_groupB, columns=[\"Variable\", \"CaseId\"])"
   ]
  },
  {
   "cell_type": "code",
   "execution_count": 61,
   "metadata": {},
   "outputs": [],
   "source": [
    "cases_dict = {\"Case-01\":\"5c0cf92e-ebe3-4f83-bb3b-11846d0f3da8\",\n",
    "              \"Case-02\":\"71cb08b0-aa66-402f-8d35-027e01bd541f\",\n",
    "              \"Case-03\":\"1edff734-1090-4d44-bd52-963156b6b41d\",\n",
    "              \"Case-07\":\"9c5b0ab8-33c8-4bcf-bcb4-d888327b870b\",\n",
    "              \"Case-08\":\"28688ea2-f8d8-4664-80f6-0926720990fb\",\n",
    "              \"Case-09\":\"ec4be4fd-4e48-4e84-ba8e-36c53b415698\",\n",
    "              \"Case-12\":\"280fa4a7-1e79-4097-a961-7fda24d7d9bf\",\n",
    "              \"Case-13\":\"7fbf35be-79fa-4087-94cd-ccc8030ac305\",\n",
    "              \"Case-15\":\"a775bf21-b15c-44d1-a120-61611bc7960c\",\n",
    "              \"Case-16\":\"b90056f9-e5e2-4281-bcfe-75ab62033b2b\",\n",
    "              \"Case-17\":\"070e904b-fe21-4629-83b2-4f9ea49bccce\",\n",
    "              \"Case-19\":\"64634e19-ea0a-4060-9656-1252b5d6acb5\"\n",
    "             }\n",
    "cases_name = pd.DataFrame(cases_dict.items(), columns=[\"Case\", \"CaseId\"])"
   ]
  },
  {
   "cell_type": "code",
   "execution_count": 57,
   "metadata": {},
   "outputs": [],
   "source": [
    "topic_dict = {\"EKG Hypothesis\":\"/var/EKG_Cycle.Generate_hypothesis.hypothesis/set\",\n",
    "              \"EKG Confidence\":\"/var/EKG_Cycle.Generate_hypothesis.confidence/set\",\n",
    "              \"Description Hypothesis\":\"/var/Description_Cycle.Generate_hypothesis.hypothesis/set\",\n",
    "              \"Description Confidence\":\"/var/Description_Cycle.Generate_hypothesis.confidence/set\"\n",
    "             }\n",
    "topic_names = pd.DataFrame(topic_dict.items(), columns=[\"Question\", \"Variable\"])"
   ]
  },
  {
   "cell_type": "code",
   "execution_count": 84,
   "metadata": {},
   "outputs": [],
   "source": [
    "def beautify_case_topic_name(users_track, topic_names, cases_name):\n",
    "    \n",
    "    for user in users_track.keys():\n",
    "        df_merged = pd.merge(users_track[user],cases_name, on=\"CaseId\", how=\"outer\")\n",
    "        df_merged = pd.merge(df_merged,topic_names, on=\"Variable\", how=\"outer\")\n",
    "        df_merged.drop(columns=[\"Variable\", \"CaseId\"], inplace=True)\n",
    "        df_merged = df_merged[[\"Question\",\"Answer\",\"Case\"]]\n",
    "        df_merged = df_merged.sort_values(by=[\"Case\",\"Question\"], ascending=False)\n",
    "        users_track[user] = df_merged\n",
    "    \n",
    "    return users_track"
   ]
  },
  {
   "cell_type": "code",
   "execution_count": 86,
   "metadata": {},
   "outputs": [],
   "source": [
    "groupA_clean = beautify_case_topic_name(groupA_clean, topic_names, cases_name)"
   ]
  },
  {
   "cell_type": "code",
   "execution_count": 88,
   "metadata": {},
   "outputs": [],
   "source": [
    "groupB_clean = beautify_case_topic_name(groupB_clean, topic_names, cases_name)"
   ]
  },
  {
   "cell_type": "code",
   "execution_count": 130,
   "metadata": {},
   "outputs": [],
   "source": [
    "def all_answers_group(users_track, start_df=None):\n",
    "    \n",
    "    all_answers_group = pd.DataFrame(columns=[\"Question\",\"Answer\",\"Case\"])\n",
    "    \n",
    "    if start_df is not None:\n",
    "        all_answers_group = start_df\n",
    "    \n",
    "    for user in users_track:\n",
    "        all_answers_group = pd.concat([all_answers_group, users_track[user]])\n",
    "    \n",
    "    return all_answers_group"
   ]
  },
  {
   "cell_type": "code",
   "execution_count": 127,
   "metadata": {},
   "outputs": [],
   "source": [
    "all_answers_groupA = all_answers_group(groupA_clean)"
   ]
  },
  {
   "cell_type": "code",
   "execution_count": 133,
   "metadata": {},
   "outputs": [
    {
     "data": {
      "text/html": [
       "<div>\n",
       "<style scoped>\n",
       "    .dataframe tbody tr th:only-of-type {\n",
       "        vertical-align: middle;\n",
       "    }\n",
       "\n",
       "    .dataframe tbody tr th {\n",
       "        vertical-align: top;\n",
       "    }\n",
       "\n",
       "    .dataframe thead th {\n",
       "        text-align: right;\n",
       "    }\n",
       "</style>\n",
       "<table border=\"1\" class=\"dataframe\">\n",
       "  <thead>\n",
       "    <tr style=\"text-align: right;\">\n",
       "      <th></th>\n",
       "      <th>Question</th>\n",
       "      <th>Answer</th>\n",
       "      <th>Case</th>\n",
       "    </tr>\n",
       "  </thead>\n",
       "  <tbody>\n",
       "    <tr>\n",
       "      <td>6</td>\n",
       "      <td>EKG Hypothesis</td>\n",
       "      <td>Iap</td>\n",
       "      <td>Case-19</td>\n",
       "    </tr>\n",
       "    <tr>\n",
       "      <td>18</td>\n",
       "      <td>EKG Confidence</td>\n",
       "      <td>79</td>\n",
       "      <td>Case-19</td>\n",
       "    </tr>\n",
       "    <tr>\n",
       "      <td>30</td>\n",
       "      <td>Description Hypothesis</td>\n",
       "      <td>Iap</td>\n",
       "      <td>Case-19</td>\n",
       "    </tr>\n",
       "    <tr>\n",
       "      <td>42</td>\n",
       "      <td>Description Confidence</td>\n",
       "      <td>76</td>\n",
       "      <td>Case-19</td>\n",
       "    </tr>\n",
       "    <tr>\n",
       "      <td>11</td>\n",
       "      <td>EKG Hypothesis</td>\n",
       "      <td>Ap</td>\n",
       "      <td>Case-17</td>\n",
       "    </tr>\n",
       "    <tr>\n",
       "      <td>...</td>\n",
       "      <td>...</td>\n",
       "      <td>...</td>\n",
       "      <td>...</td>\n",
       "    </tr>\n",
       "    <tr>\n",
       "      <td>41</td>\n",
       "      <td>Description Confidence</td>\n",
       "      <td>52</td>\n",
       "      <td>Case-02</td>\n",
       "    </tr>\n",
       "    <tr>\n",
       "      <td>7</td>\n",
       "      <td>EKG Hypothesis</td>\n",
       "      <td>Nstemi</td>\n",
       "      <td>Case-01</td>\n",
       "    </tr>\n",
       "    <tr>\n",
       "      <td>19</td>\n",
       "      <td>EKG Confidence</td>\n",
       "      <td>60</td>\n",
       "      <td>Case-01</td>\n",
       "    </tr>\n",
       "    <tr>\n",
       "      <td>31</td>\n",
       "      <td>Description Hypothesis</td>\n",
       "      <td>Nstemi</td>\n",
       "      <td>Case-01</td>\n",
       "    </tr>\n",
       "    <tr>\n",
       "      <td>43</td>\n",
       "      <td>Description Confidence</td>\n",
       "      <td>50</td>\n",
       "      <td>Case-01</td>\n",
       "    </tr>\n",
       "  </tbody>\n",
       "</table>\n",
       "<p>1134 rows × 3 columns</p>\n",
       "</div>"
      ],
      "text/plain": [
       "                  Question  Answer     Case\n",
       "6           EKG Hypothesis     Iap  Case-19\n",
       "18          EKG Confidence      79  Case-19\n",
       "30  Description Hypothesis     Iap  Case-19\n",
       "42  Description Confidence      76  Case-19\n",
       "11          EKG Hypothesis      Ap  Case-17\n",
       "..                     ...     ...      ...\n",
       "41  Description Confidence      52  Case-02\n",
       "7           EKG Hypothesis  Nstemi  Case-01\n",
       "19          EKG Confidence      60  Case-01\n",
       "31  Description Hypothesis  Nstemi  Case-01\n",
       "43  Description Confidence      50  Case-01\n",
       "\n",
       "[1134 rows x 3 columns]"
      ]
     },
     "execution_count": 133,
     "metadata": {},
     "output_type": "execute_result"
    }
   ],
   "source": [
    "all_answers_groupA"
   ]
  },
  {
   "cell_type": "code",
   "execution_count": 128,
   "metadata": {},
   "outputs": [],
   "source": [
    "all_answers_groupB = all_answers_group(groupB_clean)"
   ]
  },
  {
   "cell_type": "code",
   "execution_count": 134,
   "metadata": {},
   "outputs": [
    {
     "data": {
      "text/html": [
       "<div>\n",
       "<style scoped>\n",
       "    .dataframe tbody tr th:only-of-type {\n",
       "        vertical-align: middle;\n",
       "    }\n",
       "\n",
       "    .dataframe tbody tr th {\n",
       "        vertical-align: top;\n",
       "    }\n",
       "\n",
       "    .dataframe thead th {\n",
       "        text-align: right;\n",
       "    }\n",
       "</style>\n",
       "<table border=\"1\" class=\"dataframe\">\n",
       "  <thead>\n",
       "    <tr style=\"text-align: right;\">\n",
       "      <th></th>\n",
       "      <th>Question</th>\n",
       "      <th>Answer</th>\n",
       "      <th>Case</th>\n",
       "    </tr>\n",
       "  </thead>\n",
       "  <tbody>\n",
       "    <tr>\n",
       "      <td>6</td>\n",
       "      <td>EKG Hypothesis</td>\n",
       "      <td>Atypisch</td>\n",
       "      <td>Case-19</td>\n",
       "    </tr>\n",
       "    <tr>\n",
       "      <td>18</td>\n",
       "      <td>EKG Confidence</td>\n",
       "      <td>68</td>\n",
       "      <td>Case-19</td>\n",
       "    </tr>\n",
       "    <tr>\n",
       "      <td>11</td>\n",
       "      <td>EKG Hypothesis</td>\n",
       "      <td>Ischemie</td>\n",
       "      <td>Case-17</td>\n",
       "    </tr>\n",
       "    <tr>\n",
       "      <td>23</td>\n",
       "      <td>EKG Confidence</td>\n",
       "      <td>68</td>\n",
       "      <td>Case-17</td>\n",
       "    </tr>\n",
       "    <tr>\n",
       "      <td>34</td>\n",
       "      <td>Description Hypothesis</td>\n",
       "      <td>Ap</td>\n",
       "      <td>Case-17</td>\n",
       "    </tr>\n",
       "    <tr>\n",
       "      <td>...</td>\n",
       "      <td>...</td>\n",
       "      <td>...</td>\n",
       "      <td>...</td>\n",
       "    </tr>\n",
       "    <tr>\n",
       "      <td>18</td>\n",
       "      <td>Description Confidence</td>\n",
       "      <td>81</td>\n",
       "      <td>Case-02</td>\n",
       "    </tr>\n",
       "    <tr>\n",
       "      <td>3</td>\n",
       "      <td>EKG Hypothesis</td>\n",
       "      <td>Diffuus vlakke ST segmenten</td>\n",
       "      <td>Case-01</td>\n",
       "    </tr>\n",
       "    <tr>\n",
       "      <td>9</td>\n",
       "      <td>EKG Confidence</td>\n",
       "      <td>38</td>\n",
       "      <td>Case-01</td>\n",
       "    </tr>\n",
       "    <tr>\n",
       "      <td>14</td>\n",
       "      <td>Description Hypothesis</td>\n",
       "      <td>Instabiele AP</td>\n",
       "      <td>Case-01</td>\n",
       "    </tr>\n",
       "    <tr>\n",
       "      <td>19</td>\n",
       "      <td>Description Confidence</td>\n",
       "      <td>23</td>\n",
       "      <td>Case-01</td>\n",
       "    </tr>\n",
       "  </tbody>\n",
       "</table>\n",
       "<p>1272 rows × 3 columns</p>\n",
       "</div>"
      ],
      "text/plain": [
       "                  Question                       Answer     Case\n",
       "6           EKG Hypothesis                     Atypisch  Case-19\n",
       "18          EKG Confidence                           68  Case-19\n",
       "11          EKG Hypothesis                     Ischemie  Case-17\n",
       "23          EKG Confidence                           68  Case-17\n",
       "34  Description Hypothesis                           Ap  Case-17\n",
       "..                     ...                          ...      ...\n",
       "18  Description Confidence                           81  Case-02\n",
       "3           EKG Hypothesis  Diffuus vlakke ST segmenten  Case-01\n",
       "9           EKG Confidence                           38  Case-01\n",
       "14  Description Hypothesis                Instabiele AP  Case-01\n",
       "19  Description Confidence                           23  Case-01\n",
       "\n",
       "[1272 rows x 3 columns]"
      ]
     },
     "execution_count": 134,
     "metadata": {},
     "output_type": "execute_result"
    }
   ],
   "source": [
    "all_answers_groupB"
   ]
  },
  {
   "cell_type": "code",
   "execution_count": 131,
   "metadata": {},
   "outputs": [],
   "source": [
    "all_answers_experiment = all_answers_group(groupB_clean,start_df=all_answers_groupA)"
   ]
  },
  {
   "cell_type": "code",
   "execution_count": 132,
   "metadata": {},
   "outputs": [
    {
     "data": {
      "text/html": [
       "<div>\n",
       "<style scoped>\n",
       "    .dataframe tbody tr th:only-of-type {\n",
       "        vertical-align: middle;\n",
       "    }\n",
       "\n",
       "    .dataframe tbody tr th {\n",
       "        vertical-align: top;\n",
       "    }\n",
       "\n",
       "    .dataframe thead th {\n",
       "        text-align: right;\n",
       "    }\n",
       "</style>\n",
       "<table border=\"1\" class=\"dataframe\">\n",
       "  <thead>\n",
       "    <tr style=\"text-align: right;\">\n",
       "      <th></th>\n",
       "      <th>Question</th>\n",
       "      <th>Answer</th>\n",
       "      <th>Case</th>\n",
       "    </tr>\n",
       "  </thead>\n",
       "  <tbody>\n",
       "    <tr>\n",
       "      <td>6</td>\n",
       "      <td>EKG Hypothesis</td>\n",
       "      <td>Iap</td>\n",
       "      <td>Case-19</td>\n",
       "    </tr>\n",
       "    <tr>\n",
       "      <td>18</td>\n",
       "      <td>EKG Confidence</td>\n",
       "      <td>79</td>\n",
       "      <td>Case-19</td>\n",
       "    </tr>\n",
       "    <tr>\n",
       "      <td>30</td>\n",
       "      <td>Description Hypothesis</td>\n",
       "      <td>Iap</td>\n",
       "      <td>Case-19</td>\n",
       "    </tr>\n",
       "    <tr>\n",
       "      <td>42</td>\n",
       "      <td>Description Confidence</td>\n",
       "      <td>76</td>\n",
       "      <td>Case-19</td>\n",
       "    </tr>\n",
       "    <tr>\n",
       "      <td>11</td>\n",
       "      <td>EKG Hypothesis</td>\n",
       "      <td>Ap</td>\n",
       "      <td>Case-17</td>\n",
       "    </tr>\n",
       "    <tr>\n",
       "      <td>...</td>\n",
       "      <td>...</td>\n",
       "      <td>...</td>\n",
       "      <td>...</td>\n",
       "    </tr>\n",
       "    <tr>\n",
       "      <td>18</td>\n",
       "      <td>Description Confidence</td>\n",
       "      <td>81</td>\n",
       "      <td>Case-02</td>\n",
       "    </tr>\n",
       "    <tr>\n",
       "      <td>3</td>\n",
       "      <td>EKG Hypothesis</td>\n",
       "      <td>Diffuus vlakke ST segmenten</td>\n",
       "      <td>Case-01</td>\n",
       "    </tr>\n",
       "    <tr>\n",
       "      <td>9</td>\n",
       "      <td>EKG Confidence</td>\n",
       "      <td>38</td>\n",
       "      <td>Case-01</td>\n",
       "    </tr>\n",
       "    <tr>\n",
       "      <td>14</td>\n",
       "      <td>Description Hypothesis</td>\n",
       "      <td>Instabiele AP</td>\n",
       "      <td>Case-01</td>\n",
       "    </tr>\n",
       "    <tr>\n",
       "      <td>19</td>\n",
       "      <td>Description Confidence</td>\n",
       "      <td>23</td>\n",
       "      <td>Case-01</td>\n",
       "    </tr>\n",
       "  </tbody>\n",
       "</table>\n",
       "<p>2406 rows × 3 columns</p>\n",
       "</div>"
      ],
      "text/plain": [
       "                  Question                       Answer     Case\n",
       "6           EKG Hypothesis                          Iap  Case-19\n",
       "18          EKG Confidence                           79  Case-19\n",
       "30  Description Hypothesis                          Iap  Case-19\n",
       "42  Description Confidence                           76  Case-19\n",
       "11          EKG Hypothesis                           Ap  Case-17\n",
       "..                     ...                          ...      ...\n",
       "18  Description Confidence                           81  Case-02\n",
       "3           EKG Hypothesis  Diffuus vlakke ST segmenten  Case-01\n",
       "9           EKG Confidence                           38  Case-01\n",
       "14  Description Hypothesis                Instabiele AP  Case-01\n",
       "19  Description Confidence                           23  Case-01\n",
       "\n",
       "[2406 rows x 3 columns]"
      ]
     },
     "execution_count": 132,
     "metadata": {},
     "output_type": "execute_result"
    }
   ],
   "source": [
    "all_answers_experiment"
   ]
  },
  {
   "cell_type": "code",
   "execution_count": 135,
   "metadata": {},
   "outputs": [],
   "source": [
    "hypothesis_groupA = all_answers_groupA[all_answers_groupA[\"Question\"].str.contains(\"Hypothesis\", na=False)]\n",
    "hypothesis_groupB = all_answers_groupB[all_answers_groupB[\"Question\"].str.contains(\"Hypothesis\", na=False)]\n",
    "all_hypothesis = all_answers_experiment[all_answers_experiment[\"Question\"].str.contains(\"Hypothesis\", na=False)]\n",
    "confidence_groupA = all_answers_groupA[all_answers_groupA[\"Question\"].str.contains(\"Confidence\", na=False)]\n",
    "confidence_groupB = all_answers_groupB[all_answers_groupB[\"Question\"].str.contains(\"Confidence\", na=False)]\n",
    "all_confidence = all_answers_experiment[all_answers_experiment[\"Question\"].str.contains(\"Confidence\", na=False)]"
   ]
  },
  {
   "cell_type": "code",
   "execution_count": 150,
   "metadata": {},
   "outputs": [],
   "source": [
    "answers_bycase_groupA = hypothesis_groupA.groupby(\"Case\").apply(lambda x: x[\"Answer\"].unique())\n",
    "answers_bycase_groupB = hypothesis_groupB.groupby(\"Case\").apply(lambda x: x[\"Answer\"].unique())\n",
    "answers_bycase = all_hypothesis.groupby(\"Case\").apply(lambda x: x[\"Answer\"].unique())"
   ]
  },
  {
   "cell_type": "code",
   "execution_count": 157,
   "metadata": {},
   "outputs": [
    {
     "data": {
      "text/plain": [
       "Case\n",
       "Case-01    [Acs, ACS, Nste-acs, NSTE-ACS, Acs-nsteni, Acs...\n",
       "Case-02    [Gastro esofagaal, Gastro-esofagaal, Maagklach...\n",
       "Case-03    [Tendomyalgeen, Hyperventilatie, Pericarditis ...\n",
       "Case-07    [Pericarditis, Pericarditis , Pericaridits, Co...\n",
       "Case-08    [Ap, ACS, NSTE-ACS, IAP, Acs-nstemi, STEMI pro...\n",
       "Case-09    [Pneumonie, ACS, STEMI, NSTE-ACS, STEMI latera...\n",
       "Case-12    [Hvs, Costomyalgeen, ACS, Reflux, Reflux/maagk...\n",
       "Case-13    [Tendomyalgeen, ACS, Costomyalgeen, AP, Ap-kla...\n",
       "Case-15    [IAp, Iap, ACS, NSTE-ACS, Infarct, Acs-nstemi,...\n",
       "Case-16    [Ap, ACS, AP, NSTE-ACS panischemie, Iap, Acs-n...\n",
       "Case-17    [Ap, Oesofagus spasme, ACS, Hyperventilatie, T...\n",
       "Case-19    [Iap, ACS, Nste-acs, Acs, NSTEMI, Gastritis, G...\n",
       "dtype: object"
      ]
     },
     "execution_count": 157,
     "metadata": {},
     "output_type": "execute_result"
    }
   ],
   "source": [
    "answers_bycase_groupA"
   ]
  },
  {
   "cell_type": "code",
   "execution_count": 158,
   "metadata": {},
   "outputs": [],
   "source": [
    "answers_bycase_groupA.to_excel(\"hypothesis_groupA_bycase.xlsx\")"
   ]
  },
  {
   "cell_type": "code",
   "execution_count": 153,
   "metadata": {},
   "outputs": [
    {
     "data": {
      "text/plain": [
       "Case\n",
       "Case-01    [Nstemi, Doorgemaakt inferolateraal infarct, A...\n",
       "Case-02    [Ge reflux, Inferior STEMI, Reflux, Pericardit...\n",
       "Case-03    [Lvh, Hyperventilatie , STEMI, Costo-myalgeen,...\n",
       "Case-07    [Pericarditis, STEMI, Pericarditis , Acs, Stem...\n",
       "Case-08    [Infarct, Iap, STEMI septaal, NSTEMI, Panische...\n",
       "Case-09    [Longembolie, Misschien STEMI lateraal, Doorge...\n",
       "Case-12    [Atypisch, Geen ischemie, NSTEMI, Niet cardiaa...\n",
       "Case-13    [La dilatatie, Nstemi, NSTEMI, Mitralisklepins...\n",
       "Case-15    [Normaal, Iap, Normaal ECG, mogelijk inferior ...\n",
       "Case-16    [Nstemi, Acs, Hoofdstamstenose, demand ischemi...\n",
       "Case-17    [Ischemie, Ap, NSTEMI, Doorgemaakt ipl infarct...\n",
       "Case-19    [Atypisch, Doorgemaakte ischemie inferior, NST...\n",
       "dtype: object"
      ]
     },
     "execution_count": 153,
     "metadata": {},
     "output_type": "execute_result"
    }
   ],
   "source": [
    "answers_bycase_groupB"
   ]
  },
  {
   "cell_type": "code",
   "execution_count": 159,
   "metadata": {},
   "outputs": [],
   "source": [
    "answers_bycase_groupB.to_excel(\"hypothesis_groupB_bycase.xlsx\")"
   ]
  },
  {
   "cell_type": "code",
   "execution_count": 155,
   "metadata": {},
   "outputs": [
    {
     "data": {
      "text/plain": [
       "Case\n",
       "Case-01    [Acs, ACS, Nste-acs, NSTE-ACS, Acs-nsteni, Acs...\n",
       "Case-02    [Gastro esofagaal, Gastro-esofagaal, Maagklach...\n",
       "Case-03    [Tendomyalgeen, Hyperventilatie, Pericarditis ...\n",
       "Case-07    [Pericarditis, Pericarditis , Pericaridits, Co...\n",
       "Case-08    [Ap, ACS, NSTE-ACS, IAP, Acs-nstemi, STEMI pro...\n",
       "Case-09    [Pneumonie, ACS, STEMI, NSTE-ACS, STEMI latera...\n",
       "Case-12    [Hvs, Costomyalgeen, ACS, Reflux, Reflux/maagk...\n",
       "Case-13    [Tendomyalgeen, ACS, Costomyalgeen, AP, Ap-kla...\n",
       "Case-15    [IAp, Iap, ACS, NSTE-ACS, Infarct, Acs-nstemi,...\n",
       "Case-16    [Ap, ACS, AP, NSTE-ACS panischemie, Iap, Acs-n...\n",
       "Case-17    [Ap, Oesofagus spasme, ACS, Hyperventilatie, T...\n",
       "Case-19    [Iap, ACS, Nste-acs, Acs, NSTEMI, Gastritis, G...\n",
       "dtype: object"
      ]
     },
     "execution_count": 155,
     "metadata": {},
     "output_type": "execute_result"
    }
   ],
   "source": [
    "answers_bycase"
   ]
  },
  {
   "cell_type": "code",
   "execution_count": 156,
   "metadata": {},
   "outputs": [],
   "source": [
    "answers_bycase.to_excel(\"hypothesis_experiment_bycase.xlsx\")"
   ]
  },
  {
   "cell_type": "code",
   "execution_count": 167,
   "metadata": {},
   "outputs": [
    {
     "data": {
      "text/html": [
       "<div>\n",
       "<style scoped>\n",
       "    .dataframe tbody tr th:only-of-type {\n",
       "        vertical-align: middle;\n",
       "    }\n",
       "\n",
       "    .dataframe tbody tr th {\n",
       "        vertical-align: top;\n",
       "    }\n",
       "\n",
       "    .dataframe thead th {\n",
       "        text-align: right;\n",
       "    }\n",
       "</style>\n",
       "<table border=\"1\" class=\"dataframe\">\n",
       "  <thead>\n",
       "    <tr style=\"text-align: right;\">\n",
       "      <th></th>\n",
       "      <th>Question</th>\n",
       "      <th>Answer</th>\n",
       "      <th>Case</th>\n",
       "    </tr>\n",
       "  </thead>\n",
       "  <tbody>\n",
       "    <tr>\n",
       "      <td>18</td>\n",
       "      <td>EKG Confidence</td>\n",
       "      <td>79.0</td>\n",
       "      <td>Case-19</td>\n",
       "    </tr>\n",
       "    <tr>\n",
       "      <td>42</td>\n",
       "      <td>Description Confidence</td>\n",
       "      <td>76.0</td>\n",
       "      <td>Case-19</td>\n",
       "    </tr>\n",
       "    <tr>\n",
       "      <td>23</td>\n",
       "      <td>EKG Confidence</td>\n",
       "      <td>18.0</td>\n",
       "      <td>Case-17</td>\n",
       "    </tr>\n",
       "    <tr>\n",
       "      <td>47</td>\n",
       "      <td>Description Confidence</td>\n",
       "      <td>62.0</td>\n",
       "      <td>Case-17</td>\n",
       "    </tr>\n",
       "    <tr>\n",
       "      <td>13</td>\n",
       "      <td>EKG Confidence</td>\n",
       "      <td>68.0</td>\n",
       "      <td>Case-16</td>\n",
       "    </tr>\n",
       "    <tr>\n",
       "      <td>...</td>\n",
       "      <td>...</td>\n",
       "      <td>...</td>\n",
       "      <td>...</td>\n",
       "    </tr>\n",
       "    <tr>\n",
       "      <td>21</td>\n",
       "      <td>Description Confidence</td>\n",
       "      <td>73.0</td>\n",
       "      <td>Case-03</td>\n",
       "    </tr>\n",
       "    <tr>\n",
       "      <td>8</td>\n",
       "      <td>EKG Confidence</td>\n",
       "      <td>55.0</td>\n",
       "      <td>Case-02</td>\n",
       "    </tr>\n",
       "    <tr>\n",
       "      <td>18</td>\n",
       "      <td>Description Confidence</td>\n",
       "      <td>81.0</td>\n",
       "      <td>Case-02</td>\n",
       "    </tr>\n",
       "    <tr>\n",
       "      <td>9</td>\n",
       "      <td>EKG Confidence</td>\n",
       "      <td>38.0</td>\n",
       "      <td>Case-01</td>\n",
       "    </tr>\n",
       "    <tr>\n",
       "      <td>19</td>\n",
       "      <td>Description Confidence</td>\n",
       "      <td>23.0</td>\n",
       "      <td>Case-01</td>\n",
       "    </tr>\n",
       "  </tbody>\n",
       "</table>\n",
       "<p>1190 rows × 3 columns</p>\n",
       "</div>"
      ],
      "text/plain": [
       "                  Question  Answer     Case\n",
       "18          EKG Confidence    79.0  Case-19\n",
       "42  Description Confidence    76.0  Case-19\n",
       "23          EKG Confidence    18.0  Case-17\n",
       "47  Description Confidence    62.0  Case-17\n",
       "13          EKG Confidence    68.0  Case-16\n",
       "..                     ...     ...      ...\n",
       "21  Description Confidence    73.0  Case-03\n",
       "8           EKG Confidence    55.0  Case-02\n",
       "18  Description Confidence    81.0  Case-02\n",
       "9           EKG Confidence    38.0  Case-01\n",
       "19  Description Confidence    23.0  Case-01\n",
       "\n",
       "[1190 rows x 3 columns]"
      ]
     },
     "execution_count": 167,
     "metadata": {},
     "output_type": "execute_result"
    }
   ],
   "source": [
    "all_confidence.astype({'Answer':'float64'})"
   ]
  },
  {
   "cell_type": "code",
   "execution_count": 194,
   "metadata": {},
   "outputs": [],
   "source": [
    "mean_std_all = all_confidence.groupby([\"Case\",\"Question\"]).apply(lambda df: (df.Answer.astype('float64').mean(), df.Answer.astype('float64').std()))"
   ]
  },
  {
   "cell_type": "code",
   "execution_count": 195,
   "metadata": {},
   "outputs": [
    {
     "data": {
      "text/plain": [
       "Case     Question              \n",
       "Case-01  Description Confidence                 (58.25, 19.229139448284435)\n",
       "         EKG Confidence             (59.73076923076923, 18.151989449239693)\n",
       "Case-02  Description Confidence     (69.66666666666667, 15.367064347710224)\n",
       "         EKG Confidence              (63.17307692307692, 17.54961722821076)\n",
       "Case-03  Description Confidence      (67.6470588235294, 19.399818070705475)\n",
       "         EKG Confidence             (60.68627450980392, 23.559703050826787)\n",
       "Case-07  Description Confidence     (72.26923076923077, 18.985149391982606)\n",
       "         EKG Confidence              (69.42307692307692, 21.86890186493781)\n",
       "Case-08  Description Confidence                 (72.75, 14.215256923874598)\n",
       "         EKG Confidence              (68.73076923076923, 22.35113313319614)\n",
       "Case-09  Description Confidence                 (58.26, 22.642573229405254)\n",
       "         EKG Confidence              (55.80392156862745, 26.45147981330582)\n",
       "Case-12  Description Confidence     (56.91836734693877, 19.623366954023076)\n",
       "         EKG Confidence             (56.06122448979592, 23.522514182573847)\n",
       "Case-13  Description Confidence     (60.020833333333336, 19.03578889526905)\n",
       "         EKG Confidence             (54.93877551020408, 21.641403377231676)\n",
       "Case-15  Description Confidence     (70.52083333333333, 17.944346093897895)\n",
       "         EKG Confidence                          (57.5, 24.383461433712846)\n",
       "Case-16  Description Confidence     (64.41666666666667, 20.763955402852105)\n",
       "         EKG Confidence             (61.166666666666664, 22.29047438317431)\n",
       "Case-17  Description Confidence    (56.659574468085104, 22.038776691909554)\n",
       "         EKG Confidence              (57.8936170212766, 19.844212870729702)\n",
       "Case-19  Description Confidence     (60.577777777777776, 18.66996724066962)\n",
       "         EKG Confidence              (55.17391304347826, 22.50955781966218)\n",
       "dtype: object"
      ]
     },
     "execution_count": 195,
     "metadata": {},
     "output_type": "execute_result"
    }
   ],
   "source": [
    "mean_std_all"
   ]
  },
  {
   "cell_type": "code",
   "execution_count": 196,
   "metadata": {},
   "outputs": [],
   "source": [
    "mean_std_all.to_excel(\"Mean-Std-all.xlsx\")"
   ]
  },
  {
   "cell_type": "code",
   "execution_count": 197,
   "metadata": {},
   "outputs": [],
   "source": [
    "mean_std_groupA = confidence_groupA.groupby([\"Case\",\"Question\"]).apply(lambda df: (df.Answer.astype('float64').mean(), df.Answer.astype('float64').std()))"
   ]
  },
  {
   "cell_type": "code",
   "execution_count": 198,
   "metadata": {},
   "outputs": [
    {
     "data": {
      "text/plain": [
       "Case     Question              \n",
       "Case-01  Description Confidence      (54.541666666666664, 20.3811062691313)\n",
       "         EKG Confidence                          (61.5, 17.433101946534382)\n",
       "Case-02  Description Confidence                  (68.25, 16.04138669057391)\n",
       "         EKG Confidence             (66.41666666666667, 15.021482201708054)\n",
       "Case-03  Description Confidence     (70.78260869565217, 16.681390071080926)\n",
       "         EKG Confidence              (73.26086956521739, 17.76671400350142)\n",
       "Case-07  Description Confidence     (65.70833333333333, 19.116301185493302)\n",
       "         EKG Confidence             (82.04166666666667, 18.355141837753745)\n",
       "Case-08  Description Confidence      (74.29166666666667, 12.21360313131532)\n",
       "         EKG Confidence              (83.95833333333333, 14.97382982774096)\n",
       "Case-09  Description Confidence    (58.458333333333336, 21.500210649456776)\n",
       "         EKG Confidence              (65.08333333333333, 27.29057277374076)\n",
       "Case-12  Description Confidence     (55.30434782608695, 20.912012169191822)\n",
       "         EKG Confidence             (53.78260869565217, 24.383221730860026)\n",
       "Case-13  Description Confidence     (59.82608695652174, 15.531938279537671)\n",
       "         EKG Confidence             (62.65217391304348, 21.827023900019352)\n",
       "Case-15  Description Confidence                 (72.75, 14.450063938477468)\n",
       "         EKG Confidence             (58.833333333333336, 22.30746934113767)\n",
       "Case-16  Description Confidence     (58.95652173913044, 19.898556962000047)\n",
       "         EKG Confidence             (68.78260869565217, 20.484931317121706)\n",
       "Case-17  Description Confidence                  (56.0, 23.196786611315567)\n",
       "         EKG Confidence             (58.65217391304348, 20.477501391554263)\n",
       "Case-19  Description Confidence       (64.78260869565217, 16.4370881123345)\n",
       "         EKG Confidence             (63.56521739130435, 19.301027026269217)\n",
       "dtype: object"
      ]
     },
     "execution_count": 198,
     "metadata": {},
     "output_type": "execute_result"
    }
   ],
   "source": [
    "mean_std_groupA"
   ]
  },
  {
   "cell_type": "code",
   "execution_count": 199,
   "metadata": {},
   "outputs": [],
   "source": [
    "mean_std_groupA.to_excel(\"Mean-Std-GroupA.xlsx\")"
   ]
  },
  {
   "cell_type": "code",
   "execution_count": 200,
   "metadata": {},
   "outputs": [],
   "source": [
    "mean_std_groupB = confidence_groupB.groupby([\"Case\",\"Question\"]).apply(lambda df: (df.Answer.astype('float64').mean(), df.Answer.astype('float64').std()))"
   ]
  },
  {
   "cell_type": "code",
   "execution_count": 201,
   "metadata": {},
   "outputs": [
    {
     "data": {
      "text/plain": [
       "Case     Question              \n",
       "Case-01  Description Confidence     (61.42857142857143, 17.941114733583245)\n",
       "         EKG Confidence            (58.214285714285715, 18.929414975713097)\n",
       "Case-02  Description Confidence     (70.92592592592592, 14.932993738507427)\n",
       "         EKG Confidence            (60.392857142857146, 19.291793084710413)\n",
       "Case-03  Description Confidence      (65.07142857142857, 21.32973680000932)\n",
       "         EKG Confidence             (50.357142857142854, 22.92049751530726)\n",
       "Case-07  Description Confidence     (77.89285714285714, 17.276272072399667)\n",
       "         EKG Confidence             (58.607142857142854, 18.80177155899448)\n",
       "Case-08  Description Confidence     (71.42857142857143, 15.833458646120647)\n",
       "         EKG Confidence             (55.67857142857143, 19.231635918606095)\n",
       "Case-09  Description Confidence     (58.07692307692308, 24.073093821813725)\n",
       "         EKG Confidence             (47.55555555555556, 23.163853361738038)\n",
       "Case-12  Description Confidence      (58.34615384615385, 18.70816358212063)\n",
       "         EKG Confidence              (58.07692307692308, 23.02506994894578)\n",
       "Case-13  Description Confidence                  (60.2, 22.100150829047898)\n",
       "         EKG Confidence              (48.11538461538461, 19.41201055651253)\n",
       "Case-15  Description Confidence      (68.29166666666667, 20.94813298034741)\n",
       "         EKG Confidence            (56.166666666666664, 26.713726591507168)\n",
       "Case-16  Description Confidence                 (69.44, 20.652037833266395)\n",
       "         EKG Confidence                         (54.16, 21.946298093300385)\n",
       "Case-17  Description Confidence     (57.291666666666664, 21.35105977751897)\n",
       "         EKG Confidence             (57.166666666666664, 19.63064743814069)\n",
       "Case-19  Description Confidence       (56.18181818181818, 20.1910785665267)\n",
       "         EKG Confidence              (46.78260869565217, 22.72954929309408)\n",
       "dtype: object"
      ]
     },
     "execution_count": 201,
     "metadata": {},
     "output_type": "execute_result"
    }
   ],
   "source": [
    "mean_std_groupB"
   ]
  },
  {
   "cell_type": "code",
   "execution_count": 202,
   "metadata": {},
   "outputs": [],
   "source": [
    "mean_std_groupB.to_excel(\"Mean-Std-GroupB.xlsx\")"
   ]
  },
  {
   "cell_type": "code",
   "execution_count": 91,
   "metadata": {},
   "outputs": [],
   "source": [
    "def save_as_xlsx(users_dict, path, filename_p=\"\"):\n",
    "    \n",
    "    filename = path + filename_p\n",
    "    \n",
    "    for user in users_dict.keys():\n",
    "        \n",
    "        filename += str(user) + \".xlsx\"\n",
    "        users_dict[user].to_excel(filename, index=False)\n",
    "        filename = path + filename_p"
   ]
  },
  {
   "cell_type": "code",
   "execution_count": 92,
   "metadata": {},
   "outputs": [],
   "source": [
    "path = \"/home/marcosf/git/harena-analytics/resources/nl-experiment1/Tables/GroupA/\"\n",
    "save_as_xlsx(groupA_clean, path)"
   ]
  },
  {
   "cell_type": "code",
   "execution_count": 93,
   "metadata": {},
   "outputs": [],
   "source": [
    "path_B = \"/home/marcosf/git/harena-analytics/resources/nl-experiment1/Tables/GroupB/\"\n",
    "save_as_xlsx(groupB_clean, path_B)"
   ]
  }
 ],
 "metadata": {
  "kernelspec": {
   "display_name": "Python 3",
   "language": "python",
   "name": "python3"
  },
  "language_info": {
   "codemirror_mode": {
    "name": "ipython",
    "version": 3
   },
   "file_extension": ".py",
   "mimetype": "text/x-python",
   "name": "python",
   "nbconvert_exporter": "python",
   "pygments_lexer": "ipython3",
   "version": "3.7.4"
  }
 },
 "nbformat": 4,
 "nbformat_minor": 4
}
